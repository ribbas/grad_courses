{
 "cells": [
  {
   "cell_type": "markdown",
   "metadata": {},
   "source": [
    "# 605.621 - Foundations of Algorithms\n",
    "\n",
    "## The Maximal Clique Problem\n",
    "\n",
    "Sabbir Ahmed\n",
    "\n",
    "February 14, 2021"
   ]
  },
  {
   "cell_type": "markdown",
   "metadata": {},
   "source": [
    "A clique of a graph $G$ is a complete subgraph of $G$ such that every two distinct vertices in the clique are adjacent. A maximal clique is a clique that cannot be extended by including one more adjacent vertex while a clique of largest possible size is referred to as a maximum clique [\\[1\\]](https://mathworld.wolfram.com/Clique.html). Finding the maximum number of cliques is a problem that can scale exponentially since there exist graphs with exponentially many maximal cliques. A polynomial time is often not possible if a brute-force approach is taken to find all the cliques. Several algorithms exist to enumerate all the maximal cliques in a graph, including the [Bron–Kerbosch algorithm algorithm](https://en.wikipedia.org/wiki/Bron%E2%80%93Kerbosch_algorithm) which performs in $O(3^{n/3})$ time, matching the maximum number of cliques possible in an $n$-vertex graph."
   ]
  },
  {
   "cell_type": "markdown",
   "metadata": {},
   "source": [
    "In my project, I will generate several large graphs and test some of the most popular algorithms for listing all the maximal cliques of a graph. The metrics gathered shall be, but not limited to, the following: CPU-time statistics, CPU memory statistics, etc. The graphs will be constructed using random number generation to provide the minimum level of discrepency. The algorithm(s) will be tested with increasingly larger graphs allowed by the host machine."
   ]
  }
 ],
 "metadata": {
  "kernelspec": {
   "display_name": "Python 3",
   "language": "python",
   "name": "python3"
  },
  "language_info": {
   "codemirror_mode": {
    "name": "ipython",
    "version": 3
   },
   "file_extension": ".py",
   "mimetype": "text/x-python",
   "name": "python",
   "nbconvert_exporter": "python",
   "pygments_lexer": "ipython3",
   "version": "3.8.5"
  }
 },
 "nbformat": 4,
 "nbformat_minor": 4
}
