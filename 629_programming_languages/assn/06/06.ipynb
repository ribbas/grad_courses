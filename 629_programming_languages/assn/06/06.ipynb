{
 "cells": [
  {
   "cell_type": "markdown",
   "metadata": {
    "tags": []
   },
   "source": [
    "# 605.629: Programming Languages\n",
    "## Assignment 6\n",
    "\n",
    "Sabbir Ahmed"
   ]
  },
  {
   "cell_type": "markdown",
   "metadata": {},
   "source": [
    "1. \\[20 pts, Scheme\\]\n",
    "Write a function count so that (count a lat) counts how often the atom a appears in the\n",
    "list of atoms lat.\n",
    "\n",
    "```\n",
    "> (count 'a '(d a t a))\n",
    "2\n",
    "> (count 's '(m i s s i s s i p p i))\n",
    "4\n",
    "```"
   ]
  },
  {
   "cell_type": "markdown",
   "metadata": {},
   "source": [
    "__Answer__"
   ]
  },
  {
   "cell_type": "markdown",
   "metadata": {},
   "source": []
  },
  {
   "cell_type": "markdown",
   "metadata": {},
   "source": [
    "-----"
   ]
  },
  {
   "cell_type": "markdown",
   "metadata": {},
   "source": [
    "-----"
   ]
  },
  {
   "cell_type": "markdown",
   "metadata": {},
   "source": [
    "2. \\[20 pts, Scheme\\]\n",
    "\n",
    "Write a function (count-all lat) that produces a list pairing every individual atom in the list of atoms lat with a count of how often the atom appears in lat.\n",
    "\n",
    "```\n",
    "> (count-all '(m i s s i s s i p p i))\n",
    "((m 1) (i 4) (s 4) (p 2))\n",
    "> (count-all '(to be or not to be that is the question))\n",
    "((to 2) (be 2) (or 1) (not 1) (that 1) (is 1) (the 1) (question 1))\n",
    "```\n",
    "The order of the items in the output list does not matter. Make sure to include the code if you use any auxiliary functions (helper functions). Note that this function is computing a histogram."
   ]
  },
  {
   "cell_type": "markdown",
   "metadata": {},
   "source": [
    "__Answer__"
   ]
  },
  {
   "cell_type": "markdown",
   "metadata": {},
   "source": []
  },
  {
   "cell_type": "markdown",
   "metadata": {},
   "source": [
    "-----"
   ]
  },
  {
   "cell_type": "markdown",
   "metadata": {},
   "source": [
    "3. \\[20 pts, Scheme\\]\n",
    "\n",
    "Consider the following code:\n",
    "\n",
    "```\n",
    "(define mystery\n",
    "    (lambda (x)\n",
    "        (cond\n",
    "            ((null? x) (list x))\n",
    "            (else (append\n",
    "                (mystery (cdr x))\n",
    "                (map (lambda (y)\n",
    "                    (cons (car x)\n",
    "                        y))\n",
    "                    (mystery\n",
    "                    (cdr x))))))))\n",
    "```"
   ]
  },
  {
   "cell_type": "markdown",
   "metadata": {},
   "source": [
    "a. What is the value of `(mystery '(a b c))`?"
   ]
  },
  {
   "cell_type": "markdown",
   "metadata": {},
   "source": [
    "__Answer__"
   ]
  },
  {
   "cell_type": "markdown",
   "metadata": {},
   "source": []
  },
  {
   "cell_type": "markdown",
   "metadata": {},
   "source": [
    "----"
   ]
  },
  {
   "cell_type": "markdown",
   "metadata": {},
   "source": [
    "b. Suggest a better name for mystery that better conveys its purpose."
   ]
  },
  {
   "cell_type": "markdown",
   "metadata": {},
   "source": [
    "__Answer__"
   ]
  },
  {
   "cell_type": "markdown",
   "metadata": {},
   "source": []
  },
  {
   "cell_type": "markdown",
   "metadata": {},
   "source": [
    "----"
   ]
  },
  {
   "cell_type": "markdown",
   "metadata": {},
   "source": [
    "c. What is the value of `(length (mystery '(a b c d e f g h i j)))`?"
   ]
  },
  {
   "cell_type": "markdown",
   "metadata": {},
   "source": [
    "__Answer__"
   ]
  },
  {
   "cell_type": "markdown",
   "metadata": {},
   "source": []
  },
  {
   "cell_type": "markdown",
   "metadata": {},
   "source": [
    "----"
   ]
  }
 ],
 "metadata": {
  "kernelspec": {
   "display_name": "Python 3",
   "language": "python",
   "name": "python3"
  },
  "language_info": {
   "codemirror_mode": {
    "name": "ipython",
    "version": 3
   },
   "file_extension": ".py",
   "mimetype": "text/x-python",
   "name": "python",
   "nbconvert_exporter": "python",
   "pygments_lexer": "ipython3",
   "version": "3.8.10"
  }
 },
 "nbformat": 4,
 "nbformat_minor": 4
}
