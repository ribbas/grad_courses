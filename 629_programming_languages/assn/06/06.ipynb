{
 "cells": [
  {
   "cell_type": "markdown",
   "metadata": {
    "tags": []
   },
   "source": [
    "# 605.629: Programming Languages\n",
    "## Assignment 6\n",
    "\n",
    "Sabbir Ahmed"
   ]
  },
  {
   "cell_type": "markdown",
   "metadata": {},
   "source": [
    "1. \\[20 pts, Scheme\\]\n",
    "\n",
    "Write a function count so that `(count a lat)` counts how often the atom `a` appears in the list of atoms `lat`.\n",
    "\n",
    "```\n",
    "> (count 'a '(d a t a))\n",
    "2\n",
    "> (count 's '(m i s s i s s i p p i))\n",
    "4\n",
    "```"
   ]
  },
  {
   "cell_type": "markdown",
   "metadata": {},
   "source": [
    "__Answer__"
   ]
  },
  {
   "cell_type": "markdown",
   "metadata": {},
   "source": [
    "```scheme\n",
    "(define (count a lat)\n",
    "    (if (null? lat)                     ; if list is empty\n",
    "        0                               ; return 0\n",
    "        (if (equal? a (car lat))        ; else if a equals the first value of lat\n",
    "            (+ 1 (count a (cdr lat)))   ; recurse function with remainder of lat and add 1\n",
    "            (count a (cdr lat)))))\n",
    "```"
   ]
  },
  {
   "cell_type": "markdown",
   "metadata": {},
   "source": [
    "-----"
   ]
  },
  {
   "cell_type": "markdown",
   "metadata": {},
   "source": [
    "2. \\[20 pts, Scheme\\]\n",
    "\n",
    "Write a function `(count-all lat)` that produces a list pairing every individual atom in the list of atoms `lat` with a count of how often the atom appears in `lat`.\n",
    "\n",
    "```\n",
    "> (count-all '(m i s s i s s i p p i))\n",
    "((m 1) (i 4) (s 4) (p 2))\n",
    "> (count-all '(to be or not to be that is the question))\n",
    "((to 2) (be 2) (or 1) (not 1) (that 1) (is 1) (the 1) (question 1))\n",
    "```\n",
    "The order of the items in the output list does not matter. Make sure to include the code if you use any auxiliary functions (helper functions). Note that this function is computing a histogram."
   ]
  },
  {
   "cell_type": "markdown",
   "metadata": {},
   "source": [
    "__Answer__"
   ]
  },
  {
   "cell_type": "markdown",
   "metadata": {},
   "source": [
    "```scheme\n",
    "(define (count a lat)\n",
    "    (if (null? lat)                     ; if list is empty\n",
    "        0                               ; return 0\n",
    "        (if (equal? a (car lat))        ; else if a equals the first value of lat\n",
    "            (+ 1 (count a (cdr lat)))   ; recurse function with remainder of lat and add 1\n",
    "            (count a (cdr lat)))))\n",
    "\n",
    "(define (make-unique hist term)\n",
    "    (fold (lambda (alist result)        ; fold lambda into hist\n",
    "        (if (equal? (car alist) term)   ; if term equals the first value of the alist\n",
    "            result                      ; return the result of the lambda\n",
    "            (cons alist result)))       ; else append cons pair of the alist and the result \n",
    "    '() hist))\n",
    "\n",
    "(define (count-all lat)\n",
    "    (fold (lambda (term hist)                           ; fold lambda into lat\n",
    "        (cond\n",
    "            ((assoc term hist) => (lambda (x)           ; if term already exists in hist alist\n",
    "                    (cons                               ; replace value in hist\n",
    "                        (cons term (count term lat))    ; increment previous frequency of term\n",
    "                        (make-unique hist term))))      ; only the new term-freq pair is in hist\n",
    "            (else =>\n",
    "                    (cons (cons term 1) hist))))        ; append default frequency to hist\n",
    "    '() lat))\n",
    "```"
   ]
  },
  {
   "cell_type": "markdown",
   "metadata": {},
   "source": [
    "-----"
   ]
  },
  {
   "cell_type": "markdown",
   "metadata": {},
   "source": [
    "3. \\[20 pts, Scheme\\]\n",
    "\n",
    "Consider the following code:\n",
    "\n",
    "```scheme\n",
    "(define mystery\n",
    "    (lambda (x)\n",
    "        (cond\n",
    "             ((null? x) (list x))\n",
    "            (else (append\n",
    "                (mystery (cdr x))\n",
    "                (map (lambda (y)\n",
    "                    (cons (car x) y))\n",
    "                    (mystery (cdr x))))))))\n",
    "```"
   ]
  },
  {
   "cell_type": "markdown",
   "metadata": {},
   "source": [
    "a. What is the value of `(mystery '(a b c))`?"
   ]
  },
  {
   "cell_type": "markdown",
   "metadata": {},
   "source": [
    "__Answer__"
   ]
  },
  {
   "cell_type": "markdown",
   "metadata": {},
   "source": [
    "Breaking down the function:\n",
    "\n",
    "```scheme\n",
    "(define mystery\n",
    "    (lambda (x)\n",
    "        (cond\n",
    "            ((null? x) (list x))            ; if nil, return empty list\n",
    "            (else (append                   ; else append the following\n",
    "                (mystery (cdr x))           ; return value of the recursive call with the rest of x\n",
    "                (map (lambda (y)            ; map the lambda with the recursive call\n",
    "                    (cons (car x) y))       ; make a pair of the first value of x and y\n",
    "                    (mystery (cdr x))))))))\n",
    "```\n",
    "\n",
    "The function appears to create lists with all the possible combinations of the elements of the input list. The following is generated from using an interpreter:\n",
    "\n",
    "`(() (c) (b) (b c) (a) (a c) (a b) (a b c))`"
   ]
  },
  {
   "cell_type": "markdown",
   "metadata": {},
   "source": [
    "----"
   ]
  },
  {
   "cell_type": "markdown",
   "metadata": {},
   "source": [
    "b. Suggest a better name for mystery that better conveys its purpose."
   ]
  },
  {
   "cell_type": "markdown",
   "metadata": {},
   "source": [
    "__Answer__"
   ]
  },
  {
   "cell_type": "markdown",
   "metadata": {},
   "source": [
    "The function appears to create a power set from the input list. `mystery` can be renamed to `power-set`."
   ]
  },
  {
   "cell_type": "markdown",
   "metadata": {},
   "source": [
    "----"
   ]
  },
  {
   "cell_type": "markdown",
   "metadata": {},
   "source": [
    "c. What is the value of `(length (mystery '(a b c d e f g h i j)))`?"
   ]
  },
  {
   "cell_type": "markdown",
   "metadata": {},
   "source": [
    "__Answer__"
   ]
  },
  {
   "cell_type": "markdown",
   "metadata": {},
   "source": [
    "To find the number of power sets possible for a set of $n$ elements, compute $2^n$. Since `(length '(a b c d e f g h i j)) == 10`, then `(length (mystery '(a b c d e f g h i j)))` = $2^{10}=1024$."
   ]
  },
  {
   "cell_type": "markdown",
   "metadata": {},
   "source": [
    "----"
   ]
  },
  {
   "cell_type": "markdown",
   "metadata": {},
   "source": [
    "4. \\[50 pts, Scheme\\] (including 10 pts bonus)  \n",
    "\n",
    "Recall that in lexical binding (or scoping) a variable reference is associated with the nearest lexically enclosing binding of the variable. Dynamic binding (or scoping) resolves a variable reference in the body of a function in the environment at the point of call (extended with bindings of actuals to formals). Below are expressions in a Scheme-like syntax. Evaluate each using obvious meanings in both a lexical and a dynamic setting. If something happens to prevent straightforward evaluation, explain the \"error\" succinctly. You may assume that each of these is to be evaluated in a pristine initial environment: no previous definitions have been made.\n",
    "\n",
    "For each of the code pieces below write down Lexical and Dynamic evaluations of the expressions."
   ]
  },
  {
   "cell_type": "markdown",
   "metadata": {},
   "source": [
    "1.\n",
    "```scheme\n",
    "(let ((x 22))\n",
    "    (let ((f (lambda (y) x)))\n",
    "        (let ((x 30))\n",
    "            (f 42))))\n",
    "```"
   ]
  },
  {
   "cell_type": "markdown",
   "metadata": {},
   "source": [
    "Resolution of lexical:\n",
    "```\n",
    "(f 42)\n",
    "(lambda (42) x)\n",
    "(lambda (42) 22)\n",
    "22\n",
    "```\n",
    "\n",
    "Resolution of dynamic:\n",
    "```\n",
    "(f 42)\n",
    "(x 30)\n",
    "(lambda (42) 30)\n",
    "30\n",
    "```"
   ]
  },
  {
   "cell_type": "markdown",
   "metadata": {},
   "source": [
    "----"
   ]
  },
  {
   "cell_type": "markdown",
   "metadata": {},
   "source": [
    "2.\n",
    "```scheme\n",
    "(let ((f (lambda (y) x)))\n",
    "    (let ((x 33))\n",
    "        (f 420)))\n",
    "```"
   ]
  },
  {
   "cell_type": "markdown",
   "metadata": {},
   "source": [
    "Resolution of lexical\n",
    "```\n",
    "(f 420)\n",
    "(lambda (420) x)\n",
    "x\n",
    "```\n",
    "\n",
    "Resolution of dynamic\n",
    "```\n",
    "(f 420)\n",
    "(x 33)\n",
    "(lambda (420) 33)\n",
    "33\n",
    "```"
   ]
  },
  {
   "cell_type": "markdown",
   "metadata": {},
   "source": [
    "----"
   ]
  },
  {
   "cell_type": "markdown",
   "metadata": {},
   "source": [
    "3.\n",
    "```scheme\n",
    "(let ((f (lambda (x)\n",
    "    (if (= x 0)\n",
    "        0\n",
    "        (+ x (f (1 - x)))))))\n",
    "    (f 10))\n",
    "```"
   ]
  },
  {
   "cell_type": "markdown",
   "metadata": {},
   "source": [
    "Resolution of lexical\n",
    "```\n",
    "(f 10)\n",
    "(lambda (10) (= 10 0))\n",
    "(= 10 0)\n",
    "(+ 10 f (-9))\n",
    "(f -9)\n",
    "(lambda (-9) (= -9 0))\n",
    "(= -9 0)\n",
    "(+ 10 f (10))\n",
    "(f 10)\n",
    "(lambda (10) (= 10 0))\n",
    "(= 10 0)\n",
    "(+ 10 f (-9))\n",
    "(f -9)\n",
    "(lambda (-9) (= -9 0))\n",
    "(= -9 0)\n",
    "(+ 10 f (10))\n",
    "...\n",
    "```\n",
    "The function reaches its maximum recursion depth.\n",
    "\n",
    "Resolution of dynamic\n",
    "```\n",
    "(f 10)\n",
    "(lambda (10) (= 10 0))\n",
    "(= 10 0)\n",
    "(+ 10 f (-9))\n",
    "(f -9)\n",
    "(lambda (-9) (= -9 0))\n",
    "(= -9 0)\n",
    "(+ 10 f (10))\n",
    "(f 10)\n",
    "(lambda (10) (= 10 0))\n",
    "(= 10 0)\n",
    "(+ 10 f (-9))\n",
    "(f -9)\n",
    "(lambda (-9) (= -9 0))\n",
    "(= -9 0)\n",
    "(+ 10 f (10))\n",
    "...\n",
    "```\n",
    "The function reaches its maximum recursion depth.\n",
    "\n"
   ]
  },
  {
   "cell_type": "markdown",
   "metadata": {},
   "source": [
    "----"
   ]
  },
  {
   "cell_type": "markdown",
   "metadata": {},
   "source": [
    "4.\n",
    "```scheme\n",
    "(let ((a 2))\n",
    "    (let ((f (lambda () a)))\n",
    "        (let ((g (lambda (x) (f))))\n",
    "            (let ((a 4))\n",
    "                (g 1)))))\n",
    "```"
   ]
  },
  {
   "cell_type": "markdown",
   "metadata": {},
   "source": [
    "Resolution of lexical\n",
    "```\n",
    "(g 1)\n",
    "(lambda (1) f)\n",
    "(lambda (1) a)\n",
    "(lambda (1) 2)\n",
    "2\n",
    "```\n",
    "\n",
    "Resolution of dynamic\n",
    "```\n",
    "(g 1)\n",
    "(a 4)\n",
    "(lambda (1) f)\n",
    "(f a)\n",
    "(f 4)\n",
    "4\n",
    "```"
   ]
  },
  {
   "cell_type": "markdown",
   "metadata": {},
   "source": [
    "----"
   ]
  },
  {
   "cell_type": "markdown",
   "metadata": {},
   "source": [
    "5.\n",
    "```scheme\n",
    "(let ((a 2))\n",
    "    (let ((f (lambda () a)))\n",
    "        (let ((g (lambda (a) (f))))\n",
    "            (let ((a 4))\n",
    "                (g 1)))))\n",
    "```"
   ]
  },
  {
   "cell_type": "markdown",
   "metadata": {},
   "source": [
    "Resolution of lexical\n",
    "```\n",
    "(g 1)\n",
    "(lambda (1) f)\n",
    "(lambda (1) a)\n",
    "(lambda (1) 2)\n",
    "2\n",
    "```\n",
    "\n",
    "Resolution of dynamic\n",
    "```\n",
    "(g 1)\n",
    "(a 4)\n",
    "(lambda (1) f)\n",
    "(f a)\n",
    "(f 4)\n",
    "4\n",
    "```"
   ]
  },
  {
   "cell_type": "markdown",
   "metadata": {},
   "source": [
    "----"
   ]
  }
 ],
 "metadata": {
  "kernelspec": {
   "display_name": "Python 3",
   "language": "python",
   "name": "python3"
  },
  "language_info": {
   "codemirror_mode": {
    "name": "ipython",
    "version": 3
   },
   "file_extension": ".py",
   "mimetype": "text/x-python",
   "name": "python",
   "nbconvert_exporter": "python",
   "pygments_lexer": "ipython3",
   "version": "3.8.10"
  }
 },
 "nbformat": 4,
 "nbformat_minor": 4
}
