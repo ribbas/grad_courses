{
 "cells": [
  {
   "cell_type": "markdown",
   "metadata": {
    "tags": []
   },
   "source": [
    "# 605.629: Programming Languages\n",
    "## Assignment 6\n",
    "\n",
    "Sabbir Ahmed"
   ]
  },
  {
   "cell_type": "markdown",
   "metadata": {},
   "source": [
    "1. \\[20 pts, Scheme\\]\n",
    "\n",
    "Write a function count so that `(count a lat)` counts how often the atom `a` appears in the list of atoms `lat`.\n",
    "\n",
    "```\n",
    "> (count 'a '(d a t a))\n",
    "2\n",
    "> (count 's '(m i s s i s s i p p i))\n",
    "4\n",
    "```"
   ]
  },
  {
   "cell_type": "markdown",
   "metadata": {},
   "source": [
    "__Answer__"
   ]
  },
  {
   "cell_type": "markdown",
   "metadata": {},
   "source": [
    "```scheme\n",
    "(define (count a lat)\n",
    "    (if (null? lat)                     ; if list is empty\n",
    "        0                               ; return 0\n",
    "        (if (equal? a (car lat))        ; else if a equals the first value of lat\n",
    "            (+ 1 (count a (cdr lat)))   ; recurse function with remainder of lat and add 1\n",
    "            (count a (cdr lat)))))\n",
    "```"
   ]
  },
  {
   "cell_type": "markdown",
   "metadata": {},
   "source": [
    "-----"
   ]
  },
  {
   "cell_type": "markdown",
   "metadata": {},
   "source": [
    "2. \\[20 pts, Scheme\\]\n",
    "\n",
    "Write a function `(count-all lat)` that produces a list pairing every individual atom in the list of atoms `lat` with a count of how often the atom appears in `lat`.\n",
    "\n",
    "```\n",
    "> (count-all '(m i s s i s s i p p i))\n",
    "((m 1) (i 4) (s 4) (p 2))\n",
    "> (count-all '(to be or not to be that is the question))\n",
    "((to 2) (be 2) (or 1) (not 1) (that 1) (is 1) (the 1) (question 1))\n",
    "```\n",
    "The order of the items in the output list does not matter. Make sure to include the code if you use any auxiliary functions (helper functions). Note that this function is computing a histogram."
   ]
  },
  {
   "cell_type": "markdown",
   "metadata": {},
   "source": [
    "__Answer__"
   ]
  },
  {
   "cell_type": "markdown",
   "metadata": {},
   "source": [
    "```scheme\n",
    "(define (exclude lat a)\n",
    "    (fold (lambda (alist result)    ; fold lambda into '() lat\n",
    "        (if (equal? (car alist) a)  ; if a equals the first value of the association list\n",
    "            result                  ; return the result of the lambda\n",
    "            (cons alist result)))   ; else append cons pair of the association list and the result \n",
    "    '() lat))\n",
    "\n",
    "(define (count-all lat)\n",
    "    (fold (lambda (freq bin)\n",
    "        (cond \n",
    "            ((assoc freq bin) => (lambda (old)\n",
    "                (let ((new (cons freq (+ 1 (cdr old)))))\n",
    "                    (cons new (exclude bin freq)))))\n",
    "            (else\n",
    "                (let ((new (cons freq 1)))\n",
    "                    (cons new bin)))))\n",
    "    '() lat))\n",
    "```"
   ]
  },
  {
   "cell_type": "markdown",
   "metadata": {},
   "source": [
    "-----"
   ]
  },
  {
   "cell_type": "markdown",
   "metadata": {},
   "source": [
    "3. \\[20 pts, Scheme\\]\n",
    "\n",
    "Consider the following code:\n",
    "\n",
    "```scheme\n",
    "(define mystery\n",
    "    (lambda (x)\n",
    "        (cond\n",
    "             ((null? x) (list x))\n",
    "            (else (append\n",
    "                (mystery (cdr x))\n",
    "                (map (lambda (y)\n",
    "                    (cons (car x) y))\n",
    "                    (mystery (cdr x))))))))\n",
    "```"
   ]
  },
  {
   "cell_type": "markdown",
   "metadata": {},
   "source": [
    "a. What is the value of `(mystery '(a b c))`?"
   ]
  },
  {
   "cell_type": "markdown",
   "metadata": {},
   "source": [
    "__Answer__"
   ]
  },
  {
   "cell_type": "markdown",
   "metadata": {},
   "source": [
    "Breaking down the function:\n",
    "\n",
    "```scheme\n",
    "(define mystery\n",
    "    (lambda (x)\n",
    "        (cond\n",
    "            ((null? x) (list x))            ; if nil, return empty list\n",
    "            (else (append                   ; else append the following\n",
    "                (mystery (cdr x))           ; return value of the recursive call with the rest of x\n",
    "                (map (lambda (y)            ; map the lambda with the recursive call\n",
    "                    (cons (car x) y))       ; make a pair of the first value of x and y\n",
    "                    (mystery (cdr x))))))))\n",
    "```\n",
    "\n",
    "The function appears to create lists with all the possible combinations of the elements of the input list. The following is generated from using an interpreter:\n",
    "\n",
    "`(() (c) (b) (b c) (a) (a c) (a b) (a b c))`"
   ]
  },
  {
   "cell_type": "markdown",
   "metadata": {},
   "source": [
    "----"
   ]
  },
  {
   "cell_type": "markdown",
   "metadata": {},
   "source": [
    "b. Suggest a better name for mystery that better conveys its purpose."
   ]
  },
  {
   "cell_type": "markdown",
   "metadata": {},
   "source": [
    "__Answer__"
   ]
  },
  {
   "cell_type": "markdown",
   "metadata": {},
   "source": [
    "The function appears to create a power set from the input list. `mystery` can be renamed to `power-set`."
   ]
  },
  {
   "cell_type": "markdown",
   "metadata": {},
   "source": [
    "----"
   ]
  },
  {
   "cell_type": "markdown",
   "metadata": {},
   "source": [
    "c. What is the value of `(length (mystery '(a b c d e f g h i j)))`?"
   ]
  },
  {
   "cell_type": "markdown",
   "metadata": {},
   "source": [
    "__Answer__"
   ]
  },
  {
   "cell_type": "markdown",
   "metadata": {},
   "source": [
    "To find the number of power sets possible for a set of $n$ elements, compute $2^n$. Since `(length '(a b c d e f g h i j)) == 10`, then `(length (mystery '(a b c d e f g h i j)))` = $2^{10}=1024$."
   ]
  },
  {
   "cell_type": "markdown",
   "metadata": {},
   "source": [
    "----"
   ]
  }
 ],
 "metadata": {
  "kernelspec": {
   "display_name": "Python 3",
   "language": "python",
   "name": "python3"
  },
  "language_info": {
   "codemirror_mode": {
    "name": "ipython",
    "version": 3
   },
   "file_extension": ".py",
   "mimetype": "text/x-python",
   "name": "python",
   "nbconvert_exporter": "python",
   "pygments_lexer": "ipython3",
   "version": "3.8.10"
  }
 },
 "nbformat": 4,
 "nbformat_minor": 4
}
