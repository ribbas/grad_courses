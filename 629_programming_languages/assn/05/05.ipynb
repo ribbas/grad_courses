{
 "cells": [
  {
   "cell_type": "markdown",
   "metadata": {},
   "source": [
    "# 605.629: Programming Languages\n",
    "## Assignment 5\n",
    "\n",
    "Sabbir Ahmed"
   ]
  },
  {
   "cell_type": "markdown",
   "metadata": {},
   "source": [
    "1. \\[50 pts, ML types\\]\n",
    "\n",
    "Determine the ML type for each of the following declarations. Feel free to type the declarations into an ML interpreter to determine the type, but make sure to explain in a couple of sentences why the type is what it is."
   ]
  },
  {
   "cell_type": "markdown",
   "metadata": {},
   "source": [
    "a.\n",
    "```fun a(x,y) = x + y/2.0;```"
   ]
  },
  {
   "cell_type": "markdown",
   "metadata": {},
   "source": [
    "`real * real -> real`  \n",
    "Since val y/2.0 returns a real, then x + y/2.0 is also a real."
   ]
  },
  {
   "cell_type": "markdown",
   "metadata": {},
   "source": [
    "b.\n",
    "```fun b(f) = fn x => f(x)+1;```"
   ]
  },
  {
   "cell_type": "markdown",
   "metadata": {},
   "source": []
  },
  {
   "cell_type": "markdown",
   "metadata": {},
   "source": [
    "c.\n",
    "```fun c(w, x, y, z) = if w(x) then x(y) else z;```"
   ]
  },
  {
   "cell_type": "markdown",
   "metadata": {},
   "source": []
  },
  {
   "cell_type": "markdown",
   "metadata": {},
   "source": [
    "d. ```\n",
    "fun addToList(nil, x) = x\n",
    "| addToList(x, h::l) = h::addToList(x,l);\n",
    "```"
   ]
  },
  {
   "cell_type": "markdown",
   "metadata": {},
   "source": []
  },
  {
   "cell_type": "markdown",
   "metadata": {},
   "source": [
    "e. The `addToList` function above has a bug. Can the type inferred for this function help the programmer notice that the function is implemented incorrectly? How?"
   ]
  },
  {
   "cell_type": "markdown",
   "metadata": {},
   "source": []
  },
  {
   "cell_type": "markdown",
   "metadata": {},
   "source": [
    "-----"
   ]
  },
  {
   "cell_type": "markdown",
   "metadata": {},
   "source": [
    "\\[50 pts, parameter passing\\]\n",
    "\n",
    "Consider the following program written in Algol-like\n",
    "pseudocode:\n",
    "\n",
    "```\n",
    "begin\n",
    "    integer i;\n",
    "    procedure foo(integer x, integer y);\n",
    "        begin\n",
    "            x := x+1;\n",
    "            y := x+1;\n",
    "            x := y;\n",
    "            i := i+1;\n",
    "        end\n",
    "    i := 1;\n",
    "    foo(i,i);\n",
    "    print i;\n",
    "end\n",
    "```"
   ]
  },
  {
   "cell_type": "markdown",
   "metadata": {},
   "source": [
    "What would this program print under each of the following parameter passing mechanisms?"
   ]
  },
  {
   "cell_type": "markdown",
   "metadata": {},
   "source": [
    "a. Pass-by-value"
   ]
  },
  {
   "cell_type": "markdown",
   "metadata": {},
   "source": []
  },
  {
   "cell_type": "markdown",
   "metadata": {},
   "source": [
    "b. Pass-by-reference"
   ]
  },
  {
   "cell_type": "markdown",
   "metadata": {},
   "source": []
  },
  {
   "cell_type": "markdown",
   "metadata": {},
   "source": [
    "c. Pass-by-value-result"
   ]
  },
  {
   "cell_type": "markdown",
   "metadata": {},
   "source": []
  },
  {
   "cell_type": "markdown",
   "metadata": {},
   "source": [
    "----"
   ]
  }
 ],
 "metadata": {
  "kernelspec": {
   "display_name": "Python 3",
   "language": "python",
   "name": "python3"
  },
  "language_info": {
   "codemirror_mode": {
    "name": "ipython",
    "version": 3
   },
   "file_extension": ".py",
   "mimetype": "text/x-python",
   "name": "python",
   "nbconvert_exporter": "python",
   "pygments_lexer": "ipython3",
   "version": "3.8.10"
  }
 },
 "nbformat": 4,
 "nbformat_minor": 4
}
