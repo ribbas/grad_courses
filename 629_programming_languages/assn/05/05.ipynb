{
 "cells": [
  {
   "cell_type": "markdown",
   "metadata": {
    "tags": []
   },
   "source": [
    "# 605.629: Programming Languages\n",
    "## Assignment 5\n",
    "\n",
    "Sabbir Ahmed"
   ]
  },
  {
   "cell_type": "markdown",
   "metadata": {},
   "source": [
    "1. \\[50 pts, ML types\\]\n",
    "\n",
    "Determine the ML type for each of the following declarations. Feel free to type the declarations into an ML interpreter to determine the type, but make sure to explain in a couple of sentences why the type is what it is."
   ]
  },
  {
   "cell_type": "markdown",
   "metadata": {},
   "source": [
    "__Answer__"
   ]
  },
  {
   "cell_type": "markdown",
   "metadata": {},
   "source": [
    "a.\n",
    "```fun a(x,y) = x + y/2.0;```"
   ]
  },
  {
   "cell_type": "markdown",
   "metadata": {},
   "source": [
    "`val a = fn : real * real -> real`  \n",
    "Since `val y/2.0` returns a real, then `x + y/2.0` is also a real."
   ]
  },
  {
   "cell_type": "markdown",
   "metadata": {},
   "source": [
    "-----"
   ]
  },
  {
   "cell_type": "markdown",
   "metadata": {},
   "source": [
    "b.\n",
    "```fun b(f) = fn x => f(x)+1;```"
   ]
  },
  {
   "cell_type": "markdown",
   "metadata": {},
   "source": [
    "`val b = fn : ('a -> int) -> 'a -> int`  \n",
    "Since `f` is a function with an unknown type, it is substituted with `'a` and `f(x) + 1` can be inferred as `'a + int`."
   ]
  },
  {
   "cell_type": "markdown",
   "metadata": {},
   "source": [
    "-----"
   ]
  },
  {
   "cell_type": "markdown",
   "metadata": {},
   "source": [
    "c.\n",
    "```fun c(w, x, y, z) = if w(x) then x(y) else z;```"
   ]
  },
  {
   "cell_type": "markdown",
   "metadata": {},
   "source": [
    "`val c = fn : (('a -> 'b) -> bool) * ('a -> 'b) * 'a * 'b -> 'b`  \n",
    "Since `x` is a function with an unknown type, it is substituted with `'a -> 'b`.  \n",
    "Since `w` is a function with an unknown type, it is substituted with `'a -> 'b`. The function is inside a conditional, so it returns a `bool` after taking `x` as a parameter.This can be substituted with `('a -> 'b) -> bool`.  \n",
    "The other parameters are treated as arguments of unknown types and are substituted with `'a` and `'b` respectively, with the entire function return an unknown type."
   ]
  },
  {
   "cell_type": "markdown",
   "metadata": {},
   "source": [
    "-----"
   ]
  },
  {
   "cell_type": "markdown",
   "metadata": {},
   "source": [
    "d. ```\n",
    "fun addToList(nil, x) = x\n",
    "| addToList(x, h::l) = h::addToList(x,l);\n",
    "```"
   ]
  },
  {
   "cell_type": "markdown",
   "metadata": {},
   "source": [
    "`val addToList = fn : 'a list * 'b list -> 'b list`  \n",
    "Both of the parameters of the function are lists of unknown types, and are therefore substituted with `'a list` and `'b list`. This function joins the 2 lists and returns it as a list of unknown type `'b list`."
   ]
  },
  {
   "cell_type": "markdown",
   "metadata": {},
   "source": [
    "-----"
   ]
  },
  {
   "cell_type": "markdown",
   "metadata": {},
   "source": [
    "e. The `addToList` function above has a bug. Can the type inferred for this function help the programmer notice that the function is implemented incorrectly? How?"
   ]
  },
  {
   "cell_type": "markdown",
   "metadata": {},
   "source": [
    "Yes, since the intention of the function was to add to a list of unknown type, the function return type should have at least matched with the input parameters. When the return type was inferred to be of a different type, it was an indication that there may be a bug. The online compiler returned a warning for \"match nonexhaustive\" which suggested that it is possible to break the function with certain matches. This means that calling `addToList([1,2,3], [3])` would result in an error since the first argument expected an empty list.  \n",
    "Swapping the arguments to `fun addToList(x, nil) = x | addToList(x, h::l) = h::addToList(x,l);` would fix this issue and the types can be inferred as: `val addToList = fn : 'a list * 'a list -> 'a list`."
   ]
  },
  {
   "cell_type": "markdown",
   "metadata": {},
   "source": [
    "-----"
   ]
  },
  {
   "cell_type": "markdown",
   "metadata": {},
   "source": [
    "\\[50 pts, parameter passing\\]\n",
    "\n",
    "Consider the following program written in Algol-like\n",
    "pseudocode:\n",
    "\n",
    "```\n",
    "begin\n",
    "    integer i;\n",
    "    procedure foo(integer x, integer y);\n",
    "        begin\n",
    "            x := x+1;\n",
    "            y := x+1;\n",
    "            x := y;\n",
    "            i := i+1;\n",
    "        end\n",
    "    i := 1;\n",
    "    foo(i,i);\n",
    "    print i;\n",
    "end\n",
    "```"
   ]
  },
  {
   "cell_type": "markdown",
   "metadata": {},
   "source": [
    "What would this program print under each of the following parameter passing mechanisms?"
   ]
  },
  {
   "cell_type": "markdown",
   "metadata": {},
   "source": [
    "__Answer__"
   ]
  },
  {
   "cell_type": "markdown",
   "metadata": {},
   "source": [
    "a. Pass-by-value"
   ]
  },
  {
   "cell_type": "markdown",
   "metadata": {},
   "source": [
    "The program would compute and store the following expressions if the parameters were passed-by-value:  \n",
    "```\n",
    "i = 1\n",
    "foo(i, i)\n",
    "    x = i;      // x = 1\n",
    "    y = i;      // y = 1\n",
    "    x = x + 1;  // x = 2\n",
    "    y = x + 1;  // y = 3\n",
    "    x = y;      // x = 3\n",
    "    i = i + 1;  // i = 2\n",
    "    return i;\n",
    "```\n",
    "Therefore, the program would print: `2`"
   ]
  },
  {
   "cell_type": "markdown",
   "metadata": {},
   "source": [
    "-----"
   ]
  },
  {
   "cell_type": "markdown",
   "metadata": {},
   "source": [
    "b. Pass-by-reference"
   ]
  },
  {
   "cell_type": "markdown",
   "metadata": {},
   "source": [
    "The program would compute and store the following expressions if the parameters were passed-by-reference:  \n",
    "```\n",
    "i = 1\n",
    "foo(&i, &i)\n",
    "    x = i;      // x = 1\n",
    "    y = i;      // y = 1\n",
    "    x = x + 1;  // x = 2, i = 2\n",
    "    y = x + 1;  // y = 3, i = 3\n",
    "    x = y;      // x = 3, i = 3\n",
    "    i = i + 1;  // i = 4\n",
    "    return i;\n",
    "```\n",
    "Therefore, the program would print: `4`"
   ]
  },
  {
   "cell_type": "markdown",
   "metadata": {},
   "source": [
    "-----"
   ]
  },
  {
   "cell_type": "markdown",
   "metadata": {},
   "source": [
    "c. Pass-by-value-result"
   ]
  },
  {
   "cell_type": "markdown",
   "metadata": {},
   "source": [
    "The program would compute and store the following expressions if the parameters were passed-by-value-result:  \n",
    "```\n",
    "i = 1\n",
    "j = i\n",
    "foo(&j, &j)\n",
    "    x = j;      // x = 1\n",
    "    y = j;      // y = 1\n",
    "    x = x + 1;  // x = 2, j = 2\n",
    "    y = x + 1;  // y = 3, j = 3\n",
    "    x = y;      // x = 3, j = 3\n",
    "    i = i + 1;  // i = 2\n",
    "    i = j;      // i = 3\n",
    "    return i;\n",
    "```\n",
    "Therefore, the program would print: `3`"
   ]
  },
  {
   "cell_type": "markdown",
   "metadata": {},
   "source": [
    "----"
   ]
  }
 ],
 "metadata": {
  "kernelspec": {
   "display_name": "Python 3",
   "language": "python",
   "name": "python3"
  },
  "language_info": {
   "codemirror_mode": {
    "name": "ipython",
    "version": 3
   },
   "file_extension": ".py",
   "mimetype": "text/x-python",
   "name": "python",
   "nbconvert_exporter": "python",
   "pygments_lexer": "ipython3",
   "version": "3.8.10"
  }
 },
 "nbformat": 4,
 "nbformat_minor": 4
}
