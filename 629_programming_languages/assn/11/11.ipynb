{
 "cells": [
  {
   "cell_type": "markdown",
   "metadata": {
    "tags": []
   },
   "source": [
    "## 605.629: Programming Languages\n",
    "## Assignment 11\n",
    "\n",
    "Sabbir Ahmed"
   ]
  },
  {
   "cell_type": "markdown",
   "metadata": {},
   "source": [
    "1. \\[60 pts, concurrency\\]  \n",
    "Consider the following Python program:\n",
    "\n",
    "```python\n",
    "from threading import Thread, Lock, current_thread\n",
    "from time import sleep\n",
    "\n",
    "status, status_lock, count, count_lock = 1, Lock(), 1, Lock()\n",
    "\n",
    "def fun1():\n",
    "    global count, status\n",
    "    while 1:\n",
    "        with count_lock:\n",
    "            print (current_thread().name, 'count lock acquired') # line 10\n",
    "            count += 1\n",
    "            with status_lock:\n",
    "                print (current_thread().name, 'status lock acquired') # line 13\n",
    "                status = count\n",
    "                print (current_thread().name, 'updated status= %d' % (status))\n",
    "                sleep(0.5)\n",
    "\n",
    "def fun2():\n",
    "    global count, status\n",
    "    while 1:\n",
    "        with status_lock:\n",
    "            print (current_thread().name, 'status lock acquired') # line 22\n",
    "            count += 1\n",
    "            with count_lock:\n",
    "                print (current_thread().name, 'count lock acquired') # line 25\n",
    "                status = count\n",
    "                print (current_thread().name, 'updated status= %d' % (status))\n",
    "                sleep(0.5)\n",
    "\n",
    "if __name__==\"__main__\":\n",
    "    f1 = Thread(target=fun1)\n",
    "    f2 = Thread(target=fun2)\n",
    "    f1.start()\n",
    "    f2.start()\n",
    "```"
   ]
  },
  {
   "cell_type": "markdown",
   "metadata": {},
   "source": [
    "(a.) Run it and observe that the program hangs shortly after it started running. Explain what is happening and what causes the hang?"
   ]
  },
  {
   "cell_type": "markdown",
   "metadata": {},
   "source": [
    "__Answer__"
   ]
  },
  {
   "cell_type": "markdown",
   "metadata": {},
   "source": [
    "Both Thread 1 and Thread 2 depend on acquiring 2 locks that are nested within each other at alternating orders. For the threads to continue, they have to acquire the first lock, increment the count, acquire the second lock then release both of the locks. The program hangs when the outer lock of both of the threads are available and acquired at the same time, i.e. when `Thread-1` acquires `count_lock` and `Thread-2` acquires `status_lock` simultaneously, both of the threads starves while waiting for their inner locks to be freed by the other thread which does not happen. "
   ]
  },
  {
   "cell_type": "markdown",
   "metadata": {},
   "source": [
    "-----"
   ]
  },
  {
   "cell_type": "markdown",
   "metadata": {},
   "source": [
    "(b.) Comment lines 10, 13, 22 and 25 and run it again. Explain what is happening and why it stopped hanging? Or did it?"
   ]
  },
  {
   "cell_type": "markdown",
   "metadata": {},
   "source": [
    "__Answer__"
   ]
  },
  {
   "cell_type": "markdown",
   "metadata": {},
   "source": [
    "It did not stop hanging since the threads are still being starved. Commenting out the specified lines simply surpresses the output of the threads' statuses."
   ]
  },
  {
   "cell_type": "markdown",
   "metadata": {},
   "source": [
    "-----"
   ]
  },
  {
   "cell_type": "markdown",
   "metadata": {},
   "source": [
    "(c.) Explain how would you fix the problem."
   ]
  },
  {
   "cell_type": "markdown",
   "metadata": {},
   "source": [
    "__Answer__"
   ]
  },
  {
   "cell_type": "markdown",
   "metadata": {},
   "source": [
    "Replacing the `status_lock` or the `count_lock` from the program with a single lock will allow the threads to increment the shared variable properly."
   ]
  },
  {
   "cell_type": "markdown",
   "metadata": {},
   "source": [
    "```python\n",
    "from threading import Thread, Lock, current_thread\n",
    "from time import sleep\n",
    "\n",
    "status, count, lock = 1, 1, Lock()\n",
    "\n",
    "\n",
    "def fun1():\n",
    "    global count, status\n",
    "    while 1:\n",
    "        with lock:\n",
    "            print(current_thread().name, \"lock acquired\")  # line 10\n",
    "            count += 1\n",
    "            status = count\n",
    "            print(current_thread().name, \"updated status= %d\" % (status))\n",
    "            sleep(0.5)\n",
    "\n",
    "\n",
    "def fun2():\n",
    "    global count, status\n",
    "    while 1:\n",
    "        with lock:\n",
    "            print(current_thread().name, \"lock acquired\")  # line 22\n",
    "            count += 1\n",
    "            status = count\n",
    "            print(current_thread().name, \"updated status= %d\" % (status))\n",
    "            sleep(0.5)\n",
    "\n",
    "\n",
    "if __name__ == \"__main__\":\n",
    "    f1 = Thread(target=fun1)\n",
    "    f2 = Thread(target=fun2)\n",
    "    f1.start()\n",
    "    f2.start()\n",
    "```"
   ]
  },
  {
   "cell_type": "markdown",
   "metadata": {},
   "source": [
    "-----"
   ]
  },
  {
   "cell_type": "markdown",
   "metadata": {},
   "source": [
    "2. \\[40 pts, concurrency\\]  \n",
    "Imagine you need a producer/consumer design with multiple producers and consumers to process some data. Sketch a design (pseudocode) that uses a counting semaphore for critical section management."
   ]
  },
  {
   "cell_type": "markdown",
   "metadata": {},
   "source": [
    "__Answer__"
   ]
  },
  {
   "cell_type": "markdown",
   "metadata": {},
   "source": [
    "```\n",
    "prog ProducerConsumer:\n",
    "\n",
    "BUFFER_SIZE: int = n;\n",
    "buffer: bytes[BUFFER_SIZE] = [];\n",
    "sem: Semaphore = 1;\n",
    "\n",
    "proc Producer:\n",
    "    while true:\n",
    "        // critical section\n",
    "        sem.acquire();\n",
    "        if buffer.size() == BUFFER_SIZE:\n",
    "            print(\"Buffer is full\");\n",
    "        else:\n",
    "            buffer.push(item);\n",
    "        sem.release();\n",
    "        // critical section\n",
    "\n",
    "proc Consumer:\n",
    "    while true:\n",
    "        // critical section\n",
    "        sem.acquire();\n",
    "        if buffer.size() == 0:\n",
    "            print(\"Buffer is empty\");\n",
    "        else:\n",
    "            buffer.pop();\n",
    "        sem.release();\n",
    "        // critical section\n",
    "\n",
    "proc main:\n",
    "    for i = 1 to x:\n",
    "        p: Producer = Producer();\n",
    "        c: Consumer = Consumer();\n",
    "        pt: Thread = Thread(p);\n",
    "        ct: Thread = Thread(c);\n",
    "        pt.start();\n",
    "        ct.start();\n",
    "```"
   ]
  },
  {
   "cell_type": "markdown",
   "metadata": {},
   "source": [
    "-----"
   ]
  }
 ],
 "metadata": {
  "kernelspec": {
   "display_name": "Python 3",
   "language": "python",
   "name": "python3"
  },
  "language_info": {
   "codemirror_mode": {
    "name": "ipython",
    "version": 3
   },
   "file_extension": ".py",
   "mimetype": "text/x-python",
   "name": "python",
   "nbconvert_exporter": "python",
   "pygments_lexer": "ipython3",
   "version": "3.8.10"
  }
 },
 "nbformat": 4,
 "nbformat_minor": 4
}
