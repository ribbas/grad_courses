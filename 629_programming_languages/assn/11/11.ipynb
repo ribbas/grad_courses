{
 "cells": [
  {
   "cell_type": "markdown",
   "metadata": {
    "tags": []
   },
   "source": [
    "## 605.629: Programming Languages\n",
    "## Assignment 11\n",
    "\n",
    "Sabbir Ahmed"
   ]
  },
  {
   "cell_type": "markdown",
   "metadata": {},
   "source": [
    "1. \\[60 pts, concurrency\\]  \n",
    "Consider the following Python program:\n",
    "\n",
    "```python\n",
    "from threading import Thread, Lock, current_thread\n",
    "from time import sleep\n",
    "\n",
    "status, status_lock, count, count_lock = 1, Lock(), 1, Lock()\n",
    "\n",
    "def fun1():\n",
    "    global count, status\n",
    "    while 1:\n",
    "        with count_lock:\n",
    "            print (current_thread().name, 'count lock acquired') # line 10\n",
    "            count += 1\n",
    "            with status_lock:\n",
    "                print (current_thread().name, 'status lock acquired') # line 13\n",
    "                status = count\n",
    "                print (current_thread().name, 'updated status= %d' % (status))\n",
    "                sleep(0.5)\n",
    "\n",
    "def fun2():\n",
    "    global count, status\n",
    "    while 1:\n",
    "        with status_lock:\n",
    "            print (current_thread().name, 'status lock acquired') # line 22\n",
    "            count += 1\n",
    "            with count_lock:\n",
    "                print (current_thread().name, 'count lock acquired') # line 25\n",
    "                status = count\n",
    "                print (current_thread().name, 'updated status= %d' % (status))\n",
    "                sleep(0.5)\n",
    "\n",
    "if __name__==\"__main__\":\n",
    "    f1 = Thread(target=fun1)\n",
    "    f2 = Thread(target=fun2)\n",
    "    f1.start()\n",
    "    f2.start()\n",
    "```"
   ]
  },
  {
   "cell_type": "markdown",
   "metadata": {},
   "source": [
    "(a.) Run it and observe that the program hangs shortly after it started running. Explain what is happening and what causes the hang?"
   ]
  },
  {
   "cell_type": "markdown",
   "metadata": {},
   "source": [
    "__Answer__"
   ]
  },
  {
   "cell_type": "markdown",
   "metadata": {},
   "source": []
  },
  {
   "cell_type": "markdown",
   "metadata": {},
   "source": [
    "-----"
   ]
  },
  {
   "cell_type": "markdown",
   "metadata": {},
   "source": [
    "(b.) Comment lines 10, 13, 22 and 25 and run it again. Explain what is happening and why it stopped hanging? Or did it?"
   ]
  },
  {
   "cell_type": "markdown",
   "metadata": {},
   "source": [
    "__Answer__"
   ]
  },
  {
   "cell_type": "markdown",
   "metadata": {},
   "source": []
  },
  {
   "cell_type": "markdown",
   "metadata": {},
   "source": [
    "-----"
   ]
  },
  {
   "cell_type": "markdown",
   "metadata": {},
   "source": [
    "(c.) Explain how would you fix the problem."
   ]
  },
  {
   "cell_type": "markdown",
   "metadata": {},
   "source": [
    "__Answer__"
   ]
  },
  {
   "cell_type": "markdown",
   "metadata": {},
   "source": []
  },
  {
   "cell_type": "markdown",
   "metadata": {},
   "source": [
    "-----"
   ]
  },
  {
   "cell_type": "markdown",
   "metadata": {},
   "source": [
    "2. \\[40 pts, concurrency\\]  \n",
    "Imagine you need a producer/consumer design with multiple producers and consumers to process some data. Sketch a design (pseudocode) that uses a counting semaphore for critical section management."
   ]
  },
  {
   "cell_type": "markdown",
   "metadata": {},
   "source": [
    "__Answer__"
   ]
  },
  {
   "cell_type": "markdown",
   "metadata": {},
   "source": []
  },
  {
   "cell_type": "markdown",
   "metadata": {},
   "source": [
    "-----"
   ]
  }
 ],
 "metadata": {
  "kernelspec": {
   "display_name": "Python 3",
   "language": "python",
   "name": "python3"
  },
  "language_info": {
   "codemirror_mode": {
    "name": "ipython",
    "version": 3
   },
   "file_extension": ".py",
   "mimetype": "text/x-python",
   "name": "python",
   "nbconvert_exporter": "python",
   "pygments_lexer": "ipython3",
   "version": "3.8.10"
  }
 },
 "nbformat": 4,
 "nbformat_minor": 4
}
