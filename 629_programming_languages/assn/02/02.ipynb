{
 "cells": [
  {
   "cell_type": "markdown",
   "metadata": {},
   "source": [
    "# 605.629: Programming Languages\n",
    "## Assignment 2\n",
    "\n",
    "Sabbir Ahmed"
   ]
  },
  {
   "cell_type": "markdown",
   "metadata": {},
   "source": [
    "1. \\[30 pts, grammars\\]\n",
    "\n",
    "Consider the following unambiguous grammar for expressions,\n",
    "```\n",
    "<assign> → <id> = <expr>\n",
    "<id> → A | B | C\n",
    "<expr> → <expr> + <term> | <term>\n",
    "<term> → <term> * <factor> | <factor>\n",
    "<factor> → ( <expr> ) | <id>\n",
    "```"
   ]
  },
  {
   "cell_type": "markdown",
   "metadata": {},
   "source": [
    "(a.) Modify the above BNF to give `+` precedence over `*` and force `+` to be right associative."
   ]
  },
  {
   "cell_type": "markdown",
   "metadata": {},
   "source": [
    "To give `+` precedence over `*`, we can swap the operators in the grammar. To force `+` to be right associative, we can swap the operands.\n",
    "\n",
    "```\n",
    "<assign> → <id> = <expr>\n",
    "<id> → A | B | C\n",
    "<expr> → <expr> * <term> | <term>\n",
    "<term> → <factor> + <term> | <factor>\n",
    "<factor> → ( <expr> ) | <id>\n",
    "```"
   ]
  },
  {
   "cell_type": "markdown",
   "metadata": {},
   "source": [
    "-----------"
   ]
  },
  {
   "cell_type": "markdown",
   "metadata": {},
   "source": [
    "(b.) Modify the above BNF to add the `++` and the `--` unary operators of Java."
   ]
  },
  {
   "cell_type": "markdown",
   "metadata": {},
   "source": [
    "```\n",
    "<assign> → <id> = <expr>\n",
    "<id> → A | B | C\n",
    "<expr> → <expr> + <term> | <term>\n",
    "<term> → <term> * <factor> | <factor>\n",
    "<factor> → ( <expr> ) | <id> | <id>++ | <id>--\n",
    "```"
   ]
  },
  {
   "cell_type": "markdown",
   "metadata": {},
   "source": [
    "-----------"
   ]
  },
  {
   "cell_type": "markdown",
   "metadata": {},
   "source": [
    "(c.) Modify the above BNF to add a unary minus operator that has higher precedence than either `+` or `*`."
   ]
  },
  {
   "cell_type": "markdown",
   "metadata": {},
   "source": [
    "```\n",
    "<assign> → <id> = <expr>\n",
    "<id> → A | B | C\n",
    "<expr> → <expr> + <term> | <term>\n",
    "<term> → <term> * <factor> | <factor>\n",
    "<factor> → ( <expr> ) | <id> | -<id>\n",
    "```"
   ]
  },
  {
   "cell_type": "markdown",
   "metadata": {},
   "source": [
    "-----------"
   ]
  },
  {
   "cell_type": "markdown",
   "metadata": {},
   "source": [
    "2. \\[30 pts, grammars\\]\n",
    "\n",
    "Prove that the following grammar is ambiguous\n",
    "```\n",
    "<S> → <A>\n",
    "<A> → <A> + <A> | <id>\n",
    "<id> → a | b | c\n",
    "```"
   ]
  },
  {
   "cell_type": "markdown",
   "metadata": {},
   "source": [
    "A grammar is considered ambigious if it can generate a string with more than one parse tree. To generate the string `a + b + c`, the grammar would create the following parse trees:\n",
    "\n",
    "\n",
    "A | B\n",
    ":-: | :-: \n",
    "![tree 1](statics/02-tree-1.png \"Parse Tree 1\") | ![tree 2](statics/02-tree-2.png \"Parse Tree 2\")"
   ]
  },
  {
   "cell_type": "markdown",
   "metadata": {},
   "source": [
    "-----------"
   ]
  },
  {
   "cell_type": "markdown",
   "metadata": {},
   "source": [
    "3. \\[10 pts, ply.lex and ply.yacc to build a lexer/tokenizer\\]\n",
    "\n",
    "Use the Python ply library to build a calculator using the resource from the Ply web page\n",
    "(http://www.dabeaz.com/ply/ply.html)  \n",
    "Your lex and yacc scripts must be able to parse the following expression:\n",
    "\n",
    "```-1 + (2 * 3 + 4) * -5```"
   ]
  },
  {
   "cell_type": "markdown",
   "metadata": {},
   "source": [
    "-----------"
   ]
  },
  {
   "cell_type": "markdown",
   "metadata": {},
   "source": [
    "4. \\[30 pts, semantics\\]\n",
    "\n",
    "Consider the following grammar:\n",
    "\n",
    "  1. Syntax rule: `<assign> → <var> = <expr>`   \n",
    "  Semantic rule: `<expr>.expected_type ← <var>.actual_type`\n",
    "  2. Syntax rule: `<expr> → <var>[2] + <var>[3]`  \n",
    "    Semantic rule:  \n",
    "        ```\n",
    "    <expr>.actual_type ←\n",
    "        if (<var>[2].actual_type = int) and (<var>[3].actual_type = int) then\n",
    "            int\n",
    "        else\n",
    "            real\n",
    "        end if```  \n",
    "    Predicate: `<expr>.actual_type == <expr>.expected_type`\n",
    "  3. Syntax rule: `<expr> → <var>`  \n",
    "    Semantic rule: `<expr>.actual_type ← <var>.actual_type`  \n",
    "    Predicate: `<expr>.actual_type == <expr>.expected_type`\n",
    "  4. Syntax rule: `<var> → A | B | C`  \n",
    "    Semantic rule: `<var>.actual_type ← look-up(<var>.string)`\n",
    "\n",
    "Modify the attribute grammar in the above BNF above to have: data types cannot be mixed in expressions, but assignment statements need not have the same types on both sides of the assignment operator.\n",
    "        \n",
    "Note that Attribute Grammars have:  \n",
    "`actual_type` - synthesized for `<var>` and `<expr>`  \n",
    "`expected_type` - inherited for `<expr>`  \n",
    "`env` - inherited for `<expr>` and `<var>`"
   ]
  },
  {
   "cell_type": "markdown",
   "metadata": {},
   "source": [
    "To force expressions to not mix data types, we only need to modify the second set of rules:\n",
    "\n",
    "  1. Syntax rule: `<assign> → <var> = <expr>`   \n",
    "    Semantic rule: `<expr>.expected_type ← <var>.actual_type`\n",
    "  2. Syntax rule: `<expr> → <var>[2] + <var>[3]`  \n",
    "    Semantic rule: ` <expr>.actual_type ← <var>[2].actual_type`  \n",
    "    Predicate: `<var>[2].actual_type == <var>[3].actual_type`\n",
    "  3. Syntax rule: `<expr> → <var>`  \n",
    "    Semantic rule: `<expr>.actual_type ← <var>.actual_type`  \n",
    "    Predicate: `<expr>.actual_type == <expr>.expected_type`\n",
    "  4. Syntax rule: `<var> → A | B | C`  \n",
    "    Semantic rule: `<var>.actual_type ← look-up(<var>.string)`\n",
    "\n",
    "The updated predicate rule states the `actual_type` for both of the types around the assignment operator has to be equal. The `actual_type` of `<expr>` then becomes the `actual_type` of `<var>[2]` (which is also the same as `<var>[3]`)."
   ]
  }
 ],
 "metadata": {
  "kernelspec": {
   "display_name": ".venv",
   "language": "python",
   "name": ".venv"
  },
  "language_info": {
   "codemirror_mode": {
    "name": "ipython",
    "version": 3
   },
   "file_extension": ".py",
   "mimetype": "text/x-python",
   "name": "python",
   "nbconvert_exporter": "python",
   "pygments_lexer": "ipython3",
   "version": "3.8.10"
  }
 },
 "nbformat": 4,
 "nbformat_minor": 4
}
