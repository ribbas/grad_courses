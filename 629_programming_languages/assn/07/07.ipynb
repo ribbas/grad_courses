{
 "cells": [
  {
   "cell_type": "markdown",
   "metadata": {
    "tags": []
   },
   "source": [
    "# 605.629: Programming Languages\n",
    "## Assignment 7\n",
    "\n",
    "Sabbir Ahmed"
   ]
  },
  {
   "cell_type": "markdown",
   "metadata": {},
   "source": [
    "1. \\[20 pts\\] Convert the following Scheme code to tail recursive:\n",
    "\n",
    "```scheme\n",
    "(define length\n",
    "  (lambda (lat)\n",
    "    (cond\n",
    "      ((null? lat) 0)\n",
    "      (else (+ 1 (length (cdr lat))))\n",
    ")))\n",
    "\n",
    "(length '(a b c d e f)) => 6\n",
    "```"
   ]
  },
  {
   "cell_type": "markdown",
   "metadata": {},
   "source": [
    "__Answer__"
   ]
  },
  {
   "cell_type": "markdown",
   "metadata": {},
   "source": [
    "```scheme\n",
    "(define lengthr                         ; convert core function into helper\n",
    "  (lambda (lat i)                       ; add an accumulator as an argument\n",
    "    (cond\n",
    "      ((null? lat) i)                   ; if empty list, return the accumulator\n",
    "      (else\n",
    "        (lengthr (cdr lat) (+ 1 i)))    ; move incrementing into argument\n",
    ")))\n",
    "\n",
    "(define length                          ; wrap helper function to provide default argument\n",
    "  (lambda (lat)\n",
    "    (lengthr lat 0)\n",
    "))\n",
    "\n",
    "(length '(a b c d e f)) => 6\n",
    "```"
   ]
  },
  {
   "cell_type": "markdown",
   "metadata": {},
   "source": [
    "-----"
   ]
  },
  {
   "cell_type": "markdown",
   "metadata": {},
   "source": [
    "2. \\[40 pts\\] Write a Scheme function `(mean lst)` to compute the mean value of a list of integers. Make sure the function traverses the list once and computes both the sum and the length in order to return the mean (i.e. sum/len)."
   ]
  },
  {
   "cell_type": "markdown",
   "metadata": {},
   "source": [
    "__Answer__"
   ]
  },
  {
   "cell_type": "markdown",
   "metadata": {},
   "source": [
    "```scheme\n",
    "(define sum\n",
    "  (lambda (lat)\n",
    "    (cond \n",
    "      ((null? lat) 0)\n",
    "      (else (+ (car lat) (sum (cdr lat))))\n",
    ")))\n",
    "\n",
    "(define mean\n",
    "  (lambda (lat)\n",
    "    (/ (sum lat) (length lat))\n",
    "))\n",
    "```"
   ]
  },
  {
   "cell_type": "markdown",
   "metadata": {},
   "source": [
    "-----"
   ]
  },
  {
   "cell_type": "markdown",
   "metadata": {},
   "source": [
    "3. \\[40 pts\\] Recall that lazy variant or call-by-need, is an evaluation strategy which delays the evaluation of an expression until its value is needed and which also avoids repeated evaluations. Given,\n",
    "\n",
    "```scheme\n",
    "(define foo\n",
    "  (lambda (x y z)\n",
    "    (if x (1 + y) (1 - z))\n",
    "))\n",
    "```"
   ]
  },
  {
   "cell_type": "markdown",
   "metadata": {},
   "source": [
    "a. What happens if we enter `(foo #t 7 (quotient 1 0))`"
   ]
  },
  {
   "cell_type": "markdown",
   "metadata": {},
   "source": [
    "i.) in Scheme?"
   ]
  },
  {
   "cell_type": "markdown",
   "metadata": {},
   "source": [
    "__Answer__"
   ]
  },
  {
   "cell_type": "markdown",
   "metadata": {},
   "source": [
    "A divide-by-zero error is thrown when attempting to calculate `(quotient 1 0)` before being passed as an argument to `foo`."
   ]
  },
  {
   "cell_type": "markdown",
   "metadata": {},
   "source": [
    "-----"
   ]
  },
  {
   "cell_type": "markdown",
   "metadata": {},
   "source": [
    "ii.) in a lazy variant of Scheme?"
   ]
  },
  {
   "cell_type": "markdown",
   "metadata": {},
   "source": [
    "__Answer__"
   ]
  },
  {
   "cell_type": "markdown",
   "metadata": {},
   "source": [
    "A lazy variant of Scheme will output `8` since its first argument `x = #t` branches to `(+ 1 y)` where `y = 7`. Since the function does not need to compute `z`, `(quotient 1 0)` is never evaluated."
   ]
  },
  {
   "cell_type": "markdown",
   "metadata": {},
   "source": [
    "-----"
   ]
  },
  {
   "cell_type": "markdown",
   "metadata": {},
   "source": [
    "b. What happens if we enter\n",
    "```scheme\n",
    "(foo #t 2 (letrec ([loopy (lambda (x)\n",
    "  (if (zero? x)\n",
    "    0\n",
    "    (loopy (1 + x))))\n",
    "]) (loopy 1)))\n",
    "```"
   ]
  },
  {
   "cell_type": "markdown",
   "metadata": {},
   "source": [
    "i.) in Scheme?"
   ]
  },
  {
   "cell_type": "markdown",
   "metadata": {},
   "source": [
    "__Answer__"
   ]
  },
  {
   "cell_type": "markdown",
   "metadata": {},
   "source": [
    "`(loopy 1)` is evaluated and throws the interpreter in an endless loop. Its argument is checked in the conditional `(zero? x)` where `x = 1`, evaluates to false and branches to the recursive call to the function with `x` forever incrementing."
   ]
  },
  {
   "cell_type": "markdown",
   "metadata": {},
   "source": [
    "-----"
   ]
  },
  {
   "cell_type": "markdown",
   "metadata": {},
   "source": [
    "ii.) in a lazy variant of Scheme?"
   ]
  },
  {
   "cell_type": "markdown",
   "metadata": {},
   "source": [
    "__Answer__"
   ]
  },
  {
   "cell_type": "markdown",
   "metadata": {},
   "source": [
    "A lazy variant of Scheme will output `3` since its first argument `x = #t` branches to `(+ 1 y)` where `y = 2`. Since the function does not need to compute `z`, `loopy` is never evaluated."
   ]
  },
  {
   "cell_type": "markdown",
   "metadata": {},
   "source": [
    "-----"
   ]
  }
 ],
 "metadata": {
  "kernelspec": {
   "display_name": "Python 3",
   "language": "python",
   "name": "python3"
  },
  "language_info": {
   "codemirror_mode": {
    "name": "ipython",
    "version": 3
   },
   "file_extension": ".py",
   "mimetype": "text/x-python",
   "name": "python",
   "nbconvert_exporter": "python",
   "pygments_lexer": "ipython3",
   "version": "3.8.10"
  }
 },
 "nbformat": 4,
 "nbformat_minor": 4
}
