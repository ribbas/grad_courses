{
 "cells": [
  {
   "cell_type": "markdown",
   "metadata": {},
   "source": [
    "# 605.629: Programming Languages\n",
    "## Assignment 1\n",
    "\n",
    "Sabbir Ahmed"
   ]
  },
  {
   "cell_type": "markdown",
   "metadata": {},
   "source": [
    "\\[30 pts\\]\n",
    "\n",
    "Research and name one person who was responsible for the development of the imperative programming model. Name another as a major contributor to the functional model. Finally, name a person who had a great effort with the development of the logic model of programming.\n",
    "\n",
    "Describe each person's contribution in a paragraph."
   ]
  },
  {
   "cell_type": "markdown",
   "metadata": {},
   "source": []
  },
  {
   "cell_type": "markdown",
   "metadata": {},
   "source": [
    "-----------"
   ]
  },
  {
   "cell_type": "markdown",
   "metadata": {},
   "source": [
    "\\[30 pts\\]\n",
    "\n",
    "Describe some design tradeoffs between efficiency and safety or reliability in any programming language you know."
   ]
  },
  {
   "cell_type": "markdown",
   "metadata": {},
   "source": []
  },
  {
   "cell_type": "markdown",
   "metadata": {},
   "source": [
    "-----------"
   ]
  },
  {
   "cell_type": "markdown",
   "metadata": {},
   "source": [
    "\\[10 pts\\]\n",
    "\n",
    "On a Windows or Linux machine compile the following program and report its\n",
    "\n",
    "1. source file size\n",
    "2. object file size and\n",
    "3. executable file size, for the C language:\n",
    "\n",
    "```c\n",
    "#include <stdio.h>\n",
    "int main() {\n",
    "    printf(\"Hello World\");\n",
    "    return 0;\n",
    "}\n",
    "```"
   ]
  },
  {
   "cell_type": "code",
   "execution_count": 1,
   "metadata": {},
   "outputs": [],
   "source": [
    "import os"
   ]
  },
  {
   "cell_type": "code",
   "execution_count": 2,
   "metadata": {},
   "outputs": [],
   "source": [
    "file_content = \"\"\"\n",
    "#include <stdio.h>\n",
    "int main() {\n",
    "    printf(\"Hello World\");\n",
    "    return 0;\n",
    "}\n",
    "\"\"\"\n",
    "src_file_name = \"hello.c\"\n",
    "obj_file_name = \"hello.o\"\n",
    "exe_file_name = \"hello\"\n",
    "with open(src_file_name, \"w\") as cfile:\n",
    "    cfile.write(file_content)"
   ]
  },
  {
   "cell_type": "code",
   "execution_count": 3,
   "metadata": {},
   "outputs": [],
   "source": [
    "# create an object file\n",
    "os.system(f\"gcc -c {src_file_name}\");"
   ]
  },
  {
   "cell_type": "code",
   "execution_count": 4,
   "metadata": {},
   "outputs": [],
   "source": [
    "# create an executable file\n",
    "os.system(f\"gcc {src_file_name} -o {exe_file_name}\");"
   ]
  },
  {
   "cell_type": "code",
   "execution_count": 5,
   "metadata": {},
   "outputs": [
    {
     "name": "stdout",
     "output_type": "stream",
     "text": [
      "Size of source file: 76 bytes\n",
      "Size of object file: 1688 bytes\n",
      "Size of executable file: 16696 bytes\n"
     ]
    }
   ],
   "source": [
    "print(f\"Size of source file: {os.path.getsize(src_file_name)} bytes\")\n",
    "print(f\"Size of object file: {os.path.getsize(obj_file_name)} bytes\")\n",
    "print(f\"Size of executable file: {os.path.getsize(exe_file_name)} bytes\")"
   ]
  },
  {
   "cell_type": "markdown",
   "metadata": {},
   "source": [
    "-----------"
   ]
  },
  {
   "cell_type": "markdown",
   "metadata": {},
   "source": [
    "\\[30 pts\\]\n",
    "\n",
    "What are the arguments both for and against the idea of a typeless language?"
   ]
  },
  {
   "cell_type": "markdown",
   "metadata": {},
   "source": []
  }
 ],
 "metadata": {
  "kernelspec": {
   "display_name": "Python 3",
   "language": "python",
   "name": "python3"
  },
  "language_info": {
   "codemirror_mode": {
    "name": "ipython",
    "version": 3
   },
   "file_extension": ".py",
   "mimetype": "text/x-python",
   "name": "python",
   "nbconvert_exporter": "python",
   "pygments_lexer": "ipython3",
   "version": "3.8.5"
  }
 },
 "nbformat": 4,
 "nbformat_minor": 4
}
