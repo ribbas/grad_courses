{
 "cells": [
  {
   "cell_type": "markdown",
   "metadata": {},
   "source": [
    "# 605.629: Programming Languages\n",
    "## Assignment 1\n",
    "\n",
    "Sabbir Ahmed"
   ]
  },
  {
   "cell_type": "markdown",
   "metadata": {},
   "source": [
    "\\[30 pts\\]\n",
    "\n",
    "Research and name one person who was responsible for the development of the imperative programming model. Name another as a major contributor to the functional model. Finally, name a person who had a great effort with the development of the logic model of programming.\n",
    "\n",
    "Describe each person's contribution in a paragraph."
   ]
  },
  {
   "cell_type": "markdown",
   "metadata": {},
   "source": [
    "A major contributor of the imperative programming model was John W. Backus. John developed FORTRAN for IBM in the 1950s to provide a more convenient and human-friendly interface to the machine languages of the original computers. FORTRAN allowed for the creation of more complex programs with the introduction of named variables, complex expressions, subprograms, and many other features that still exist on modern languages.\n",
    "\n",
    "John McCarthy developed Lisp, which is often considered the first programming language to implement the functional model. John developed the language for IBM in the 1950s as a practical mathematical notation for computer programs. Lisp is based on lambda calculus and found its uses in the early fields of artificial intelligence after its publication.\n",
    "\n",
    "Logic model - \n",
    "\n",
    "Lastly, Robert Kowalski helped develop Prolog, one of the first logic programming languages. Robert used his background on automated theorem proving to develop major operations and semantics used in logic programming. "
   ]
  },
  {
   "cell_type": "markdown",
   "metadata": {},
   "source": [
    "-----------"
   ]
  },
  {
   "cell_type": "markdown",
   "metadata": {},
   "source": [
    "\\[30 pts\\]\n",
    "\n",
    "Describe some design tradeoffs between efficiency and safety or reliability in any programming language you know."
   ]
  },
  {
   "cell_type": "markdown",
   "metadata": {},
   "source": [
    "Some design tradeoffs between efficiency and reliability of C/C++ are pointers. Pointers allows access to low-level system, memory  and even hardware configurations. The feature provides the users with the ability to develop efficient programs by manipulating variables by their references instead of making copies of them. However, this also allows the ability to manipulate incorrect segments of the program memory.\n",
    "\n",
    "Another design tradeoff of C/C++ is the lack of garbage collection."
   ]
  },
  {
   "cell_type": "markdown",
   "metadata": {},
   "source": [
    "-----------"
   ]
  },
  {
   "cell_type": "markdown",
   "metadata": {},
   "source": [
    "\\[10 pts\\]\n",
    "\n",
    "On a Windows or Linux machine compile the following program and report its\n",
    "\n",
    "1. source file size\n",
    "2. object file size and\n",
    "3. executable file size, for the C language:\n",
    "\n",
    "```c\n",
    "#include <stdio.h>\n",
    "int main() {\n",
    "    printf(\"Hello World\");\n",
    "    return 0;\n",
    "}\n",
    "```"
   ]
  },
  {
   "cell_type": "code",
   "execution_count": null,
   "metadata": {},
   "outputs": [],
   "source": [
    "import os"
   ]
  },
  {
   "cell_type": "code",
   "execution_count": 2,
   "metadata": {},
   "outputs": [],
   "source": [
    "file_content = \"\"\"\n",
    "#include <stdio.h>\n",
    "int main() {\n",
    "    printf(\"Hello World\");\n",
    "    return 0;\n",
    "}\n",
    "\"\"\"\n",
    "src_file_name = \"hello.c\"\n",
    "obj_file_name = \"hello.o\"\n",
    "exe_file_name = \"hello\"\n",
    "with open(src_file_name, \"w\") as cfile:\n",
    "    cfile.write(file_content)"
   ]
  },
  {
   "cell_type": "code",
   "execution_count": 3,
   "metadata": {},
   "outputs": [],
   "source": [
    "# create an object file\n",
    "os.system(f\"gcc -c {src_file_name}\");"
   ]
  },
  {
   "cell_type": "code",
   "execution_count": 4,
   "metadata": {},
   "outputs": [],
   "source": [
    "# create an executable file\n",
    "os.system(f\"gcc {src_file_name} -o {exe_file_name}\");"
   ]
  },
  {
   "cell_type": "code",
   "execution_count": 5,
   "metadata": {},
   "outputs": [
    {
     "name": "stdout",
     "output_type": "stream",
     "text": [
      "Size of source file: 76 bytes\n",
      "Size of object file: 1688 bytes\n",
      "Size of executable file: 16696 bytes\n"
     ]
    }
   ],
   "source": [
    "print(f\"Size of source file: {os.path.getsize(src_file_name)} bytes\")\n",
    "print(f\"Size of object file: {os.path.getsize(obj_file_name)} bytes\")\n",
    "print(f\"Size of executable file: {os.path.getsize(exe_file_name)} bytes\")"
   ]
  },
  {
   "cell_type": "markdown",
   "metadata": {},
   "source": [
    "-----------"
   ]
  },
  {
   "cell_type": "markdown",
   "metadata": {},
   "source": [
    "\\[30 pts\\]\n",
    "\n",
    "What are the arguments both for and against the idea of a typeless language?"
   ]
  },
  {
   "cell_type": "markdown",
   "metadata": {},
   "source": [
    "One major argument for typeless languages are their readability. A user learning a typeless language is likely to find it more convenient to develop programs without having to worry about the constraints of variable types and constraints. On the other hand, the lack of explicit type declarations of variables introduces a lack of clarity. Variables are prone to be unintentionally casted to different types or invalid operations may be performed on them. These errors may only be visible during runtime, or cause undefined behavior."
   ]
  }
 ],
 "metadata": {
  "interpreter": {
   "hash": "e7370f93d1d0cde622a1f8e1c04877d8463912d04d973331ad4851f04de6915a"
  },
  "kernelspec": {
   "display_name": "Python 3 (ipykernel)",
   "language": "python",
   "name": "python3"
  },
  "language_info": {
   "codemirror_mode": {
    "name": "ipython",
    "version": 3
   },
   "file_extension": ".py",
   "mimetype": "text/x-python",
   "name": "python",
   "nbconvert_exporter": "python",
   "pygments_lexer": "ipython3",
   "version": "3.8.10"
  }
 },
 "nbformat": 4,
 "nbformat_minor": 4
}
