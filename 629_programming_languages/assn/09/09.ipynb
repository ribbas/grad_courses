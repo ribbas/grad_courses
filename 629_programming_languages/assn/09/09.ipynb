{
 "cells": [
  {
   "cell_type": "markdown",
   "metadata": {
    "tags": []
   },
   "source": [
    "# 605.629: Programming Languages\n",
    "## Assignment 9\n",
    "\n",
    "Sabbir Ahmed"
   ]
  },
  {
   "cell_type": "markdown",
   "metadata": {},
   "source": [
    "1. \\[20 pts, Closure\\]\n",
    "\n",
    "Given the following program slice, what would be the modification to convert it to a closure?\n",
    "```python\n",
    "i = 0\n",
    "def counter():\n",
    "    def incr():\n",
    "        i += 1\n",
    "        print(i)\n",
    "    return incr\n",
    "```"
   ]
  },
  {
   "cell_type": "markdown",
   "metadata": {},
   "source": [
    "__Answer__"
   ]
  },
  {
   "cell_type": "code",
   "execution_count": 1,
   "metadata": {},
   "outputs": [
    {
     "name": "stdout",
     "output_type": "stream",
     "text": [
      "1\n"
     ]
    }
   ],
   "source": [
    "def counter():\n",
    "    i = 0\n",
    "    def incr():\n",
    "        nonlocal i  # bind the variable to the enclosing function\n",
    "        i += 1\n",
    "        print(i)\n",
    "    return incr\n",
    "\n",
    "counter()()"
   ]
  },
  {
   "cell_type": "markdown",
   "metadata": {},
   "source": [
    "-----"
   ]
  },
  {
   "cell_type": "markdown",
   "metadata": {},
   "source": [
    "2. \\[30 pts, Closure\\]\n",
    "\n",
    "In interviews with one of the most popular companies, the following is asked.\n",
    "What is the output of the following JavaScript code slice?\n",
    "\n",
    "```javascript\n",
    "const arr = [10, 20, 30, 40];\n",
    "for (var i = 0; i < arr.length; i++) {\n",
    "    setTimeout(function() {\n",
    "        console.log('Index: ' + i + ', element: ' + arr[i]);\n",
    "    }, 3000);\n",
    "}\n",
    "```\n",
    "\n",
    "The answer is that the printed index is 4 and the output, `arr[i]`, is undefined (\"40\" is not printed).\n",
    "\n",
    "A correct modification (to update the code so that intended function is achieved) can be either of the following code slices. Explain both of them in terms of the concepts we learned in the Programming Languages course.\n",
    "\n",
    "```javascript\n",
    "// solution 1\n",
    "const arr = [10, 20, 30, 40];\n",
    "for (let i = 0; i < arr.length; i++) {\n",
    "    setTimeout(function() {\n",
    "        console.log('The index of this number is: ' + i);\n",
    "    }, 3000);\n",
    "}\n",
    "\n",
    "// solution 2\n",
    "const arr = [10, 20, 30, 40];\n",
    "for (var i = 0; i < arr.length; i++) {\n",
    "    setTimeout(function(i_local) {\n",
    "        return function() {\n",
    "            console.log('The index of this number is: ' + i_local);\n",
    "        }\n",
    "    }(i), 3000);\n",
    "}\n",
    "```"
   ]
  },
  {
   "cell_type": "markdown",
   "metadata": {},
   "source": [
    "__Answer__"
   ]
  },
  {
   "cell_type": "markdown",
   "metadata": {},
   "source": [
    "In solution 1, the increment variable `i` is declared using the keyword `let` instead of `var`. Declaration using the `let` keyword binds the variable within the block and creates a new increment variable with the updated value in the memory for each iteration.\n",
    "\n",
    "In solution 2, closure is used to implement the counter. The increment variable `i` is passed to the outer function and given scope to the function as `i_local`. The inner function is ran immediately after the outer function is declared in the loop."
   ]
  },
  {
   "cell_type": "markdown",
   "metadata": {},
   "source": [
    "-----"
   ]
  },
  {
   "cell_type": "markdown",
   "metadata": {},
   "source": [
    "3. \\[50 pts, Lambda calculus\\]\n",
    "\n",
    "(a.) Write the BNF grammar of lambda expression (this was not given in the slide deck). Using the BNF grammar you provided, give example expressions to demonstrate each possible parse tree."
   ]
  },
  {
   "cell_type": "markdown",
   "metadata": {},
   "source": [
    "__Answer__"
   ]
  },
  {
   "cell_type": "markdown",
   "metadata": {},
   "source": [
    "The entire BNF grammar of lambda expressions:\n",
    "```\n",
    "<λ exp> ::= id\n",
    "        | <var>\n",
    "        | λ<var>.<λexp>\n",
    "        | (<λexp> <λexp>)\n",
    "```\n",
    "\n",
    "The following expressions demonstrate each possible parse trees from the BNF:  \n",
    "`(λx.x)` (the identity function) demonstrates the first parse tree: `<λexp> -> <var> -> x`  \n",
    "`(λx.z)` demonstrates the second parse tree: `<λexp> -> λ<var>.<λexp> -> <var> -> z`  \n",
    "`(z(λx.λy.z)(x+y))` demonstrates the third parse tree, where all the CFG are used including an application where `(x+y)` maps to `(<λexp> <λexp>)`."
   ]
  },
  {
   "cell_type": "markdown",
   "metadata": {},
   "source": [
    "-----"
   ]
  },
  {
   "cell_type": "markdown",
   "metadata": {},
   "source": [
    "(b.) Find the set of free variables for the following lambda expression:  \n",
    "$(\\lambda x.xy)\\lambda z.w\\lambda w.wzyx$"
   ]
  },
  {
   "cell_type": "markdown",
   "metadata": {},
   "source": [
    "__Answer__"
   ]
  },
  {
   "cell_type": "markdown",
   "metadata": {},
   "source": [
    "$$\n",
    "(\\lambda x.xy)\\lambda z.w\\lambda w.wzyx \\\\\n",
    "((\\lambda x.(xy))(\\lambda z.(w\\lambda w.(wzyx))) \\\\\n",
    "((\\lambda x.(xy))(\\lambda z.(w(\\lambda w.((((wz)y)x)))))) \\\\\n",
    "((\\lambda x.(x\\underline{y}))(\\lambda z.(\\underline{w}(\\lambda w.((((wz)\\underline{y})\\underline{x}))))))\n",
    "$$\n",
    "The set of free variables are `{x,w,y}`."
   ]
  },
  {
   "cell_type": "markdown",
   "metadata": {},
   "source": [
    "-----"
   ]
  }
 ],
 "metadata": {
  "kernelspec": {
   "display_name": "Python 3",
   "language": "python",
   "name": "python3"
  },
  "language_info": {
   "codemirror_mode": {
    "name": "ipython",
    "version": 3
   },
   "file_extension": ".py",
   "mimetype": "text/x-python",
   "name": "python",
   "nbconvert_exporter": "python",
   "pygments_lexer": "ipython3",
   "version": "3.8.10"
  }
 },
 "nbformat": 4,
 "nbformat_minor": 4
}
