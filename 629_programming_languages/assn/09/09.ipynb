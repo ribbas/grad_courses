{
 "cells": [
  {
   "cell_type": "markdown",
   "metadata": {
    "tags": []
   },
   "source": [
    "# 605.629: Programming Languages\n",
    "## Assignment 9\n",
    "\n",
    "Sabbir Ahmed"
   ]
  },
  {
   "cell_type": "markdown",
   "metadata": {},
   "source": [
    "1. \\[20 pts, Closure\\]\n",
    "\n",
    "Given the following program slice, what would be the modification to convert it to a closure?\n",
    "```python\n",
    "i = 0\n",
    "def counter():\n",
    "    def incr():\n",
    "        i += 1\n",
    "        print(i)\n",
    "    return incr\n",
    "```"
   ]
  },
  {
   "cell_type": "markdown",
   "metadata": {},
   "source": [
    "__Answer__"
   ]
  },
  {
   "cell_type": "markdown",
   "metadata": {},
   "source": []
  },
  {
   "cell_type": "markdown",
   "metadata": {},
   "source": [
    "-----"
   ]
  },
  {
   "cell_type": "markdown",
   "metadata": {},
   "source": [
    "2. \\[30 pts, Closure\\]\n",
    "\n",
    "In interviews with one of the most popular companies, the following is asked.\n",
    "What is the output of the following JavaScript code slice?\n",
    "\n",
    "```javascript\n",
    "const arr = [10, 20, 30, 40];\n",
    "for (var i = 0; i < arr.length; i++) {\n",
    "    setTimeout(function() {\n",
    "        console.log('Index: ' + i + ', element: ' + arr[i]);\n",
    "    }, 3000);\n",
    "}\n",
    "```\n",
    "\n",
    "The answer is that the printed index is 4 and the output, `arr[i]`, is undefined (\"40\" is not printed).\n",
    "\n",
    "A correct modification (to update the code so that intended function is achieved) can be either of the following code slices. Explain both of them in terms of the concepts we learned in the Programming Languages course.\n",
    "\n",
    "```javascript\n",
    "// solution 1\n",
    "const arr = [10, 20, 30, 40];\n",
    "for (let i = 0; i < arr.length; i++) {\n",
    "    setTimeout(function() {\n",
    "        console.log('The index of this number is: ' + i);\n",
    "    }, 3000);\n",
    "}\n",
    "// solution 2\n",
    "const arr = [10, 20, 30, 40];\n",
    "for (var i = 0; i < arr.length; i++) {\n",
    "    setTimeout(function(i_local) {\n",
    "        return function() {\n",
    "            console.log('The index of this number is: ' + i_local);\n",
    "        }\n",
    "    }(i), 3000);\n",
    "}\n",
    "```"
   ]
  },
  {
   "cell_type": "markdown",
   "metadata": {},
   "source": [
    "__Answer__"
   ]
  },
  {
   "cell_type": "markdown",
   "metadata": {},
   "source": []
  },
  {
   "cell_type": "markdown",
   "metadata": {},
   "source": [
    "-----"
   ]
  },
  {
   "cell_type": "markdown",
   "metadata": {},
   "source": [
    "3. \\[50 pts, Lambda calculus\\]\n",
    "\n",
    "(a.) Write the BNF grammar of lambda expression (this was not given in the slide deck). Using the BNF grammar you provided, give example expressions to demonstrate each possible parse tree."
   ]
  },
  {
   "cell_type": "markdown",
   "metadata": {},
   "source": [
    "__Answer__"
   ]
  },
  {
   "cell_type": "markdown",
   "metadata": {},
   "source": []
  },
  {
   "cell_type": "markdown",
   "metadata": {},
   "source": [
    "-----"
   ]
  },
  {
   "cell_type": "markdown",
   "metadata": {},
   "source": [
    "(b.) Find the set of free variables for the following lambda expression:  \n",
    "$(\\lambda x.xy)\\lambda z.w\\lambda w.wzyx$"
   ]
  },
  {
   "cell_type": "markdown",
   "metadata": {},
   "source": [
    "__Answer__"
   ]
  },
  {
   "cell_type": "markdown",
   "metadata": {},
   "source": []
  },
  {
   "cell_type": "markdown",
   "metadata": {},
   "source": [
    "-----"
   ]
  }
 ],
 "metadata": {
  "kernelspec": {
   "display_name": "Python 3",
   "language": "python",
   "name": "python3"
  },
  "language_info": {
   "codemirror_mode": {
    "name": "ipython",
    "version": 3
   },
   "file_extension": ".py",
   "mimetype": "text/x-python",
   "name": "python",
   "nbconvert_exporter": "python",
   "pygments_lexer": "ipython3",
   "version": "3.8.10"
  }
 },
 "nbformat": 4,
 "nbformat_minor": 4
}
