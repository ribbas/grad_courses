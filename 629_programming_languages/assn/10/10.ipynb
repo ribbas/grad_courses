{
 "cells": [
  {
   "cell_type": "markdown",
   "metadata": {
    "tags": []
   },
   "source": [
    "## 605.629: Programming Languages\n",
    "## Assignment 10\n",
    "\n",
    "Sabbir Ahmed"
   ]
  },
  {
   "cell_type": "markdown",
   "metadata": {},
   "source": [
    "1. \\[40 pts, dynamic binding\\]\n",
    "\n",
    "Dynamic binding or late binding is the concept when the actual subroutine cannot be bound to the method symbol until the run-time is reached. Thus the compiler generates appropriate code in an object oriented program to perform dynamic binding when necessary.\n",
    "\n",
    "Write a program to demonstrate dynamic binding (such as using more than one class, inheritance and printing a string in the methods of the objects) in a language of your choice (Python, Java, etc.)."
   ]
  },
  {
   "cell_type": "markdown",
   "metadata": {},
   "source": [
    "__Answer__"
   ]
  },
  {
   "cell_type": "markdown",
   "metadata": {},
   "source": [
    "Dynamic binding can be demonstrated in Python through polymorphism."
   ]
  },
  {
   "cell_type": "code",
   "execution_count": 1,
   "metadata": {},
   "outputs": [
    {
     "name": "stdout",
     "output_type": "stream",
     "text": [
      "Meow\n",
      "Bark\n"
     ]
    }
   ],
   "source": [
    "class Cat:\n",
    "    def make_noise(self):\n",
    "        print(\"Meow\")\n",
    "\n",
    "class Dog:\n",
    "    def make_noise(self):\n",
    "        print(\"Bark\")\n",
    "\n",
    "cat_obj = Cat()\n",
    "dog_obj = Dog()\n",
    "for obj in (cat_obj, dog_obj):\n",
    "    obj.make_noise()"
   ]
  },
  {
   "cell_type": "markdown",
   "metadata": {},
   "source": [
    "-----"
   ]
  },
  {
   "cell_type": "markdown",
   "metadata": {},
   "source": [
    "2. \\[20 pts, subtyping\\]\n",
    "\n",
    "Give an example of two classes from existing libraries (Python, Java, etc.) that are subtypes but are not inherited from one another."
   ]
  },
  {
   "cell_type": "markdown",
   "metadata": {},
   "source": [
    "__Answer__"
   ]
  },
  {
   "cell_type": "markdown",
   "metadata": {},
   "source": [
    "In the C++ standard template library (STL) the containers `std::stack` and `std::queue` are both derived from `Container()`. The deque (double ended queue) \n",
    "\n",
    "In Python's standard library, the `collections` module contains several specialized container datatypes. `Counter` and `OrderedDict` are classes implemented in the library. `Counter` is used as a counter for hashable objects while `OrderedDict` maintains the order of insertion of the hashable objects. Both of the classes are derived from the built-in `dict` datatype, but provide different implementations."
   ]
  },
  {
   "cell_type": "markdown",
   "metadata": {},
   "source": [
    "-----"
   ]
  },
  {
   "cell_type": "markdown",
   "metadata": {},
   "source": [
    "3. \\[20 pts, inheritance\\]\n",
    "\n",
    "Give one example of a disadvantage of inheritance."
   ]
  },
  {
   "cell_type": "markdown",
   "metadata": {},
   "source": [
    "__Answer__"
   ]
  },
  {
   "cell_type": "markdown",
   "metadata": {},
   "source": [
    "One major disadvantage of inheritance is the introduction of tight coupling between the base and derived classes. Once a derived class is declared, expanding its capabilities becomes very limited due to the strong dependence on its base class. Maintainance of both of the classes becomes tedious as well, often requiring both the base and derived classes to receive concurrent and interdependent updates."
   ]
  },
  {
   "cell_type": "markdown",
   "metadata": {},
   "source": [
    "-----"
   ]
  },
  {
   "cell_type": "markdown",
   "metadata": {},
   "source": [
    "4. \\[20 pts, inheritance\\]\n",
    "\n",
    "What can be the primary reason about Java having all objects derived from the Object class?"
   ]
  },
  {
   "cell_type": "markdown",
   "metadata": {},
   "source": [
    "__Answer__"
   ]
  },
  {
   "cell_type": "markdown",
   "metadata": {},
   "source": [
    "The Object class is the base class of all classes in a Java system. The class defines the basic state and behavior that all objects must have. Deriving the Object class gives every objects these basic functionalities and avoids having to redefine basic variables, methods, and classes."
   ]
  },
  {
   "cell_type": "markdown",
   "metadata": {},
   "source": [
    "-----"
   ]
  }
 ],
 "metadata": {
  "kernelspec": {
   "display_name": "Python 3",
   "language": "python",
   "name": "python3"
  },
  "language_info": {
   "codemirror_mode": {
    "name": "ipython",
    "version": 3
   },
   "file_extension": ".py",
   "mimetype": "text/x-python",
   "name": "python",
   "nbconvert_exporter": "python",
   "pygments_lexer": "ipython3",
   "version": "3.8.10"
  }
 },
 "nbformat": 4,
 "nbformat_minor": 4
}
