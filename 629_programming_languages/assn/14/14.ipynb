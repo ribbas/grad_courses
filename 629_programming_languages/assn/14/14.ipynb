{
 "cells": [
  {
   "cell_type": "markdown",
   "metadata": {
    "tags": []
   },
   "source": [
    "## 605.629: Programming Languages\n",
    "## Assignment 14\n",
    "\n",
    "Sabbir Ahmed"
   ]
  },
  {
   "cell_type": "markdown",
   "metadata": {},
   "source": [
    "1. \\[20 pts, proof assistant\\]\n",
    "\n",
    "For the expression below write the Coq predicate as a lemma, use universal quantifier.\n",
    "```\n",
    "n = n + 0\n",
    "```"
   ]
  },
  {
   "cell_type": "markdown",
   "metadata": {},
   "source": [
    "__Answer__"
   ]
  },
  {
   "cell_type": "markdown",
   "metadata": {},
   "source": [
    "```\n",
    "Lemma additive_identity : forall n : nat, n = n + 0.\n",
    "```"
   ]
  },
  {
   "cell_type": "markdown",
   "metadata": {},
   "source": [
    "-----"
   ]
  },
  {
   "cell_type": "markdown",
   "metadata": {},
   "source": [
    "2. \\[10 pts, Coq\\]\n",
    "\n",
    "Using the Coq framework, input your lemma, use inductive approach and start the proof."
   ]
  },
  {
   "cell_type": "markdown",
   "metadata": {},
   "source": [
    "__Answer__"
   ]
  },
  {
   "cell_type": "markdown",
   "metadata": {},
   "source": [
    "Output:  \n",
    "```\n",
    "1 goal\n",
    "\n",
    "∀ n : ℕ, n = n + 0\n",
    "```"
   ]
  },
  {
   "cell_type": "markdown",
   "metadata": {},
   "source": [
    "-----"
   ]
  },
  {
   "cell_type": "markdown",
   "metadata": {},
   "source": [
    "3. \\[20 pts, Coq\\]\n",
    "\n",
    "Continue the proof, introduce the variable. Explain the reason, and expected behavior."
   ]
  },
  {
   "cell_type": "markdown",
   "metadata": {},
   "source": [
    "__Answer__"
   ]
  },
  {
   "cell_type": "markdown",
   "metadata": {},
   "source": [
    "Input:  \n",
    "```\n",
    "intro n.\n",
    "```\n",
    "\n",
    "Output:  \n",
    "```\n",
    "1 goal\n",
    "\n",
    "n : ℕ \n",
    "n = n + 0\n",
    "```\n",
    "\n",
    "The natural number `n` was introduced and substituted in the lemma."
   ]
  },
  {
   "cell_type": "markdown",
   "metadata": {},
   "source": [
    "-----"
   ]
  },
  {
   "cell_type": "markdown",
   "metadata": {},
   "source": [
    "4. \\[20 pts, Coq\\]\n",
    "\n",
    "Continue the proof, eliminate the variable. Explain the reason, and expected behavior."
   ]
  },
  {
   "cell_type": "markdown",
   "metadata": {},
   "source": [
    "__Answer__"
   ]
  },
  {
   "cell_type": "markdown",
   "metadata": {},
   "source": [
    "Input:  \n",
    "```\n",
    "elim n.\n",
    "```\n",
    "\n",
    "Output:  \n",
    "```\n",
    "2 goals\n",
    "\n",
    "n : ℕ \n",
    "0 = 0 + 0\n",
    "\n",
    "subgoal 2 is:\n",
    "∀ n : ℕ, n = n + 0 → S n = S n + 0\n",
    "```\n",
    "\n",
    "The natural number `n` gets replaced with 0 to conduct the base step of the proof."
   ]
  },
  {
   "cell_type": "markdown",
   "metadata": {},
   "source": [
    "-----"
   ]
  },
  {
   "cell_type": "markdown",
   "metadata": {},
   "source": [
    "5. \\[20 pts, Coq\\]\n",
    "\n",
    "Continue the proof, simplify and use automatic commands. Explain the reason, and expected behavior."
   ]
  },
  {
   "cell_type": "markdown",
   "metadata": {},
   "source": [
    "__Answer__"
   ]
  },
  {
   "cell_type": "markdown",
   "metadata": {},
   "source": [
    "Input:  \n",
    "```\n",
    "simpl.\n",
    "auto.\n",
    "```\n",
    "\n",
    "Output:  \n",
    "```\n",
    "1 goal\n",
    "\n",
    "n : ℕ \n",
    "∀ n : ℕ, n = n + 0 → S n = S n + 0\n",
    "```\n",
    "\n",
    "The lemma gets simplified with the inductive step and the general step of induction is taken with the automatic command."
   ]
  },
  {
   "cell_type": "markdown",
   "metadata": {},
   "source": [
    "-----"
   ]
  },
  {
   "cell_type": "markdown",
   "metadata": {},
   "source": [
    "6. \\[10 pts, Coq\\]\n",
    "\n",
    "Finish the proof. Explain how, the reason, and expected behavior."
   ]
  },
  {
   "cell_type": "markdown",
   "metadata": {},
   "source": [
    "__Answer__"
   ]
  },
  {
   "cell_type": "markdown",
   "metadata": {},
   "source": [
    "```coq\n",
    "Lemma additive_identity : forall n : nat, n = n + 0.\n",
    "intro n; elim n.\n",
    "simpl.\n",
    "auto.\n",
    "Qed.\n",
    "```\n",
    "\n",
    "The proof was done by induction, so the variable was introduced and eliminated to perform the base step in induction. The automatic commmand was used to conduct the inductive step of the proof."
   ]
  },
  {
   "cell_type": "markdown",
   "metadata": {},
   "source": [
    "-----"
   ]
  }
 ],
 "metadata": {
  "kernelspec": {
   "display_name": "Python 3",
   "language": "python",
   "name": "python3"
  },
  "language_info": {
   "codemirror_mode": {
    "name": "ipython",
    "version": 3
   },
   "file_extension": ".py",
   "mimetype": "text/x-python",
   "name": "python",
   "nbconvert_exporter": "python",
   "pygments_lexer": "ipython3",
   "version": "3.8.10"
  }
 },
 "nbformat": 4,
 "nbformat_minor": 4
}
