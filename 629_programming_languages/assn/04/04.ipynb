{
 "cells": [
  {
   "cell_type": "markdown",
   "metadata": {},
   "source": [
    "# 605.629: Programming Languages\n",
    "## Assignment 4\n",
    "\n",
    "Sabbir Ahmed"
   ]
  },
  {
   "cell_type": "markdown",
   "metadata": {},
   "source": [
    "1. \\[20 pts, scope\\]\n",
    "\n",
    "Consider the following Ada skeletal program:\n",
    "\n",
    "```ada\n",
    "procedure Main is\n",
    "    X : Integer;\n",
    "    procedure Sub1 is\n",
    "        begin -- of Sub1\n",
    "        Put(X);\n",
    "        end; -- of Sub1\n",
    "    procedure Sub2 is\n",
    "        X : Integer;\n",
    "        begin -- of Sub2\n",
    "            X := 10;\n",
    "            Sub1;\n",
    "        end; -- of Sub2\n",
    "        begin -- of Main\n",
    "            X := 5;\n",
    "            Sub2;\n",
    "        end; -- of Main\n",
    "```"
   ]
  },
  {
   "cell_type": "markdown",
   "metadata": {},
   "source": [
    "a. What value of X is printed in procedure Sub1, when static scoping used?"
   ]
  },
  {
   "cell_type": "markdown",
   "metadata": {},
   "source": [
    "__Answer:__"
   ]
  },
  {
   "cell_type": "markdown",
   "metadata": {},
   "source": [
    "5"
   ]
  },
  {
   "cell_type": "markdown",
   "metadata": {},
   "source": [
    "-----------"
   ]
  },
  {
   "cell_type": "markdown",
   "metadata": {},
   "source": [
    "b. What value of X is printed in procedure Sub1, when dynamic scoping used?"
   ]
  },
  {
   "cell_type": "markdown",
   "metadata": {},
   "source": [
    "__Answer:__"
   ]
  },
  {
   "cell_type": "markdown",
   "metadata": {},
   "source": [
    "10"
   ]
  },
  {
   "cell_type": "markdown",
   "metadata": {},
   "source": [
    "-----------"
   ]
  },
  {
   "cell_type": "markdown",
   "metadata": {},
   "source": [
    "2. \\[30 pts, scope\\]\n",
    "\n",
    "Consider the following program:\n",
    "\n",
    "```\n",
    "void fun1(void); /* prototype */\n",
    "void fun2(void); /* prototype */\n",
    "void fun3(void); /* prototype */\n",
    "void main() {\n",
    "    int a, b, c;\n",
    "    ...\n",
    "}\n",
    "void fun1(void) {\n",
    "    int b, c, d;\n",
    "    ...\n",
    "}\n",
    "void fun2(void) {\n",
    "    int c, d, e;\n",
    "    ...\n",
    "}\n",
    "void fun3(void) {\n",
    "    int d, e, f;\n",
    "    ...\n",
    "}\n",
    "```\n",
    "\n",
    "Given the following calling sequences and assuming that dynamic scoping is used, what variables are visible during execution of the last function called? Provide the name of the function that the variable is defined."
   ]
  },
  {
   "cell_type": "markdown",
   "metadata": {},
   "source": [
    "a. Main call fun1, fun1 calls fun2, fun2 calls fun3"
   ]
  },
  {
   "cell_type": "markdown",
   "metadata": {},
   "source": [
    "__Answer:__"
   ]
  },
  {
   "cell_type": "markdown",
   "metadata": {},
   "source": [
    "a (defined in main)  \n",
    "b (defined in fun1)  \n",
    "c (defined in fun2)  \n",
    "d, e, f (defined in fun3)"
   ]
  },
  {
   "cell_type": "markdown",
   "metadata": {},
   "source": [
    "-----------"
   ]
  },
  {
   "cell_type": "markdown",
   "metadata": {},
   "source": [
    "b. Main call fun1, fun1 calls fun3"
   ]
  },
  {
   "cell_type": "markdown",
   "metadata": {},
   "source": [
    "__Answer:__"
   ]
  },
  {
   "cell_type": "markdown",
   "metadata": {},
   "source": [
    "a (defined in main)  \n",
    "b, c (defined in fun1)  \n",
    "d, e, f (defined in fun3)"
   ]
  },
  {
   "cell_type": "markdown",
   "metadata": {},
   "source": [
    "-----------"
   ]
  },
  {
   "cell_type": "markdown",
   "metadata": {},
   "source": [
    "c. Main calls fun2, fun2 calls fun3, fun3 calls fun1"
   ]
  },
  {
   "cell_type": "markdown",
   "metadata": {},
   "source": [
    "__Answer:__"
   ]
  },
  {
   "cell_type": "markdown",
   "metadata": {},
   "source": [
    "a (defined in main)  \n",
    "e, f (defined in fun3)  \n",
    "b, c, d (defined in fun1)"
   ]
  },
  {
   "cell_type": "markdown",
   "metadata": {},
   "source": [
    "-----------"
   ]
  },
  {
   "cell_type": "markdown",
   "metadata": {},
   "source": [
    "d. Main calls fun3, fun3 calls fun1"
   ]
  },
  {
   "cell_type": "markdown",
   "metadata": {},
   "source": [
    "__Answer:__"
   ]
  },
  {
   "cell_type": "markdown",
   "metadata": {},
   "source": [
    "a (defined in main)  \n",
    "e, f (defined in fun3)  \n",
    "b, c, d (defined in fun1)"
   ]
  },
  {
   "cell_type": "markdown",
   "metadata": {},
   "source": [
    "-----------"
   ]
  },
  {
   "cell_type": "markdown",
   "metadata": {},
   "source": [
    "e. Main calls fun1, fun1 calls fun3, fun3 calls fun2"
   ]
  },
  {
   "cell_type": "markdown",
   "metadata": {},
   "source": [
    "__Answer:__"
   ]
  },
  {
   "cell_type": "markdown",
   "metadata": {},
   "source": [
    "a (defined in main)  \n",
    "b (defined in fun1)  \n",
    "f (defined in fun3)  \n",
    "c, d, e (defined in fun2)"
   ]
  },
  {
   "cell_type": "markdown",
   "metadata": {},
   "source": [
    "-----------"
   ]
  },
  {
   "cell_type": "markdown",
   "metadata": {},
   "source": [
    "f. Main calls fun3, fun3 calls fun2, fun2 calls fun1"
   ]
  },
  {
   "cell_type": "markdown",
   "metadata": {},
   "source": [
    "__Answer:__"
   ]
  },
  {
   "cell_type": "markdown",
   "metadata": {},
   "source": [
    "a (defined in main)  \n",
    "f (defined in fun3)  \n",
    "e (defined in fun2)  \n",
    "b, c, d (defined in fun1)"
   ]
  },
  {
   "cell_type": "markdown",
   "metadata": {},
   "source": [
    "-----------"
   ]
  },
  {
   "cell_type": "markdown",
   "metadata": {},
   "source": [
    "3. \\[5 pts, L-value, r-value\\]\n",
    "\n",
    "Consider the following C statements. Comment about their validity and the l-value, r-value values of the variables. (Hint: You might try a C compiler if necessary)"
   ]
  },
  {
   "cell_type": "markdown",
   "metadata": {},
   "source": [
    "a. int var = 10;"
   ]
  },
  {
   "cell_type": "markdown",
   "metadata": {},
   "source": [
    "__Answer:__"
   ]
  },
  {
   "cell_type": "markdown",
   "metadata": {},
   "source": [
    "Valid syntax  \n",
    "The lvalue is `var` which is being declared as an int. The rvalue is the integer 10."
   ]
  },
  {
   "cell_type": "markdown",
   "metadata": {},
   "source": [
    "-----------"
   ]
  },
  {
   "cell_type": "markdown",
   "metadata": {},
   "source": [
    "b. int* good_addr = &(var + 1);"
   ]
  },
  {
   "cell_type": "markdown",
   "metadata": {},
   "source": [
    "__Answer:__"
   ]
  },
  {
   "cell_type": "markdown",
   "metadata": {},
   "source": [
    "Compilation error  \n",
    "The lvalue is `good_addr` and the rvalue is `var + 1`, where `var` was declared an int. The unary `&` (address-of) operator requires an lvalue as its operand. If the expression was modified to `&var + 1` then it would be a valid expression."
   ]
  },
  {
   "cell_type": "markdown",
   "metadata": {},
   "source": [
    "-----------"
   ]
  },
  {
   "cell_type": "markdown",
   "metadata": {},
   "source": [
    "c. int* addr = &var;"
   ]
  },
  {
   "cell_type": "markdown",
   "metadata": {},
   "source": [
    "__Answer:__"
   ]
  },
  {
   "cell_type": "markdown",
   "metadata": {},
   "source": [
    "Valid syntax  \n",
    "The lvalue is `addr` and the rvalue is `var`. This expression is assigning the address of `var` to the pointer `addr`."
   ]
  },
  {
   "cell_type": "markdown",
   "metadata": {},
   "source": [
    "-----------"
   ]
  },
  {
   "cell_type": "markdown",
   "metadata": {},
   "source": [
    "d. &var = 20;"
   ]
  },
  {
   "cell_type": "markdown",
   "metadata": {},
   "source": [
    "__Answer:__"
   ]
  },
  {
   "cell_type": "markdown",
   "metadata": {},
   "source": [
    "Compilation error  \n",
    "The rvalue is `&var`. The unary `&` (address-of) operator requires an lvalue as its operand."
   ]
  },
  {
   "cell_type": "markdown",
   "metadata": {},
   "source": [
    "-----------"
   ]
  },
  {
   "cell_type": "markdown",
   "metadata": {},
   "source": [
    "e. *++var = 30;"
   ]
  },
  {
   "cell_type": "markdown",
   "metadata": {},
   "source": [
    "__Answer:__"
   ]
  },
  {
   "cell_type": "markdown",
   "metadata": {},
   "source": [
    "Compilation error  \n",
    "`var` was declared as an int and not a pointer. The left hand expression `*++var` cannot be computed and dereferenced."
   ]
  },
  {
   "cell_type": "markdown",
   "metadata": {},
   "source": [
    "-----------"
   ]
  },
  {
   "cell_type": "markdown",
   "metadata": {},
   "source": [
    "f. ++*var = 40;"
   ]
  },
  {
   "cell_type": "markdown",
   "metadata": {},
   "source": [
    "__Answer:__"
   ]
  },
  {
   "cell_type": "markdown",
   "metadata": {},
   "source": [
    "Compilation error  \n",
    "`var` was declared as an int and not a pointer. The left hand expression `++*var` cannot be computed and dereferenced."
   ]
  },
  {
   "cell_type": "markdown",
   "metadata": {},
   "source": [
    "-----------"
   ]
  },
  {
   "cell_type": "markdown",
   "metadata": {},
   "source": [
    "g. int* var = (void *)50;"
   ]
  },
  {
   "cell_type": "markdown",
   "metadata": {},
   "source": [
    "__Answer:__"
   ]
  },
  {
   "cell_type": "markdown",
   "metadata": {},
   "source": [
    "Valid syntax if this expression is independent from the above portions, where `var` had already been declared an int.\n",
    "The lvalue is `var` being declared as a pointer and being assigned the pointer to the integer 50.\n",
    "\n",
    "Compilation error if the above portions are considered, since `var` cannot be redeclared as a different variable type."
   ]
  },
  {
   "cell_type": "markdown",
   "metadata": {},
   "source": [
    "-----------"
   ]
  },
  {
   "cell_type": "markdown",
   "metadata": {},
   "source": [
    "h. ++&addr = &var;"
   ]
  },
  {
   "cell_type": "markdown",
   "metadata": {},
   "source": [
    "__Answer:__"
   ]
  },
  {
   "cell_type": "markdown",
   "metadata": {},
   "source": [
    "The rvalue is `&addr`. The unary `++` (increment) operator requires an lvalue as its operand."
   ]
  },
  {
   "cell_type": "markdown",
   "metadata": {},
   "source": [
    "-----------"
   ]
  },
  {
   "cell_type": "markdown",
   "metadata": {},
   "source": [
    "i. int* var_addr = &2;"
   ]
  },
  {
   "cell_type": "markdown",
   "metadata": {},
   "source": [
    "__Answer:__"
   ]
  },
  {
   "cell_type": "markdown",
   "metadata": {},
   "source": [
    "Compilation error  \n",
    "The lvalue is `*var_addr` and the rvalue is `2`. The unary `&` (address-of) operator requires an lvalue as its operand."
   ]
  },
  {
   "cell_type": "markdown",
   "metadata": {},
   "source": [
    "-----------"
   ]
  },
  {
   "cell_type": "markdown",
   "metadata": {},
   "source": [
    "j. var++ = 60;"
   ]
  },
  {
   "cell_type": "markdown",
   "metadata": {},
   "source": [
    "__Answer:__"
   ]
  },
  {
   "cell_type": "markdown",
   "metadata": {},
   "source": [
    "Compilation error  \n",
    "Both `var` and the integer 60 are rvalues in this expression. An lvalue is required as left operand of assignment."
   ]
  },
  {
   "cell_type": "markdown",
   "metadata": {},
   "source": [
    "-----------"
   ]
  }
 ],
 "metadata": {
  "kernelspec": {
   "display_name": "Python 3",
   "language": "python",
   "name": "python3"
  },
  "language_info": {
   "codemirror_mode": {
    "name": "ipython",
    "version": 3
   },
   "file_extension": ".py",
   "mimetype": "text/x-python",
   "name": "python",
   "nbconvert_exporter": "python",
   "pygments_lexer": "ipython3",
   "version": "3.8.10"
  }
 },
 "nbformat": 4,
 "nbformat_minor": 4
}
