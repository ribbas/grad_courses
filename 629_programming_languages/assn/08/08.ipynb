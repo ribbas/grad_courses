{
 "cells": [
  {
   "cell_type": "markdown",
   "metadata": {
    "tags": []
   },
   "source": [
    "# 605.629: Programming Languages\n",
    "## Assignment 8\n",
    "\n",
    "Sabbir Ahmed"
   ]
  },
  {
   "cell_type": "markdown",
   "metadata": {},
   "source": [
    "1. \\[20 pts, Subprograms\\]\n",
    "\n",
    "Imagine you need to write a function which prints an integer value on the screen. This value represents a counter and is set to '1' initially and then incremented on subsequent calls to the same function. Can it be done in Java without using function parameters or non-local variables? How about a C macro?"
   ]
  },
  {
   "cell_type": "markdown",
   "metadata": {},
   "source": [
    "__Answer__"
   ]
  },
  {
   "cell_type": "markdown",
   "metadata": {},
   "source": [
    "Achieving this counter would not be possible as a C macro since the preprocessor would expand the counter to 1 and then pass it to the compiler. The macro then becomes an rvalue, and therefore cannot be further modified. It is not possible to achieve this in Java using non-local variables, The counter would have to be member variable outside the function so that it would not reset its value when the function reaches the end of its scope."
   ]
  },
  {
   "cell_type": "markdown",
   "metadata": {},
   "source": [
    "-----"
   ]
  },
  {
   "cell_type": "markdown",
   "metadata": {},
   "source": [
    "2. \\[40 pts\\] Consider the following code slice using Java 8 Function interface.\n",
    "\n",
    "```java\n",
    "import java.util.function.Function;\n",
    "\n",
    "public class Test1 {\n",
    "\n",
    "    public Function<Integer, String> getTextOfWeekday = num -> {\n",
    "        String[] weeks = {\"Mon\", \"Tue\", \"Wed\", \"Thu\", \"Fri\", \"Sat\", \"Sun\"};\n",
    "        return (num > 0 && num <= weeks.length) ? weeks[num - 1] : null;\n",
    "    };\n",
    "\n",
    "    public void test() {\n",
    "        System.out.println(getTextOfWeekday.apply(3));\n",
    "    }\n",
    "\n",
    "    public static void main(String args[]) {\n",
    "        Test1 t = new Test1();\n",
    "        t.test();\n",
    "    }\n",
    "}\n",
    "```"
   ]
  },
  {
   "cell_type": "markdown",
   "metadata": {},
   "source": [
    "Output: `Wed`"
   ]
  },
  {
   "cell_type": "markdown",
   "metadata": {},
   "source": [
    "a. What is (are) the name of concept(s) this code slice use (that we have seen in this course)?"
   ]
  },
  {
   "cell_type": "markdown",
   "metadata": {},
   "source": [
    "__Answer__"
   ]
  },
  {
   "cell_type": "markdown",
   "metadata": {},
   "source": [
    "Some of the concepts used in this code slice are functions, arrays and composition."
   ]
  },
  {
   "cell_type": "markdown",
   "metadata": {},
   "source": [
    "-----"
   ]
  },
  {
   "cell_type": "markdown",
   "metadata": {},
   "source": [
    "b. Write another Function TestPrint and print the same result using `\"TestPrint` o `getTextOfWeekday”` in order to demonstrate the concept that you specified in a. The output should be same and the form of the call should be (in generic terms) `function1.apply(function2.apply(...))`."
   ]
  },
  {
   "cell_type": "markdown",
   "metadata": {},
   "source": [
    "__Answer__"
   ]
  },
  {
   "cell_type": "markdown",
   "metadata": {},
   "source": []
  },
  {
   "cell_type": "markdown",
   "metadata": {},
   "source": [
    "-----"
   ]
  },
  {
   "cell_type": "markdown",
   "metadata": {},
   "source": [
    "3. \\[40 pts\\] Write a tail recursive factorial (in a language of your choice) and show the activation record for ‘factorial of 5’."
   ]
  },
  {
   "cell_type": "markdown",
   "metadata": {},
   "source": [
    "__Answer__"
   ]
  },
  {
   "cell_type": "code",
   "execution_count": 1,
   "metadata": {},
   "outputs": [
    {
     "name": "stdout",
     "output_type": "stream",
     "text": [
      "120\n"
     ]
    }
   ],
   "source": [
    "def fact(n, k = 1):\n",
    "\n",
    "    if (n == 1):\n",
    "        return k\n",
    "\n",
    "    return fact(n - 1, n * k)\n",
    "\n",
    "print(fact(5))"
   ]
  },
  {
   "cell_type": "markdown",
   "metadata": {},
   "source": [
    "1. \n",
    "|||\n",
    "|-|-|\n",
    "|`fact(5, 1)`||\n",
    "|control||\n",
    "|return val||\n",
    "|n|5|\n",
    "|k|1|\n",
    "\n",
    "2. \n",
    "|||\n",
    "|-|-|\n",
    "|`fact(4, 5)`||\n",
    "|control||\n",
    "|return val||\n",
    "|n|4|\n",
    "|k|5|\n",
    "\n",
    "3. \n",
    "|||\n",
    "|-|-|\n",
    "|`fact(3, 20)`||\n",
    "|control||\n",
    "|return val||\n",
    "|n|3|\n",
    "|k|20|\n",
    "\n",
    "4. \n",
    "|||\n",
    "|-|-|\n",
    "|`fact(2, 60)`||\n",
    "|control||\n",
    "|return val||\n",
    "|n|2|\n",
    "|k|60|\n",
    "\n",
    "5. \n",
    "|||\n",
    "|-|-|\n",
    "|`fact(1, 120)`||\n",
    "|control||\n",
    "|return val||\n",
    "|n|1|\n",
    "|k|120|\n"
   ]
  },
  {
   "cell_type": "markdown",
   "metadata": {},
   "source": [
    "-----"
   ]
  }
 ],
 "metadata": {
  "kernelspec": {
   "display_name": "Python 3",
   "language": "python",
   "name": "python3"
  },
  "language_info": {
   "codemirror_mode": {
    "name": "ipython",
    "version": 3
   },
   "file_extension": ".py",
   "mimetype": "text/x-python",
   "name": "python",
   "nbconvert_exporter": "python",
   "pygments_lexer": "ipython3",
   "version": "3.8.10"
  }
 },
 "nbformat": 4,
 "nbformat_minor": 4
}
