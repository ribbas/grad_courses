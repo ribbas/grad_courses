{
 "cells": [
  {
   "cell_type": "markdown",
   "metadata": {
    "tags": []
   },
   "source": [
    "## 605.629: Programming Languages\n",
    "## Assignment 13\n",
    "\n",
    "Sabbir Ahmed"
   ]
  },
  {
   "cell_type": "markdown",
   "metadata": {},
   "source": [
    "1. . \\[20 pts, Prolog\\]\n",
    "\n",
    "Consider the database in the lecture and write `grandparent` and `grandchild` relationships. Define `grandchild` in terms of `grandparent` and state the pattern about them. Show some examples."
   ]
  },
  {
   "cell_type": "markdown",
   "metadata": {},
   "source": [
    "__Answer__"
   ]
  },
  {
   "cell_type": "markdown",
   "metadata": {},
   "source": [
    "```\n",
    "grandparent(X, Z) :-\n",
    "  parent(X, Y),\n",
    "  parent(Y, Z).\n",
    "```\n",
    "\n",
    "The predicate does not distinguish between the gender of the child and therefore does not utilize the `male(X)` or `female(X)` predicates. The following is a sample output of the predicate:\n",
    "\n",
    "```\n",
    "X = fred,\n",
    "Z = gary\n",
    "X = fred,\n",
    "Z = john\n",
    "X = fred,\n",
    "Z = bruce\n",
    "X = inger,\n",
    "Z = gary\n",
    "X = inger,\n",
    "Z = john\n",
    "```"
   ]
  },
  {
   "cell_type": "markdown",
   "metadata": {},
   "source": [
    "```\n",
    "grandchild(X, Z) :-\n",
    "  grandparent(Z, X).\n",
    "```\n",
    "\n",
    "The predicate does not distinguish between the gender of the child like `grandparent(X, Z)` and therefore simply utilizes the predicate in reverse. The following is a sample output of the predicate:\n",
    "\n",
    "```\n",
    "X = gary,\n",
    "Z = fred\n",
    "X = john,\n",
    "Z = fred\n",
    "X = bruce,\n",
    "Z = fred\n",
    "X = gary,\n",
    "Z = inger\n",
    "X = john,\n",
    "Z = inger\n",
    "```"
   ]
  },
  {
   "cell_type": "markdown",
   "metadata": {},
   "source": [
    "-----"
   ]
  },
  {
   "cell_type": "markdown",
   "metadata": {},
   "source": [
    "2. \\[20 pts, Prolog\\]\n",
    "\n",
    "Write the `reverse` predicate for lists in Prolog using the `append` predicate. What is the complexity of this reverse predicate?"
   ]
  },
  {
   "cell_type": "markdown",
   "metadata": {},
   "source": [
    "__Answer__"
   ]
  },
  {
   "cell_type": "markdown",
   "metadata": {},
   "source": [
    "The `append` predicate is defined as follows:\n",
    "\n",
    "```\n",
    "append([], Y, Y).\n",
    "append([H | T1], L2, [H | T3]) :- append(T1, L2, T3).\n",
    "```\n",
    "\n",
    "The predicate can be used to reverse a list recursively by recursively appending an empty list backwards. The base case of the predicate is as follows:\n",
    "```\n",
    "reverse([], []). % empty list\n",
    "```\n",
    "\n",
    "The recursive case would get the tail element of the list and append it to the new list and pass it to itself as follows:\n",
    "```\n",
    "reverse([H | T], R) :- reverse(T, R2), append(R2, [H], R).\n",
    "```\n",
    "\n",
    "The complete predicate:\n",
    "```\n",
    "reverse([], []).\n",
    "reverse([H | T], R) :- reverse(T, R2), append(R2, [H], R).\n",
    "```\n",
    "\n",
    "Since the recursive predicate utilizes the recursive `append` predicate, `reverse` has an exponential complexity."
   ]
  },
  {
   "cell_type": "markdown",
   "metadata": {},
   "source": [
    "-----"
   ]
  },
  {
   "cell_type": "markdown",
   "metadata": {},
   "source": [
    "3. \\[20 pts, Prolog\\]\n",
    "\n",
    "Write a `length` predicate that computes the length of a list."
   ]
  },
  {
   "cell_type": "markdown",
   "metadata": {},
   "source": [
    "__Answer__"
   ]
  },
  {
   "cell_type": "markdown",
   "metadata": {},
   "source": [
    "The `length` predicate can be computed recursively. The base case is as follows:\n",
    "```\n",
    "length([], 0).\n",
    "```\n",
    "\n",
    "The recursive case increments the length variable and returns the tail of the list to itself recursively. The predicate is as follows:\n",
    "```\n",
    "length([], 0).\n",
    "length([_ | L], N) :-\n",
    "    length(L, M),\n",
    "    N is M + 1.\n",
    "```"
   ]
  },
  {
   "cell_type": "markdown",
   "metadata": {},
   "source": [
    "-----"
   ]
  },
  {
   "cell_type": "markdown",
   "metadata": {},
   "source": [
    "4. \\[40 pts, Prolog\\]\n",
    "\n",
    "Consider the example grammar and given sentence in the lecture. Complete the grammar predicates `predicate`, `determiner`, `verb` and `noun`.\n",
    "\n",
    "Compute `verb(X, Y)`.  \n",
    "Compute `noun(X, Y)`."
   ]
  },
  {
   "cell_type": "markdown",
   "metadata": {},
   "source": [
    "__Answer__"
   ]
  },
  {
   "cell_type": "markdown",
   "metadata": {},
   "source": [
    "The example sentence graph:\n",
    "```\n",
    "the(1, 2).\n",
    "professor(2, 3).\n",
    "discovered(3, 4).\n",
    "a(4, 5).\n",
    "group(5, 6).\n",
    "period(6, 7).\n",
    "```\n",
    "\n",
    "The grammar predicates:\n",
    "```\n",
    "sentence(K, L) :- subject(K, M), predicate(M, N), period(N, L).\n",
    "subject(K, L) :- determiner(K, M), noun(M, L).\n",
    "predicate(K, L) :- verb(K, M), determiner(M, N), noun(N, L).\n",
    "\n",
    "determiner(K, L) :- a(K, L); the(K, L).\n",
    "noun(K, L) :- professor(K, L); group(K, L).\n",
    "verb(K, L) :- discovered(K, L).\n",
    "```"
   ]
  },
  {
   "cell_type": "markdown",
   "metadata": {},
   "source": [
    "The following is the output from the predicate: `verb(X, Y)`\n",
    "```\n",
    "X = 3,\n",
    "Y = 4\n",
    "```\n",
    "\n",
    "The following is the output from the predicate: `noun(X, Y)`\n",
    "```\n",
    "X = 2,\n",
    "Y = 3\n",
    "X = 5,\n",
    "Y = 6\n",
    "```"
   ]
  },
  {
   "cell_type": "markdown",
   "metadata": {},
   "source": [
    "-----"
   ]
  }
 ],
 "metadata": {
  "kernelspec": {
   "display_name": "Python 3",
   "language": "python",
   "name": "python3"
  },
  "language_info": {
   "codemirror_mode": {
    "name": "ipython",
    "version": 3
   },
   "file_extension": ".py",
   "mimetype": "text/x-python",
   "name": "python",
   "nbconvert_exporter": "python",
   "pygments_lexer": "ipython3",
   "version": "3.8.10"
  }
 },
 "nbformat": 4,
 "nbformat_minor": 4
}
