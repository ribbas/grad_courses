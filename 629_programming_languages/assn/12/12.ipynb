{
 "cells": [
  {
   "cell_type": "markdown",
   "metadata": {
    "tags": []
   },
   "source": [
    "## 605.629: Programming Languages\n",
    "## Assignment 12\n",
    "\n",
    "Sabbir Ahmed"
   ]
  },
  {
   "cell_type": "markdown",
   "metadata": {},
   "source": [
    "1. \\[30 pts, out of bounds exception\\]\n",
    "\n",
    "(a.) Consider the programming languages C, Java and Python and describe/speculate their capabilities about array index out of bounds check."
   ]
  },
  {
   "cell_type": "markdown",
   "metadata": {},
   "source": [
    "__Answer__"
   ]
  },
  {
   "cell_type": "markdown",
   "metadata": {},
   "source": []
  },
  {
   "cell_type": "markdown",
   "metadata": {},
   "source": [
    "-----"
   ]
  },
  {
   "cell_type": "markdown",
   "metadata": {},
   "source": [
    "(b.) In this regard, does C have an advantage over Java/Python?"
   ]
  },
  {
   "cell_type": "markdown",
   "metadata": {},
   "source": [
    "__Answer__"
   ]
  },
  {
   "cell_type": "markdown",
   "metadata": {},
   "source": []
  },
  {
   "cell_type": "markdown",
   "metadata": {},
   "source": [
    "-----"
   ]
  },
  {
   "cell_type": "markdown",
   "metadata": {},
   "source": [
    "(c.) Fill the following table regarding an array index out of bounds check:\n",
    "\n",
    "|Can generate an exception/error|C|Java|Python|\n",
    "|:-----------------------------:|:-:|:-:|:---:|\n",
    "|Compile-time|  |  |  |\n",
    "|Run-time|  |  |  |"
   ]
  },
  {
   "cell_type": "markdown",
   "metadata": {},
   "source": [
    "__Answer__"
   ]
  },
  {
   "cell_type": "markdown",
   "metadata": {},
   "source": []
  },
  {
   "cell_type": "markdown",
   "metadata": {},
   "source": [
    "-----"
   ]
  },
  {
   "cell_type": "markdown",
   "metadata": {},
   "source": [
    "2. \\[50 pts, Java exceptions\\]\n",
    "\n",
    "Consider the following Java program:\n",
    "```java\n",
    "class FunExceptions {\n",
    "    public int fun1(String arg) {\n",
    "        try {\n",
    "            int num = 121/Integer.parseInt(arg);\n",
    "            System.out.println(num);\n",
    "            // return num; // line 6\n",
    "        }\n",
    "        catch(ArithmeticException e){\n",
    "            System.out.println(\"Number should not be divided by zero\");\n",
    "            // return -1; // line 10\n",
    "        }\n",
    "        finally {\n",
    "            System.out.println(\"Finally, clear created buffers, close file\n",
    "            handles, etc.\");\n",
    "            // return -2; // line 14\n",
    "        }\n",
    "\n",
    "        System.out.println(\"Completed tricky math operation.\");\n",
    "        return 0; // line 17\n",
    "    }\n",
    "\n",
    "    public static void main(String args[]) {\n",
    "        FunExceptions fe = new FunExceptions();\n",
    "        System.out.println(\"Result: \" + fe.fun1(args[0]));\n",
    "    }\n",
    "```\n",
    "Compile/run it with/without an argument. Try different arguments (e.g. \"1\", \"1..1\", etc.). Comment/out the returns on lines 6, 10, 14, 17. In detail and with all possible combinations, describe your observations, reasons, explanations for the behavior of the program."
   ]
  },
  {
   "cell_type": "markdown",
   "metadata": {},
   "source": [
    "__Answer__"
   ]
  },
  {
   "cell_type": "markdown",
   "metadata": {},
   "source": []
  },
  {
   "cell_type": "markdown",
   "metadata": {},
   "source": [
    "-----"
   ]
  },
  {
   "cell_type": "markdown",
   "metadata": {},
   "source": [
    "3. \\[20 pts, ML exceptions\\]\n",
    "\n",
    "Compare and contrast exception-handling capabilities of ML and Java."
   ]
  },
  {
   "cell_type": "markdown",
   "metadata": {},
   "source": [
    "__Answer__"
   ]
  },
  {
   "cell_type": "markdown",
   "metadata": {},
   "source": []
  },
  {
   "cell_type": "markdown",
   "metadata": {},
   "source": [
    "-----"
   ]
  }
 ],
 "metadata": {
  "kernelspec": {
   "display_name": "Python 3",
   "language": "python",
   "name": "python3"
  },
  "language_info": {
   "codemirror_mode": {
    "name": "ipython",
    "version": 3
   },
   "file_extension": ".py",
   "mimetype": "text/x-python",
   "name": "python",
   "nbconvert_exporter": "python",
   "pygments_lexer": "ipython3",
   "version": "3.8.10"
  }
 },
 "nbformat": 4,
 "nbformat_minor": 4
}
