{
 "cells": [
  {
   "cell_type": "markdown",
   "metadata": {
    "tags": []
   },
   "source": [
    "## 605.629: Programming Languages\n",
    "## Assignment 12\n",
    "\n",
    "Sabbir Ahmed"
   ]
  },
  {
   "cell_type": "markdown",
   "metadata": {},
   "source": [
    "1. \\[30 pts, out of bounds exception\\]\n",
    "\n",
    "(a.) Consider the programming languages C, Java and Python and describe/speculate their capabilities about array index out of bounds check."
   ]
  },
  {
   "cell_type": "markdown",
   "metadata": {},
   "source": [
    "__Answer__"
   ]
  },
  {
   "cell_type": "markdown",
   "metadata": {},
   "source": [
    "C does not check for boundaries in arrays. The compiler will not raise any warnings or exceptions.  Java throws an `ArrayIndexOutOfBounds` exception while Python throws an `IndexError` exception. These exceptions are only thrown after the size of the array is evaluated during runtime."
   ]
  },
  {
   "cell_type": "markdown",
   "metadata": {},
   "source": [
    "-----"
   ]
  },
  {
   "cell_type": "markdown",
   "metadata": {},
   "source": [
    "(b.) In this regard, does C have an advantage over Java/Python?"
   ]
  },
  {
   "cell_type": "markdown",
   "metadata": {},
   "source": [
    "__Answer__"
   ]
  },
  {
   "cell_type": "markdown",
   "metadata": {},
   "source": [
    "It is not necessarily an advantage since the indices beyond the size of arrays in C causes undefined behavior. The program will compile, but with the cost of safety during run-time. The other languages throwing exceptions protects the user from such scenarios."
   ]
  },
  {
   "cell_type": "markdown",
   "metadata": {},
   "source": [
    "-----"
   ]
  },
  {
   "cell_type": "markdown",
   "metadata": {},
   "source": [
    "__Answer__"
   ]
  },
  {
   "cell_type": "markdown",
   "metadata": {},
   "source": [
    "(c.) Fill the following table regarding an array index out of bounds check:\n",
    "\n",
    "|Can generate an exception/error|C|Java|Python|\n",
    "|:-----------------------------:|:-:|:-:|:---:|\n",
    "|Compile-time|No|No|No|\n",
    "|Run-time|No|Yes|Yes|"
   ]
  },
  {
   "cell_type": "markdown",
   "metadata": {},
   "source": [
    "-----"
   ]
  },
  {
   "cell_type": "markdown",
   "metadata": {},
   "source": [
    "2. \\[50 pts, Java exceptions\\]\n",
    "\n",
    "Consider the following Java program:\n",
    "```java\n",
    "public class FunExceptions {\n",
    "    public int fun1(String arg) {\n",
    "        try {\n",
    "            int num = 121 / Integer.parseInt(arg);\n",
    "            System.out.println(num);\n",
    "            // return num; // line 6\n",
    "        } catch (ArithmeticException e) {\n",
    "            System.out.println(\"Number should not be divided by zero\");\n",
    "            // return -1; // line 10\n",
    "        } finally {\n",
    "            System.out.println(\"Finally, clear created buffers, close file handles, etc.\");\n",
    "            // return -2; // line 14\n",
    "        }\n",
    "\n",
    "        System.out.println(\"Completed tricky math operation.\");\n",
    "        return 0; // line 17\n",
    "    }\n",
    "\n",
    "    public static void main(String args[]) {\n",
    "        FunExceptions fe = new FunExceptions();\n",
    "        System.out.println(\"Result: \" + fe.fun1(args[0]));\n",
    "    }\n",
    "}\n",
    "```\n",
    "Compile/run it with/without an argument. Try different arguments (e.g. \"1\", \"1..1\", etc.). Comment/out the returns on lines 6, 10, 14, 17. In detail and with all possible combinations, describe your observations, reasons, explanations for the behavior of the program."
   ]
  },
  {
   "cell_type": "markdown",
   "metadata": {},
   "source": [
    "__Answer__"
   ]
  },
  {
   "cell_type": "markdown",
   "metadata": {},
   "source": [
    "The following table displays some of the program executions attempted by commenting/uncommenting various combinations of return values. The values marked `//` represents that line was commented, whereas `✓` represents that line was uncommented and executed. The combinations that led to compilation errors were not populated in the table. Line 17 is left uncommented in the following combinations.\n",
    "\n",
    "|Argument|Line 6|Line 10|Line 14|Result|\n",
    "|:------:|:----:|:-----:|:-----:|:----:|\n",
    "|None|//|//|//|ArrayIndexOutOfBoundsException|\n",
    "|1|//|//|//|Result: 0|\n",
    "|1|✓|//|//|Result: 121|\n",
    "|1|//|✓|//|Result: 0|\n",
    "|1.1|//|//|//|NumberFormatException|\n",
    "|1.1|✓|//|//|NumberFormatException|\n",
    "|1.1|//|✓|//|NumberFormatException|\n",
    "|0|//|//|//|Result: 0|\n",
    "|0|✓|//|//|Result: -1|\n",
    "|0|//|✓|//|Result: 0|\n",
    "\n",
    "Uncommenting all the lines leads to compilation errors, where the statements after the try-catch-finally blocks are unreachable.\n",
    "\n",
    "It appears that the return values get overridden by the finally block's return value, regardless of the argument provided causing an exception or not. For example, if the lines 6, 10 and 17 are uncommented and the last return value is commented out to compile properly, the return value is -2 regardless of the argument provided. If an ArithmeticException is raised, the return value of -1 gets overridden in the finally block. If a valid argument is provided, the return value of `num` is overridden by the finally block."
   ]
  },
  {
   "cell_type": "markdown",
   "metadata": {},
   "source": [
    "-----"
   ]
  },
  {
   "cell_type": "markdown",
   "metadata": {},
   "source": [
    "3. \\[20 pts, ML exceptions\\]\n",
    "\n",
    "Compare and contrast exception-handling capabilities of ML and Java."
   ]
  },
  {
   "cell_type": "markdown",
   "metadata": {},
   "source": [
    "__Answer__"
   ]
  },
  {
   "cell_type": "markdown",
   "metadata": {},
   "source": [
    "Similarly to the differences of exceptions in ML and C++, ML exceptions are a different kind of entity than types. In Java, any throwable objects can be thrown as an exception. In ML, the exceptions must also be declared before usage, while in Java the built-in exception classes cover almost all possible use cases."
   ]
  },
  {
   "cell_type": "markdown",
   "metadata": {},
   "source": [
    "-----"
   ]
  }
 ],
 "metadata": {
  "kernelspec": {
   "display_name": "Python 3",
   "language": "python",
   "name": "python3"
  },
  "language_info": {
   "codemirror_mode": {
    "name": "ipython",
    "version": 3
   },
   "file_extension": ".py",
   "mimetype": "text/x-python",
   "name": "python",
   "nbconvert_exporter": "python",
   "pygments_lexer": "ipython3",
   "version": "3.8.10"
  }
 },
 "nbformat": 4,
 "nbformat_minor": 4
}
