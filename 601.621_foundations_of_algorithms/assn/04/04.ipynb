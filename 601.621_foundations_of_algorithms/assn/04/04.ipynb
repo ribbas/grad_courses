{
 "cells": [
  {
   "cell_type": "markdown",
   "metadata": {},
   "source": [
    "# 605.621 - Foundations of Algorithms\n",
    "\n",
    "## Assignment 04\n",
    "\n",
    "Sabbir Ahmed\n",
    "\n",
    "March 14, 2021"
   ]
  },
  {
   "cell_type": "markdown",
   "metadata": {},
   "source": [
    "### Question 1\n",
    "\n",
    "\\[20 pts, data structures\\]\n",
    "\n",
    "Solve problem 10-1 (page 249)"
   ]
  },
  {
   "cell_type": "markdown",
   "metadata": {},
   "source": [
    "__10-1 Comparisons among lists__\n",
    "\n",
    "\n",
    "For each of the four types of lists in the following table, what is the asymptotic worst-case running time for each dynamic-set operation listed?\n",
    "\n",
    "### Answer\n",
    "\n",
    "|Operation|unsorted, singly linked|sorted, singly linked|unsorted, doubly linked|sorted, doubly linked|\n",
    "|:--------|:---------------------:|:-------------------:|:---------------------:|:-------------------:|\n",
    "|SEARCH(L,k)|O(n)|O(n)|O(n)|O(n)|\n",
    "|INSERT(L,x)|O(1)|O(n)|O(1)|O(n)|\n",
    "|DELETE(L,x)|O(1)|O(1)|O(1)|O(1)|\n",
    "|SUCCESSOR(L,x)|O(1)|O(1)|O(1)|O(1)|\n",
    "|PREDECESSOR(L,x)|O(n)|O(n)|O(1)|O(1)|\n",
    "|MINIMUM(L)|O(n)|O(1)|O(n)|O(1)|\n",
    "|MAXIMUM(L)|O(n)|O(1)|O(n)|O(1)|\n",
    "\n",
    "- `SEARCH(L, k)` is a linear operation in all types of linked lists because (in its worst-case) every elements have to be observed and compared to find the specific one.\n",
    "- `INSERT(L, x)` is a linear operation in sorted linked lists because the entire list has to be re-sorted after adding the new node. For unsorted lists, it is a constant-time operation since re-sorting is not required.\n",
    "- `DELETE(L, x)` is a constant-time operation for all linked lists because they consist of removing the target node and realigning any pointers connected to it.\n",
    "- `SUCCESSOR(L,x)` is a constant-time operation for all the linked lists since it would only require to look up the pointer to the next node.\n",
    "- `PREDECESSOR(L,x)` is a linear operation in singly linked lists because the operation would have to traverse and cycle through the entire list to find the previous node. It is a constant-time operation for doubly linked lists since it is a simple lookup of the pointer.\n",
    "- `MINIMUM(L)` and `MAXIMUM(L)` are both linear-time operations in unsorted lists because (in their worst-case) every elements have to be observed and compared to find the minimum or maximum. They are constant-time operations for sorted lists because the node is already present on the heads or tails of the lists."
   ]
  },
  {
   "cell_type": "markdown",
   "metadata": {},
   "source": [
    "-----------------------------------------"
   ]
  },
  {
   "cell_type": "markdown",
   "metadata": {},
   "source": [
    "### Question 2\n",
    "\n",
    "\\[20 pts, AVL trees\\]\n",
    "\n",
    "Recall an AVL binary search tree is a BST where, for each node in the tree, the height of its children differs by no more than 1. For this problem, assume we have a team of biologists that keep information about DNA sequences in an AVL binary search tree using the specific weight (an integer) of the structure as the key. The biologists routinely ask questions of the type, \"Are there any structures in the tree with specific weight between $a$ and $b$, inclusive?\" and they hope to get an answer as soon as possible. Design an efficient algorithm that, given integers $a$ and $b$, returns True if there exists a key $x$ in the tree such that $a ≤ x ≤ b$, and False if no such key exists in the tree. Describe your algorithm in English and pseudocode. What is the time complexity of your algorithm? Explain."
   ]
  },
  {
   "cell_type": "markdown",
   "metadata": {},
   "source": [
    "### Answer\n",
    "\n",
    "Searching in an AVL tree is a similar operation to searching a regular binary search tree (BST). However, searching in BST results in a worst-case $O(n)$ time complexity whilst searching in an AVL tree results in a worst-case $O(lg n)$ time complexity due to its self-balancing property imposed by its height restrictions.\n",
    "\n",
    "To search for a key of value $x$ given $a$ and $b$ such that $a ≤ x ≤ b$, we can devise a recursive solution. For the boundary conditions, $x = a$, $x = b$ or $a = b$, the search ends and returns True immediately. Otherwise, the algorithm would search the left subtree if $a < x$ or the left subtree if $x > b$. If the search algorithm traverses all the way down to a leaf node, then the constraint fails and False is returned.\n",
    "\n",
    "```\n",
    "within_range(x, a, b)\n",
    "\n",
    "    # if the entire tree has been traversed, no nodes exist within the range\n",
    "    if x is a leaf node\n",
    "        return False\n",
    " \n",
    "    # if the value is greater than the lower limit, keep traversing the left subtree\n",
    "    else if a < x.value\n",
    "        call within_range(x.left, a, b)\n",
    " \n",
    "    # if the value is lower than the upper limit, keep traversing the right subtree\n",
    "    else if x.value < b\n",
    "        call within_range(x.right, a, b)\n",
    "\n",
    "    # if the value is within the range\n",
    "    else if a <= x.value <= b\n",
    "        return True\n",
    " \n",
    "```"
   ]
  },
  {
   "cell_type": "markdown",
   "metadata": {},
   "source": [
    "-----------------------------------------"
   ]
  },
  {
   "cell_type": "markdown",
   "metadata": {},
   "source": [
    "### Question 3\n",
    "\n",
    "\\[30 pts, dynamic programming\\]\n",
    "\n",
    "In dynamic programming, a recurrence equation is required in order to represent the solution to the current problem using solutions from previous subproblems. This relation is a bottom-up dynamic programming algorithm, when we fill a table, such that all needed subproblems are solved before solving the current problem. (Hint: Boundary conditions can be set covering complete rows or columns, more than once)\n",
    "\n",
    "For each one of the following, determine and explain a valid traversal order, if one is possible. Otherwise, explain why it is not possible."
   ]
  },
  {
   "cell_type": "markdown",
   "metadata": {},
   "source": [
    "a) $A(i,j) = F( A(i,j-1), A(i-1,j-1), A(i-1,j+1) )$"
   ]
  },
  {
   "cell_type": "markdown",
   "metadata": {},
   "source": [
    "### Answer\n",
    "\n",
    "To compute $A(i, j)$, the values of the previous column with the previous and next row, and the same column with the previous row are considered. When looking for the value in the next row, i.e. $A(i-1, j+1)$, the function may result in an out of bound error. The subproblem would terminate if $j+1$ or the previous values are not defined."
   ]
  },
  {
   "cell_type": "markdown",
   "metadata": {},
   "source": [
    "b) $A(i,j) = F( A(min\\{i,j\\}-1,min\\{i,j\\}-1), A(max\\{i,j\\}-1,max\\{i,j\\}-1) )$"
   ]
  },
  {
   "cell_type": "markdown",
   "metadata": {},
   "source": [
    "### Answer\n",
    "\n",
    "To compute $A(i,j)$, the minimum and maximum of the row and column values are considered. As long as $i \\neq 0$ and $j \\neq 0$, the subproblems would not reach out of bounds."
   ]
  },
  {
   "cell_type": "markdown",
   "metadata": {},
   "source": [
    "c) $A(i,j) = F( A(i-2,j-2), A(i+2,j+2) )$"
   ]
  },
  {
   "cell_type": "markdown",
   "metadata": {},
   "source": [
    "### Answer\n",
    "\n",
    "To compute $A(i,j)$, the two previous and next diagonal values are considered. If the previous or the next values are not defined, the subproblems would exceed their bounds."
   ]
  },
  {
   "cell_type": "markdown",
   "metadata": {},
   "source": [
    "-----------------------------------------"
   ]
  },
  {
   "cell_type": "markdown",
   "metadata": {},
   "source": [
    "### Question 4\n",
    "\n",
    "\\[30 pts, Optimal BST\\]\n",
    "\n",
    "Given a search problem where some elements are searched more than others, it is more important to minimize the total cost of several searches rather than the worst-case cost of a single search. If $x$ is a more frequent search target than $y$, building a tree where the depth of $x$ is smaller than the depth of y will work better, even if that means increasing the overall depth of the tree. A perfectly balanced tree is not the best choice if some items are\n",
    "significantly more popular than others.\n",
    "\n",
    "Suppose we are given a sorted array of keys $A[1..n]$ and an array of corresponding access frequencies $f[1..n]$. Build the binary search tree that minimizes the total search time, assuming that there will be exactly $f[i]$ searches for each key $A[i]$. Suggest a recursive definition of the cost function, such that $Cost(T, f[1..n])=...$, where $T$ is the tree."
   ]
  },
  {
   "cell_type": "markdown",
   "metadata": {},
   "source": [
    "### Answer"
   ]
  },
  {
   "cell_type": "code",
   "execution_count": 3,
   "metadata": {},
   "outputs": [
    {
     "name": "stdout",
     "output_type": "stream",
     "text": [
      "691\n"
     ]
    }
   ],
   "source": [
    "\"\"\"Implementation of an optimal binary search tree derived from the algorithm\n",
    "outlined in Introduction to Algorithms `OPTIMAL-BST`.\n",
    "\n",
    "The algorithm stores the the keys and their accumulated weights (frequency\n",
    "values) in n × n tables and uses the rows and columns as subproblems to compute\n",
    "the tree structure and optimal cost.\n",
    "\"\"\"\n",
    "\n",
    "import random\n",
    "\n",
    "\n",
    "class Node:\n",
    "    \"\"\"Optimal binary search tree node class\"\"\"\n",
    "\n",
    "    def __init__(self, key, freq):\n",
    "        self.key = key\n",
    "        self.freq = freq\n",
    "        self.parent = -1\n",
    "        self.left = None\n",
    "        self.right = None\n",
    "\n",
    "\n",
    "class OptimalBinarySearchTree():\n",
    "    \"\"\"Optimal binary search tree class \"\"\"\n",
    "\n",
    "    def __init__(self, nodes):\n",
    "        \"\"\"Constructor for OptimalBinarySearchTree()\n",
    "\n",
    "        Args:\n",
    "            nodes <list(Node)>: list of Node objects\n",
    "        \"\"\"\n",
    "\n",
    "        # sort the nodes based on their keys\n",
    "        self.nodes = sorted(nodes, key=lambda node: node.key)\n",
    "        self.n = len(self.nodes)\n",
    "\n",
    "        # list of all the keys\n",
    "        self.A = [self.nodes[i].key for i in range(self.n)]\n",
    "\n",
    "        # list of all the frequencies\n",
    "        self.f = [self.nodes[i].freq for i in range(self.n)]\n",
    "\n",
    "        # empty 2D list of expected weights\n",
    "        self.e = [[0] * self.n for i in range(self.n)]\n",
    "        # empty 2D list of accumulated weights\n",
    "        self.w = [[0] * self.n for i in range(self.n)]\n",
    "        # empty 2D list of keys\n",
    "        self.root = [[0] * self.n for i in range(self.n)]\n",
    "\n",
    "    def generate(self):\n",
    "        \"\"\"Generate the root and weight tables\"\"\"\n",
    "\n",
    "        # initialize the 2D lists\n",
    "        for i in range(self.n):\n",
    "            for j in range(self.n):\n",
    "                self.e[i][j] = self.f[i]\n",
    "                self.w[i][j] = self.f[i]\n",
    "                self.root[i][j] = i\n",
    "\n",
    "        for l in range(2, self.n + 1):\n",
    "            for i in range(0, self.n - l + 1):\n",
    "                j = i + l - 1\n",
    "\n",
    "                # set the value to infinity\n",
    "                self.e[i][j] = float(\"inf\")\n",
    "                self.w[i][j] = self.w[i][j - 1] + self.f[j]\n",
    "\n",
    "                for r in range(i, j + 1):\n",
    "                    # optimal cost for left subtree\n",
    "                    left = self.e[i][r - 1] if r != i else 0\n",
    "                    # optimal cost for right subtree\n",
    "                    right = self.e[r + 1][j] if r != j else 0\n",
    "                    # add up the optimal costs\n",
    "                    t = left + self.w[i][j] + right\n",
    "\n",
    "                    # if a better cost is found\n",
    "                    if t < self.e[i][j]:\n",
    "                        self.e[i][j] = t\n",
    "                        # whenever it finds a better key to use as the root\n",
    "                        self.root[i][j] = r\n",
    "\n",
    "    def get_cost(self):\n",
    "        \"\"\"Return the optimal cost computed\"\"\"\n",
    "        return self.e[0][self.n - 1]\n",
    "\n",
    "random.seed(0)\n",
    "nodes = [Node(i, random.randint(1, 50)) for i in range(10, 0, -1)]\n",
    "\n",
    "bst = OptimalBinarySearchTree(nodes)\n",
    "bst.generate()\n",
    "print(bst.get_cost())"
   ]
  },
  {
   "cell_type": "markdown",
   "metadata": {},
   "source": [
    "The optimal cost in the iterative implementation above utilizes the row-column approach commonly found in dynamic programming problems. The value is computed by accumulating the sum of the previous and next diagonal values.\n",
    "```\n",
    "for r in range(i, j + 1):\n",
    "    # optimal cost for left subtree\n",
    "    left = self.e[i][r - 1] if r != i else 0\n",
    "    # optimal cost for right subtree\n",
    "    right = self.e[r + 1][j] if r != j else 0\n",
    "    # add up the optimal costs\n",
    "    t = left + self.w[i][j] + right\n",
    "```\n",
    "When a more optimal (lesser value) cost is found, the cost is updated. This recurrence relationship can be defined as $cost(i,j)=min(cost(i,r-1)+cost(r+1,j))+\\sum_{k=i}^{j}f[k]$, for $i \\le r \\le j$.\n",
    "\n",
    "Therefore, $Cost(T, f)$ is:\n",
    "\n",
    "```\n",
    "Cost(T, f):\n",
    "\n",
    "    func cost(i, j)\n",
    "        if i == j\n",
    "            return f(i)\n",
    "        if j < i\n",
    "            return 0\n",
    "        sum_f = sum(f[i..j+1])\n",
    "        min_cost = infinity\n",
    "        for r = i to j + 1\n",
    "            t = cost(i, r - 1) + cost(r + 1, j)\n",
    "            if t < min_cost\n",
    "                min_cost = t\n",
    "        return min_cost + sum_f\n",
    "```"
   ]
  },
  {
   "cell_type": "code",
   "execution_count": 8,
   "metadata": {},
   "outputs": [
    {
     "ename": "TypeError",
     "evalue": "'int' object is not iterable",
     "output_type": "error",
     "traceback": [
      "\u001b[0;31m---------------------------------------------------------------------------\u001b[0m",
      "\u001b[0;31mTypeError\u001b[0m                                 Traceback (most recent call last)",
      "\u001b[0;32m<ipython-input-8-16148f03742e>\u001b[0m in \u001b[0;36m<module>\u001b[0;34m\u001b[0m\n\u001b[1;32m     34\u001b[0m     \u001b[0;32mreturn\u001b[0m \u001b[0mopt_cost\u001b[0m\u001b[0;34m(\u001b[0m\u001b[0mf\u001b[0m\u001b[0;34m,\u001b[0m \u001b[0;36m0\u001b[0m\u001b[0;34m,\u001b[0m \u001b[0mbst\u001b[0m\u001b[0;34m.\u001b[0m\u001b[0mn\u001b[0m \u001b[0;34m-\u001b[0m \u001b[0;36m1\u001b[0m\u001b[0;34m)\u001b[0m\u001b[0;34m\u001b[0m\u001b[0;34m\u001b[0m\u001b[0m\n\u001b[1;32m     35\u001b[0m \u001b[0;34m\u001b[0m\u001b[0m\n\u001b[0;32m---> 36\u001b[0;31m \u001b[0mcost\u001b[0m\u001b[0;34m(\u001b[0m\u001b[0mbst\u001b[0m\u001b[0;34m,\u001b[0m \u001b[0mbst\u001b[0m\u001b[0;34m.\u001b[0m\u001b[0mf\u001b[0m\u001b[0;34m)\u001b[0m\u001b[0;34m\u001b[0m\u001b[0;34m\u001b[0m\u001b[0m\n\u001b[0m",
      "\u001b[0;32m<ipython-input-8-16148f03742e>\u001b[0m in \u001b[0;36mcost\u001b[0;34m(T, f)\u001b[0m\n\u001b[1;32m     32\u001b[0m \u001b[0;31m#         return min_cost + sum_f\u001b[0m\u001b[0;34m\u001b[0m\u001b[0;34m\u001b[0m\u001b[0;34m\u001b[0m\u001b[0m\n\u001b[1;32m     33\u001b[0m \u001b[0;34m\u001b[0m\u001b[0m\n\u001b[0;32m---> 34\u001b[0;31m     \u001b[0;32mreturn\u001b[0m \u001b[0mopt_cost\u001b[0m\u001b[0;34m(\u001b[0m\u001b[0mf\u001b[0m\u001b[0;34m,\u001b[0m \u001b[0;36m0\u001b[0m\u001b[0;34m,\u001b[0m \u001b[0mbst\u001b[0m\u001b[0;34m.\u001b[0m\u001b[0mn\u001b[0m \u001b[0;34m-\u001b[0m \u001b[0;36m1\u001b[0m\u001b[0;34m)\u001b[0m\u001b[0;34m\u001b[0m\u001b[0;34m\u001b[0m\u001b[0m\n\u001b[0m\u001b[1;32m     35\u001b[0m \u001b[0;34m\u001b[0m\u001b[0m\n\u001b[1;32m     36\u001b[0m \u001b[0mcost\u001b[0m\u001b[0;34m(\u001b[0m\u001b[0mbst\u001b[0m\u001b[0;34m,\u001b[0m \u001b[0mbst\u001b[0m\u001b[0;34m.\u001b[0m\u001b[0mf\u001b[0m\u001b[0;34m)\u001b[0m\u001b[0;34m\u001b[0m\u001b[0;34m\u001b[0m\u001b[0m\n",
      "\u001b[0;32m<ipython-input-8-16148f03742e>\u001b[0m in \u001b[0;36mopt_cost\u001b[0;34m(f, i, j)\u001b[0m\n\u001b[1;32m     25\u001b[0m         \u001b[0;31m# and update min if needed\u001b[0m\u001b[0;34m\u001b[0m\u001b[0;34m\u001b[0m\u001b[0;34m\u001b[0m\u001b[0m\n\u001b[1;32m     26\u001b[0m         \u001b[0;32mfor\u001b[0m \u001b[0mr\u001b[0m \u001b[0;32min\u001b[0m \u001b[0mrange\u001b[0m\u001b[0;34m(\u001b[0m\u001b[0mi\u001b[0m\u001b[0;34m,\u001b[0m \u001b[0mj\u001b[0m \u001b[0;34m+\u001b[0m \u001b[0;36m1\u001b[0m\u001b[0;34m)\u001b[0m\u001b[0;34m:\u001b[0m\u001b[0;34m\u001b[0m\u001b[0;34m\u001b[0m\u001b[0m\n\u001b[0;32m---> 27\u001b[0;31m             \u001b[0mt\u001b[0m \u001b[0;34m=\u001b[0m \u001b[0mmin\u001b[0m\u001b[0;34m(\u001b[0m\u001b[0mopt_cost\u001b[0m\u001b[0;34m(\u001b[0m\u001b[0mf\u001b[0m\u001b[0;34m,\u001b[0m \u001b[0mi\u001b[0m\u001b[0;34m,\u001b[0m \u001b[0mr\u001b[0m \u001b[0;34m-\u001b[0m \u001b[0;36m1\u001b[0m\u001b[0;34m)\u001b[0m \u001b[0;34m+\u001b[0m \u001b[0mopt_cost\u001b[0m\u001b[0;34m(\u001b[0m\u001b[0mf\u001b[0m\u001b[0;34m,\u001b[0m \u001b[0mr\u001b[0m \u001b[0;34m+\u001b[0m \u001b[0;36m1\u001b[0m\u001b[0;34m,\u001b[0m \u001b[0mj\u001b[0m\u001b[0;34m)\u001b[0m\u001b[0;34m)\u001b[0m \u001b[0;34m+\u001b[0m \u001b[0msum_f\u001b[0m\u001b[0;34m\u001b[0m\u001b[0;34m\u001b[0m\u001b[0m\n\u001b[0m\u001b[1;32m     28\u001b[0m \u001b[0;31m#             if t < min_cost:\u001b[0m\u001b[0;34m\u001b[0m\u001b[0;34m\u001b[0m\u001b[0;34m\u001b[0m\u001b[0m\n\u001b[1;32m     29\u001b[0m \u001b[0;31m#                 min_cost = t\u001b[0m\u001b[0;34m\u001b[0m\u001b[0;34m\u001b[0m\u001b[0;34m\u001b[0m\u001b[0m\n",
      "\u001b[0;32m<ipython-input-8-16148f03742e>\u001b[0m in \u001b[0;36mopt_cost\u001b[0;34m(f, i, j)\u001b[0m\n\u001b[1;32m     25\u001b[0m         \u001b[0;31m# and update min if needed\u001b[0m\u001b[0;34m\u001b[0m\u001b[0;34m\u001b[0m\u001b[0;34m\u001b[0m\u001b[0m\n\u001b[1;32m     26\u001b[0m         \u001b[0;32mfor\u001b[0m \u001b[0mr\u001b[0m \u001b[0;32min\u001b[0m \u001b[0mrange\u001b[0m\u001b[0;34m(\u001b[0m\u001b[0mi\u001b[0m\u001b[0;34m,\u001b[0m \u001b[0mj\u001b[0m \u001b[0;34m+\u001b[0m \u001b[0;36m1\u001b[0m\u001b[0;34m)\u001b[0m\u001b[0;34m:\u001b[0m\u001b[0;34m\u001b[0m\u001b[0;34m\u001b[0m\u001b[0m\n\u001b[0;32m---> 27\u001b[0;31m             \u001b[0mt\u001b[0m \u001b[0;34m=\u001b[0m \u001b[0mmin\u001b[0m\u001b[0;34m(\u001b[0m\u001b[0mopt_cost\u001b[0m\u001b[0;34m(\u001b[0m\u001b[0mf\u001b[0m\u001b[0;34m,\u001b[0m \u001b[0mi\u001b[0m\u001b[0;34m,\u001b[0m \u001b[0mr\u001b[0m \u001b[0;34m-\u001b[0m \u001b[0;36m1\u001b[0m\u001b[0;34m)\u001b[0m \u001b[0;34m+\u001b[0m \u001b[0mopt_cost\u001b[0m\u001b[0;34m(\u001b[0m\u001b[0mf\u001b[0m\u001b[0;34m,\u001b[0m \u001b[0mr\u001b[0m \u001b[0;34m+\u001b[0m \u001b[0;36m1\u001b[0m\u001b[0;34m,\u001b[0m \u001b[0mj\u001b[0m\u001b[0;34m)\u001b[0m\u001b[0;34m)\u001b[0m \u001b[0;34m+\u001b[0m \u001b[0msum_f\u001b[0m\u001b[0;34m\u001b[0m\u001b[0;34m\u001b[0m\u001b[0m\n\u001b[0m\u001b[1;32m     28\u001b[0m \u001b[0;31m#             if t < min_cost:\u001b[0m\u001b[0;34m\u001b[0m\u001b[0;34m\u001b[0m\u001b[0;34m\u001b[0m\u001b[0m\n\u001b[1;32m     29\u001b[0m \u001b[0;31m#                 min_cost = t\u001b[0m\u001b[0;34m\u001b[0m\u001b[0;34m\u001b[0m\u001b[0;34m\u001b[0m\u001b[0m\n",
      "\u001b[0;32m<ipython-input-8-16148f03742e>\u001b[0m in \u001b[0;36mopt_cost\u001b[0;34m(f, i, j)\u001b[0m\n\u001b[1;32m     25\u001b[0m         \u001b[0;31m# and update min if needed\u001b[0m\u001b[0;34m\u001b[0m\u001b[0;34m\u001b[0m\u001b[0;34m\u001b[0m\u001b[0m\n\u001b[1;32m     26\u001b[0m         \u001b[0;32mfor\u001b[0m \u001b[0mr\u001b[0m \u001b[0;32min\u001b[0m \u001b[0mrange\u001b[0m\u001b[0;34m(\u001b[0m\u001b[0mi\u001b[0m\u001b[0;34m,\u001b[0m \u001b[0mj\u001b[0m \u001b[0;34m+\u001b[0m \u001b[0;36m1\u001b[0m\u001b[0;34m)\u001b[0m\u001b[0;34m:\u001b[0m\u001b[0;34m\u001b[0m\u001b[0;34m\u001b[0m\u001b[0m\n\u001b[0;32m---> 27\u001b[0;31m             \u001b[0mt\u001b[0m \u001b[0;34m=\u001b[0m \u001b[0mmin\u001b[0m\u001b[0;34m(\u001b[0m\u001b[0mopt_cost\u001b[0m\u001b[0;34m(\u001b[0m\u001b[0mf\u001b[0m\u001b[0;34m,\u001b[0m \u001b[0mi\u001b[0m\u001b[0;34m,\u001b[0m \u001b[0mr\u001b[0m \u001b[0;34m-\u001b[0m \u001b[0;36m1\u001b[0m\u001b[0;34m)\u001b[0m \u001b[0;34m+\u001b[0m \u001b[0mopt_cost\u001b[0m\u001b[0;34m(\u001b[0m\u001b[0mf\u001b[0m\u001b[0;34m,\u001b[0m \u001b[0mr\u001b[0m \u001b[0;34m+\u001b[0m \u001b[0;36m1\u001b[0m\u001b[0;34m,\u001b[0m \u001b[0mj\u001b[0m\u001b[0;34m)\u001b[0m\u001b[0;34m)\u001b[0m \u001b[0;34m+\u001b[0m \u001b[0msum_f\u001b[0m\u001b[0;34m\u001b[0m\u001b[0;34m\u001b[0m\u001b[0m\n\u001b[0m\u001b[1;32m     28\u001b[0m \u001b[0;31m#             if t < min_cost:\u001b[0m\u001b[0;34m\u001b[0m\u001b[0;34m\u001b[0m\u001b[0;34m\u001b[0m\u001b[0m\n\u001b[1;32m     29\u001b[0m \u001b[0;31m#                 min_cost = t\u001b[0m\u001b[0;34m\u001b[0m\u001b[0;34m\u001b[0m\u001b[0;34m\u001b[0m\u001b[0m\n",
      "\u001b[0;32m<ipython-input-8-16148f03742e>\u001b[0m in \u001b[0;36mopt_cost\u001b[0;34m(f, i, j)\u001b[0m\n\u001b[1;32m     25\u001b[0m         \u001b[0;31m# and update min if needed\u001b[0m\u001b[0;34m\u001b[0m\u001b[0;34m\u001b[0m\u001b[0;34m\u001b[0m\u001b[0m\n\u001b[1;32m     26\u001b[0m         \u001b[0;32mfor\u001b[0m \u001b[0mr\u001b[0m \u001b[0;32min\u001b[0m \u001b[0mrange\u001b[0m\u001b[0;34m(\u001b[0m\u001b[0mi\u001b[0m\u001b[0;34m,\u001b[0m \u001b[0mj\u001b[0m \u001b[0;34m+\u001b[0m \u001b[0;36m1\u001b[0m\u001b[0;34m)\u001b[0m\u001b[0;34m:\u001b[0m\u001b[0;34m\u001b[0m\u001b[0;34m\u001b[0m\u001b[0m\n\u001b[0;32m---> 27\u001b[0;31m             \u001b[0mt\u001b[0m \u001b[0;34m=\u001b[0m \u001b[0mmin\u001b[0m\u001b[0;34m(\u001b[0m\u001b[0mopt_cost\u001b[0m\u001b[0;34m(\u001b[0m\u001b[0mf\u001b[0m\u001b[0;34m,\u001b[0m \u001b[0mi\u001b[0m\u001b[0;34m,\u001b[0m \u001b[0mr\u001b[0m \u001b[0;34m-\u001b[0m \u001b[0;36m1\u001b[0m\u001b[0;34m)\u001b[0m \u001b[0;34m+\u001b[0m \u001b[0mopt_cost\u001b[0m\u001b[0;34m(\u001b[0m\u001b[0mf\u001b[0m\u001b[0;34m,\u001b[0m \u001b[0mr\u001b[0m \u001b[0;34m+\u001b[0m \u001b[0;36m1\u001b[0m\u001b[0;34m,\u001b[0m \u001b[0mj\u001b[0m\u001b[0;34m)\u001b[0m\u001b[0;34m)\u001b[0m \u001b[0;34m+\u001b[0m \u001b[0msum_f\u001b[0m\u001b[0;34m\u001b[0m\u001b[0;34m\u001b[0m\u001b[0m\n\u001b[0m\u001b[1;32m     28\u001b[0m \u001b[0;31m#             if t < min_cost:\u001b[0m\u001b[0;34m\u001b[0m\u001b[0;34m\u001b[0m\u001b[0;34m\u001b[0m\u001b[0m\n\u001b[1;32m     29\u001b[0m \u001b[0;31m#                 min_cost = t\u001b[0m\u001b[0;34m\u001b[0m\u001b[0;34m\u001b[0m\u001b[0;34m\u001b[0m\u001b[0m\n",
      "\u001b[0;32m<ipython-input-8-16148f03742e>\u001b[0m in \u001b[0;36mopt_cost\u001b[0;34m(f, i, j)\u001b[0m\n\u001b[1;32m     25\u001b[0m         \u001b[0;31m# and update min if needed\u001b[0m\u001b[0;34m\u001b[0m\u001b[0;34m\u001b[0m\u001b[0;34m\u001b[0m\u001b[0m\n\u001b[1;32m     26\u001b[0m         \u001b[0;32mfor\u001b[0m \u001b[0mr\u001b[0m \u001b[0;32min\u001b[0m \u001b[0mrange\u001b[0m\u001b[0;34m(\u001b[0m\u001b[0mi\u001b[0m\u001b[0;34m,\u001b[0m \u001b[0mj\u001b[0m \u001b[0;34m+\u001b[0m \u001b[0;36m1\u001b[0m\u001b[0;34m)\u001b[0m\u001b[0;34m:\u001b[0m\u001b[0;34m\u001b[0m\u001b[0;34m\u001b[0m\u001b[0m\n\u001b[0;32m---> 27\u001b[0;31m             \u001b[0mt\u001b[0m \u001b[0;34m=\u001b[0m \u001b[0mmin\u001b[0m\u001b[0;34m(\u001b[0m\u001b[0mopt_cost\u001b[0m\u001b[0;34m(\u001b[0m\u001b[0mf\u001b[0m\u001b[0;34m,\u001b[0m \u001b[0mi\u001b[0m\u001b[0;34m,\u001b[0m \u001b[0mr\u001b[0m \u001b[0;34m-\u001b[0m \u001b[0;36m1\u001b[0m\u001b[0;34m)\u001b[0m \u001b[0;34m+\u001b[0m \u001b[0mopt_cost\u001b[0m\u001b[0;34m(\u001b[0m\u001b[0mf\u001b[0m\u001b[0;34m,\u001b[0m \u001b[0mr\u001b[0m \u001b[0;34m+\u001b[0m \u001b[0;36m1\u001b[0m\u001b[0;34m,\u001b[0m \u001b[0mj\u001b[0m\u001b[0;34m)\u001b[0m\u001b[0;34m)\u001b[0m \u001b[0;34m+\u001b[0m \u001b[0msum_f\u001b[0m\u001b[0;34m\u001b[0m\u001b[0;34m\u001b[0m\u001b[0m\n\u001b[0m\u001b[1;32m     28\u001b[0m \u001b[0;31m#             if t < min_cost:\u001b[0m\u001b[0;34m\u001b[0m\u001b[0;34m\u001b[0m\u001b[0;34m\u001b[0m\u001b[0m\n\u001b[1;32m     29\u001b[0m \u001b[0;31m#                 min_cost = t\u001b[0m\u001b[0;34m\u001b[0m\u001b[0;34m\u001b[0m\u001b[0;34m\u001b[0m\u001b[0m\n",
      "\u001b[0;32m<ipython-input-8-16148f03742e>\u001b[0m in \u001b[0;36mopt_cost\u001b[0;34m(f, i, j)\u001b[0m\n\u001b[1;32m     25\u001b[0m         \u001b[0;31m# and update min if needed\u001b[0m\u001b[0;34m\u001b[0m\u001b[0;34m\u001b[0m\u001b[0;34m\u001b[0m\u001b[0m\n\u001b[1;32m     26\u001b[0m         \u001b[0;32mfor\u001b[0m \u001b[0mr\u001b[0m \u001b[0;32min\u001b[0m \u001b[0mrange\u001b[0m\u001b[0;34m(\u001b[0m\u001b[0mi\u001b[0m\u001b[0;34m,\u001b[0m \u001b[0mj\u001b[0m \u001b[0;34m+\u001b[0m \u001b[0;36m1\u001b[0m\u001b[0;34m)\u001b[0m\u001b[0;34m:\u001b[0m\u001b[0;34m\u001b[0m\u001b[0;34m\u001b[0m\u001b[0m\n\u001b[0;32m---> 27\u001b[0;31m             \u001b[0mt\u001b[0m \u001b[0;34m=\u001b[0m \u001b[0mmin\u001b[0m\u001b[0;34m(\u001b[0m\u001b[0mopt_cost\u001b[0m\u001b[0;34m(\u001b[0m\u001b[0mf\u001b[0m\u001b[0;34m,\u001b[0m \u001b[0mi\u001b[0m\u001b[0;34m,\u001b[0m \u001b[0mr\u001b[0m \u001b[0;34m-\u001b[0m \u001b[0;36m1\u001b[0m\u001b[0;34m)\u001b[0m \u001b[0;34m+\u001b[0m \u001b[0mopt_cost\u001b[0m\u001b[0;34m(\u001b[0m\u001b[0mf\u001b[0m\u001b[0;34m,\u001b[0m \u001b[0mr\u001b[0m \u001b[0;34m+\u001b[0m \u001b[0;36m1\u001b[0m\u001b[0;34m,\u001b[0m \u001b[0mj\u001b[0m\u001b[0;34m)\u001b[0m\u001b[0;34m)\u001b[0m \u001b[0;34m+\u001b[0m \u001b[0msum_f\u001b[0m\u001b[0;34m\u001b[0m\u001b[0;34m\u001b[0m\u001b[0m\n\u001b[0m\u001b[1;32m     28\u001b[0m \u001b[0;31m#             if t < min_cost:\u001b[0m\u001b[0;34m\u001b[0m\u001b[0;34m\u001b[0m\u001b[0;34m\u001b[0m\u001b[0m\n\u001b[1;32m     29\u001b[0m \u001b[0;31m#                 min_cost = t\u001b[0m\u001b[0;34m\u001b[0m\u001b[0;34m\u001b[0m\u001b[0;34m\u001b[0m\u001b[0m\n",
      "\u001b[0;32m<ipython-input-8-16148f03742e>\u001b[0m in \u001b[0;36mopt_cost\u001b[0;34m(f, i, j)\u001b[0m\n\u001b[1;32m     25\u001b[0m         \u001b[0;31m# and update min if needed\u001b[0m\u001b[0;34m\u001b[0m\u001b[0;34m\u001b[0m\u001b[0;34m\u001b[0m\u001b[0m\n\u001b[1;32m     26\u001b[0m         \u001b[0;32mfor\u001b[0m \u001b[0mr\u001b[0m \u001b[0;32min\u001b[0m \u001b[0mrange\u001b[0m\u001b[0;34m(\u001b[0m\u001b[0mi\u001b[0m\u001b[0;34m,\u001b[0m \u001b[0mj\u001b[0m \u001b[0;34m+\u001b[0m \u001b[0;36m1\u001b[0m\u001b[0;34m)\u001b[0m\u001b[0;34m:\u001b[0m\u001b[0;34m\u001b[0m\u001b[0;34m\u001b[0m\u001b[0m\n\u001b[0;32m---> 27\u001b[0;31m             \u001b[0mt\u001b[0m \u001b[0;34m=\u001b[0m \u001b[0mmin\u001b[0m\u001b[0;34m(\u001b[0m\u001b[0mopt_cost\u001b[0m\u001b[0;34m(\u001b[0m\u001b[0mf\u001b[0m\u001b[0;34m,\u001b[0m \u001b[0mi\u001b[0m\u001b[0;34m,\u001b[0m \u001b[0mr\u001b[0m \u001b[0;34m-\u001b[0m \u001b[0;36m1\u001b[0m\u001b[0;34m)\u001b[0m \u001b[0;34m+\u001b[0m \u001b[0mopt_cost\u001b[0m\u001b[0;34m(\u001b[0m\u001b[0mf\u001b[0m\u001b[0;34m,\u001b[0m \u001b[0mr\u001b[0m \u001b[0;34m+\u001b[0m \u001b[0;36m1\u001b[0m\u001b[0;34m,\u001b[0m \u001b[0mj\u001b[0m\u001b[0;34m)\u001b[0m\u001b[0;34m)\u001b[0m \u001b[0;34m+\u001b[0m \u001b[0msum_f\u001b[0m\u001b[0;34m\u001b[0m\u001b[0;34m\u001b[0m\u001b[0m\n\u001b[0m\u001b[1;32m     28\u001b[0m \u001b[0;31m#             if t < min_cost:\u001b[0m\u001b[0;34m\u001b[0m\u001b[0;34m\u001b[0m\u001b[0;34m\u001b[0m\u001b[0m\n\u001b[1;32m     29\u001b[0m \u001b[0;31m#                 min_cost = t\u001b[0m\u001b[0;34m\u001b[0m\u001b[0;34m\u001b[0m\u001b[0;34m\u001b[0m\u001b[0m\n",
      "\u001b[0;32m<ipython-input-8-16148f03742e>\u001b[0m in \u001b[0;36mopt_cost\u001b[0;34m(f, i, j)\u001b[0m\n\u001b[1;32m     25\u001b[0m         \u001b[0;31m# and update min if needed\u001b[0m\u001b[0;34m\u001b[0m\u001b[0;34m\u001b[0m\u001b[0;34m\u001b[0m\u001b[0m\n\u001b[1;32m     26\u001b[0m         \u001b[0;32mfor\u001b[0m \u001b[0mr\u001b[0m \u001b[0;32min\u001b[0m \u001b[0mrange\u001b[0m\u001b[0;34m(\u001b[0m\u001b[0mi\u001b[0m\u001b[0;34m,\u001b[0m \u001b[0mj\u001b[0m \u001b[0;34m+\u001b[0m \u001b[0;36m1\u001b[0m\u001b[0;34m)\u001b[0m\u001b[0;34m:\u001b[0m\u001b[0;34m\u001b[0m\u001b[0;34m\u001b[0m\u001b[0m\n\u001b[0;32m---> 27\u001b[0;31m             \u001b[0mt\u001b[0m \u001b[0;34m=\u001b[0m \u001b[0mmin\u001b[0m\u001b[0;34m(\u001b[0m\u001b[0mopt_cost\u001b[0m\u001b[0;34m(\u001b[0m\u001b[0mf\u001b[0m\u001b[0;34m,\u001b[0m \u001b[0mi\u001b[0m\u001b[0;34m,\u001b[0m \u001b[0mr\u001b[0m \u001b[0;34m-\u001b[0m \u001b[0;36m1\u001b[0m\u001b[0;34m)\u001b[0m \u001b[0;34m+\u001b[0m \u001b[0mopt_cost\u001b[0m\u001b[0;34m(\u001b[0m\u001b[0mf\u001b[0m\u001b[0;34m,\u001b[0m \u001b[0mr\u001b[0m \u001b[0;34m+\u001b[0m \u001b[0;36m1\u001b[0m\u001b[0;34m,\u001b[0m \u001b[0mj\u001b[0m\u001b[0;34m)\u001b[0m\u001b[0;34m)\u001b[0m \u001b[0;34m+\u001b[0m \u001b[0msum_f\u001b[0m\u001b[0;34m\u001b[0m\u001b[0;34m\u001b[0m\u001b[0m\n\u001b[0m\u001b[1;32m     28\u001b[0m \u001b[0;31m#             if t < min_cost:\u001b[0m\u001b[0;34m\u001b[0m\u001b[0;34m\u001b[0m\u001b[0;34m\u001b[0m\u001b[0m\n\u001b[1;32m     29\u001b[0m \u001b[0;31m#                 min_cost = t\u001b[0m\u001b[0;34m\u001b[0m\u001b[0;34m\u001b[0m\u001b[0;34m\u001b[0m\u001b[0m\n",
      "\u001b[0;32m<ipython-input-8-16148f03742e>\u001b[0m in \u001b[0;36mopt_cost\u001b[0;34m(f, i, j)\u001b[0m\n\u001b[1;32m     25\u001b[0m         \u001b[0;31m# and update min if needed\u001b[0m\u001b[0;34m\u001b[0m\u001b[0;34m\u001b[0m\u001b[0;34m\u001b[0m\u001b[0m\n\u001b[1;32m     26\u001b[0m         \u001b[0;32mfor\u001b[0m \u001b[0mr\u001b[0m \u001b[0;32min\u001b[0m \u001b[0mrange\u001b[0m\u001b[0;34m(\u001b[0m\u001b[0mi\u001b[0m\u001b[0;34m,\u001b[0m \u001b[0mj\u001b[0m \u001b[0;34m+\u001b[0m \u001b[0;36m1\u001b[0m\u001b[0;34m)\u001b[0m\u001b[0;34m:\u001b[0m\u001b[0;34m\u001b[0m\u001b[0;34m\u001b[0m\u001b[0m\n\u001b[0;32m---> 27\u001b[0;31m             \u001b[0mt\u001b[0m \u001b[0;34m=\u001b[0m \u001b[0mmin\u001b[0m\u001b[0;34m(\u001b[0m\u001b[0mopt_cost\u001b[0m\u001b[0;34m(\u001b[0m\u001b[0mf\u001b[0m\u001b[0;34m,\u001b[0m \u001b[0mi\u001b[0m\u001b[0;34m,\u001b[0m \u001b[0mr\u001b[0m \u001b[0;34m-\u001b[0m \u001b[0;36m1\u001b[0m\u001b[0;34m)\u001b[0m \u001b[0;34m+\u001b[0m \u001b[0mopt_cost\u001b[0m\u001b[0;34m(\u001b[0m\u001b[0mf\u001b[0m\u001b[0;34m,\u001b[0m \u001b[0mr\u001b[0m \u001b[0;34m+\u001b[0m \u001b[0;36m1\u001b[0m\u001b[0;34m,\u001b[0m \u001b[0mj\u001b[0m\u001b[0;34m)\u001b[0m\u001b[0;34m)\u001b[0m \u001b[0;34m+\u001b[0m \u001b[0msum_f\u001b[0m\u001b[0;34m\u001b[0m\u001b[0;34m\u001b[0m\u001b[0m\n\u001b[0m\u001b[1;32m     28\u001b[0m \u001b[0;31m#             if t < min_cost:\u001b[0m\u001b[0;34m\u001b[0m\u001b[0;34m\u001b[0m\u001b[0;34m\u001b[0m\u001b[0m\n\u001b[1;32m     29\u001b[0m \u001b[0;31m#                 min_cost = t\u001b[0m\u001b[0;34m\u001b[0m\u001b[0;34m\u001b[0m\u001b[0;34m\u001b[0m\u001b[0m\n",
      "\u001b[0;31mTypeError\u001b[0m: 'int' object is not iterable"
     ]
    }
   ],
   "source": [
    "def cost(T, f):\n",
    "\n",
    "    # A recursive function to calculate\n",
    "    # cost of optimal binary search tree\n",
    "    def opt_cost(f, i, j):\n",
    "\n",
    "        # Base cases\n",
    "        if j < i:    # no elements in this subarray\n",
    "            return 0\n",
    "        if j == i:   # one element in this subarray\n",
    "            return f[i]\n",
    "\n",
    "        # Get sum of f[i], f[i+1], ... f[j]\n",
    "        # fsum = Sum(f, i, j)\n",
    "        sum_f = 0\n",
    "        for k in range(i, j + 1):\n",
    "            sum_f += f[k]\n",
    "\n",
    "        # Initialize minimum value\n",
    "        min_cost = float(\"inf\")\n",
    "\n",
    "        # One by one consider all elements as\n",
    "        # root and recursively find cost of\n",
    "        # the BST, compare the cost with min\n",
    "        # and update min if needed\n",
    "        for r in range(i, j + 1):\n",
    "            t = (opt_cost(f, i, r - 1) + opt_cost(f, r + 1, j))\n",
    "            if t < min_cost:\n",
    "                min_cost = t\n",
    "\n",
    "        # Return minimum value\n",
    "        return min_cost + sum_f\n",
    "\n",
    "    return opt_cost(f, 0, n - 1)\n",
    "\n",
    "cost(bst, bst.f)"
   ]
  },
  {
   "cell_type": "code",
   "execution_count": null,
   "metadata": {},
   "outputs": [],
   "source": []
  }
 ],
 "metadata": {
  "kernelspec": {
   "display_name": "Python 3",
   "language": "python",
   "name": "python3"
  },
  "language_info": {
   "codemirror_mode": {
    "name": "ipython",
    "version": 3
   },
   "file_extension": ".py",
   "mimetype": "text/x-python",
   "name": "python",
   "nbconvert_exporter": "python",
   "pygments_lexer": "ipython3",
   "version": "3.8.5"
  }
 },
 "nbformat": 4,
 "nbformat_minor": 4
}
