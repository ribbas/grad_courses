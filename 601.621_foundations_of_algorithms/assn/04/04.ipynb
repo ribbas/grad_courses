{
 "cells": [
  {
   "cell_type": "markdown",
   "metadata": {},
   "source": [
    "# 605.621 - Foundations of Algorithms\n",
    "\n",
    "## Assignment 04\n",
    "\n",
    "Sabbir Ahmed\n",
    "\n",
    "March 14, 2021"
   ]
  },
  {
   "cell_type": "markdown",
   "metadata": {},
   "source": [
    "### Question 1\n",
    "\n",
    "\\[20 pts, data structures\\]\n",
    "\n",
    "Solve problem 10-1 (page 249)"
   ]
  },
  {
   "cell_type": "markdown",
   "metadata": {},
   "source": [
    "__10-1 Comparisons among lists__\n",
    "\n",
    "\n",
    "For each of the four types of lists in the following table, what is the asymptotic worst-case running time for each dynamic-set operation listed?\n",
    "\n",
    "### Answer\n",
    "\n",
    "|Operation|unsorted, singly linked|sorted, singly linked|unsorted, doubly linked|sorted, doubly linked|\n",
    "|:--------|:---------------------:|:-------------------:|:---------------------:|:-------------------:|\n",
    "|SEARCH(L,k)|O(n)|O(n)|O(n)|O(n)|\n",
    "|INSERT(L,x)|O(1)|O(n)|O(1)|O(n)|\n",
    "|DELETE(L,x)|O(1)|O(1)|O(1)|O(1)|\n",
    "|SUCCESSOR(L,x)|O(1)|O(1)|O(1)|O(1)|\n",
    "|PREDECESSOR(L,x)|O(n)|O(n)|O(1)|O(1)|\n",
    "|MINIMUM(L)|O(n)|O(1)|O(n)|O(1)|\n",
    "|MAXIMUM(L)|O(n)|O(1)|O(n)|O(1)|\n",
    "\n",
    "- `SEARCH(L, k)` is a linear operation in all types of linked lists because (in its worst-case) every elements have to be observed and compared to find the specific one.\n",
    "- `INSERT(L, x)` is a linear operation in sorted linked lists because the entire list has to be re-sorted after adding the new node. For unsorted lists, it is a constant-time operation since re-sorting is not required.\n",
    "- `DELETE(L, x)` is a constant-time operation for all linked lists because they consist of removing the target node and realigning any pointers connected to it.\n",
    "- `SUCCESSOR(L,x)` is a constant-time operation for all the linked lists since it would only require to look up the pointer to the next node.\n",
    "- `PREDECESSOR(L,x)` is a linear operation in singly linked lists because the operation would have to traverse and cycle through the entire list to find the previous node. It is a constant-time operation for doubly linked lists since it is a simple lookup of the pointer.\n",
    "- `MINIMUM(L)` and `MAXIMUM(L)` are both linear-time operations in unsorted lists because (in their worst-case) every elements have to be observed and compared to find the minimum or maximum. They are constant-time operations for sorted lists because the node is already present on the heads or tails of the lists."
   ]
  },
  {
   "cell_type": "markdown",
   "metadata": {},
   "source": [
    "-----------------------------------------"
   ]
  },
  {
   "cell_type": "markdown",
   "metadata": {},
   "source": [
    "### Question 2\n",
    "\n",
    "\\[20 pts, AVL trees\\]\n",
    "\n",
    "Recall an AVL binary search tree is a BST where, for each node in the tree, the height of its children differs by no more than 1. For this problem, assume we have a team of biologists that keep information about DNA sequences in an AVL binary search tree using the specific weight (an integer) of the structure as the key. The biologists routinely ask questions of the type, \"Are there any structures in the tree with specific weight between $a$ and $b$, inclusive?\" and they hope to get an answer as soon as possible. Design an efficient algorithm that, given integers $a$ and $b$, returns True if there exists a key $x$ in the tree such that $a ≤ x ≤ b$, and False if no such key exists in the tree. Describe your algorithm in English and pseudocode. What is the time complexity of your algorithm? Explain."
   ]
  },
  {
   "cell_type": "markdown",
   "metadata": {},
   "source": [
    "### Answer\n",
    "\n",
    "Searching in an AVL tree is a similar operation to searching a regular binary search tree (BST). However, searching in BST results in a worst-case $O(n)$ time complexity whilst searching in an AVL tree results in a worst-case $O(lg n)$ time complexity due to its self-balancing property imposed by its height restrictions.\n",
    "\n",
    "To search for a key of value $x$ given $a$ and $b$ such that $a ≤ x ≤ b$, we can devise a recursive solution. For the boundary conditions, $x = a$, $x = b$ or $a = b$, the search ends and returns True immediately. Otherwise, the algorithm would search the left subtree if $a < x$ or the left subtree if $x > b$. If the search algorithm traverses all the way down to a leaf node, then the constraint fails and False is returned.\n",
    "\n",
    "```\n",
    "func within_range(x, a, b):\n",
    "     \n",
    "    # if the entire tree has been traversed, no nodes exist within the range\n",
    "    if x is a leaf node\n",
    "        return False\n",
    " \n",
    "    # if the value is greater than the lower limit, keep traversing the left subtree\n",
    "    else if a < x.value:\n",
    "        call within_range(x.left, a, b)\n",
    " \n",
    "    # if the value is lower than the upper limit, keep traversing the right subtree\n",
    "    else if x.value < b:\n",
    "        call within_range(x.right, a, b)\n",
    "\n",
    "    # if the value is within the range\n",
    "    else if a <= x.value <= b:\n",
    "        return True\n",
    " \n",
    "```"
   ]
  },
  {
   "cell_type": "markdown",
   "metadata": {},
   "source": [
    "-----------------------------------------"
   ]
  },
  {
   "cell_type": "markdown",
   "metadata": {},
   "source": [
    "### Question 3\n",
    "\n",
    "\\[30 pts, dynamic programming\\]\n",
    "\n",
    "In dynamic programming, a recurrence equation is required in order to represent the solution to the current problem using solutions from previous subproblems. This relation is a bottom-up dynamic programming algorithm, when we fill a table, such that all needed subproblems are solved before solving the current problem. (Hint: Boundary conditions can be set covering complete rows or columns, more than once)\n",
    "\n",
    "For each one of the following, determine and explain a valid traversal order, if one is possible. Otherwise, explain why it is not possible."
   ]
  },
  {
   "cell_type": "markdown",
   "metadata": {},
   "source": [
    "a) $A(i,j) = F( A(i,j-1), A(i-1,j-1), A(i-1,j+1) )$"
   ]
  },
  {
   "cell_type": "markdown",
   "metadata": {},
   "source": [
    "### Answer"
   ]
  },
  {
   "cell_type": "markdown",
   "metadata": {},
   "source": [
    "b) $A(i,j) = F( A(min\\{i,j\\}-1,min\\{i,j\\}-1), A(max\\{i,j\\}-1,max\\{i,j\\}-1) )$"
   ]
  },
  {
   "cell_type": "markdown",
   "metadata": {},
   "source": [
    "### Answer"
   ]
  },
  {
   "cell_type": "markdown",
   "metadata": {},
   "source": [
    "c) $A(i,j) = F( A(i-2,j-2), A(i+2,j+2) )$"
   ]
  },
  {
   "cell_type": "markdown",
   "metadata": {},
   "source": [
    "### Answer"
   ]
  },
  {
   "cell_type": "markdown",
   "metadata": {},
   "source": [
    "-----------------------------------------"
   ]
  },
  {
   "cell_type": "markdown",
   "metadata": {},
   "source": [
    "### Question 4\n",
    "\n",
    "\\[30 pts, Optimal BST\\]\n",
    "\n",
    "Given a search problem where some elements are searched more than others, it is more important to minimize the total cost of several searches rather than the worst-case cost of a single search. If $x$ is a more frequent search target than $y$, building a tree where the depth of $x$ is smaller than the depth of y will work better, even if that means increasing the overall depth of the tree. A perfectly balanced tree is not the best choice if some items are\n",
    "significantly more popular than others.\n",
    "\n",
    "Suppose we are given a sorted array of keys $A[1..n]$ and an array of corresponding access frequencies $f[1..n]$. Build the binary search tree that minimizes the total search time, assuming that there will be exactly $f[i]$ searches for each key $A[i]$. Suggest a recursive definition of the cost function, such that $Cost(T, f[1..n])=...$, where $T$ is the tree."
   ]
  },
  {
   "cell_type": "markdown",
   "metadata": {},
   "source": [
    "### Answer"
   ]
  },
  {
   "cell_type": "code",
   "execution_count": 2,
   "metadata": {},
   "outputs": [
    {
     "name": "stdout",
     "output_type": "stream",
     "text": [
      "Cost of Optimal BST is 142\n"
     ]
    }
   ],
   "source": [
    "# A naive recursive implementation of\n",
    "# optimal binary search tree problem\n",
    "\n",
    "# A recursive function to calculate\n",
    "# cost of optimal binary search tree\n",
    "def optCost(freq, i, j):\n",
    "\n",
    "    # Base cases\n",
    "    if j < i:    # no elements in this subarray\n",
    "        return 0\n",
    "    if j == i:   # one element in this subarray\n",
    "        return freq[i]\n",
    "\n",
    "    # Get sum of freq[i], freq[i+1], ... freq[j]\n",
    "    fsum = Sum(freq, i, j)\n",
    "\n",
    "    # Initialize minimum value\n",
    "    Min = 999999999999\n",
    "\n",
    "    # One by one consider all elements as\n",
    "    # root and recursively find cost of\n",
    "    # the BST, compare the cost with min\n",
    "    # and update min if needed\n",
    "    for r in range(i, j + 1):\n",
    "        cost = (optCost(freq, i, r - 1) + optCost(freq, r + 1, j))\n",
    "        if cost < Min:\n",
    "            Min = cost\n",
    "\n",
    "    # Return minimum value\n",
    "    return Min + fsum\n",
    "\n",
    "# The main function that calculates minimum\n",
    "# cost of a Binary Search Tree. It mainly\n",
    "# uses optCost() to find the optimal cost.\n",
    "def optimalSearchTree(keys, freq, n):\n",
    "\n",
    "    # Here array keys[] is assumed to be\n",
    "    # sorted in increasing order. If keys[]\n",
    "    # is not sorted, then add code to sort\n",
    "    # keys, and rearrange freq[] accordingly.\n",
    "    return optCost(freq, 0, n - 1)\n",
    "\n",
    "# A utility function to get sum of\n",
    "# array elements freq[i] to freq[j]\n",
    "\n",
    "\n",
    "def Sum(freq, i, j):\n",
    "    s = 0\n",
    "    for k in range(i, j + 1):\n",
    "        s += freq[k]\n",
    "    return s\n",
    "\n",
    "\n",
    "# Driver Code\n",
    "if __name__ == '__main__':\n",
    "    keys = [10, 12, 20]\n",
    "    freq = [34, 8, 50]\n",
    "    n = len(keys)\n",
    "    print(\"Cost of Optimal BST is\",\n",
    "          optimalSearchTree(keys, freq, n))\n",
    "\n",
    "# This code is contributed by PranchalK\n"
   ]
  },
  {
   "cell_type": "code",
   "execution_count": 2,
   "metadata": {},
   "outputs": [
    {
     "name": "stdout",
     "output_type": "stream",
     "text": [
      "Binary search tree nodes:\n",
      "Node(key=1, freq=23)\n",
      "Node(key=2, freq=11)\n",
      "Node(key=3, freq=21)\n",
      "Node(key=4, freq=29)\n",
      "Node(key=5, freq=37)\n",
      "Node(key=6, freq=11)\n",
      "Node(key=7, freq=45)\n",
      "Node(key=8, freq=44)\n",
      "Node(key=9, freq=10)\n",
      "Node(key=10, freq=24)\n",
      "\n",
      "The cost of optimal BST for given tree nodes is 658.\n",
      "5 is the root of the binary search tree.\n",
      "3 is the left child of key 5.\n",
      "1 is the left child of key 3.\n",
      "2 is the right child of key 1.\n",
      "4 is the right child of key 3.\n",
      "8 is the right child of key 5.\n",
      "7 is the left child of key 8.\n",
      "6 is the left child of key 7.\n",
      "10 is the right child of key 8.\n",
      "9 is the left child of key 10.\n"
     ]
    }
   ],
   "source": [
    "#!/usr/bin/env python3\n",
    "\n",
    "# This Python program implements an optimal binary search tree (abbreviated BST)\n",
    "# building dynamic programming algorithm that delivers O(n^2) performance.\n",
    "#\n",
    "# The goal of the optimal BST problem is to build a low-cost BST for a\n",
    "# given set of nodes, each with its own key and frequency. The frequency\n",
    "# of the node is defined as how many time the node is being searched.\n",
    "# The search cost of binary search tree is given by this formula:\n",
    "#\n",
    "# cost(1, n) = sum{i = 1 to n}((depth(node_i) + 1) * node_i_freq)\n",
    "#\n",
    "# where n is number of nodes in the BST. The characteristic of low-cost\n",
    "# BSTs is having a faster overall search time than other implementations.\n",
    "# The reason for their fast search time is that the nodes with high\n",
    "# frequencies will be placed near the root of the tree while the nodes\n",
    "# with low frequencies will be placed near the leaves of the tree thus\n",
    "# reducing search time in the most frequent instances.\n",
    "\n",
    "import sys\n",
    "\n",
    "from random import randint\n",
    "\n",
    "\n",
    "class Node:\n",
    "    \"\"\"Binary Search Tree Node\"\"\"\n",
    "\n",
    "    def __init__(self, key, freq):\n",
    "        self.key = key\n",
    "        self.freq = freq\n",
    "\n",
    "    def __str__(self):\n",
    "        \"\"\"\n",
    "        >>> str(Node(1, 2))\n",
    "        'Node(key=1, freq=2)'\n",
    "        \"\"\"\n",
    "        return f\"Node(key={self.key}, freq={self.freq})\"\n",
    "\n",
    "\n",
    "def print_binary_search_tree(root, key, i, j, parent, is_left):\n",
    "    \"\"\"\n",
    "    Recursive function to print a BST from a root table.\n",
    "\n",
    "    >>> key = [3, 8, 9, 10, 17, 21]\n",
    "    >>> root = [[0, 1, 1, 1, 1, 1], [0, 1, 1, 1, 1, 3], [0, 0, 2, 3, 3, 3], \\\n",
    "                [0, 0, 0, 3, 3, 3], [0, 0, 0, 0, 4, 5], [0, 0, 0, 0, 0, 5]]\n",
    "    >>> print_binary_search_tree(root, key, 0, 5, -1, False)\n",
    "    8 is the root of the binary search tree.\n",
    "    3 is the left child of key 8.\n",
    "    10 is the right child of key 8.\n",
    "    9 is the left child of key 10.\n",
    "    21 is the right child of key 10.\n",
    "    17 is the left child of key 21.\n",
    "    \"\"\"\n",
    "    if i > j or i < 0 or j > len(root) - 1:\n",
    "        return\n",
    "\n",
    "    node = root[i][j]\n",
    "    if parent == -1:  # root does not have a parent\n",
    "        print(f\"{key[node]} is the root of the binary search tree.\")\n",
    "    elif is_left:\n",
    "        print(f\"{key[node]} is the left child of key {parent}.\")\n",
    "    else:\n",
    "        print(f\"{key[node]} is the right child of key {parent}.\")\n",
    "\n",
    "    print_binary_search_tree(root, key, i, node - 1, key[node], True)\n",
    "    print_binary_search_tree(root, key, node + 1, j, key[node], False)\n",
    "\n",
    "\n",
    "def find_optimal_binary_search_tree(nodes):\n",
    "    \"\"\"\n",
    "    This function calculates and prints the optimal binary search tree.\n",
    "    The dynamic programming algorithm below runs in O(n^2) time.\n",
    "    Implemented from CLRS (Introduction to Algorithms) book.\n",
    "    https://en.wikipedia.org/wiki/Introduction_to_Algorithms\n",
    "\n",
    "    >>> find_optimal_binary_search_tree([Node(12, 8), Node(10, 34), Node(20, 50), \\\n",
    "                                         Node(42, 3), Node(25, 40), Node(37, 30)])\n",
    "    Binary search tree nodes:\n",
    "    Node(key=10, freq=34)\n",
    "    Node(key=12, freq=8)\n",
    "    Node(key=20, freq=50)\n",
    "    Node(key=25, freq=40)\n",
    "    Node(key=37, freq=30)\n",
    "    Node(key=42, freq=3)\n",
    "    <BLANKLINE>\n",
    "    The cost of optimal BST for given tree nodes is 324.\n",
    "    20 is the root of the binary search tree.\n",
    "    10 is the left child of key 20.\n",
    "    12 is the right child of key 10.\n",
    "    25 is the right child of key 20.\n",
    "    37 is the right child of key 25.\n",
    "    42 is the right child of key 37.\n",
    "    \"\"\"\n",
    "    # Tree nodes must be sorted first, the code below sorts the keys in\n",
    "    # increasing order and rearrange its frequencies accordingly.\n",
    "    nodes.sort(key=lambda node: node.key)\n",
    "\n",
    "    n = len(nodes)\n",
    "\n",
    "    keys = [nodes[i].key for i in range(n)]\n",
    "    freqs = [nodes[i].freq for i in range(n)]\n",
    "\n",
    "    # This 2D array stores the overall tree cost (which's as minimized as possible);\n",
    "    # for a single key, cost is equal to frequency of the key.\n",
    "    dp = [[freqs[i] if i == j else 0 for j in range(n)] for i in range(n)]\n",
    "    # sum[i][j] stores the sum of key frequencies between i and j inclusive in nodes\n",
    "    # array\n",
    "    sums = [[freqs[i] if i == j else 0 for j in range(n)] for i in range(n)]\n",
    "    # stores tree roots that will be used later for constructing binary search tree\n",
    "    root = [[i if i == j else 0 for j in range(n)] for i in range(n)]\n",
    "\n",
    "    for interval_length in range(2, n + 1):\n",
    "        for i in range(n - interval_length + 1):\n",
    "            j = i + interval_length - 1\n",
    "\n",
    "            dp[i][j] = sys.maxsize  # set the value to \"infinity\"\n",
    "            sums[i][j] = sums[i][j - 1] + freqs[j]\n",
    "\n",
    "            # Apply Knuth's optimization\n",
    "            # Loop without optimization: for r in range(i, j + 1):\n",
    "            for r in range(root[i][j - 1], root[i + 1][j] + 1):  # r is a temporal root\n",
    "                left = dp[i][r - 1] if r != i else 0  # optimal cost for left subtree\n",
    "                right = dp[r + 1][j] if r != j else 0  # optimal cost for right subtree\n",
    "                cost = left + sums[i][j] + right\n",
    "\n",
    "                if dp[i][j] > cost:\n",
    "                    dp[i][j] = cost\n",
    "                    root[i][j] = r\n",
    "\n",
    "    print(\"Binary search tree nodes:\")\n",
    "    for node in nodes:\n",
    "        print(node)\n",
    "\n",
    "    print(f\"\\nThe cost of optimal BST for given tree nodes is {dp[0][n - 1]}.\")\n",
    "    print_binary_search_tree(root, keys, 0, n - 1, -1, False)\n",
    "\n",
    "\n",
    "def main():\n",
    "    # A sample binary search tree\n",
    "    nodes = [Node(i, randint(1, 50)) for i in range(10, 0, -1)]\n",
    "    find_optimal_binary_search_tree(nodes)\n",
    "\n",
    "\n",
    "if __name__ == \"__main__\":\n",
    "    main()\n"
   ]
  },
  {
   "cell_type": "code",
   "execution_count": null,
   "metadata": {},
   "outputs": [],
   "source": []
  }
 ],
 "metadata": {
  "kernelspec": {
   "display_name": "Python 3",
   "language": "python",
   "name": "python3"
  },
  "language_info": {
   "codemirror_mode": {
    "name": "ipython",
    "version": 3
   },
   "file_extension": ".py",
   "mimetype": "text/x-python",
   "name": "python",
   "nbconvert_exporter": "python",
   "pygments_lexer": "ipython3",
   "version": "3.8.5"
  }
 },
 "nbformat": 4,
 "nbformat_minor": 4
}
