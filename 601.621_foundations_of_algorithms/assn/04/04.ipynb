{
 "cells": [
  {
   "cell_type": "markdown",
   "metadata": {},
   "source": [
    "# 605.621 - Foundations of Algorithms\n",
    "\n",
    "## Assignment 04\n",
    "\n",
    "Sabbir Ahmed\n",
    "\n",
    "March 14, 2021"
   ]
  },
  {
   "cell_type": "markdown",
   "metadata": {},
   "source": [
    "### Question 1\n",
    "\n",
    "\\[20 pts, data structures\\]\n",
    "\n",
    "Solve problem 10-1 (page 249)"
   ]
  },
  {
   "cell_type": "markdown",
   "metadata": {},
   "source": [
    "__10-1 Comparisons among lists__\n",
    "\n",
    "\n",
    "For each of the four types of lists in the following table, what is the asymptotic worst-case running time for each dynamic-set operation listed?\n",
    "\n",
    "### Answer\n",
    "\n",
    "|Operation|unsorted, singly linked|sorted, singly linked|unsorted, doubly linked|sorted, doubly linked|\n",
    "|:--------|:---------------------:|:-------------------:|:---------------------:|:-------------------:|\n",
    "|SEARCH(L,k)|O(n)|O(n)|O(n)|O(n)|\n",
    "|INSERT(L,x)|O(1)|O(n)|O(1)|O(n)|\n",
    "|DELETE(L,x)|O(1)|O(1)|O(1)|O(1)|\n",
    "|SUCCESSOR(L,x)|O(1)|O(1)|O(1)|O(1)|\n",
    "|PREDECESSOR(L,x)|O(n)|O(n)|O(1)|O(1)|\n",
    "|MINIMUM(L)|O(n)|O(1)|O(n)|O(1)|\n",
    "|MAXIMUM(L)|O(n)|O(1)|O(n)|O(1)|\n",
    "\n",
    "- `SEARCH(L, k)` is a linear operation in all types of linked lists because (in its worst-case) every elements have to be observed and compared to find the specific one.\n",
    "- `INSERT(L, x)` is a linear operation in sorted linked lists because the entire list has to be re-sorted after adding the new node. For unsorted lists, it is a constant-time operation since re-sorting is not required.\n",
    "- `DELETE(L, x)` is a constant-time operation for all linked lists because they consist of removing the target node and realigning any pointers connected to it.\n",
    "- `SUCCESSOR(L,x)` is a constant-time operation for all the linked lists since it would only require to look up the pointer to the next node.\n",
    "- `PREDECESSOR(L,x)` is a linear operation in singly linked lists because the operation would have to traverse and cycle through the entire list to find the previous node. It is a constant-time operation for doubly linked lists since it is a simple lookup of the pointer.\n",
    "- `MINIMUM(L)` and `MAXIMUM(L)` are both linear-time operations in unsorted lists because (in their worst-case) every elements have to be observed and compared to find the minimum or maximum. They are constant-time operations for sorted lists because the node is already present on the heads or tails of the lists."
   ]
  },
  {
   "cell_type": "markdown",
   "metadata": {},
   "source": [
    "-----------------------------------------"
   ]
  },
  {
   "cell_type": "markdown",
   "metadata": {},
   "source": [
    "### Question 2\n",
    "\n",
    "\\[20 pts, AVL trees\\]\n",
    "\n",
    "Recall an AVL binary search tree is a BST where, for each node in the tree, the height of its children differs by no more than 1. For this problem, assume we have a team of biologists that keep information about DNA sequences in an AVL binary search tree using the specific weight (an integer) of the structure as the key. The biologists routinely ask questions of the type, \"Are there any structures in the tree with specific weight between $a$ and $b$, inclusive?\" and they hope to get an answer as soon as possible. Design an efficient algorithm that, given integers $a$ and $b$, returns True if there exists a key $x$ in the tree such that $a ≤ x ≤ b$, and False if no such key exists in the tree. Describe your algorithm in English and pseudocode. What is the time complexity of your algorithm? Explain."
   ]
  },
  {
   "cell_type": "markdown",
   "metadata": {},
   "source": [
    "### Answer\n",
    "\n",
    "Searching in an AVL tree is a similar operation to searching a regular binary search tree (BST). However, searching in BST results in a worst-case $O(n)$ time complexity whilst searching in an AVL tree results in a worst-case $O(lg n)$ time complexity due to its self-balancing property imposed by its height restrictions.\n",
    "\n",
    "To search for a key of value $x$ given $a$ and $b$ such that $a ≤ x ≤ b$, we can devise an recursive solution. For the boundary conditions, $x = a$, $x = b$ or $a = b$, the search ends and returns True immediately. Otherwise, the algorithm would search the left subtree if $a < x$ or the left subtree if $x > b$.\n",
    "\n",
    "```\n",
    "def within_range(x, a, b):\n",
    "     \n",
    "    # if the entire tree has been traversed, no nodes exist within the range\n",
    "    if x is a leaf node\n",
    "        return False\n",
    " \n",
    "    # if the value is greater than the lower limit, keep traversing the left subtree\n",
    "    else if a < x.value:\n",
    "        within_range(x.left, a, b)\n",
    " \n",
    "    # if the value is lower than the upper limit, keep traversing the right subtree\n",
    "    else if x.value < b:\n",
    "        within_range(x.right, a, b)\n",
    "\n",
    "    # if the value is within the range\n",
    "    else if a <= x.value <= b:\n",
    "        return True\n",
    " \n",
    "```"
   ]
  },
  {
   "cell_type": "markdown",
   "metadata": {},
   "source": [
    "-----------------------------------------"
   ]
  },
  {
   "cell_type": "markdown",
   "metadata": {},
   "source": [
    "### Question 3\n",
    "\n",
    "\\[30 pts, dynamic programming\\]\n",
    "\n",
    "In dynamic programming, a recurrence equation is required in order to represent the solution to the current problem using solutions from previous subproblems. This relation is a bottom-up dynamic programming algorithm, when we fill a table, such that all needed subproblems are solved before solving the current problem. (Hint: Boundary conditions can be set covering complete rows or columns, more than once)\n",
    "\n",
    "For each one of the following, determine and explain a valid traversal order, if one is possible. Otherwise, explain why it is not possible."
   ]
  },
  {
   "cell_type": "markdown",
   "metadata": {},
   "source": [
    "a) $A(i,j) = F( A(i,j-1), A(i-1,j-1), A(i-1,j+1) )$"
   ]
  },
  {
   "cell_type": "markdown",
   "metadata": {},
   "source": [
    "### Answer"
   ]
  },
  {
   "cell_type": "markdown",
   "metadata": {},
   "source": [
    "b) $A(i,j) = F( A(min\\{i,j\\}-1,min\\{i,j\\}-1), A(max\\{i,j\\}-1,max\\{i,j\\}-1) )$"
   ]
  },
  {
   "cell_type": "markdown",
   "metadata": {},
   "source": [
    "### Answer"
   ]
  },
  {
   "cell_type": "markdown",
   "metadata": {},
   "source": [
    "c) $A(i,j) = F( A(i-2,j-2), A(i+2,j+2) )$"
   ]
  },
  {
   "cell_type": "markdown",
   "metadata": {},
   "source": [
    "### Answer"
   ]
  },
  {
   "cell_type": "markdown",
   "metadata": {},
   "source": [
    "-----------------------------------------"
   ]
  },
  {
   "cell_type": "markdown",
   "metadata": {},
   "source": [
    "### Question 4\n",
    "\n",
    "\\[30 pts, Optimal BST\\]\n",
    "\n",
    "Given a search problem where some elements are searched more than others, it is more important to minimize the total cost of several searches rather than the worst-case cost of a single search. If $x$ is a more frequent search target than $y$, building a tree where the depth of $x$ is smaller than the depth of y will work better, even if that means increasing the overall depth of the tree. A perfectly balanced tree is not the best choice if some items are\n",
    "significantly more popular than others.\n",
    "\n",
    "Suppose we are given a sorted array of keys $A[1..n]$ and an array of corresponding access frequencies $f[1..n]$. Build the binary search tree that minimizes the total search time, assuming that there will be exactly $f[i]$ searches for each key $A[i]$. Suggest a recursive definition of the cost function, such that $Cost(T, f[1..n])=...$, where $T$ is the tree."
   ]
  },
  {
   "cell_type": "markdown",
   "metadata": {},
   "source": [
    "### Answer"
   ]
  },
  {
   "cell_type": "code",
   "execution_count": 2,
   "metadata": {},
   "outputs": [
    {
     "name": "stdout",
     "output_type": "stream",
     "text": [
      "Cost of Optimal BST is 142\n"
     ]
    }
   ],
   "source": [
    "# A naive recursive implementation of\n",
    "# optimal binary search tree problem\n",
    "\n",
    "# A recursive function to calculate\n",
    "# cost of optimal binary search tree\n",
    "def optCost(freq, i, j):\n",
    "\n",
    "    # Base cases\n",
    "    if j < i:    # no elements in this subarray\n",
    "        return 0\n",
    "    if j == i:   # one element in this subarray\n",
    "        return freq[i]\n",
    "\n",
    "    # Get sum of freq[i], freq[i+1], ... freq[j]\n",
    "    fsum = Sum(freq, i, j)\n",
    "\n",
    "    # Initialize minimum value\n",
    "    Min = 999999999999\n",
    "\n",
    "    # One by one consider all elements as\n",
    "    # root and recursively find cost of\n",
    "    # the BST, compare the cost with min\n",
    "    # and update min if needed\n",
    "    for r in range(i, j + 1):\n",
    "        cost = (optCost(freq, i, r - 1) + optCost(freq, r + 1, j))\n",
    "        if cost < Min:\n",
    "            Min = cost\n",
    "\n",
    "    # Return minimum value\n",
    "    return Min + fsum\n",
    "\n",
    "# The main function that calculates minimum\n",
    "# cost of a Binary Search Tree. It mainly\n",
    "# uses optCost() to find the optimal cost.\n",
    "def optimalSearchTree(keys, freq, n):\n",
    "\n",
    "    # Here array keys[] is assumed to be\n",
    "    # sorted in increasing order. If keys[]\n",
    "    # is not sorted, then add code to sort\n",
    "    # keys, and rearrange freq[] accordingly.\n",
    "    return optCost(freq, 0, n - 1)\n",
    "\n",
    "# A utility function to get sum of\n",
    "# array elements freq[i] to freq[j]\n",
    "\n",
    "\n",
    "def Sum(freq, i, j):\n",
    "    s = 0\n",
    "    for k in range(i, j + 1):\n",
    "        s += freq[k]\n",
    "    return s\n",
    "\n",
    "\n",
    "# Driver Code\n",
    "if __name__ == '__main__':\n",
    "    keys = [10, 12, 20]\n",
    "    freq = [34, 8, 50]\n",
    "    n = len(keys)\n",
    "    print(\"Cost of Optimal BST is\",\n",
    "          optimalSearchTree(keys, freq, n))\n",
    "\n",
    "# This code is contributed by PranchalK\n"
   ]
  },
  {
   "cell_type": "code",
   "execution_count": null,
   "metadata": {},
   "outputs": [],
   "source": []
  }
 ],
 "metadata": {
  "kernelspec": {
   "display_name": "Python 3",
   "language": "python",
   "name": "python3"
  },
  "language_info": {
   "codemirror_mode": {
    "name": "ipython",
    "version": 3
   },
   "file_extension": ".py",
   "mimetype": "text/x-python",
   "name": "python",
   "nbconvert_exporter": "python",
   "pygments_lexer": "ipython3",
   "version": "3.8.5"
  }
 },
 "nbformat": 4,
 "nbformat_minor": 4
}
