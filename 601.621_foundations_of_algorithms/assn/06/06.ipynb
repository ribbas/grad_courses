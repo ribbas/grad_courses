{
 "cells": [
  {
   "cell_type": "markdown",
   "metadata": {},
   "source": [
    "# 605.621 - Foundations of Algorithms\n",
    "\n",
    "## Assignment 05\n",
    "\n",
    "Sabbir Ahmed\n",
    "\n",
    "April 4, 2021"
   ]
  },
  {
   "cell_type": "markdown",
   "metadata": {},
   "source": [
    "### Question 1\n",
    "\n",
    "\\[20 pts, Huffman coding\\]\n",
    "\n",
    "Solve exercise 16.3-3 (Cormen page 436).\n",
    "\n",
    "What is an optimal Huffman code for the following set of frequencies, based on the first 8 Fibonacci numbers?\n",
    "\n",
    "`a:1 b:1 c:2 d:3 e:5 f:8 g:13 h:21`\n",
    "\n",
    "Can you generalize your answer to find the optimal code when the frequencies are the first $n$ Fibonacci numbers?"
   ]
  },
  {
   "cell_type": "markdown",
   "metadata": {},
   "source": [
    "### Answer\n",
    "\n"
   ]
  },
  {
   "cell_type": "markdown",
   "metadata": {},
   "source": [
    "-----------------------------------------"
   ]
  },
  {
   "cell_type": "markdown",
   "metadata": {},
   "source": [
    "### Question 2\n",
    "\n",
    "\\[20 pts, algorithms\\]\n",
    "\n",
    "Consider evaluating a polynomial, e.g. given $f(x)=x^5 +3x^2 -x+2, f(2) = 44$\n",
    "\n",
    "Considering the general case, where the degree of the polynomial is $n$, state (i) a naive algorithm, and (ii) a linear algorithm to evaluate polynomials for a given real valued input.\n",
    "\n",
    "What is the type of this linear algorithm?"
   ]
  },
  {
   "cell_type": "markdown",
   "metadata": {},
   "source": [
    "### Answer"
   ]
  },
  {
   "cell_type": "markdown",
   "metadata": {},
   "source": [
    "-----------------------------------------"
   ]
  },
  {
   "cell_type": "markdown",
   "metadata": {},
   "source": [
    "### Question 3\n",
    "\n",
    "\\[40 pts, DFS and BFS\\]\n",
    "\n",
    "Using the DFS and BFS pseudocode/Python scripts in the lecture notes, empirically show that both DFS and BFS can be completed in $O(|V|+|E|)$."
   ]
  },
  {
   "cell_type": "markdown",
   "metadata": {},
   "source": [
    "### Answer"
   ]
  },
  {
   "cell_type": "markdown",
   "metadata": {},
   "source": [
    "-----------------------------------------"
   ]
  },
  {
   "cell_type": "markdown",
   "metadata": {},
   "source": [
    "### Question 4\n",
    "\n",
    "\\[10 pts, DFS\\]\n",
    "\n",
    "Solve exercise 22.3-8 (Cormen page 611).\n",
    "\n",
    "Give a counterexample to the conjecture that if a directed graph G contains a path from $u$ to $v$, and if $u.d < v.d$ in a depth-first search of $G$, then $v$ is a descendant of $u$ in the depth-first forest produced."
   ]
  },
  {
   "cell_type": "markdown",
   "metadata": {},
   "source": [
    "### Answer"
   ]
  },
  {
   "cell_type": "markdown",
   "metadata": {},
   "source": [
    "-----------------------------------------"
   ]
  },
  {
   "cell_type": "markdown",
   "metadata": {},
   "source": [
    "### Question 5\n",
    "\n",
    "\\[10 pts, DFS\\]\n",
    "\n",
    "Solve exercise 22.3-9 (Cormen page 612).\n",
    "\n",
    "Give a counterexample to the conjecture that if a directed graph $G$ contains a path from $u$ to $v$, then any depth-first search must result in $v.d \\le u.f$."
   ]
  },
  {
   "cell_type": "markdown",
   "metadata": {},
   "source": [
    "### Answer"
   ]
  },
  {
   "cell_type": "markdown",
   "metadata": {},
   "source": [
    "-----------------------------------------"
   ]
  }
 ],
 "metadata": {
  "kernelspec": {
   "display_name": "Python 3",
   "language": "python",
   "name": "python3"
  },
  "language_info": {
   "codemirror_mode": {
    "name": "ipython",
    "version": 3
   },
   "file_extension": ".py",
   "mimetype": "text/x-python",
   "name": "python",
   "nbconvert_exporter": "python",
   "pygments_lexer": "ipython3",
   "version": "3.8.5"
  }
 },
 "nbformat": 4,
 "nbformat_minor": 4
}
