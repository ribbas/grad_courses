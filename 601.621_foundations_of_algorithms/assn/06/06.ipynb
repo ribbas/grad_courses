{
 "cells": [
  {
   "cell_type": "markdown",
   "metadata": {},
   "source": [
    "# 605.621 - Foundations of Algorithms\n",
    "\n",
    "## Assignment 05\n",
    "\n",
    "Sabbir Ahmed\n",
    "\n",
    "April 18, 2021"
   ]
  },
  {
   "cell_type": "code",
   "execution_count": 1,
   "metadata": {},
   "outputs": [],
   "source": [
    "%matplotlib inline\n",
    "import matplotlib.pyplot as plt\n",
    "import networkx as nx\n",
    "import numpy as np\n",
    "\n",
    "np.random.seed(123)"
   ]
  },
  {
   "cell_type": "code",
   "execution_count": 2,
   "metadata": {},
   "outputs": [],
   "source": [
    "def draw_graph(_g):\n",
    "    nx.draw(_g, nx.kamada_kawai_layout(_g), node_size=500, node_color='0.9', with_labels=True)"
   ]
  },
  {
   "cell_type": "markdown",
   "metadata": {},
   "source": [
    "### Question 1\n",
    "\n",
    "\\[20 pts, Huffman coding\\]\n",
    "\n",
    "Solve exercise 16.3-3 (Cormen page 436).\n",
    "\n",
    "What is an optimal Huffman code for the following set of frequencies, based on the first 8 Fibonacci numbers?\n",
    "\n",
    "`a:1 b:1 c:2 d:3 e:5 f:8 g:13 h:21`\n",
    "\n",
    "Can you generalize your answer to find the optimal code when the frequencies are the first $n$ Fibonacci numbers?"
   ]
  },
  {
   "cell_type": "markdown",
   "metadata": {},
   "source": [
    "### Answer\n",
    "\n"
   ]
  },
  {
   "cell_type": "markdown",
   "metadata": {},
   "source": [
    "Building a Huffman tree with the given frequencies:\n",
    "\n",
    "```\n",
    "54\n",
    "|-------|\n",
    "h:21    33\n",
    "        |-------|\n",
    "        g:13    20\n",
    "                |-------|\n",
    "                f:8     12\n",
    "                        |-------|\n",
    "                        e:5     7\n",
    "                                |-------|\n",
    "                                d:3     4\n",
    "                                        |-------|\n",
    "                                        c:2     2\n",
    "                                                |-------|\n",
    "                                                b:1     a:1\n",
    "```\n",
    "\n",
    "Where the left child has a weight of 0 and the right a weight of 1.\n",
    "\n",
    "The Huffman codes are as follows:\n",
    "- `h`: `0`\n",
    "- `g`: `10`\n",
    "- `f`: `110`\n",
    "- `e`: `1110`\n",
    "- `d`: `11110`\n",
    "- `c`: `111110`\n",
    "- `b`: `1111110`\n",
    "- `a`: `1111111`\n",
    "\n",
    "The frequencies of the first $n$ Fibonacci numbers can be represented as the recurrence relation $F_{n+2}=F_{n+1}+F_n= \\sum_{i=0}^{n}F_i+1$"
   ]
  },
  {
   "cell_type": "markdown",
   "metadata": {},
   "source": [
    "-----------------------------------------"
   ]
  },
  {
   "cell_type": "markdown",
   "metadata": {},
   "source": [
    "### Question 2\n",
    "\n",
    "\\[20 pts, algorithms\\]\n",
    "\n",
    "Consider evaluating a polynomial, e.g. given $f(x)=x^5 +3x^2 -x+2, f(2) = 44$\n",
    "\n",
    "Considering the general case, where the degree of the polynomial is $n$, state (i) a naive algorithm, and (ii) a linear algorithm to evaluate polynomials for a given real valued input.\n",
    "\n",
    "What is the type of this linear algorithm?"
   ]
  },
  {
   "cell_type": "markdown",
   "metadata": {},
   "source": [
    "### Answer"
   ]
  },
  {
   "cell_type": "markdown",
   "metadata": {},
   "source": [
    "-----------------------------------------"
   ]
  },
  {
   "cell_type": "markdown",
   "metadata": {},
   "source": [
    "### Question 3\n",
    "\n",
    "\\[40 pts, DFS and BFS\\]\n",
    "\n",
    "Using the DFS and BFS pseudocode/Python scripts in the lecture notes, empirically show that both DFS and BFS can be completed in $O(|V|+|E|)$."
   ]
  },
  {
   "cell_type": "markdown",
   "metadata": {},
   "source": [
    "### Answer"
   ]
  },
  {
   "cell_type": "code",
   "execution_count": 3,
   "metadata": {},
   "outputs": [],
   "source": [
    "# Set a vertex class to store DFS (first timestamp) and parent\n",
    "class Vertex:\n",
    "    def __init__(self, label):\n",
    "        self.label = label\n",
    "        self.dfs = None\n",
    "        self.p = None\n",
    "        self.seen = False\n",
    "\n",
    "\n",
    "# Root is specially handled\n",
    "ROOT_PARENT_LABEL = \"nul\"\n",
    "ROOT_PARENT = Vertex(ROOT_PARENT_LABEL)\n",
    "\n",
    "\n",
    "def adj_list(_e: list) -> (dict, dict):  # _e is a list of 2-tuples\n",
    "    \"\"\"Generate an adjacency list from the input edges _e\"\"\"\n",
    "    from collections import defaultdict\n",
    "    assert type(_e) is list\n",
    "    assert type(_e[0]) is tuple\n",
    "\n",
    "    edges = defaultdict(list)\n",
    "    vertices = {}  # convert the labels to vertex objects\n",
    "    for v1, v2 in _e:\n",
    "        if v1 not in vertices:\n",
    "            vertices[v1] = Vertex(v1)\n",
    "        if v2 not in vertices:\n",
    "            vertices[v2] = Vertex(v2)\n",
    "        edges[v1] += [vertices[v2]]\n",
    "        edges[v2] += [vertices[v1]]\n",
    "    # Sort adjacency list edges\n",
    "    for v in edges:\n",
    "        edges[v] = sorted(edges[v], key=lambda x: x.label)\n",
    "\n",
    "    return vertices, edges"
   ]
  },
  {
   "cell_type": "code",
   "execution_count": 4,
   "metadata": {},
   "outputs": [],
   "source": [
    "class GraphGenerator():\n",
    "\n",
    "    def __init__(self, v):\n",
    "        \"\"\"Generate a random undirected graph of `v` nodes and `v` * 2 < x < `v` * 5\n",
    "        edges and provide methods to find all the maximal and maximum cliques.\n",
    "\n",
    "        Args:\n",
    "            v <int>: number of vertices for the random graph\n",
    "        \"\"\"\n",
    "        # number of nodes in the graph\n",
    "        self.v = v\n",
    "\n",
    "        # number of recursive calls made\n",
    "        self.dfs_iterations = 1\n",
    "        self.bfs_iterations = 1\n",
    "\n",
    "        # generate a random number between n and 5n\n",
    "        self.e = np.random.randint(self.v * 2, self.v * 5)\n",
    "\n",
    "        # generate a random graph of n nodes and e edges\n",
    "        self.G = nx.gnm_random_graph(self.v, self.e)\n",
    "\n",
    "        self.dfs_vertices, self.dfs_edges = adj_list(list(self.G.edges))\n",
    "        self.bfs_vertices, self.bfs_edges = adj_list(list(self.G.edges))\n",
    "\n",
    "        self.dfs_root = self.dfs_vertices[1]\n",
    "        self.dfs_root.p = ROOT_PARENT\n",
    "\n",
    "        self.bfs_root = self.bfs_vertices[1]\n",
    "        self.bfs_root.p = ROOT_PARENT\n",
    "        \n",
    "        self.sum_v_e = 0\n",
    "        self.factor = 0\n",
    "\n",
    "    def dfs(self):\n",
    "        # pre-order traversal to populate dfs values\n",
    "        stack = [self.dfs_root]  # stack is simply a Python list\n",
    "        while len(stack) > 0:\n",
    "            v1 = stack.pop()\n",
    "            if not v1.seen:  # not visited yet\n",
    "                v1.seen = True\n",
    "                v1.dfs = self.dfs_iterations\n",
    "                # edge dictionary key is vertex label, value is list of nodes\n",
    "                for v2 in self.dfs_edges[v1.label]:\n",
    "                    if not v2.seen:  # not visited yet\n",
    "                        v2.p = v1  # set parent\n",
    "                        stack += [v2]\n",
    "                    self.dfs_iterations += 1\n",
    "\n",
    "    def bfs(self):\n",
    "        # in-order traversal to populate dfs values\n",
    "        queue = [self.bfs_root]  # queue is simply a Python list\n",
    "        while len(queue) > 0:\n",
    "            v1 = queue.pop(0)  # Get the first element\n",
    "            if not v1.seen:  # not visited yet\n",
    "                v1.seen = True\n",
    "                v1.dfs = self.bfs_iterations\n",
    "                # edge dictionary key is vertex label, value is list of nodes\n",
    "                for v2 in self.bfs_edges[v1.label]:\n",
    "                    if not v2.seen:  # not visited yet\n",
    "                        v2.p = v1  # set parent\n",
    "                        queue += [v2]\n",
    "                    self.bfs_iterations += 1\n",
    "\n",
    "    def get_stats(self):\n",
    "        \n",
    "        self.sum_v_e = self.v + self.e\n",
    "        max_val = max((self.sum_v_e), (self.bfs_iterations + self.dfs_iterations) // 2)\n",
    "        min_val = min((self.sum_v_e), (self.bfs_iterations + self.dfs_iterations) // 2)\n",
    "        self.factor = max_val / min_val\n",
    "\n",
    "    def report(self):\n",
    "        \"\"\"Report the statistics and list all the cliques found\"\"\"\n",
    "        print(f\"Total number of DFS iterations: {self.dfs_iterations}\")\n",
    "        print(f\"Total number of BFS iterations: {self.bfs_iterations}\")\n",
    "        print(f\"Number of vertices (|V|): {self.v}\")\n",
    "        print(f\"Number of edges (|E|): {self.e}\")\n",
    "        print(f\"|V|+|E|: {self.sum_v_e}\")\n",
    "        print(f\"Factor: {self.factor}\")"
   ]
  },
  {
   "cell_type": "code",
   "execution_count": 5,
   "metadata": {},
   "outputs": [
    {
     "name": "stdout",
     "output_type": "stream",
     "text": [
      "Total number of DFS iterations: 67\n",
      "Total number of BFS iterations: 67\n",
      "Number of vertices (|V|): 10\n",
      "Number of edges (|E|): 33\n",
      "|V|+|E|: 43\n",
      "Factor: 1.558139534883721\n"
     ]
    },
    {
     "data": {
      "image/png": "[encoded data removed]",
      "text/plain": [
       "<Figure size 432x288 with 1 Axes>"
      ]
     },
     "metadata": {},
     "output_type": "display_data"
    }
   ],
   "source": [
    "graph = GraphGenerator(10)\n",
    "nx.draw(graph.G, with_labels=True)\n",
    "graph.dfs()\n",
    "graph.bfs()\n",
    "graph.get_stats()\n",
    "graph.report()"
   ]
  },
  {
   "cell_type": "code",
   "execution_count": 6,
   "metadata": {},
   "outputs": [
    {
     "name": "stdout",
     "output_type": "stream",
     "text": [
      "Vertices | Edges  | Sum    | BFS    | DFS    | Factor\n",
      "------------------------------------------------------\n",
      "10       | 32     | 42     | 65     | 65     | 1.52 \n",
      "100      | 375    | 475    | 751    | 751    | 1.57 \n",
      "1000     | 3222   | 4222   | 6446   | 6446   | 1.51 \n",
      "10000    | 32507  | 42507  | 65013  | 65013  | 1.51 \n",
      "100000   | 363256 | 463256 | 726496 | 726496 | 1.54 \n"
     ]
    }
   ],
   "source": [
    "print(f\"{'Vertices':<6} | {'Edges':<6} | {'Sum':<6} | {'BFS':<6} | {'DFS':<6} | {'Factor':<6}\")\n",
    "print(\"------------------------------------------------------\")\n",
    "edges = []\n",
    "sums = []\n",
    "bfs_iters = []\n",
    "dfs_iters = []\n",
    "factors = []\n",
    "for i in range(1, 6):\n",
    "    vertices = 10**i\n",
    "    for _ in range(5):\n",
    "        graph = GraphGenerator(vertices)\n",
    "        graph.dfs()\n",
    "        graph.bfs()\n",
    "        graph.get_stats()\n",
    "\n",
    "        edges.append(graph.e)\n",
    "        sums.append(graph.sum_v_e)\n",
    "        bfs_iters.append(graph.bfs_iterations)\n",
    "        dfs_iters.append(graph.dfs_iterations)\n",
    "        factors.append(graph.factor)\n",
    "\n",
    "    mean_edges = int(np.mean(edges))\n",
    "    mean_sums = int(np.mean(sums))\n",
    "    mean_bfs_iters = int(np.mean(bfs_iters))\n",
    "    mean_dfs_iters = int(np.mean(dfs_iters))\n",
    "    mean_factors = np.mean(factors)\n",
    "    edges = []\n",
    "    sums = []\n",
    "    bfs_iters = []\n",
    "    dfs_iters = []\n",
    "    factors = []\n",
    "\n",
    "    print(f\"{vertices:<8} | {mean_edges:<6} | {mean_sums:<6} | {mean_bfs_iters:<6} | {mean_dfs_iters:<6} | {mean_factors:<5.3}\")"
   ]
  },
  {
   "cell_type": "markdown",
   "metadata": {},
   "source": [
    "On average, the number of operations in DFS and BFS were approximately 1.5 times larger than their corresponding $|V|+|E|$.\n",
    "\n",
    "Since $1.5(|V|+|E|)\\in O(|V|+|E|)$, DFS and BFS can be completed in $O(|V|+|E|)$."
   ]
  },
  {
   "cell_type": "markdown",
   "metadata": {},
   "source": [
    "-----------------------------------------"
   ]
  },
  {
   "cell_type": "markdown",
   "metadata": {},
   "source": [
    "### Question 4\n",
    "\n",
    "\\[10 pts, DFS\\]\n",
    "\n",
    "Solve exercise 22.3-8 (Cormen page 611).\n",
    "\n",
    "Give a counterexample to the conjecture that if a directed graph G contains a path from $u$ to $v$, and if $u.d < v.d$ in a depth-first search of $G$, then $v$ is a descendant of $u$ in the depth-first forest produced."
   ]
  },
  {
   "cell_type": "markdown",
   "metadata": {},
   "source": [
    "### Answer"
   ]
  },
  {
   "cell_type": "markdown",
   "metadata": {},
   "source": [
    "Consider the directed graph below:"
   ]
  },
  {
   "cell_type": "code",
   "execution_count": 7,
   "metadata": {},
   "outputs": [
    {
     "data": {
      "image/png": "[encoded data removed]",
      "text/plain": [
       "<Figure size 432x288 with 1 Axes>"
      ]
     },
     "metadata": {},
     "output_type": "display_data"
    }
   ],
   "source": [
    "edges = [('u','t'), ('t','v'), ('v','t')]\n",
    "\n",
    "G = nx.DiGraph()\n",
    "G.add_edges_from(edges)\n",
    "draw_graph(G)"
   ]
  },
  {
   "cell_type": "markdown",
   "metadata": {},
   "source": [
    "If $t$ is the root vertex, then:\n",
    "\n",
    "- $u.d$: 2\n",
    "- $u.f$: 3\n",
    "- $v.d$: 4\n",
    "- $v.f$: 5\n",
    "\n",
    "Therefore, if there is a path from $u$ to $v$, with $u.d < v.d$, $v$ does not have to be a descendant of $u$."
   ]
  },
  {
   "cell_type": "markdown",
   "metadata": {},
   "source": [
    "-----------------------------------------"
   ]
  },
  {
   "cell_type": "markdown",
   "metadata": {},
   "source": [
    "### Question 5\n",
    "\n",
    "\\[10 pts, DFS\\]\n",
    "\n",
    "Solve exercise 22.3-9 (Cormen page 612).\n",
    "\n",
    "Give a counterexample to the conjecture that if a directed graph $G$ contains a path from $u$ to $v$, then any depth-first search must result in $v.d \\le u.f$."
   ]
  },
  {
   "cell_type": "markdown",
   "metadata": {},
   "source": [
    "### Answer"
   ]
  },
  {
   "cell_type": "markdown",
   "metadata": {},
   "source": [
    "Consider the directed graph below:"
   ]
  },
  {
   "cell_type": "code",
   "execution_count": 8,
   "metadata": {},
   "outputs": [
    {
     "data": {
      "image/png": "[encoded data removed]",
      "text/plain": [
       "<Figure size 432x288 with 1 Axes>"
      ]
     },
     "metadata": {},
     "output_type": "display_data"
    }
   ],
   "source": [
    "edges = [(\"t\", \"u\"), (\"t\", \"v\"), (\"u\", \"t\")]\n",
    "\n",
    "G = nx.DiGraph()\n",
    "G.add_edges_from(edges)\n",
    "draw_graph(G)"
   ]
  },
  {
   "cell_type": "markdown",
   "metadata": {},
   "source": [
    "There is a path from $u$ to $v$. However, if $t$ is the source vertex for a DFS and process $u$ before $v$, then $v.d = 4 > u.f = 3$."
   ]
  },
  {
   "cell_type": "markdown",
   "metadata": {},
   "source": [
    "-----------------------------------------"
   ]
  }
 ],
 "metadata": {
  "kernelspec": {
   "display_name": "Python 3",
   "language": "python",
   "name": "python3"
  },
  "language_info": {
   "codemirror_mode": {
    "name": "ipython",
    "version": 3
   },
   "file_extension": ".py",
   "mimetype": "text/x-python",
   "name": "python",
   "nbconvert_exporter": "python",
   "pygments_lexer": "ipython3",
   "version": "3.8.5"
  }
 },
 "nbformat": 4,
 "nbformat_minor": 4
}
