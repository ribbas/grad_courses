{
 "cells": [
  {
   "cell_type": "markdown",
   "metadata": {},
   "source": [
    "# 605.621 - Foundations of Algorithms\n",
    "\n",
    "## Assignment 05\n",
    "\n",
    "Sabbir Ahmed\n",
    "\n",
    "April 4, 2021"
   ]
  },
  {
   "cell_type": "markdown",
   "metadata": {},
   "source": [
    "### Question 1\n",
    "\n",
    "\\[20 pts, tree traversal, induction\\]\n",
    "\n",
    "Consider the following algorithm for doing a post-order traversal of a binary tree with root vertex `root`. Prove that this algorithm runs in time $\\theta(n)$ when the input is an $n$-vertex binary tree.\n",
    "\n",
    "```\n",
    "def postorder(root):\n",
    "    if root is not None:\n",
    "        postorder(root.left)\n",
    "        postorder(root.right)\n",
    "        visit(root)\n",
    "```"
   ]
  },
  {
   "cell_type": "markdown",
   "metadata": {},
   "source": [
    "### Answer"
   ]
  },
  {
   "cell_type": "markdown",
   "metadata": {},
   "source": [
    "-----------------------------------------"
   ]
  },
  {
   "cell_type": "markdown",
   "metadata": {},
   "source": [
    "### Question 2\n",
    "\n",
    "\\[40 pts, Greedy\\]\n",
    "\n",
    "Suppose you are acting as a consultant for the Port Authority of a small Pacific Rim nation. They are currently doing a multi-billion-dollar business per year, and their revenue is constrained almost entirely by the rate at which they can unload ships that arrive in the port. Here is a basic sort of problem they face. A ship arrives with $n$ containers of weight $w_1, w_2, ..., w_n$. Standing on the deck is a set of trucks, each of which can hold $K$ units of weight. (You may assume that $K$ and $w_i$ are integers.) You can stack multiple containers in each truck, subject to the weight restrictions of $K$. The goal is to minimize the number of trucks that are needed to carry all the containers. This problem is NP-complete.\n",
    "\n",
    "A greedy algorithm you might use for this is the following. Start with an empty truck and begin piling containers 1, 2, 3, ... onto it until you get to a container that would overflow the weight limit. (These containers might not be sorted by weight.) Now declare this truck \"loaded\" and send it off. Then continue the process with a fresh truck. By considering trucks one at a time, this algorithm may not achieve the most efficient way to pack the full set of containers into an available collection of trucks."
   ]
  },
  {
   "cell_type": "markdown",
   "metadata": {},
   "source": [
    "a) Give an example of a set of weights and a value for $K$ where this algorithm does not use the minimum number of trucks."
   ]
  },
  {
   "cell_type": "markdown",
   "metadata": {},
   "source": [
    "b) Show that the number of trucks used by this algorithm is within a factor of two of the minimum possible number for any set of weights and any value of $K$."
   ]
  },
  {
   "cell_type": "markdown",
   "metadata": {},
   "source": [
    "### Answer"
   ]
  },
  {
   "cell_type": "markdown",
   "metadata": {},
   "source": [
    "-----------------------------------------"
   ]
  },
  {
   "cell_type": "markdown",
   "metadata": {},
   "source": [
    "### Question 3\n",
    "\n",
    "\\[40 pts, dynamic programming\\]\n",
    "\n",
    "Consider Longest Increasing Path in a Matrix problem where the goal is finding the longest path that starts from any element of the matrix and follows a path where each __consecutive__ element is __greater__ than the previous. The path can follow left, right, up and bottom elements while watching the border of the matrix. List the recurrence rules and submit a working Python code to implement a dynamic programming algorithm (Hint: use recursion for simplicity)."
   ]
  },
  {
   "cell_type": "markdown",
   "metadata": {},
   "source": [
    "### Answer"
   ]
  },
  {
   "cell_type": "markdown",
   "metadata": {},
   "source": [
    "-----------------------------------------"
   ]
  }
 ],
 "metadata": {
  "kernelspec": {
   "display_name": "Python 3",
   "language": "python",
   "name": "python3"
  },
  "language_info": {
   "codemirror_mode": {
    "name": "ipython",
    "version": 3
   },
   "file_extension": ".py",
   "mimetype": "text/x-python",
   "name": "python",
   "nbconvert_exporter": "python",
   "pygments_lexer": "ipython3",
   "version": "3.8.5"
  }
 },
 "nbformat": 4,
 "nbformat_minor": 4
}
