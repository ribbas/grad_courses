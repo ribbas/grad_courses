{
 "cells": [
  {
   "cell_type": "markdown",
   "metadata": {},
   "source": [
    "# 605.621 - Foundations of Algorithms\n",
    "\n",
    "## Assignment 05\n",
    "\n",
    "Sabbir Ahmed\n",
    "\n",
    "April 18, 2021"
   ]
  },
  {
   "cell_type": "code",
   "execution_count": 1,
   "metadata": {},
   "outputs": [],
   "source": [
    "%matplotlib inline\n",
    "import matplotlib.pyplot as plt\n",
    "import networkx as nx"
   ]
  },
  {
   "cell_type": "code",
   "execution_count": 2,
   "metadata": {},
   "outputs": [
    {
     "data": {
      "image/png": "[encoded data removed]",
      "text/plain": [
       "<Figure size 432x288 with 1 Axes>"
      ]
     },
     "metadata": {},
     "output_type": "display_data"
    }
   ],
   "source": [
    "def draw_graph(_g):\n",
    "    nx.draw(_g, nx.kamada_kawai_layout(_g), node_size=500, node_color='0.9', with_labels=True)\n",
    "\n",
    "Edges = [('A','B'),('A','H'),('B','C'),('B','H'),('C','D'),('C','E'),('D','F'),('D','I'),('C','K'),\n",
    "         ('E','G'),('E','H'),('F','I'),('H','J'),('H','L'),('I','K'),('J','L'),('L','M'),\n",
    "         ('L','O'), ('J','M'), ('M','O')]\n",
    "\n",
    "G = nx.Graph()\n",
    "G.add_edges_from(Edges)\n",
    "\n",
    "draw_graph(G)"
   ]
  },
  {
   "cell_type": "markdown",
   "metadata": {},
   "source": [
    "### Question 1\n",
    "\n",
    "\\[20 pts, Huffman coding\\]\n",
    "\n",
    "Solve exercise 16.3-3 (Cormen page 436).\n",
    "\n",
    "What is an optimal Huffman code for the following set of frequencies, based on the first 8 Fibonacci numbers?\n",
    "\n",
    "`a:1 b:1 c:2 d:3 e:5 f:8 g:13 h:21`\n",
    "\n",
    "Can you generalize your answer to find the optimal code when the frequencies are the first $n$ Fibonacci numbers?"
   ]
  },
  {
   "cell_type": "markdown",
   "metadata": {},
   "source": [
    "### Answer\n",
    "\n"
   ]
  },
  {
   "cell_type": "markdown",
   "metadata": {},
   "source": [
    "Building a Huffman tree with the given frequencies:\n",
    "\n",
    "```\n",
    "54\n",
    "|-------|\n",
    "h:21    33\n",
    "        |-------|\n",
    "        g:13    20\n",
    "                |-------|\n",
    "                f:8     12\n",
    "                        |-------|\n",
    "                        e:5     7\n",
    "                                |-------|\n",
    "                                d:3     4\n",
    "                                        |-------|\n",
    "                                        c:2     2\n",
    "                                                |-------|\n",
    "                                                b:1     a:1\n",
    "```\n",
    "\n",
    "Where the left child has a weight of 0 and the right a weight of 1.\n",
    "\n",
    "The Huffman codes are as follows:\n",
    "- `h`: `0`\n",
    "- `g`: `10`\n",
    "- `f`: `110`\n",
    "- `e`: `1110`\n",
    "- `d`: `11110`\n",
    "- `c`: `111110`\n",
    "- `b`: `1111110`\n",
    "- `a`: `1111111`\n",
    "\n",
    "The frequencies of the first $n$ Fibonacci numbers can be represented as the recurrence relation $F_{n+2}=F_{n+1}+F_n= \\sum_{i=0}^{n}F_i+1$"
   ]
  },
  {
   "cell_type": "markdown",
   "metadata": {},
   "source": [
    "-----------------------------------------"
   ]
  },
  {
   "cell_type": "markdown",
   "metadata": {},
   "source": [
    "### Question 2\n",
    "\n",
    "\\[20 pts, algorithms\\]\n",
    "\n",
    "Consider evaluating a polynomial, e.g. given $f(x)=x^5 +3x^2 -x+2, f(2) = 44$\n",
    "\n",
    "Considering the general case, where the degree of the polynomial is $n$, state (i) a naive algorithm, and (ii) a linear algorithm to evaluate polynomials for a given real valued input.\n",
    "\n",
    "What is the type of this linear algorithm?"
   ]
  },
  {
   "cell_type": "markdown",
   "metadata": {},
   "source": [
    "### Answer"
   ]
  },
  {
   "cell_type": "markdown",
   "metadata": {},
   "source": [
    "-----------------------------------------"
   ]
  },
  {
   "cell_type": "markdown",
   "metadata": {},
   "source": [
    "### Question 3\n",
    "\n",
    "\\[40 pts, DFS and BFS\\]\n",
    "\n",
    "Using the DFS and BFS pseudocode/Python scripts in the lecture notes, empirically show that both DFS and BFS can be completed in $O(|V|+|E|)$."
   ]
  },
  {
   "cell_type": "markdown",
   "metadata": {},
   "source": [
    "### Answer"
   ]
  },
  {
   "cell_type": "code",
   "execution_count": 3,
   "metadata": {},
   "outputs": [],
   "source": [
    "# Set a vertex class to store DFS (first timestamp) and parent\n",
    "class Vertex:\n",
    "    def __init__(self, label):\n",
    "        self.label = label\n",
    "        self.dfs = None\n",
    "        self.p = None\n",
    "        self.seen = False\n",
    "\n",
    "\n",
    "# Root is specially handled\n",
    "ROOT_PARENT_LABEL = \"nul\"\n",
    "ROOT_PARENT = Vertex(ROOT_PARENT_LABEL)\n",
    "\n",
    "# Generate an adjacency list from the input edges _e\n",
    "\n",
    "\n",
    "def adj_list(_e: list) -> (dict, dict):  # _e is a list of 2-tuples\n",
    "    from collections import defaultdict\n",
    "    assert type(_e) is list\n",
    "    assert type(_e[0]) is tuple\n",
    "\n",
    "    edges = defaultdict(list)\n",
    "    vertices = {}  # convert the labels to vertex objects\n",
    "    for v1, v2 in _e:\n",
    "        if v1 not in vertices:\n",
    "            vertices[v1] = Vertex(v1)\n",
    "        if v2 not in vertices:\n",
    "            vertices[v2] = Vertex(v2)\n",
    "        edges[v1] += [vertices[v2]]\n",
    "        edges[v2] += [vertices[v1]]\n",
    "    # Sort adjacency list edges\n",
    "    for v in edges:\n",
    "        edges[v] = sorted(edges[v], key=lambda x: x.label)\n",
    "    #\n",
    "    return vertices, edges\n",
    "\n",
    "# DFS uses a stack iteratively to avoid recursion, pre-order traversal\n",
    "# edge list key is the vertex label\n",
    "\n",
    "\n",
    "def dfs_stack(_e, _root):\n",
    "    # pre-order traversal to populate dfs values\n",
    "    dfscounter = 1\n",
    "    stack = [_root]  # stack is simply a Python list\n",
    "    while len(stack) > 0:\n",
    "        v1 = stack.pop()\n",
    "        print(v1.label)\n",
    "        if not v1.seen:  # not visited yet\n",
    "            v1.seen = True\n",
    "            v1.dfs = dfscounter\n",
    "            dfscounter += 1\n",
    "            # edge dictionary key is vertex label, value is list of nodes\n",
    "            for v2 in _e[v1.label]:\n",
    "                if not v2.seen:  # not visited yet\n",
    "                    v2.p = v1  # set parent\n",
    "                    stack += [v2]\n",
    "    print(dfscounter)\n"
   ]
  },
  {
   "cell_type": "code",
   "execution_count": 4,
   "metadata": {},
   "outputs": [
    {
     "name": "stdout",
     "output_type": "stream",
     "text": [
      "A\n",
      "H\n",
      "L\n",
      "O\n",
      "M\n",
      "J\n",
      "M\n",
      "J\n",
      "J\n",
      "E\n",
      "G\n",
      "C\n",
      "K\n",
      "I\n",
      "F\n",
      "D\n",
      "D\n",
      "D\n",
      "B\n",
      "B\n",
      "B\n",
      "15\n"
     ]
    }
   ],
   "source": [
    "vertices1, edges1 = adj_list(Edges)\n",
    "# Set the root\n",
    "root = vertices1['A']\n",
    "root.p = ROOT_PARENT\n",
    "dfs_stack(edges1, root)"
   ]
  },
  {
   "cell_type": "code",
   "execution_count": 5,
   "metadata": {},
   "outputs": [
    {
     "name": "stdout",
     "output_type": "stream",
     "text": [
      "1\n",
      "6\n",
      "10\n",
      "11\n",
      "7\n",
      "12\n",
      "13\n",
      "2\n",
      "8\n",
      "14\n",
      "9\n",
      "4\n",
      "3\n",
      "3\n",
      "3\n",
      "8\n",
      "2\n",
      "3\n",
      "2\n",
      "5\n",
      "4\n",
      "15\n"
     ]
    }
   ],
   "source": [
    "randomg = nx.gnm_random_graph(15, 20)\n",
    "randomg.remove_node(0)\n",
    "list(randomg.edges)\n",
    "vertices1, edges1 = adj_list(list(randomg.edges))\n",
    "# Set the root\n",
    "root = vertices1[1]\n",
    "root.p = ROOT_PARENT\n",
    "dfs_stack(edges1, root)"
   ]
  },
  {
   "cell_type": "code",
   "execution_count": 6,
   "metadata": {},
   "outputs": [
    {
     "name": "stdout",
     "output_type": "stream",
     "text": [
      "15\n"
     ]
    }
   ],
   "source": [
    "# BFS uses a queue iteratively to avoid recursion, in-order traversal\n",
    "# edge list key is the vertex label\n",
    "def bfs(_e, _root):\n",
    "    # in-order traversal to populate dfs values\n",
    "    dfscounter = 1\n",
    "    queue = [_root]  # queue is simply a Python list\n",
    "    while len(queue) > 0:\n",
    "        v1 = queue.pop(0)  # Get the first element\n",
    "        if not v1.seen:  # not visited yet\n",
    "            v1.seen = True\n",
    "            v1.dfs = dfscounter\n",
    "            dfscounter += 1\n",
    "            # edge dictionary key is vertex label, value is list of nodes\n",
    "            for v2 in _e[v1.label]:\n",
    "                if not v2.seen:  # not visited yet\n",
    "                    v2.p = v1  # set parent\n",
    "                    queue += [v2]\n",
    "    print(dfscounter)\n",
    "\n",
    "vertices1, edges = adj_list(Edges)\n",
    "\n",
    "# Set the root\n",
    "root = vertices1['A']\n",
    "root.p = ROOT_PARENT\n",
    "\n",
    "bfs(edges, root)"
   ]
  },
  {
   "cell_type": "markdown",
   "metadata": {},
   "source": [
    "-----------------------------------------"
   ]
  },
  {
   "cell_type": "markdown",
   "metadata": {},
   "source": [
    "### Question 4\n",
    "\n",
    "\\[10 pts, DFS\\]\n",
    "\n",
    "Solve exercise 22.3-8 (Cormen page 611).\n",
    "\n",
    "Give a counterexample to the conjecture that if a directed graph G contains a path from $u$ to $v$, and if $u.d < v.d$ in a depth-first search of $G$, then $v$ is a descendant of $u$ in the depth-first forest produced."
   ]
  },
  {
   "cell_type": "markdown",
   "metadata": {},
   "source": [
    "### Answer"
   ]
  },
  {
   "cell_type": "markdown",
   "metadata": {},
   "source": [
    "Consider the directed graph below:"
   ]
  },
  {
   "cell_type": "code",
   "execution_count": 7,
   "metadata": {},
   "outputs": [
    {
     "data": {
      "image/png": "[encoded data removed]",
      "text/plain": [
       "<Figure size 432x288 with 1 Axes>"
      ]
     },
     "metadata": {},
     "output_type": "display_data"
    }
   ],
   "source": [
    "edges = [('u','t'), ('t','v'), ('v','t')]\n",
    "\n",
    "G = nx.DiGraph()\n",
    "G.add_edges_from(edges)\n",
    "draw_graph(G)"
   ]
  },
  {
   "cell_type": "markdown",
   "metadata": {},
   "source": [
    "If $t$ is the root vertex, then:\n",
    "\n",
    "- $u.d$: 2\n",
    "- $u.f$: 3\n",
    "- $v.d$: 4\n",
    "- $v.f$: 5\n",
    "\n",
    "Therefore, if there is a path from $u$ to $v$, with $u.d < v.d$, $v$ does not have to be a descendant of $u$."
   ]
  },
  {
   "cell_type": "markdown",
   "metadata": {},
   "source": [
    "-----------------------------------------"
   ]
  },
  {
   "cell_type": "markdown",
   "metadata": {},
   "source": [
    "### Question 5\n",
    "\n",
    "\\[10 pts, DFS\\]\n",
    "\n",
    "Solve exercise 22.3-9 (Cormen page 612).\n",
    "\n",
    "Give a counterexample to the conjecture that if a directed graph $G$ contains a path from $u$ to $v$, then any depth-first search must result in $v.d \\le u.f$."
   ]
  },
  {
   "cell_type": "markdown",
   "metadata": {},
   "source": [
    "### Answer"
   ]
  },
  {
   "cell_type": "markdown",
   "metadata": {},
   "source": [
    "Consider the directed graph below:"
   ]
  },
  {
   "cell_type": "code",
   "execution_count": 8,
   "metadata": {},
   "outputs": [
    {
     "data": {
      "image/png": "[encoded data removed]",
      "text/plain": [
       "<Figure size 432x288 with 1 Axes>"
      ]
     },
     "metadata": {},
     "output_type": "display_data"
    }
   ],
   "source": [
    "edges = [(\"t\", \"u\"), (\"t\", \"v\"), (\"u\", \"t\")]\n",
    "\n",
    "G = nx.DiGraph()\n",
    "G.add_edges_from(edges)\n",
    "draw_graph(G)"
   ]
  },
  {
   "cell_type": "markdown",
   "metadata": {},
   "source": [
    "There is a path from $u$ to $v$. However, if $t$ is the source vertex for a DFS and process $u$ before $v$, then $v.d = 4 > u.f = 3$."
   ]
  },
  {
   "cell_type": "markdown",
   "metadata": {},
   "source": [
    "-----------------------------------------"
   ]
  }
 ],
 "metadata": {
  "kernelspec": {
   "display_name": "Python 3",
   "language": "python",
   "name": "python3"
  },
  "language_info": {
   "codemirror_mode": {
    "name": "ipython",
    "version": 3
   },
   "file_extension": ".py",
   "mimetype": "text/x-python",
   "name": "python",
   "nbconvert_exporter": "python",
   "pygments_lexer": "ipython3",
   "version": "3.8.5"
  }
 },
 "nbformat": 4,
 "nbformat_minor": 4
}
