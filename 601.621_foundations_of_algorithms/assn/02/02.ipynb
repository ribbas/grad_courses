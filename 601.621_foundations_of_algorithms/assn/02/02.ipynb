{
 "cells": [
  {
   "cell_type": "markdown",
   "metadata": {},
   "source": [
    "# 605.621 - Foundations of Algorithms\n",
    "\n",
    "## Assignment 02\n",
    "\n",
    "Sabbir Ahmed\n",
    "\n",
    "February 14, 2021"
   ]
  },
  {
   "cell_type": "markdown",
   "metadata": {},
   "source": [
    "### Question 1\n",
    "\n",
    "\\[20 pts, divide-and-conquer\\]\n",
    "\n",
    "Find and explain a divide-and-conquer solution to a problem (suitable) that we have not\n",
    "discussed in class or presented in the book. (For example, at a restaurant, friends\n",
    "searching an empty table in different parts of the dining area.)"
   ]
  },
  {
   "cell_type": "markdown",
   "metadata": {},
   "source": [
    "### Answer\n",
    "\n",
    "An example of a divide-and-conquer solution to an everyday problem is gathering items at the grocery store. If I head to the store by myself, I would have to find and gather the items in my grocery list by traversing through each of the aisles that hold the wanted items. If I brought another person with me to help me, we can divide up portions of the grocery list so that we each have to traverse through the aisles on our sides of the store; i.e. I gather items from the produce section while the other person gathers items at the poultry section. The more people I bring with me, the faster all the items can be found and gathered. After all the items are gathered, they can be all be checked out."
   ]
  },
  {
   "cell_type": "markdown",
   "metadata": {},
   "source": [
    "-----------------------------------------"
   ]
  },
  {
   "cell_type": "markdown",
   "metadata": {},
   "source": [
    "### Question 2\n",
    "\n",
    "\\[20 pts, recurrence\\]\n",
    "\n",
    "(a) Show that the recurrence $T(n)=T(7n/10)+n$ has an upper bound complexity $T(n)=O(n)$\n",
    "\n",
    "(b) Find and show an upper bound complexity for the recurrence $T(n)=2T(n/2)+n^4$"
   ]
  },
  {
   "cell_type": "markdown",
   "metadata": {},
   "source": [
    "### Answer\n",
    "\n",
    "(a) Using the Master method's form, $T(n)=aT(n/b)+f(n)$,\n",
    "\n",
    "$T(n)=T(7n/10)+n \\Rightarrow a=1, b=10/7, f(n)=n^1$\n",
    "\n",
    "According to the Master method, if $f(n) = O(n^c)$, where $c < log_b(a)$, then $T(n)=\\Theta(f(n))$\n",
    "\n",
    "$\\Rightarrow log_b(a) \\Rightarrow log_{10/7}(1)=0$\n",
    "\n",
    "$\\Rightarrow n = n^1 \\Rightarrow c = 1$\n",
    "\n",
    "$\\Rightarrow c > log_b(a)$\n",
    "\n",
    "Therefore, $T(n)=\\Theta(n)$"
   ]
  },
  {
   "cell_type": "markdown",
   "metadata": {},
   "source": [
    "(b) Using the Master method's form, $T(n)=aT(n/b)+f(n)$,\n",
    "\n",
    "$T(n)=2T(n/2)+n^4 \\Rightarrow a=2, b=2, f(n)=n^4$\n",
    "\n",
    "According to the Master method, if $f(n) = O(n^c)$, where $c < log_b(a)$, then $T(n)=\\Theta(f(n))$\n",
    "\n",
    "$\\Rightarrow log_b(a) \\Rightarrow log_{2}(2)=1$\n",
    "\n",
    "$\\Rightarrow n = n^4 \\Rightarrow c = 4$\n",
    "\n",
    "$\\Rightarrow c > log_b(a)$\n",
    "\n",
    "Therefore, $T(n)=\\Theta(n^4)$"
   ]
  },
  {
   "cell_type": "markdown",
   "metadata": {},
   "source": [
    "-----------------------------------------"
   ]
  },
  {
   "cell_type": "markdown",
   "metadata": {},
   "source": [
    "### Question 3\n",
    "\n",
    "\\[20 pts, binary search\\]\n",
    "\n",
    "Given the binary (i.e. 2-ary) search algorithm as in the following, write the 4-ary search\n",
    "function. Empirically show that 4-ary search is faster with a sufficiently high input array size.\n",
    "```python\n",
    "def bsearch(A, l, r, key): # i.e. bsearch(A,0,len(A)-1,key)\n",
    "    if l <= r:\n",
    "        N_2 = (l+r)//2\n",
    "        if A[N_2] == key:\n",
    "            return N_2\n",
    "        elif A[N_2] > key:\n",
    "            return bsearch(A, l, N_2-1, key)\n",
    "        else:\n",
    "            return bsearch(A, N_2+1, r, key)\n",
    "    else:\n",
    "        return -1\n",
    "```"
   ]
  },
  {
   "cell_type": "code",
   "execution_count": 1,
   "metadata": {},
   "outputs": [],
   "source": [
    "def bsearch(A, l, r, key): # i.e. bsearch(A,0,len(A)-1,key)\n",
    "    if l <= r:\n",
    "        N_2 = (l+r) // 2\n",
    "        if A[N_2] == key:\n",
    "            return N_2\n",
    "        elif A[N_2] > key:\n",
    "            return bsearch(A, l, N_2 - 1, key)\n",
    "        else:\n",
    "            return bsearch(A, N_2 + 1, r, key)\n",
    "    else:\n",
    "        return -1"
   ]
  },
  {
   "cell_type": "code",
   "execution_count": 2,
   "metadata": {},
   "outputs": [],
   "source": [
    "def qsearch(A, l, r, key):\n",
    "    if l <= r:\n",
    "        q = (r - l) // 4\n",
    "        p1 = l + q\n",
    "        p2 = p1 + q\n",
    "        p3 = p2 + q\n",
    "        if A[p1] == key:\n",
    "            return p1\n",
    "\n",
    "        elif A[p2] == key:\n",
    "            return p2\n",
    "        \n",
    "        elif A[p3] == key:\n",
    "            return p3\n",
    "\n",
    "        elif A[p1] > key:\n",
    "            return qsearch(A, l, p1 - 1, key)\n",
    "        elif A[p2] > key:\n",
    "            return qsearch(A, p1 + 1, p2 - 1, key)\n",
    "        elif A[p3] < key:\n",
    "            return qsearch(A, p3 + 1, r, key)\n",
    "        else:\n",
    "            return qsearch(A, p2 + 1, p3 - 1, key)\n",
    "    else:\n",
    "        return -1"
   ]
  },
  {
   "cell_type": "code",
   "execution_count": 3,
   "metadata": {},
   "outputs": [],
   "source": [
    "from random import seed, randint\n",
    "import time\n",
    "seed(0)\n",
    "\n",
    "test_array_len = 100000000\n",
    "test_array = list(range(test_array_len))\n",
    "rand_keys = [randint(0, test_array_len) for _ in range(10000)]\n",
    "\n",
    "def time_search(search_func):\n",
    "\n",
    "    total_time = 0\n",
    "    for rand_key in rand_keys:\n",
    "        begin = time.time()\n",
    "        search_func(test_array, 0, test_array_len - 1, rand_key)\n",
    "        total_time += (time.time() - begin)\n",
    "        \n",
    "    return total_time"
   ]
  },
  {
   "cell_type": "code",
   "execution_count": 4,
   "metadata": {},
   "outputs": [
    {
     "name": "stdout",
     "output_type": "stream",
     "text": [
      "10.44668197631836\n"
     ]
    }
   ],
   "source": [
    "print(time_search(bsearch))"
   ]
  },
  {
   "cell_type": "code",
   "execution_count": 5,
   "metadata": {},
   "outputs": [
    {
     "name": "stdout",
     "output_type": "stream",
     "text": [
      "3.2338080406188965\n"
     ]
    }
   ],
   "source": [
    "print(time_search(qsearch))"
   ]
  },
  {
   "cell_type": "markdown",
   "metadata": {},
   "source": [
    "-----------------------------------------"
   ]
  },
  {
   "cell_type": "markdown",
   "metadata": {},
   "source": [
    "### Question 4\n",
    "\n",
    "\\[40 pts, divide-and-conquer\\]\n",
    "\n",
    "Solve problem 4-5 (page 109), chip testing problem.\n",
    "\n",
    "Given Problem 4-5:\n",
    "\n",
    "**4-5 Chip testing**\n",
    "\n",
    "Professor Diogenes has $n$ supposedly identical integrated-circuit chips that in principle are capable of testing each other. The professor’s test jig accommodates two chips at a time. When the jig is loaded, each chip tests the other and reports whether it is good or bad. A good chip always reports accurately whether the other chip is good or bad, but the professor cannot trust the answer of a bad chip. Thus, the four possible outcomes of a test are as follows:\n",
    "\n",
    "|Chip A says|Chip B says|Conclusion|\n",
    "|:----------|:----------|:----------|\n",
    "|B is good|A is good|both are good, or both are bad|\n",
    "|B is good|A is bad|at least one is bad|\n",
    "|B is bad|A is good|at least one is bad|\n",
    "|B is bad|A is bad|at least one is bad|\n",
    "\n",
    "(a) Show that if more than $n/2$ chips are bad, the professor cannot necessarily determine which chips are good using any strategy based on this kind of pairwise test. Assume that the bad chips can conspire to fool the professor.\n",
    "\n",
    "(b) Consider the problem of finding a single good chip from among $n$ chips, assuming that more than $n/2$ of the chips are good. Show that $\\lfloor n/2 \\rfloor$ pairwise tests are sufficient to reduce the problem to one of nearly half the size.\n",
    "\n",
    "(c) Show that the good chips can be identified with $\\Theta(n)$ pairwise tests, assuming that more than $n/2$ of the chips are good. Give and solve the recurrence that describes the number of tests."
   ]
  },
  {
   "cell_type": "markdown",
   "metadata": {},
   "source": [
    "### Answer\n",
    "\n",
    "(a) Let $b$ denote the number of bad chips and $n-b$ denote the number of good chips. If $b \\ge n/2$ or $b \\ge n - b$, then there exists at least one bad chip for every good chips. This implies that if each of the $n-b$ good chips will report that the other chip is bad. However, the greater of equal number of bad chips will report that the good chip is actually bad. Furthermore, the bad chips can conspire to report each other as good chips and confuse the professor even more."
   ]
  },
  {
   "cell_type": "markdown",
   "metadata": {},
   "source": [
    "(b) Let $g$ denote the number of good chips and $n-g$ denote the number of bag chips. Given $g > n/2$, implies that for every $n-g$ bad chips there exists at least one good chip.\n",
    "\n",
    "To test through all these chips, we can test each pairs and include the pairs that report \"good\" and \"good\" in a subset $G$. $G$ now contains the maximum number of good chips. If $n$ is odd, then the remaining chip does can either "
   ]
  },
  {
   "cell_type": "markdown",
   "metadata": {},
   "source": [
    "(c) "
   ]
  }
 ],
 "metadata": {
  "kernelspec": {
   "display_name": "Python 3",
   "language": "python",
   "name": "python3"
  },
  "language_info": {
   "codemirror_mode": {
    "name": "ipython",
    "version": 3
   },
   "file_extension": ".py",
   "mimetype": "text/x-python",
   "name": "python",
   "nbconvert_exporter": "python",
   "pygments_lexer": "ipython3",
   "version": "3.8.5"
  }
 },
 "nbformat": 4,
 "nbformat_minor": 4
}
