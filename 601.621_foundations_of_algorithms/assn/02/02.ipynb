{
 "cells": [
  {
   "cell_type": "markdown",
   "metadata": {},
   "source": [
    "# 605.621 - Foundations of Algorithms\n",
    "\n",
    "## Assignment 02\n",
    "\n",
    "Sabbir Ahmed\n",
    "\n",
    "February 14, 2021"
   ]
  },
  {
   "cell_type": "markdown",
   "metadata": {},
   "source": [
    "### Question 1\n",
    "\n",
    "\\[20 pts, divide-and-conquer\\]\n",
    "\n",
    "Find and explain a divide-and-conquer solution to a problem (suitable) that we have not\n",
    "discussed in class or presented in the book. (For example, at a restaurant, friends\n",
    "searching an empty table in different parts of the dining area.)"
   ]
  },
  {
   "cell_type": "markdown",
   "metadata": {},
   "source": [
    "### Answer\n",
    "\n",
    "An example of a divide-and-conquer solution to an everyday problem is gathering items at the grocery store. If I head to the store by myself, I would have to find and gather the items in my grocery list by traversing through each of the aisles that hold the wanted items. If I brought another person with me to help me, we can divide up portions of the grocery list so that we each have to traverse through the aisles on our sides of the store; i.e. I gather items from the produce section while the other person gathers items at the poultry section. The more people I bring with me, the faster all the items can be found and gathered. After all the items are gathered, they can be all be checked out."
   ]
  },
  {
   "cell_type": "markdown",
   "metadata": {},
   "source": [
    "-----------------------------------------"
   ]
  },
  {
   "cell_type": "markdown",
   "metadata": {},
   "source": [
    "### Question 2\n",
    "\n",
    "\\[20 pts, recurrence\\]\n",
    "\n",
    "(a) Show that the recurrence $T(n)=T(7n/10)+n$ has an upper bound complexity $T(n)=O(n)$\n",
    "\n",
    "(b) Find and show an upper bound complexity for the recurrence $T(n)=2T(n/2)+n^4$"
   ]
  },
  {
   "cell_type": "markdown",
   "metadata": {},
   "source": [
    "### Answer\n",
    "\n",
    "(a) Using the Master method's form, $T(n)=aT(n/b)+f(n)$,\n",
    "\n",
    "$T(n)=T(7n/10)+n \\Rightarrow a=1, b=10/7, f(n)=n^1$\n",
    "\n",
    "According to the Master method, if $f(n) = O(n^c)$, where $c < log_b(a)$, then $T(n)=\\Theta(f(n))$\n",
    "\n",
    "$\\Rightarrow log_b(a) \\Rightarrow log_{10/7}(1)=0$\n",
    "\n",
    "$\\Rightarrow n = n^1 \\Rightarrow c = 1$\n",
    "\n",
    "$\\Rightarrow c > log_b(a)$\n",
    "\n",
    "Therefore, $T(n)=\\Theta(n)$"
   ]
  },
  {
   "cell_type": "markdown",
   "metadata": {},
   "source": [
    "(b) Using the Master method's form, $T(n)=aT(n/b)+f(n)$,\n",
    "\n",
    "$T(n)=2T(n/2)+n^4 \\Rightarrow a=2, b=2, f(n)=n^4$\n",
    "\n",
    "According to the Master method, if $f(n) = O(n^c)$, where $c < log_b(a)$, then $T(n)=\\Theta(f(n))$\n",
    "\n",
    "$\\Rightarrow log_b(a) \\Rightarrow log_{2}(2)=1$\n",
    "\n",
    "$\\Rightarrow n^4 \\Rightarrow c = 4$\n",
    "\n",
    "$\\Rightarrow c > log_b(a)$\n",
    "\n",
    "Therefore, $T(n)=\\Theta(n^4)$"
   ]
  },
  {
   "cell_type": "markdown",
   "metadata": {},
   "source": [
    "-----------------------------------------"
   ]
  },
  {
   "cell_type": "markdown",
   "metadata": {},
   "source": [
    "### Question 3\n",
    "\n",
    "\\[20 pts, binary search\\]\n",
    "\n",
    "Given the binary (i.e. 2-ary) search algorithm as in the following, write the 4-ary search\n",
    "function. Empirically show that 4-ary search is faster with a sufficiently high input array size.\n",
    "```python\n",
    "def bsearch(A, l, r, key): # i.e. bsearch(A,0,len(A)-1,key)\n",
    "    if l <= r:\n",
    "        N_2 = (l+r)//2\n",
    "        if A[N_2] == key:\n",
    "            return N_2\n",
    "        elif A[N_2] > key:\n",
    "            return bsearch(A, l, N_2-1, key)\n",
    "        else:\n",
    "            return bsearch(A, N_2+1, r, key)\n",
    "    else:\n",
    "        return -1\n",
    "```"
   ]
  },
  {
   "cell_type": "markdown",
   "metadata": {},
   "source": [
    "### Answer"
   ]
  },
  {
   "cell_type": "code",
   "execution_count": 1,
   "metadata": {},
   "outputs": [],
   "source": [
    "def bsearch(A, l, r, key): # i.e. bsearch(A, 0, len(A)-1, key)\n",
    "    if l <= r:\n",
    "        N_2 = (l + r) // 2\n",
    "        if A[N_2] == key:\n",
    "            return N_2\n",
    "        elif A[N_2] > key:\n",
    "            return bsearch(A, l, N_2 - 1, key)\n",
    "        else:\n",
    "            return bsearch(A, N_2 + 1, r, key)\n",
    "    else:\n",
    "        return -1"
   ]
  },
  {
   "cell_type": "code",
   "execution_count": 2,
   "metadata": {},
   "outputs": [],
   "source": [
    "def qsearch(A, l, r, key):\n",
    "    if l <= r:\n",
    "        q = (r - l) // 4  # compute the quarter key\n",
    "        p1 = l + q  # first quarter key\n",
    "\n",
    "        # if value is found in the first quarter key\n",
    "        if A[p1] == key:\n",
    "            return p1\n",
    "\n",
    "        # search the first quarter\n",
    "        elif A[p1] > key:\n",
    "            return qsearch(A, l, p1 - 1, key)\n",
    "\n",
    "        # value not found in first quarter\n",
    "        else:\n",
    "\n",
    "            p2 = p1 + q  # second quarter key\n",
    "\n",
    "            # if value is found in the second quarter key\n",
    "            if A[p2] == key:\n",
    "                return p2\n",
    "\n",
    "            # search the second quarter\n",
    "            elif A[p2] > key:\n",
    "                return qsearch(A, p1 + 1, p2 - 1, key)\n",
    "\n",
    "            # values not found in second quarter\n",
    "            else:\n",
    "\n",
    "                p3 = p2 + q  # third quarter key\n",
    "\n",
    "                # if value is found in the third quarter key\n",
    "                if A[p3] == key:\n",
    "                    return p3\n",
    "\n",
    "                # search the fourth (last) quarter\n",
    "                elif A[p3] < key:\n",
    "                    return qsearch(A, p3 + 1, r, key)\n",
    "\n",
    "                # value not found in last quarter\n",
    "                else:\n",
    "                    return qsearch(A, p2 + 1, p3 - 1, key)\n",
    "    else:\n",
    "        return -1\n"
   ]
  },
  {
   "cell_type": "code",
   "execution_count": 3,
   "metadata": {},
   "outputs": [],
   "source": [
    "from random import sample, seed\n",
    "import time\n",
    "seed(time.time())\n",
    "\n",
    "def gen_input_lists(input_list_len, linear=True):\n",
    "    \"\"\"\n",
    "    Generate an input list of length `input_list_len`\n",
    "\n",
    "    Args:\n",
    "        `input_list_len` <int>: length of the input list\n",
    "        `linear` <bool:True>:   flag to decide the type of input list generated.\n",
    "                                If True, generate an input list of linearly ascending integers.\n",
    "                                If False, generate an input list of random ascending integers.\n",
    "\n",
    "    Returns:\n",
    "        <list>: input list of length `input_list_len`\n",
    "    \"\"\"\n",
    "    return list(range(input_list_len)) if linear \\\n",
    "        else sorted(sample(range(input_list_len * 10), input_list_len))\n",
    "\n",
    "def gen_rand_keys(input_list_len, input_list):\n",
    "    \"\"\"\n",
    "    Generate a list of `input_list_len`/2 random keys to gauge the performances of the 2 searches\n",
    "\n",
    "    Args:\n",
    "        `input_list_len` <int>: length of the input list\n",
    "        `input_list` <list(int)>: input list of `input_list_len` integers\n",
    "\n",
    "    Returns:\n",
    "        <list>: a list of `input_list_len`/2 random keys\n",
    "    \"\"\"\n",
    "    return sample(input_list, input_list_len // 2)\n",
    "\n",
    "\n",
    "def time_search(search_func, input_list_len, input_list, rand_keys):\n",
    "    \"\"\"\n",
    "    Loop through the keys generated in `rand_keys` and search them with the chosen search function\n",
    "    to return the total time\n",
    "    \n",
    "    Args:\n",
    "        `search_func` <function pointer:[bsearch, qsearch]>: pointer to the search function\n",
    "        `input_list_len` <int>: length of the input list\n",
    "        `input_list` <list(int)>: input list of `input_list_len` ascending integers\n",
    "        `rand_keys` <list(int)>: list of random keys\n",
    "        \n",
    "    Returns:\n",
    "        `total_time` <int>: the total time it took to search through the entire list of keys\n",
    "    \"\"\"\n",
    "    total_time = 0\n",
    "    for rand_key in rand_keys:\n",
    "        begin = time.time()\n",
    "        search_func(input_list, 0, input_list_len - 1, rand_key)\n",
    "        total_time += (time.time() - begin)\n",
    "        \n",
    "    return total_time"
   ]
  },
  {
   "cell_type": "markdown",
   "metadata": {},
   "source": [
    "#### Computing total runtimes with input lists of linearly increasing integers"
   ]
  },
  {
   "cell_type": "code",
   "execution_count": 4,
   "metadata": {
    "scrolled": true
   },
   "outputs": [
    {
     "name": "stdout",
     "output_type": "stream",
     "text": [
      "Length 2-ary time  4-ary time  \n",
      "--------------------------------\n",
      "10^1   0.0000570   0.0000594\n",
      "10^2   0.0003664   0.0003524\n",
      "10^3   0.0066559   0.0069966\n",
      "10^4   0.1218367   0.0431719\n",
      "10^5   0.2811115   0.2392831\n",
      "10^6   3.6670234   3.4766536\n",
      "10^7  48.2982547  44.6696570\n"
     ]
    }
   ],
   "source": [
    "print(f\"{'Length':<4} {'2-ary time':11} {'4-ary time':12}\")\n",
    "print(\"-\" * 32)\n",
    "for i in range(1, 8):\n",
    "\n",
    "    input_list_len = 10**i  # scale input list length exponentially\n",
    "    \n",
    "    # generate the input list and the random keys\n",
    "    input_list = gen_input_lists(input_list_len)\n",
    "    rand_keys = gen_rand_keys(input_list_len, input_list)\n",
    "\n",
    "    # compute the total times for bsearch(A, l, r, key) and qsearch(A, l, r, key)\n",
    "    bsearch_time = time_search(bsearch, input_list_len, input_list, rand_keys)\n",
    "    qsearch_time = time_search(qsearch, input_list_len, input_list, rand_keys)\n",
    "    print(f\"10^{i:<2} {bsearch_time:10.7f} {qsearch_time:11.7f}\")"
   ]
  },
  {
   "cell_type": "markdown",
   "metadata": {},
   "source": [
    "#### Computing total runtimes with input lists of random increasing integers"
   ]
  },
  {
   "cell_type": "code",
   "execution_count": 5,
   "metadata": {},
   "outputs": [
    {
     "name": "stdout",
     "output_type": "stream",
     "text": [
      "Length 2-ary time  4-ary time  \n",
      "--------------------------------\n",
      "10^1   0.0000179   0.0000088\n",
      "10^2   0.0001783   0.0001037\n",
      "10^3   0.0016456   0.0014770\n",
      "10^4   0.0246756   0.0192897\n",
      "10^5   0.2975643   0.3028965\n",
      "10^6   3.9130564   3.7128305\n",
      "10^7  53.3614299  51.7778995\n"
     ]
    }
   ],
   "source": [
    "print(f\"{'Length':<4} {'2-ary time':11} {'4-ary time':12}\")\n",
    "print(\"-\" * 32)\n",
    "for i in range(1, 8):\n",
    "\n",
    "    input_list_len = 10**i  # scale input list length exponentially\n",
    "    \n",
    "    # generate the input list and the random keys\n",
    "    input_list = gen_input_lists(input_list_len, linear=False)\n",
    "    rand_keys = gen_rand_keys(input_list_len, input_list)\n",
    "\n",
    "    # compute the total times for bsearch(A, l, r, key) and qsearch(A, l, r, key)\n",
    "    bsearch_time = time_search(bsearch, input_list_len, input_list, rand_keys)\n",
    "    qsearch_time = time_search(qsearch, input_list_len, input_list, rand_keys)\n",
    "    print(f\"10^{i:<2} {bsearch_time:10.7f} {qsearch_time:11.7f}\")"
   ]
  },
  {
   "cell_type": "markdown",
   "metadata": {},
   "source": [
    "It is clear from the above comparisons that the 4-ary search performs consistently with a better runtime than the 2-ary search when the input list is sufficiently large.\n",
    "\n",
    "The implementation of the 4-ary search used is a modified version of the original I came up with:\n",
    "\n",
    "```python\n",
    "def qsearch(A, l, r, key):\n",
    "    if l <= r:\n",
    "        q = (r - l) // 4  # compute the quarter key\n",
    "        p1 = l + q  # first quarter key\n",
    "        p2 = p1 + q  # second quarter key\n",
    "        p3 = p2 + q  # third quarter key\n",
    "\n",
    "        # if value is found in any of the quarter keys, return the key\n",
    "        if A[p1] == key:\n",
    "            return p1\n",
    "\n",
    "        elif A[p2] == key:\n",
    "            return p2\n",
    "\n",
    "        elif A[p3] == key:\n",
    "            return p3\n",
    "\n",
    "        # search the first quarter\n",
    "        elif A[p1] > key:\n",
    "            return qsearch(A, l, p1 - 1, key)\n",
    "\n",
    "        # search the second quarter\n",
    "        elif A[p2] > key:\n",
    "            return qsearch(A, p1 + 1, p2 - 1, key)\n",
    "\n",
    "        # search the last quarter\n",
    "        elif A[p3] < key:\n",
    "            return qsearch(A, p3 + 1, r, key)\n",
    "\n",
    "        # search the third quarter\n",
    "        else:\n",
    "            return qsearch(A, p2 + 1, p3 - 1, key)\n",
    "    else:\n",
    "        return -1\n",
    "```\n",
    "\n",
    "However, the total runtimes were very inconsistent. I realized afterwards that it was possible to further optimize by moving the additional arithmetic inside nested conditionals that required the computations. "
   ]
  },
  {
   "cell_type": "markdown",
   "metadata": {},
   "source": [
    "-----------------------------------------"
   ]
  },
  {
   "cell_type": "markdown",
   "metadata": {},
   "source": [
    "### Question 4\n",
    "\n",
    "\\[40 pts, divide-and-conquer\\]\n",
    "\n",
    "Solve problem 4-5 (page 109), chip testing problem.\n",
    "\n",
    "Given Problem 4-5:\n",
    "\n",
    "**4-5 Chip testing**\n",
    "\n",
    "Professor Diogenes has $n$ supposedly identical integrated-circuit chips that in principle are capable of testing each other. The professor’s test jig accommodates two chips at a time. When the jig is loaded, each chip tests the other and reports whether it is good or bad. A good chip always reports accurately whether the other chip is good or bad, but the professor cannot trust the answer of a bad chip. Thus, the four possible outcomes of a test are as follows:\n",
    "\n",
    "|Chip A says|Chip B says|Conclusion|\n",
    "|:----------|:----------|:----------|\n",
    "|B is good|A is good|both are good, or both are bad|\n",
    "|B is good|A is bad|at least one is bad|\n",
    "|B is bad|A is good|at least one is bad|\n",
    "|B is bad|A is bad|at least one is bad|\n",
    "\n",
    "(a) Show that if more than $n/2$ chips are bad, the professor cannot necessarily determine which chips are good using any strategy based on this kind of pairwise test. Assume that the bad chips can conspire to fool the professor.\n",
    "\n",
    "(b) Consider the problem of finding a single good chip from among $n$ chips, assuming that more than $n/2$ of the chips are good. Show that $\\lfloor n/2 \\rfloor$ pairwise tests are sufficient to reduce the problem to one of nearly half the size.\n",
    "\n",
    "(c) Show that the good chips can be identified with $\\Theta(n)$ pairwise tests, assuming that more than $n/2$ of the chips are good. Give and solve the recurrence that describes the number of tests."
   ]
  },
  {
   "cell_type": "markdown",
   "metadata": {},
   "source": [
    "### Answer\n",
    "\n",
    "(a) Let $b$ denote the number of bad chips and $n-b$ denote the number of good chips. If $b \\ge n/2$ or $b \\ge n - b$, then there exists at least one bad chip for every good chips. This implies that if each of the $n-b$ good chips will report that the other chip is bad. However, the greater of equal number of bad chips will report that the good chip is actually bad. Furthermore, the bad chips can conspire to report each other as good chips and confuse the professor even more."
   ]
  },
  {
   "cell_type": "markdown",
   "metadata": {},
   "source": [
    "(b) Let $g$ denote the number of good chips and $n-g$ denote the number of bag chips. Given $g > n/2$, implies that for every $n-g$ bad chips there exists at least one good chip.\n",
    "\n",
    "To test through all these chips, we can test each pairs and select a random chip from the pairs that report \"good\" and \"good\" in a subset $G$. $G$ now contains at most half the number of the original size and preserves the assumption that there are more good chips than bad ones.\n",
    "\n",
    "If $n$ is odd and if there is exactly one or more more good chips than bad ones, then the last chip is bad and can be discarded or the last chip is good. This last chip will be determined after recursively going through each of the chips left in $G$."
   ]
  },
  {
   "cell_type": "markdown",
   "metadata": {},
   "source": [
    "(c) If at least $n/2$ chips are good, we can find one good chip using the deduction above. To find the other good chips, we can use the good chip to test the rest of the chips in $n-1$ comparisons. Therefore, we get the following recurrence:\n",
    "\n",
    "$T(n) \\le T(\\lceil n/2 \\rceil) + n/2$\n",
    "\n",
    "Using the Master method, from $T(n) \\le T(\\lceil n/2 \\rceil) + n/2$ we get $a=1, b=2, f(n)=1/2*n^1$\n",
    "\n",
    "If $f(n) = O(n^c)$, where $c < log_b(a)$, then $T(n)=\\Theta(f(n))$\n",
    "\n",
    "$\\Rightarrow log_b(a) \\Rightarrow log_{2}(1)=0$\n",
    "\n",
    "$\\Rightarrow n = n^1 \\Rightarrow c = 1$\n",
    "\n",
    "$\\Rightarrow 1 > 0$\n",
    "\n",
    "Therefore, $T(n)=O(n)+(n-1)=\\Theta(n)$"
   ]
  }
 ],
 "metadata": {
  "kernelspec": {
   "display_name": "Python 3",
   "language": "python",
   "name": "python3"
  },
  "language_info": {
   "codemirror_mode": {
    "name": "ipython",
    "version": 3
   },
   "file_extension": ".py",
   "mimetype": "text/x-python",
   "name": "python",
   "nbconvert_exporter": "python",
   "pygments_lexer": "ipython3",
   "version": "3.8.5"
  }
 },
 "nbformat": 4,
 "nbformat_minor": 4
}
