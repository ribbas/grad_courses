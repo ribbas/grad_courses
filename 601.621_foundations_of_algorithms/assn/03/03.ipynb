{
 "cells": [
  {
   "cell_type": "markdown",
   "metadata": {},
   "source": [
    "# 605.621 - Foundations of Algorithms\n",
    "\n",
    "## Assignment 03\n",
    "\n",
    "Sabbir Ahmed\n",
    "\n",
    "February 28, 2021"
   ]
  },
  {
   "cell_type": "markdown",
   "metadata": {},
   "source": [
    "### Question 1\n",
    "\n",
    "\\[30 pts, divide-and-conquer\\]\n",
    "\n",
    "You are given $K$ number of coins with equal weights and a mechanical balance scale that can show if the pans (and their loads) are balanced or not. The problem is posed as finding the single different coin in the collection, which was mixed up accidentally. Devise the quickest algorithm, which can find the different coin. Generalize your solution for any $K$. Show the recurrence relation, time and space complexity."
   ]
  },
  {
   "cell_type": "markdown",
   "metadata": {},
   "source": [
    "### Answer\n",
    "\n",
    "To find the different coin, we begin by first finding the expected weight of the coins, $w$. This can be achieved by measuring the weights of 2 coins from the collection of $K$ coins. If the coins do not weight the same, then one of the coins is the different one. We can figure out which of the coins is the one we are looking for by comparing both of them with another coin from the collection of $K$ coins.\n",
    "\n",
    "If both of the coins weigh the same, then we store that value $w$ for further computation. We can assume that any coins that do not weigh $w$ is the one we are looking for. We begin by splitting the collection of $K$ coins to two subcollections of $K/2$ coins. Then, we measure each of the entire collections of $K/2$ coins separately and then divide the weight by $K/2$. If the average of the weights of the subcollections is $w$, then we push away that subcollection and focus on the other one. We can recursively divide and measure the weights of the subcollections until we have found the different coin.\n",
    "\n",
    "This process can be generalized to $j$ divisions of the collections instead of 2. This will lead to dividing the collection of $K$ coins to $j$ collections of $K/j$ coins."
   ]
  },
  {
   "cell_type": "markdown",
   "metadata": {},
   "source": [
    "To compute the recurrence relation of this algorithm, we can assume that weighing a single coin costs $O(1)$ and comparing the weights of 2 coins cost $O(1)$.\n",
    "\n",
    "In the setup stage, if the different coin is one of the first 2 coins, then the algorithm ends after 1 more comparison. This branch would weigh 3 coins and make at most 3 comparisons with a recurrence relation of $6\\cdot O(1)$ or $O(1)$.\n",
    "\n",
    "In the setup stage, if the different coin is NOT one of the first 2 coins, then we proceed with the recursive divide and conquer method. Dividing and weighing $j$ piles of the total $K$ coins would take at most $O(log_j(K))$ iterations (dividing by $j$ more piles every iterations). Therefore, the recurrence relation for the time complexity would become $T(n)=O(log_j(K))$.\n",
    "\n",
    "As per its space complexity, the algorithm would only need to allocate additional memory for the initialization variables, such as $w$. The original collection of $K$ coins can be the largest container of these coins - after each iteration when the collection is divided into $j$ piles, the original container can be used as lesser space is required after each iterations. Therefore, the space complexity can be $O(K)$."
   ]
  },
  {
   "cell_type": "markdown",
   "metadata": {},
   "source": [
    "-----------------------------------------"
   ]
  },
  {
   "cell_type": "markdown",
   "metadata": {},
   "source": [
    "### Question 2\n",
    "\n",
    "\\[40 pts, RB trees\\]\n",
    "\n",
    "Implement an algorithm to compute the height of each of the Red Black tree nodes. Then empirically show that an RB tree has an average height of $lg(n)$ which is also the complexity of the RB tree search function, i.e. $O(lg(n))$. Your implementation of height computation should be efficient with $O(n)$ complexity. You can utilize the provided Python RB tree script in the lecture notes."
   ]
  },
  {
   "cell_type": "markdown",
   "metadata": {},
   "source": [
    "### Answer\n"
   ]
  },
  {
   "cell_type": "markdown",
   "metadata": {},
   "source": [
    "Using the following red-black tree implementation modified from the lecture notes and [this source](https://www.programiz.com/dsa/red-black-tree#examples):"
   ]
  },
  {
   "cell_type": "code",
   "execution_count": 1,
   "metadata": {},
   "outputs": [],
   "source": [
    "# This implementation of constructing a red-black tree and inserting nodes has\n",
    "# been extracted from https://www.programiz.com/dsa/red-black-tree#examples and\n",
    "# the lecture notes. The red-black tree only supports insertion of single\n",
    "# integer nodes at a time.\n",
    "\n",
    "class Node():\n",
    "    def __init__(self, item):\n",
    "        self.item = item\n",
    "        self.parent = None\n",
    "        self.left = None\n",
    "        self.right = None\n",
    "        self.color = 1\n",
    "\n",
    "\n",
    "class RedBlackTree():\n",
    "    def __init__(self):\n",
    "        self.TNULL = Node(0)\n",
    "        self.TNULL.color = 0\n",
    "        self.TNULL.left = None\n",
    "        self.TNULL.right = None\n",
    "        self.root = self.TNULL\n",
    "\n",
    "    def left_rotate(self, x):\n",
    "        y = x.right\n",
    "        x.right = y.left\n",
    "        if y.left != self.TNULL:\n",
    "            y.left.parent = x\n",
    "\n",
    "        y.parent = x.parent\n",
    "        if x.parent is None:\n",
    "            self.root = y\n",
    "        elif x == x.parent.left:\n",
    "            x.parent.left = y\n",
    "        else:\n",
    "            x.parent.right = y\n",
    "        y.left = x\n",
    "        x.parent = y\n",
    "\n",
    "    def right_rotate(self, x):\n",
    "        y = x.left\n",
    "        x.left = y.right\n",
    "        if y.right != self.TNULL:\n",
    "            y.right.parent = x\n",
    "\n",
    "        y.parent = x.parent\n",
    "        if x.parent is None:\n",
    "            self.root = y\n",
    "        elif x == x.parent.right:\n",
    "            x.parent.right = y\n",
    "        else:\n",
    "            x.parent.left = y\n",
    "        y.right = x\n",
    "        x.parent = y\n",
    "\n",
    "    def insert(self, key):\n",
    "        node = Node(key)\n",
    "        node.parent = None\n",
    "        node.item = key\n",
    "        node.left = self.TNULL\n",
    "        node.right = self.TNULL\n",
    "        node.color = 1\n",
    "\n",
    "        y = None\n",
    "        x = self.root\n",
    "\n",
    "        while x != self.TNULL:\n",
    "            y = x\n",
    "            if node.item < x.item:\n",
    "                x = x.left\n",
    "            else:\n",
    "                x = x.right\n",
    "\n",
    "        node.parent = y\n",
    "        if y is None:\n",
    "            self.root = node\n",
    "        elif node.item < y.item:\n",
    "            y.left = node\n",
    "        else:\n",
    "            y.right = node\n",
    "\n",
    "        if node.parent is None:\n",
    "            node.color = 0\n",
    "            return\n",
    "\n",
    "        if node.parent.parent is None:\n",
    "            return\n",
    "\n",
    "        while node.parent.color == 1:\n",
    "            if node.parent == node.parent.parent.right:\n",
    "                u = node.parent.parent.left\n",
    "                if u.color == 1:\n",
    "                    u.color = 0\n",
    "                    node.parent.color = 0\n",
    "                    node.parent.parent.color = 1\n",
    "                    node = node.parent.parent\n",
    "                else:\n",
    "                    if node == node.parent.left:\n",
    "                        node = node.parent\n",
    "                        self.right_rotate(node)\n",
    "                    node.parent.color = 0\n",
    "                    node.parent.parent.color = 1\n",
    "                    self.left_rotate(node.parent.parent)\n",
    "            else:\n",
    "                u = node.parent.parent.right\n",
    "\n",
    "                if u.color == 1:\n",
    "                    u.color = 0\n",
    "                    node.parent.color = 0\n",
    "                    node.parent.parent.color = 1\n",
    "                    node = node.parent.parent\n",
    "                else:\n",
    "                    if node == node.parent.right:\n",
    "                        node = node.parent\n",
    "                        self.left_rotate(node)\n",
    "                    node.parent.color = 0\n",
    "                    node.parent.parent.color = 1\n",
    "                    self.right_rotate(node.parent.parent)\n",
    "            if node == self.root:\n",
    "                break\n",
    "        self.root.color = 0\n"
   ]
  },
  {
   "cell_type": "code",
   "execution_count": 2,
   "metadata": {},
   "outputs": [],
   "source": [
    "def get_height(node):\n",
    "    \"\"\"Compute the height of a red-black binary tree\n",
    "\n",
    "    This function visits every nodes of the tree to compute the height, making\n",
    "    its runtime O(n) for `n` nodes.\n",
    "\n",
    "    Args:\n",
    "        node <Node object>: the node to begin traversing through\n",
    "\n",
    "    Returns:\n",
    "        <int>: the height of the tree\n",
    "    \"\"\"\n",
    "    # if a NULL node is reached\n",
    "    if node is None:\n",
    "        return -1\n",
    "\n",
    "    # return the maximum height of the left and right subtrees\n",
    "    return max(get_height(node.left), get_height(node.right)) + 1"
   ]
  },
  {
   "cell_type": "code",
   "execution_count": 3,
   "metadata": {},
   "outputs": [
    {
     "name": "stdout",
     "output_type": "stream",
     "text": [
      "Length| Exp   | Ave           | Min   \n",
      "---------------------------------------------\n",
      "4     |  3.00 |  3.00 (+0.00) |  3.00 (+0.00)\n",
      "8     |  4.00 |  4.00 (+0.00) |  4.00 (+0.00)\n",
      "16    |  5.00 |  5.04 (+0.04) |  5.00 (+0.00)\n",
      "32    |  6.00 |  6.14 (+0.14) |  6.00 (+0.00)\n",
      "64    |  7.00 |  7.45 (+0.45) |  7.00 (+0.00)\n",
      "128   |  8.00 |  8.83 (+0.83) |  8.00 (+0.00)\n",
      "256   |  9.00 |  9.98 (+0.98) |  9.00 (+0.00)\n",
      "512   | 10.00 | 11.05 (+1.05) | 11.00 (+1.00)\n",
      "1024  | 11.00 | 12.20 (+1.20) | 12.00 (+1.00)\n",
      "2048  | 12.00 | 13.57 (+1.57) | 13.00 (+1.00)\n",
      "4096  | 13.00 | 14.93 (+1.93) | 14.00 (+1.00)\n",
      "8192  | 14.00 | 16.00 (+2.00) | 16.00 (+2.00)\n",
      "16384 | 15.00 | 17.05 (+2.05) | 17.00 (+2.00)\n",
      "32768 | 16.00 | 18.31 (+2.31) | 18.00 (+2.00)\n"
     ]
    }
   ],
   "source": [
    "import numpy as np\n",
    "\n",
    "\n",
    "def get_rbt_heights(n):\n",
    "    \"\"\"Compute heights of 100 red-black trees with random `n` nodes\n",
    "\n",
    "    This function generates `n` nodes every iteration, inserts them into an\n",
    "    empty tree and computes and stores the height.\n",
    "\n",
    "    Args:\n",
    "        n <int>: number of nodes to generate per tree\n",
    "\n",
    "    Returns:\n",
    "        min_height, ave_height, min_height <tuple(float, float)>:\n",
    "            a tuple of the minimum height expected from a red-black tree of\n",
    "            `n` nodes and the average and minimum of the heights computed from\n",
    "            the generated trees\n",
    "    \"\"\"\n",
    "    heights = []\n",
    "    for _ in range(100):\n",
    "        vals = np.random.randint(0, n // 2, n)\n",
    "\n",
    "        # instantiate and fill up tree with the values generated\n",
    "        rbt = RedBlackTree()\n",
    "        for val in vals:\n",
    "            rbt.insert(val)\n",
    "\n",
    "        heights.append(get_height(rbt.root))\n",
    "\n",
    "    # the minimum height of a red-black tree with `n` nodes is floor(lg(n) + 1)\n",
    "    exp_min_height = np.floor(np.log2(n) + 1)\n",
    "\n",
    "    # compute the average of the heights from the generated trees\n",
    "    ave_height = np.mean(heights)\n",
    "\n",
    "    # compute the minimum of the heights from the generated trees\n",
    "    min_height = np.min(heights)\n",
    "\n",
    "    return exp_min_height, ave_height, min_height\n",
    "\n",
    "\n",
    "# compute the average heights of trees with nodes exponentially increasing from\n",
    "# 2^4 to 2^13\n",
    "print(f\"{'Length':<6}| {'Exp':<6}| {'Ave':<13} | {'Min':<6}\")\n",
    "print(\"-\" * 45)\n",
    "\n",
    "num_nodes = np.logspace(2, 15, num=14, base=2, dtype='int')\n",
    "for num in num_nodes:\n",
    "\n",
    "    exp_min_height, ave_height, min_height = get_rbt_heights(num)\n",
    "    diff_ave = ave_height - exp_min_height\n",
    "    diff_min = min_height - exp_min_height\n",
    "    print(f\"{num:<5} | {exp_min_height:5.2f} | {ave_height:5.2f} (+{diff_ave:2.2f}) | {min_height:5.2f} (+{diff_min:2.2f})\")\n"
   ]
  },
  {
   "cell_type": "markdown",
   "metadata": {},
   "source": [
    "The average heights of the trees start to increase as the number of nodes increase."
   ]
  },
  {
   "cell_type": "markdown",
   "metadata": {},
   "source": [
    "-----------------------------------------"
   ]
  },
  {
   "cell_type": "markdown",
   "metadata": {},
   "source": [
    "### Question 3\n",
    "\n",
    "\\[30 pts, divide and conquer\\]\n",
    "\n",
    "Solve exercise 9-3-8 (page 223).\n",
    "\n",
    "Let $X[1 .. n]$ and $Y[1 .. n]$ be two arrays, each containing $n$ numbers already in sorted order. Give an $O(lg  n)$-time algorithm to find the median of all $2n$ elements in arrays $X$ and $Y$. (Note that, it is not necessary to append or merge $X$ and $Y$, but the algorithm will treat them separately.)"
   ]
  },
  {
   "cell_type": "markdown",
   "metadata": {},
   "source": [
    "### Answer\n",
    "\n",
    "Given the arrays $X$ and $Y$ are already sorted, we can find the median of all the $2n$ numbers in a divide and conquer approach without appending or merging them.\n",
    "\n",
    "We can implement an algorithm that looks at the medians of both of the arrays, compares them, and then recursively discards half of the elements from each of the array. When comparing the 2 medians $m_X$, $m_Y$, if $m_X < m_Y$, then we discard the elements lesser than $m_X$ and greater than $m_Y$, and vice versa.\n",
    "\n",
    "In the next iteration, we compare the medians again of the smaller subarrays and continue until we end up with two  elements in each arrays. The median would be the average of the final $m_x$ and $m_Y$.\n",
    "\n",
    "Since the algorithm would have to search half of the arrays in each recursion, the subproblems are divided in half with a recurrence relation of $T(n)=T(n/2)$ which gives us an $O(lg n)$ time complexity."
   ]
  },
  {
   "cell_type": "code",
   "execution_count": 4,
   "metadata": {},
   "outputs": [],
   "source": [
    "def two_arrays_median(X, Y):\n",
    "    \"\"\"Compute the median of two arrays without merging or appending\n",
    "\n",
    "    This function assumes both of the arrays are equal in length and are not\n",
    "    empty. The median is calculated by computing the medians of each arrays\n",
    "    then recursively discarding half of the elements. The number of elements\n",
    "    halving reduces the runtime of the algorithm to O(lg n).\n",
    "\n",
    "    Args:\n",
    "        X <list(int|float)>: first array\n",
    "        Y <list(int|float)>: second array\n",
    "\n",
    "    Raises:\n",
    "        IndexError: the arrays provided are empty\n",
    "        NotImplementedError: the lengths of the arrays are not equal\n",
    "\n",
    "    Returns:\n",
    "        <float>: the median of the two arrays\n",
    "    \"\"\"\n",
    "    n = len(X)  # also == len(Y)\n",
    "\n",
    "    # both the arrays are empty\n",
    "    if not n:\n",
    "        raise IndexError(\"No elements in arrays\")\n",
    "    elif n != len(Y):\n",
    "        raise NotImplementedError(\"The lengths of the arrays must be equal\")\n",
    "\n",
    "    # the center index of the arrays\n",
    "    center = n // 2\n",
    "\n",
    "    # flag set to indicate if the length of the arrays are even\n",
    "    # this flag is also used as an offset index when slicing arrays\n",
    "    even_len = not n % 2\n",
    "\n",
    "    if even_len:\n",
    "        # take the average of the 2 middle elements\n",
    "        m_X = (X[center - 1] + X[center]) / 2\n",
    "        m_Y = (Y[center - 1] + Y[center]) / 2\n",
    "    else:\n",
    "        m_X = X[center]\n",
    "        m_Y = Y[center]\n",
    "\n",
    "    # if the arrays only contain 1 element each\n",
    "    if n == 1:\n",
    "        # take the average of the 2 elements\n",
    "        return (X[0] + Y[0]) / 2\n",
    "\n",
    "    # if each of the arrays are left with 2 elements each\n",
    "    elif n == 2:\n",
    "        # take the average between the maximum of the lower elements and the\n",
    "        # minimum of the upper elements\n",
    "        return (max(X[0], Y[0]) + min(X[1], Y[1])) / 2\n",
    "\n",
    "    else:\n",
    "\n",
    "        if m_X > m_Y:\n",
    "            return two_arrays_median(X[:center + 1], Y[center - even_len:])\n",
    "\n",
    "        else:\n",
    "            return two_arrays_median(X[center - even_len:], Y[:center + 1])\n"
   ]
  },
  {
   "cell_type": "markdown",
   "metadata": {},
   "source": [
    "Comparing the runtimes of the algorithm to computing the median by merging and re-sorting the arrays:"
   ]
  },
  {
   "cell_type": "code",
   "execution_count": 5,
   "metadata": {},
   "outputs": [
    {
     "name": "stdout",
     "output_type": "stream",
     "text": [
      "X: [ 99 140 276 279 587 589 592 739 803 816]\n",
      "Y: [ 96 254 611 691 695 699 851 883 943 963]\n"
     ]
    }
   ],
   "source": [
    "rng = np.random.default_rng()\n",
    "X = np.sort(rng.choice(1024, size=10, replace=False))\n",
    "Y = np.sort(rng.choice(1024, size=10, replace=False))\n",
    "print(f\"X: {X}\")\n",
    "print(f\"Y: {Y}\")"
   ]
  },
  {
   "cell_type": "code",
   "execution_count": 6,
   "metadata": {},
   "outputs": [
    {
     "name": "stdout",
     "output_type": "stream",
     "text": [
      "9.98 µs ± 96.6 ns per loop (mean ± std. dev. of 7 runs, 100000 loops each)\n"
     ]
    }
   ],
   "source": [
    "%%timeit\n",
    "two_arrays_median(X, Y)"
   ]
  },
  {
   "cell_type": "code",
   "execution_count": 7,
   "metadata": {},
   "outputs": [
    {
     "name": "stdout",
     "output_type": "stream",
     "text": [
      "40.2 µs ± 15.6 µs per loop (mean ± std. dev. of 7 runs, 10000 loops each)\n"
     ]
    }
   ],
   "source": [
    "%%timeit\n",
    "Z = X + Y  # merge the arrays\n",
    "Z = sorted(Z)  # sort the merged array\n",
    "np.median(Z)  # compute the median using numpy"
   ]
  }
 ],
 "metadata": {
  "kernelspec": {
   "display_name": "Python 3",
   "language": "python",
   "name": "python3"
  },
  "language_info": {
   "codemirror_mode": {
    "name": "ipython",
    "version": 3
   },
   "file_extension": ".py",
   "mimetype": "text/x-python",
   "name": "python",
   "nbconvert_exporter": "python",
   "pygments_lexer": "ipython3",
   "version": "3.8.5"
  }
 },
 "nbformat": 4,
 "nbformat_minor": 4
}
