{
 "cells": [
  {
   "cell_type": "markdown",
   "metadata": {},
   "source": [
    "# 605.621 - Foundations of Algorithms\n",
    "\n",
    "## Assignment 03\n",
    "\n",
    "Sabbir Ahmed\n",
    "\n",
    "February 28, 2021"
   ]
  },
  {
   "cell_type": "markdown",
   "metadata": {},
   "source": [
    "### Question 1\n",
    "\n",
    "\\[30 pts, divide-and-conquer\\]\n",
    "\n",
    "You are given $K$ number of coins with equal weights and a mechanical balance scale that can show if the pans (and their loads) are balanced or not. The problem is posed as finding the single different coin in the collection, which was mixed up accidentally. Devise the quickest algorithm, which can find the different coin. Generalize your solution for any $K$. Show the recurrence relation, time and space complexity."
   ]
  },
  {
   "cell_type": "markdown",
   "metadata": {},
   "source": [
    "### Answer\n",
    "\n"
   ]
  },
  {
   "cell_type": "markdown",
   "metadata": {},
   "source": [
    "-----------------------------------------"
   ]
  },
  {
   "cell_type": "markdown",
   "metadata": {},
   "source": [
    "### Question 2\n",
    "\n",
    "\\[40 pts, RB trees\\]\n",
    "\n",
    "Implement an algorithm to compute the height of each of the Red Black tree nodes. Then empirically show that an RB tree has an average height of $lg(n)$ which is also the complexity of the RB tree search function, i.e. $O(lg(n))$. Your implementation of height computation should be efficient with $O(n)$ complexity. You can utilize the provided Python RB tree script in the lecture notes."
   ]
  },
  {
   "cell_type": "markdown",
   "metadata": {},
   "source": [
    "### Answer\n"
   ]
  },
  {
   "cell_type": "markdown",
   "metadata": {},
   "source": [
    "-----------------------------------------"
   ]
  },
  {
   "cell_type": "markdown",
   "metadata": {},
   "source": [
    "### Question 3\n",
    "\n",
    "\\[30 pts, divide and conquer\\]\n",
    "\n",
    "Solve exercise 9-3-8 (page 223) given two sorted lists $X$ and $Y$, find the median of the elements in $X$ and $Y$ combined (Note that, it is not necessary to append or merge $X$ and $Y$, but the algorithm will treat them separately.)"
   ]
  },
  {
   "cell_type": "markdown",
   "metadata": {},
   "source": [
    "### Answer"
   ]
  }
 ],
 "metadata": {
  "kernelspec": {
   "display_name": "Python 3",
   "language": "python",
   "name": "python3"
  },
  "language_info": {
   "codemirror_mode": {
    "name": "ipython",
    "version": 3
   },
   "file_extension": ".py",
   "mimetype": "text/x-python",
   "name": "python",
   "nbconvert_exporter": "python",
   "pygments_lexer": "ipython3",
   "version": "3.8.5"
  }
 },
 "nbformat": 4,
 "nbformat_minor": 4
}
