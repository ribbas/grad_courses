{
 "cells": [
  {
   "cell_type": "markdown",
   "metadata": {},
   "source": [
    "# 605.621 - Foundations of Algorithms\n",
    "\n",
    "## Assignment 03\n",
    "\n",
    "Sabbir Ahmed\n",
    "\n",
    "February 28, 2021"
   ]
  },
  {
   "cell_type": "markdown",
   "metadata": {},
   "source": [
    "### Question 1\n",
    "\n",
    "\\[30 pts, divide-and-conquer\\]\n",
    "\n",
    "You are given $K$ number of coins with equal weights and a mechanical balance scale that can show if the pans (and their loads) are balanced or not. The problem is posed as finding the single different coin in the collection, which was mixed up accidentally. Devise the quickest algorithm, which can find the different coin. Generalize your solution for any $K$. Show the recurrence relation, time and space complexity."
   ]
  },
  {
   "cell_type": "markdown",
   "metadata": {},
   "source": [
    "### Answer\n",
    "\n",
    "To find the different coin, we begin by first finding the expected weight of the coins, $w$. This can be achieved by measuring the weights of 2 coins from the collection of $K$ coins. If the coins do not weight the same, then one of the coins is the different one. We can figure out which of the coins is the one we are looking for by comparing both of them with another coin from the collection of $K$ coins.\n",
    "\n",
    "If both of the coins weigh the same, then we store that value $w$ for further computation. We can assume that any coins that do not weigh $w$ is the one we are looking for. We begin by splitting the collection of $K$ coins to two subcollections of $K/2$ coins. Then, we measure each of the entire collections of $K/2$ coins separately and then divide the weight by $K/2$. If the average of the weights of the subcollections is $w$, then we push away that subcollection and focus on the other one. We can recursively divide and measure the weights of the subcollections until we have found the different coin.\n",
    "\n",
    "This process can be generalized to $j$ divisions of the collections instead of 2. This will lead to dividing the collection of $K$ coins to $j$ collections of $K/j$ coins."
   ]
  },
  {
   "cell_type": "markdown",
   "metadata": {},
   "source": [
    "To compute the recurrence relation of this algorithm, we can assume that weighing a single coin costs $O(1)$ and comparing the weights of 2 coins cost $O(1)$.\n",
    "\n",
    "In the setup stage, if the different coin is one of the first 2 coins, then the algorithm ends after 1 more comparison. This branch would weigh 3 coins and make at most 3 comparisons with a recurrence relation of $6\\cdot O(1)$ or $O(1)$.\n",
    "\n",
    "In the setup stage, if the different coin is NOT one of the first 2 coins, then we proceed with the recursive divide and conquer method. Dividing and weighing $j$ piles of the total $K$ coins would take at most $O(log_j(K))$ iterations (dividing by $j$ more piles every iterations). Therefore, the recurrence relation for the time complexity would become $T(n)=O(log_j(K))$.\n",
    "\n",
    "As per its space complexity, the algorithm would only need to allocate additional memory for the initialization variables, such as $w$. The original collection of $K$ coins can be the largest container of these coins - after each iteration when the collection is divided into $j$ piles, the original container can be used as lesser space is required after each iterations. Therefore, the space complexity can be $O(K)$."
   ]
  },
  {
   "cell_type": "markdown",
   "metadata": {},
   "source": [
    "-----------------------------------------"
   ]
  },
  {
   "cell_type": "markdown",
   "metadata": {},
   "source": [
    "### Question 2\n",
    "\n",
    "\\[40 pts, RB trees\\]\n",
    "\n",
    "Implement an algorithm to compute the height of each of the Red Black tree nodes. Then empirically show that an RB tree has an average height of $lg(n)$ which is also the complexity of the RB tree search function, i.e. $O(lg(n))$. Your implementation of height computation should be efficient with $O(n)$ complexity. You can utilize the provided Python RB tree script in the lecture notes."
   ]
  },
  {
   "cell_type": "markdown",
   "metadata": {},
   "source": [
    "### Answer\n"
   ]
  },
  {
   "cell_type": "markdown",
   "metadata": {},
   "source": [
    "Using the red-black tree implementation from the slides:"
   ]
  },
  {
   "cell_type": "code",
   "execution_count": 1,
   "metadata": {},
   "outputs": [],
   "source": [
    "# used for RB tree node\n",
    "RED, BLACK = 'R', 'B'\n",
    "\n",
    "# Tnil necessary since code has reference assignments like y.right.p\n",
    "\n",
    "\n",
    "class Tn:\n",
    "    def __init__(self):\n",
    "        self.p = None\n",
    "        self.color = BLACK\n",
    "\n",
    "\n",
    "Tnil = Tn()\n",
    "\n",
    "# All references are assigned to Tnil\n",
    "\n",
    "\n",
    "class RBNode:\n",
    "    def __init__(self, value):\n",
    "        self.value = value\n",
    "        self.left = Tnil\n",
    "        self.right = Tnil\n",
    "        self.p = None\n",
    "        self.color = None\n",
    "        self.height = None\n",
    "\n",
    "\n",
    "def rotate_left(_root, x):\n",
    "    y = x.right\n",
    "    x.right = y.left  # turn y.left subT into x.right subT\n",
    "    if y.left is not Tnil:\n",
    "        y.left.p = x\n",
    "    y.p = x.p  # link x’s parent to y\n",
    "    if x.p is Tnil:\n",
    "        _root = y\n",
    "    elif x == x.p.left:\n",
    "        x.p.left = y\n",
    "    else:\n",
    "        x.p.right = y\n",
    "    y.left = x  # put x on y's left\n",
    "    x.p = y\n",
    "    return _root\n",
    "\n",
    "\n",
    "def rotate_right(_root, x):\n",
    "    y = x.left\n",
    "    x.left = y.right  # turn y.right subT into x.left subT\n",
    "    if y.right is not Tnil:\n",
    "        y.right.p = x\n",
    "    y.p = x.p  # link x’s parent to y\n",
    "    if x.p is Tnil:\n",
    "        _root = y\n",
    "    elif x == x.p.right:\n",
    "        x.p.right = y\n",
    "    else:\n",
    "        x.p.left = y\n",
    "    y.right = x  # put x on y’s right\n",
    "    x.p = y\n",
    "    return _root\n",
    "\n",
    "\n",
    "# Insert a node to the tree\n",
    "def insert_RB(_root, z):  # insert node z with default color red\n",
    "    # check if root inserted\n",
    "    if _root is None:\n",
    "        _root = z\n",
    "        z.color = BLACK\n",
    "        z.p = Tnil\n",
    "        return _root\n",
    "    # insert node\n",
    "    y = Tnil\n",
    "    x = _root\n",
    "    while x is not Tnil:\n",
    "        y = x\n",
    "        if z.value < x.value:\n",
    "            x = x.left\n",
    "        else:\n",
    "            x = x.right\n",
    "    #\n",
    "    z.p = y\n",
    "    if y == Tnil:\n",
    "        _root = z\n",
    "    elif z.value < y.value:\n",
    "        y.left = z\n",
    "    else:\n",
    "        y.right = z\n",
    "    z.color = RED\n",
    "    # fixup\n",
    "    while z.p.color == RED:\n",
    "        if z.p == z.p.p.left:  # z parent is left child\n",
    "            y = z.p.p.right\n",
    "            if y.color == RED:  # case 1\n",
    "                z.p.color = BLACK\n",
    "                y.color = BLACK\n",
    "                z.p.p.color = RED\n",
    "                z = z.p.p\n",
    "            else:\n",
    "                if z == z.p.right:  # case 2\n",
    "                    z = z.p\n",
    "                    _root = rotate_left(_root, z)\n",
    "                # case 3\n",
    "                z.p.color = BLACK\n",
    "                z.p.p.color = RED\n",
    "                _root = rotate_right(_root, z.p.p)\n",
    "        else:  # z parent is right child\n",
    "            y = z.p.p.left\n",
    "            if y.color == RED:  # case 1\n",
    "                z.p.color = BLACK\n",
    "                y.color = BLACK\n",
    "                z.p.p.color = RED\n",
    "                z = z.p.p\n",
    "            else:\n",
    "                if z == z.p.left:  # case 2\n",
    "                    z = z.p\n",
    "                    _root = rotate_right(_root, z)\n",
    "                # case 3\n",
    "                z.p.color = BLACK\n",
    "                z.p.p.color = RED\n",
    "                _root = rotate_left(_root, z.p.p)\n",
    "    #\n",
    "    _root.color = BLACK  # red reached to root\n",
    "    return _root\n",
    "\n",
    "    # RB search iteratively, complexity O(log n)\n",
    "\n",
    "\n",
    "def search_RB(_node, _val):\n",
    "    while _node != Tnil and _node.value != _val:\n",
    "        if _node.value < _val:\n",
    "            _node = _node.right\n",
    "        else:\n",
    "            _node = _node.left\n",
    "    #\n",
    "    if _node != Tnil:\n",
    "        return _node\n",
    "    # return Tnil when value not found\n",
    "    return Tnil\n"
   ]
  },
  {
   "cell_type": "markdown",
   "metadata": {},
   "source": [
    "-----------------------------------------"
   ]
  },
  {
   "cell_type": "markdown",
   "metadata": {},
   "source": [
    "### Question 3\n",
    "\n",
    "\\[30 pts, divide and conquer\\]\n",
    "\n",
    "Solve exercise 9-3-8 (page 223).\n",
    "\n",
    "Let $X[1 .. n]$ and $Y[1 .. n]$ be two arrays, each containing $n$ numbers already in sorted order. Give an $O(lg  n)$-time algorithm to find the median of all $2n$ elements in arrays $X$ and $Y$. (Note that, it is not necessary to append or merge $X$ and $Y$, but the algorithm will treat them separately.)"
   ]
  },
  {
   "cell_type": "markdown",
   "metadata": {},
   "source": [
    "### Answer\n",
    "\n",
    "Given the arrays $X$ and $Y$ are already sorted, we can find the median of all the $2n$ numbers in a divide and conquer approach without appending or merging them. We can implement an algorithm that looks at the medians of both of the arrays, compares them, and then recursively discard half of the elements from each of the array. When comparing the 2 medians, if $m_X < m_Y$, then we discard the elements lesser than $m_X$ and greater than $m_Y$, and vice versa. In the next iteration, we compare the medians again of the smaller subarrays and continue until we end up with a single element in each arrays. The median would be the average of the final $m_x$ and $m_Y$.\n",
    "\n",
    "Since the algorithm would have to search half of the arrays in each recursion, the subproblems are divided in half with a recurrence relation of $T(n)=T(n/2)$ which gives us an $O(lg n)$ time complexity."
   ]
  }
 ],
 "metadata": {
  "kernelspec": {
   "display_name": "Python 3",
   "language": "python",
   "name": "python3"
  },
  "language_info": {
   "codemirror_mode": {
    "name": "ipython",
    "version": 3
   },
   "file_extension": ".py",
   "mimetype": "text/x-python",
   "name": "python",
   "nbconvert_exporter": "python",
   "pygments_lexer": "ipython3",
   "version": "3.8.5"
  }
 },
 "nbformat": 4,
 "nbformat_minor": 4
}
