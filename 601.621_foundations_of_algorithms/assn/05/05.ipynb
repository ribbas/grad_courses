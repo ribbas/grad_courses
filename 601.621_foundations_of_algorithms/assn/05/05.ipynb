{
 "cells": [
  {
   "cell_type": "markdown",
   "metadata": {},
   "source": [
    "# 605.621 - Foundations of Algorithms\n",
    "\n",
    "## Assignment 05\n",
    "\n",
    "Sabbir Ahmed\n",
    "\n",
    "April 4, 2021"
   ]
  },
  {
   "cell_type": "markdown",
   "metadata": {},
   "source": [
    "### Question 1\n",
    "\n",
    "\\[20 pts, tree traversal, induction\\]\n",
    "\n",
    "Consider the following algorithm for doing a post-order traversal of a binary tree with root vertex `root`. Prove that this algorithm runs in time $\\theta(n)$ when the input is an $n$-vertex binary tree.\n",
    "\n",
    "```\n",
    "def postorder(root):\n",
    "    if root is not None:\n",
    "        postorder(root.left)\n",
    "        postorder(root.right)\n",
    "        visit(root)\n",
    "```"
   ]
  },
  {
   "cell_type": "markdown",
   "metadata": {},
   "source": [
    "### Answer\n",
    "\n",
    "Using induction:\n",
    "\n",
    "Let $x$ be a node from the tree, and $n$ be the depth of the tree. We know that there exists at most $2^n$ nodes.\n",
    "\n",
    "The base step:  If $x$ is a leaf node, (or a single node, with $n=1$), then `postorder(x)` will only be called once since there exists no node `x` with `x.left == root` or `x.right == root`.\n",
    "\n",
    "The inductive step: If $x$ is a node with 1 or 2 child nodes, with $n=k$, then `postorder(x)` will only be called at most twice for both the left and right child nodes. Since no nodes are called more than twice, the worst case complexity is $O(2k)$ with the best case complexity is $O(k)$.\n",
    "\n",
    "Therefore, the average case is $\\theta(n)$."
   ]
  },
  {
   "cell_type": "markdown",
   "metadata": {},
   "source": [
    "-----------------------------------------"
   ]
  },
  {
   "cell_type": "markdown",
   "metadata": {},
   "source": [
    "### Question 2\n",
    "\n",
    "\\[40 pts, greedy\\]\n",
    "\n",
    "Suppose you are acting as a consultant for the Port Authority of a small Pacific Rim nation. They are currently doing a multi-billion-dollar business per year, and their revenue is constrained almost entirely by the rate at which they can unload ships that arrive in the port.\n",
    "\n",
    "Here is a basic sort of problem they face. A ship arrives with $n$ containers of weight $w_1, w_2, ..., w_n$. Standing on the deck is a set of trucks, each of which can hold $K$ units of weight. (You may assume that $K$ and $w_i$ are integers.) You can stack multiple containers in each truck, subject to the weight restrictions of $K$. The goal is to minimize the number of trucks that are needed to carry all the containers. This problem is NP-complete.\n",
    "\n",
    "A greedy algorithm you might use for this is the following. Start with an empty truck and begin piling containers 1, 2, 3, ... onto it until you get to a container that would overflow the weight limit. (These containers might not be sorted by weight.) Now declare this truck \"loaded\" and send it off. Then continue the process with a fresh truck. By considering trucks one at a time, this algorithm may not achieve the most efficient way to pack the full set of containers into an available collection of trucks."
   ]
  },
  {
   "cell_type": "markdown",
   "metadata": {},
   "source": [
    "a) Give an example of a set of weights and a value for $K$ where this algorithm does not use the minimum number of trucks."
   ]
  },
  {
   "cell_type": "markdown",
   "metadata": {},
   "source": [
    "### Answer\n",
    "\n",
    "If $n=3$ with $\\{w_1,w_2,w_3\\}=\\{2,3,1\\}$ and $K=3$, then the greedy algorithm would use 3 trucks to carry $w_1$,$w_2$ and $w_3$ respectively. However, it is obvious that 2 trucks could have been used in a more efficient approach if one truck carried $w_2$ and the other combined $w_1$ and $w_3$."
   ]
  },
  {
   "cell_type": "markdown",
   "metadata": {},
   "source": [
    "b) Show that the number of trucks used by this algorithm is within a factor of two of the minimum possible number for any set of weights and any value of $K$."
   ]
  },
  {
   "cell_type": "markdown",
   "metadata": {},
   "source": [
    "### Answer\n",
    "\n",
    "Since every truck can hold at most $K$ weight, the minimum number of trucks needed will be $W/K$, where $W=sum(\\{w_1, w_2, ..., w_n\\})$.\n",
    "\n",
    "Let $k=2m$ be the number of trucks used by the greedy algorithm to carry $W$. Dividing $k$ into consecutive groups of 2 yields a total of $m$ groups. In all of the $m$ groups, 2 trucks are needed to carry the weights that total greater than $K$. Therefore, the greedy algorithm uses at least $m$ trucks, since $W>mk$ or $W/K > m$, and is withing a factor of 2 of $k=2m$."
   ]
  },
  {
   "cell_type": "markdown",
   "metadata": {},
   "source": [
    "-----------------------------------------"
   ]
  },
  {
   "cell_type": "markdown",
   "metadata": {},
   "source": [
    "### Question 3\n",
    "\n",
    "\\[40 pts, dynamic programming\\]\n",
    "\n",
    "Consider Longest Increasing Path in a Matrix problem where the goal is finding the longest path that starts from any element of the matrix and follows a path where each __consecutive__ element is __greater__ than the previous. The path can follow left, right, up and bottom elements while watching the border of the matrix. List the recurrence rules and submit a working Python code to implement a dynamic programming algorithm (Hint: use recursion for simplicity)."
   ]
  },
  {
   "cell_type": "markdown",
   "metadata": {},
   "source": [
    "### Answer"
   ]
  },
  {
   "cell_type": "markdown",
   "metadata": {},
   "source": [
    "To compute the longest increasing path from any element in the matrix, each of the elements in the `n\\cdot m` matrix must be considered when comparing possible paths. This thoroughly traversal of every elements can very easily explode in its time complexity. However, instead of re-computing paths already taken by other cells, their paths can be saved in a separate matrix `matrix_walked`."
   ]
  },
  {
   "cell_type": "code",
   "execution_count": 1,
   "metadata": {},
   "outputs": [],
   "source": [
    "def len_longest_path(i, j, matrix_walked, m, n, matrix):\n",
    "    \"\"\"Compute the longest path from every element\n",
    "\n",
    "    Params:\n",
    "        i <int>                         : current row value\n",
    "        j <int>                         : current column value\n",
    "        matrix_walked <list(list(int))> : m*n matrix containing paths of the elements\n",
    "        m <int>                         : number of rows of the inputted matrix\n",
    "        n <int>                         : number of columns of the inputted matrix\n",
    "        matrix <list(list(int))>        : the inputted matrix\n",
    "\n",
    "    Returns:\n",
    "        matrix_walked[i][j] <int>       : the current value of the path\n",
    "    \"\"\"\n",
    "    # base case - if on any of the borders\n",
    "    if i < 0 or i >= m or j < 0 or j >= n:\n",
    "        return 0\n",
    "\n",
    "    # if this path has already been computed\n",
    "    if matrix_walked[i][j] != -1:\n",
    "        return matrix_walked[i][j]\n",
    "\n",
    "    # initialize values for all the four directions\n",
    "    left = -1\n",
    "    right = -1\n",
    "    up = -1\n",
    "    bottom = -1\n",
    "\n",
    "    # Since all numbers are unique and in range from 1 to n * n,\n",
    "    # there is atmost one possible direction from any cell\n",
    "\n",
    "    # increment the current element value to compare to the values in its 4 directions\n",
    "    val_inc = matrix[i][j] + 1\n",
    "\n",
    "    # if the incremented value equals the left element\n",
    "    if j > 0 and val_inc == matrix[i][j - 1]:\n",
    "        left = 1 + len_longest_path(i, j - 1, matrix_walked, m, n, matrix)\n",
    "\n",
    "    # if the incremented value equals the right element\n",
    "    if j < (n - 1) and val_inc == matrix[i][j + 1]:\n",
    "        right = 1 + len_longest_path(i, j + 1, matrix_walked, m, n, matrix)\n",
    "\n",
    "    # if the incremented value equals the above element\n",
    "    if i > 0 and val_inc == matrix[i - 1][j]:\n",
    "        up = 1 + len_longest_path(i - 1, j, matrix_walked, m, n, matrix)\n",
    "\n",
    "    # if the incremented value equals the bottom element\n",
    "    if i < (m - 1) and val_inc == matrix[i + 1][j]:\n",
    "        bottom = 1 + len_longest_path(i + 1, j, matrix_walked, m, n, matrix)\n",
    "\n",
    "    # save the maximum of the 4 adjacent elements\n",
    "    # if none of the elements are greater than the current value, 1 is assigned\n",
    "    # to the path\n",
    "    matrix_walked[i][j] = max(left, right, up, bottom, 1)\n",
    "    return matrix_walked[i][j]\n",
    "\n",
    "\n",
    "def find_longest_path(matrix):\n",
    "    \"\"\"Driver function to set up variables for len_longest_path\n",
    "\n",
    "    Params:\n",
    "        matrix <list(list(int))>        : the inputted matrix\n",
    "\n",
    "    Returns:\n",
    "        longest_path <int>              : the longest path in the matrix\n",
    "    \"\"\"\n",
    "    # initialize longest_path to 1\n",
    "    longest_path = 1\n",
    "    # save matrix dimensions\n",
    "    m = len(matrix)  # number of rows\n",
    "    n = len(matrix[0])  # number of columns\n",
    "\n",
    "    # prefill the m*n matrix with -1\n",
    "    matrix_walked = [\n",
    "        [-1 for _ in range(n)] for _ in range(m)\n",
    "    ]\n",
    "\n",
    "    # compute longest path beginning from all the elements\n",
    "    for i in range(m):\n",
    "        for j in range(n):\n",
    "            if matrix_walked[i][j] == -1:\n",
    "                len_longest_path(i, j, matrix_walked, m, n, matrix)\n",
    "            # update longest_path\n",
    "            longest_path = max(longest_path, matrix_walked[i][j])\n",
    "\n",
    "    return longest_path\n",
    "\n",
    "\n",
    "matrix = [[2, 1, 1, 3],\n",
    "          [3, 2, 3, 6],\n",
    "          [4, 2, 4, 5],\n",
    "          [5, 1, 5, 4]]\n",
    "find_longest_path(matrix)"
   ]
  },
  {
   "cell_type": "markdown",
   "metadata": {},
   "source": [
    "-----------------------------------------"
   ]
  }
 ],
 "metadata": {
  "kernelspec": {
   "display_name": "Python 3",
   "language": "python",
   "name": "python3"
  },
  "language_info": {
   "codemirror_mode": {
    "name": "ipython",
    "version": 3
   },
   "file_extension": ".py",
   "mimetype": "text/x-python",
   "name": "python",
   "nbconvert_exporter": "python",
   "pygments_lexer": "ipython3",
   "version": "3.8.5"
  }
 },
 "nbformat": 4,
 "nbformat_minor": 4
}
