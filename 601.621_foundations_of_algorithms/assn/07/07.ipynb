{
 "cells": [
  {
   "cell_type": "markdown",
   "metadata": {},
   "source": [
    "# 605.621 - Foundations of Algorithms\n",
    "\n",
    "## Assignment 07\n",
    "\n",
    "Sabbir Ahmed\n",
    "\n",
    "May 2, 2021"
   ]
  },
  {
   "cell_type": "markdown",
   "metadata": {},
   "source": [
    "### Question 1\n",
    "\n",
    "\\[50 pts, clique\\]\n",
    "\n",
    "A clique $H$ is defined as a subgraph of an undirected graph $G$ where there is an edge for every pair of vertices in $H$, i.e. $|E_H| = {|V_H|\\choose 2}$. Describe a greedy algorithm to find a largest clique (only one of them, not all of them)."
   ]
  },
  {
   "cell_type": "markdown",
   "metadata": {},
   "source": [
    "### Answer"
   ]
  },
  {
   "cell_type": "code",
   "execution_count": 1,
   "metadata": {},
   "outputs": [
    {
     "data": {
      "image/png": "[encoded data removed]",
      "text/plain": [
       "<Figure size 432x288 with 1 Axes>"
      ]
     },
     "metadata": {},
     "output_type": "display_data"
    }
   ],
   "source": [
    "import networkx as nx\n",
    "\n",
    "G = nx.Graph()  # instantiate an empty graph\n",
    "# connect the nodes\n",
    "G.add_edges_from([\n",
    "    [1, 2], [1, 3],\n",
    "    [1, 4], [2, 3],\n",
    "    [2, 4], [2, 5],\n",
    "    [3, 4], [3, 5],\n",
    "    [5, 6], [5, 7],\n",
    "    [6, 7]\n",
    "])\n",
    "\n",
    "# save the x,y coordinates of the graphical representation of the graph to overlay subgraphs in the later cells\n",
    "pos = nx.spring_layout(G, seed=0)\n",
    "# use networkx to draw the graph constructed\n",
    "nx.draw(G, pos=pos, with_labels=True)"
   ]
  },
  {
   "cell_type": "markdown",
   "metadata": {},
   "source": [
    "A clique can be found by checking the neighbors of a vertex and verifying that each of its neighbors are adjacent to each other."
   ]
  },
  {
   "cell_type": "code",
   "execution_count": 2,
   "metadata": {},
   "outputs": [],
   "source": [
    "def find_clique_greedy(graph):\n",
    "    \"\"\"Greedy algorithm to find a maximal clique from an input graph\n",
    "    \n",
    "    Params:\n",
    "        G <networkx.classes.graph.Graph object>: networkx graph object\n",
    "        \n",
    "    Returns:\n",
    "        clique <list(object)>: list of vertices\n",
    "    \"\"\"\n",
    "    vertices = list(graph.nodes())\n",
    "    # pop the vertex list for an arbitrary starting point\n",
    "    clique = [vertices.pop()]\n",
    "    for v in vertices:\n",
    "        is_neighbor = True\n",
    "        for u in clique:\n",
    "            if u not in graph[v]:  # if u is not a neighbor\n",
    "                is_neighbor = False\n",
    "                break\n",
    "\n",
    "        if is_neighbor:\n",
    "            clique.append(v)\n",
    "\n",
    "    return clique"
   ]
  },
  {
   "cell_type": "code",
   "execution_count": 3,
   "metadata": {},
   "outputs": [
    {
     "name": "stdout",
     "output_type": "stream",
     "text": [
      "[7, 5, 6]\n"
     ]
    }
   ],
   "source": [
    "print(find_clique_greedy(G))"
   ]
  },
  {
   "cell_type": "markdown",
   "metadata": {},
   "source": [
    "-----------------------------------------"
   ]
  },
  {
   "cell_type": "markdown",
   "metadata": {},
   "source": [
    "### Question 2\n",
    "\n",
    "\\[40 pts, MST\\]\n",
    "\n",
    "Consider the following $(G, w)$ with 9 vertices and 19 edges with distinct weights."
   ]
  },
  {
   "cell_type": "markdown",
   "metadata": {},
   "source": [
    "![graph](graph.png)"
   ]
  },
  {
   "cell_type": "markdown",
   "metadata": {},
   "source": [
    "Generating the graph in `networkx`:"
   ]
  },
  {
   "cell_type": "code",
   "execution_count": 4,
   "metadata": {},
   "outputs": [],
   "source": [
    "G = nx.Graph()\n",
    "G.add_weighted_edges_from([\n",
    "    (\"A\", \"B\", 6),\n",
    "    (\"A\", \"C\", 13),\n",
    "    (\"A\", \"D\", 12),\n",
    "    (\"A\", \"E\", 7),\n",
    "    (\"B\", \"C\", 3),\n",
    "    (\"B\", \"D\", 11),\n",
    "    (\"B\", \"F\", 1),\n",
    "    (\"C\", \"E\", 8),\n",
    "    (\"C\", \"H\", 2),\n",
    "    (\"D\", \"E\", 9),\n",
    "    (\"D\", \"F\", 10),\n",
    "    (\"D\", \"G\", 16),\n",
    "    (\"E\", \"G\", 15),\n",
    "    (\"E\", \"H\", 14),\n",
    "    (\"F\", \"G\", 17),\n",
    "    (\"F\", \"I\", 5),\n",
    "    (\"G\", \"H\", 19),\n",
    "    (\"G\", \"I\", 18),\n",
    "    (\"H\", \"I\", 4),\n",
    "])"
   ]
  },
  {
   "cell_type": "markdown",
   "metadata": {},
   "source": [
    "Forcing the Markdown tables below to be left aligned"
   ]
  },
  {
   "cell_type": "code",
   "execution_count": 5,
   "metadata": {},
   "outputs": [
    {
     "data": {
      "text/html": [
       "<style>\n",
       "  table {margin-left: 0 !important;}\n",
       "</style>\n"
      ],
      "text/plain": [
       "<IPython.core.display.HTML object>"
      ]
     },
     "metadata": {},
     "output_type": "display_data"
    }
   ],
   "source": [
    "%%html\n",
    "<style>\n",
    "  table {margin-left: 0 !important;}\n",
    "</style>"
   ]
  },
  {
   "cell_type": "markdown",
   "metadata": {},
   "source": [
    "a) Show the sequence of edges (labeled by weights) in the MST by Prim’s algorithm starting from vertex $A$."
   ]
  },
  {
   "cell_type": "markdown",
   "metadata": {},
   "source": [
    "### Answer"
   ]
  },
  {
   "cell_type": "markdown",
   "metadata": {},
   "source": [
    "Prim's algorithm starts by picking an arbitrary vertex $v$ while the tree is not spanning, finds the shortest edge leaving the $T$ and adds it to $T$."
   ]
  },
  {
   "cell_type": "markdown",
   "metadata": {},
   "source": [
    "- Start vertex: $A$\n",
    "\n",
    "|Queue|A|B|C|D|E|F|G|H|I|\n",
    "|-|-|-|-|-|-|-|-|-|-|\n",
    "|Key|0|-|-|-|-|-|-|-|-|\n",
    "\n",
    "- Source vertex: $A$\n",
    "\n",
    "|Queue|B|E|D|C|F|G|H|I|\n",
    "|-|-|-|-|-|-|-|-|-|\n",
    "|Key|6|7|12|13|-|-|-|-|\n",
    "\n",
    "- Source vertex: $B$\n",
    "\n",
    "|Queue|E|D|C|F|G|H|I|\n",
    "|-|-|-|-|-|-|-|-|\n",
    "|Key|7|11|3|1|-|-|-|\n",
    "\n",
    "|Queue|F|C|E|D|G|H|I|\n",
    "|-|-|-|-|-|-|-|-|\n",
    "|Key|1|3|7|11|-|-|-|\n",
    "\n",
    "- Source vertex: $F$\n",
    "\n",
    "|Queue|C|E|D|G|H|I|\n",
    "|-|-|-|-|-|-|-|\n",
    "|Key|3|7|10|17|-|5|\n",
    "\n",
    "|Queue|C|I|E|D|G|H|\n",
    "|-|-|-|-|-|-|-|\n",
    "|Key|3|5|7|10|17|-|\n",
    "\n",
    "- Source vertex: $C$\n",
    "\n",
    "|Queue|I|E|D|G|H|\n",
    "|-|-|-|-|-|-|\n",
    "|Key|5|7|10|17|2|\n",
    "\n",
    "|Queue|H|I|E|D|G|\n",
    "|-|-|-|-|-|-|\n",
    "|Key|2|5|7|10|17|\n",
    "\n",
    "- Source vertex: $H$\n",
    "\n",
    "|Queue|I|E|D|G|\n",
    "|-|-|-|-|-|\n",
    "|Key|4|7|10|17|\n",
    "\n",
    "- Source vertex: $I$\n",
    "\n",
    "|Queue|E|D|G|\n",
    "|-|-|-|-|\n",
    "|Key|7|10|17|\n",
    "\n",
    "- Source vertex: $E$\n",
    "\n",
    "|Queue|D|G|\n",
    "|-|-|-|\n",
    "|Key|9|15|\n",
    "\n",
    "- Source vertex: $D$\n",
    "\n",
    "|Queue|G|\n",
    "|-|-|\n",
    "|Key|15|"
   ]
  },
  {
   "cell_type": "markdown",
   "metadata": {},
   "source": [
    "|Vertex|Pi|Weight|\n",
    "|:----:|:-:|:----|\n",
    "|A|-1|0|\n",
    "|B|A|6|\n",
    "|C|B|3|\n",
    "|D|E|9|\n",
    "|E|I|7|\n",
    "|F|B|1|\n",
    "|G|E|15|\n",
    "|H|C|2|\n",
    "|I|H|4|"
   ]
  },
  {
   "cell_type": "markdown",
   "metadata": {},
   "source": [
    "Verifying results with `networkx`:"
   ]
  },
  {
   "cell_type": "code",
   "execution_count": 6,
   "metadata": {},
   "outputs": [
    {
     "name": "stdout",
     "output_type": "stream",
     "text": [
      "A B {'weight': 6}\n",
      "B F {'weight': 1}\n",
      "B C {'weight': 3}\n",
      "C H {'weight': 2}\n",
      "H I {'weight': 4}\n",
      "A E {'weight': 7}\n",
      "E D {'weight': 9}\n",
      "E G {'weight': 15}\n",
      "Weight of MST is 47\n"
     ]
    }
   ],
   "source": [
    "mst = nx.algorithms.tree.minimum_spanning_edges(G, algorithm=\"prim\", data=True)\n",
    "mst_value = 0\n",
    "for vertex in mst:\n",
    "    source_vertex, current_vertex, weight = vertex\n",
    "    print(source_vertex, current_vertex, weight)\n",
    "    mst_value += weight[\"weight\"]\n",
    "\n",
    "print(f\"Weight of MST is {mst_value}\")"
   ]
  },
  {
   "cell_type": "markdown",
   "metadata": {},
   "source": [
    "b) Show the sequence of edges in the MST by Kruskal’s algorithm."
   ]
  },
  {
   "cell_type": "markdown",
   "metadata": {},
   "source": [
    "### Answer"
   ]
  },
  {
   "cell_type": "markdown",
   "metadata": {},
   "source": [
    "Kruskal's algorithm works by maintaining a minimum spanning forest of lightest edges.\n",
    "\n",
    "Sorting all the edges by their weights:"
   ]
  },
  {
   "cell_type": "code",
   "execution_count": 7,
   "metadata": {},
   "outputs": [
    {
     "data": {
      "text/plain": [
       "[('B', 'F', {'weight': 1}),\n",
       " ('C', 'H', {'weight': 2}),\n",
       " ('B', 'C', {'weight': 3}),\n",
       " ('H', 'I', {'weight': 4}),\n",
       " ('F', 'I', {'weight': 5}),\n",
       " ('A', 'B', {'weight': 6}),\n",
       " ('A', 'E', {'weight': 7}),\n",
       " ('C', 'E', {'weight': 8}),\n",
       " ('D', 'E', {'weight': 9}),\n",
       " ('D', 'F', {'weight': 10}),\n",
       " ('B', 'D', {'weight': 11}),\n",
       " ('A', 'D', {'weight': 12}),\n",
       " ('A', 'C', {'weight': 13}),\n",
       " ('E', 'H', {'weight': 14}),\n",
       " ('E', 'G', {'weight': 15}),\n",
       " ('D', 'G', {'weight': 16}),\n",
       " ('F', 'G', {'weight': 17}),\n",
       " ('G', 'I', {'weight': 18}),\n",
       " ('H', 'G', {'weight': 19})]"
      ]
     },
     "execution_count": 7,
     "metadata": {},
     "output_type": "execute_result"
    }
   ],
   "source": [
    "sorted(G.edges(data=True), key=lambda x: x[-1][\"weight\"])"
   ]
  },
  {
   "cell_type": "markdown",
   "metadata": {},
   "source": [
    "Begin adding vertices based on the weights of their edges:"
   ]
  },
  {
   "cell_type": "markdown",
   "metadata": {},
   "source": [
    "- Start\n",
    "\n",
    "|||||||||||\n",
    "|-|-|-|-|-|-|-|-|-|-|\n",
    "|Sets|{A}|{B}|{C}|{D}|{E}|{F}|{G}|{H}|{I}|\n",
    "\n",
    "- Minimum: $BF = 1$\n",
    "\n",
    "||||||||||\n",
    "|-|-|-|-|-|-|-|-|-|\n",
    "|Sets|{A}|{B,F}|{C}|{D}|{E}|{G}|{H}|{I}|\n",
    "\n",
    "\n",
    "- Minimum: $CH = 2$\n",
    "\n",
    "|||||||||\n",
    "|-|-|-|-|-|-|-|-|\n",
    "|Sets|{A}|{B,F}|{C,H}|{D}|{E}|{G}|{I}|\n",
    "\n",
    "- Minimum: $BC = 3$\n",
    "\n",
    "||||||||\n",
    "|-|-|-|-|-|-|-|\n",
    "|Sets|{A}|{B,C,F,H}|{D}|{E}|{G}|{I}|\n",
    "\n",
    "- Minimum: $HI = 4$\n",
    "\n",
    "|||||||\n",
    "|-|-|-|-|-|-|\n",
    "|Sets|{A}|{B,C,F,H,I}|{D}|{E}|{G}|\n",
    "\n",
    "- Minimum: $AB = 6$\n",
    "\n",
    "||||||\n",
    "|-|-|-|-|-|\n",
    "|Sets|{A,B,C,F,H,I}|{D}|{E}|{G}|\n",
    "\n",
    "- Minimum: $AE = 7$\n",
    "\n",
    "|||||\n",
    "|-|-|-|-|\n",
    "|Sets|{A,B,C,E,F,H,I}|{D}|{G}|\n",
    "\n",
    "- Minimum: $DE = 9$\n",
    "\n",
    "||||\n",
    "|-|-|-|\n",
    "|Sets|{A,B,C,D,E,F,H,I}|{G}|\n",
    "\n",
    "- Minimum: $GE = 15$\n",
    "\n",
    "|||\n",
    "|-|-|\n",
    "|Sets|{A,B,C,D,E,F,G,H,I}|\n",
    "\n"
   ]
  },
  {
   "cell_type": "markdown",
   "metadata": {},
   "source": [
    "Verifying results with `networkx`:"
   ]
  },
  {
   "cell_type": "code",
   "execution_count": 8,
   "metadata": {},
   "outputs": [
    {
     "name": "stdout",
     "output_type": "stream",
     "text": [
      "B F {'weight': 1}\n",
      "C H {'weight': 2}\n",
      "B C {'weight': 3}\n",
      "H I {'weight': 4}\n",
      "A B {'weight': 6}\n",
      "A E {'weight': 7}\n",
      "D E {'weight': 9}\n",
      "E G {'weight': 15}\n",
      "Weight of MST is 47\n"
     ]
    }
   ],
   "source": [
    "mst = nx.algorithms.tree.minimum_spanning_edges(G, algorithm=\"kruskal\", data=True)\n",
    "\n",
    "mst_value = 0\n",
    "for vertex in mst:\n",
    "    source_vertex, current_vertex, weight = vertex\n",
    "    print(source_vertex, current_vertex, weight)\n",
    "    mst_value += weight[\"weight\"]\n",
    "\n",
    "print(f\"Weight of MST is {mst_value}\")"
   ]
  },
  {
   "cell_type": "markdown",
   "metadata": {},
   "source": [
    "-----------------------------------------"
   ]
  },
  {
   "cell_type": "markdown",
   "metadata": {},
   "source": [
    "### Question 3\n",
    "\n",
    "\\[10 pts, complexity, NP\\]\n",
    "\n",
    "What is the difference between NP-hard problems and NP-complete problems?"
   ]
  },
  {
   "cell_type": "markdown",
   "metadata": {},
   "source": [
    "### Answer"
   ]
  },
  {
   "cell_type": "markdown",
   "metadata": {},
   "source": [
    "NP problems are decision problems which can be verified in polynomial time by a non-deterministic Turing machine.\n",
    "\n",
    "NP-hard problems are not necessarily decision problems and are hard to verify them in polynomial time.\n",
    "\n",
    "NP-complete problems are decision problems in which all NP problems can be reduced to polynomial time. Since there is currently no solution to the proposition $P=NP$, NP-complete problems are subclasses of both NP and NP-hard problems."
   ]
  },
  {
   "cell_type": "markdown",
   "metadata": {},
   "source": [
    "-----------------------------------------"
   ]
  }
 ],
 "metadata": {
  "kernelspec": {
   "display_name": "Python 3",
   "language": "python",
   "name": "python3"
  },
  "language_info": {
   "codemirror_mode": {
    "name": "ipython",
    "version": 3
   },
   "file_extension": ".py",
   "mimetype": "text/x-python",
   "name": "python",
   "nbconvert_exporter": "python",
   "pygments_lexer": "ipython3",
   "version": "3.8.5"
  }
 },
 "nbformat": 4,
 "nbformat_minor": 4
}
