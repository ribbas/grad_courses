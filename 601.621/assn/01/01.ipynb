{
 "cells": [
  {
   "cell_type": "markdown",
   "metadata": {},
   "source": [
    "# 605.621 - Foundations of Algorithms\n",
    "\n",
    "## Assignment 01\n",
    "\n",
    "Sabbir Ahmed\n",
    "\n",
    "January 31, 2021"
   ]
  },
  {
   "cell_type": "markdown",
   "metadata": {},
   "source": [
    "### Question 1\n",
    "\n",
    "\\[10 pts, insertion sort bug\\]\n",
    "\n",
    "Find the bug in the insertion code given in module 1 lecture notes. Show with an example where the bug causes the sort happening incorrectly."
   ]
  },
  {
   "cell_type": "markdown",
   "metadata": {},
   "source": [
    "Given the following snippet from the Module 1 lecture notes:"
   ]
  },
  {
   "cell_type": "code",
   "execution_count": 1,
   "metadata": {},
   "outputs": [],
   "source": [
    "def insertion_sort(A, n): # A[0..n-1]\n",
    "    for j in range(1, n):\n",
    "        key = A[j]\n",
    "        i = j - 1\n",
    "        while i > 0 and A[i] > key:\n",
    "            A[i + 1] = A[i]\n",
    "            i = i - 1\n",
    "        A[i + 1] = key"
   ]
  },
  {
   "cell_type": "markdown",
   "metadata": {},
   "source": [
    "Using an example list to test the function:"
   ]
  },
  {
   "cell_type": "code",
   "execution_count": 2,
   "metadata": {},
   "outputs": [],
   "source": [
    "test_list = [1, 12, 99, 11, 6]\n",
    "insertion_sort(test_list, 5)"
   ]
  },
  {
   "cell_type": "code",
   "execution_count": 3,
   "metadata": {},
   "outputs": [
    {
     "name": "stdout",
     "output_type": "stream",
     "text": [
      "[1, 6, 11, 12, 99]\n"
     ]
    }
   ],
   "source": [
    "print(test_list)"
   ]
  },
  {
   "cell_type": "markdown",
   "metadata": {},
   "source": [
    "It appears that the list was sorted properly. However, with a different test case:"
   ]
  },
  {
   "cell_type": "code",
   "execution_count": 4,
   "metadata": {},
   "outputs": [],
   "source": [
    "test_list = [45, 12, 99, 11, 6]\n",
    "insertion_sort(test_list, 5)"
   ]
  },
  {
   "cell_type": "code",
   "execution_count": 5,
   "metadata": {},
   "outputs": [
    {
     "name": "stdout",
     "output_type": "stream",
     "text": [
      "[45, 6, 11, 12, 99]\n"
     ]
    }
   ],
   "source": [
    "print(test_list)"
   ]
  },
  {
   "cell_type": "markdown",
   "metadata": {},
   "source": [
    "It appears that the first index was not sorted properly. The bug in the snippet can be found on line 5:\n",
    "```python\n",
    "while i > 0 and A[i] > key:\n",
    "```\n",
    "where the loop is only considering indices above but not including 0. If the 0th index is included as well to modify the `insertion_sort()` function to the following snippet:"
   ]
  },
  {
   "cell_type": "code",
   "execution_count": 6,
   "metadata": {},
   "outputs": [
    {
     "name": "stdout",
     "output_type": "stream",
     "text": [
      "[6, 11, 12, 45, 99]\n"
     ]
    }
   ],
   "source": [
    "def insertion_sort(A, n): # A[0..n-1]\n",
    "    for j in range(1, n):\n",
    "        key = A[j]\n",
    "        i = j - 1\n",
    "        while i >= 0 and A[i] > key:\n",
    "            A[i + 1] = A[i]\n",
    "            i = i - 1\n",
    "        A[i + 1] = key\n",
    "\n",
    "test_list = [45, 12, 99, 11, 6]\n",
    "insertion_sort(test_list, 5)\n",
    "print(test_list)"
   ]
  },
  {
   "cell_type": "markdown",
   "metadata": {},
   "source": [
    "Then the code is correct and will sort all lists properly."
   ]
  },
  {
   "cell_type": "markdown",
   "metadata": {},
   "source": [
    "### Question 2\n",
    "\n",
    "\\[10 pts, proof by induction\\]\n",
    "\n",
    "Suppose we have the following sequence: $a_1=1, a_2=3, a_k=a_{k-2} + 2a_{k-1}$, for all integers $k\\ge3$. Show that for all integers $n\\ge1$, given the sequence $a_1, a_2, ..., a_k$ as defined above, $a_n$ is always odd."
   ]
  },
  {
   "cell_type": "markdown",
   "metadata": {},
   "source": [
    "Let P denote the proposition: given the sequence $a_1, a_2, ..., a_k$, where $a_1=1, a_2=3, a_k=a_{k-2} + 2a_{k-1}$, $\\forall k \\in \\mathbb Z$ $k\\ge3$, $a_n$ is always odd\n",
    "\n",
    "#### Initial step:\n",
    "\n",
    "$P(3) = a_3=a_{3-2} + 2a_{3-1}$\n",
    "\n",
    "$= a_3=a_{1} + 2a_{2}$\n",
    "\n",
    "$= a_3=1 + 2(3) = 7$\n",
    "\n",
    "Since $a_3=7$ is odd, the base case holds and P(3) is true.\n",
    "\n",
    "#### Inductive step:\n",
    "\n",
    "Assume P(k) is true, implying $a_k$ is odd, then\n",
    "\n",
    "$P(k+1) = a_{k+1}=a_{{k+1}-2} + 2a_{{k+1}-1}$\n",
    "\n",
    "$P(k+1) = a_{k+1}=a_{k-1} + 2a_{k}$\n",
    "\n",
    "Since $a_k$ is odd, then $2a_k$ is even.\n",
    "\n",
    "Also, since $a_k$ is odd, then $a_{k-1}$ is also odd.\n",
    "\n",
    "Therefore, adding odd and even terms results in an odd term, and $a_n$ is odd $\\forall k \\in \\mathbb Z$"
   ]
  },
  {
   "cell_type": "markdown",
   "metadata": {},
   "source": [
    "### Question 3\n",
    "\n",
    "\\[10 pts, proof by contradiction\\]\n",
    "\n",
    "Prove that $log_2(3)$ is irrational."
   ]
  },
  {
   "cell_type": "markdown",
   "metadata": {},
   "source": [
    "By definition, for a number $n \\in$ to be rational it must be that $n=p/q$, where $p \\in \\mathbb Z$, $q \\in \\mathbb N$\n",
    "\n",
    "Then, let\n",
    "\n",
    "$n = log_2(3) = p/q$\n",
    "\n",
    "$2^{log_2(3)} = 2^{p/q}$\n",
    "\n",
    "$3 = 2^{p/q}$\n",
    "\n",
    "Which simplifies to $3^q = 2^p$. However, this implies that an even integer equals to an odd integer.\n",
    "\n",
    "Therefore, $log_2(3)$ is irrational."
   ]
  },
  {
   "cell_type": "markdown",
   "metadata": {},
   "source": [
    "### Question 4\n",
    "\n",
    "\\[30 pts, time and space complexity\\]\n",
    "\n",
    "For insertion sort algorithm,\n",
    "\n",
    "(a) Compute the best-case time complexity"
   ]
  },
  {
   "cell_type": "markdown",
   "metadata": {},
   "source": [
    "Referring back to the `insertion_sort()` function implemented earlier, it is clear that the algorithm has 2 major steps: looping through the entire list from start to finish, and swapping indices of elements when they are out of order.\n",
    "\n",
    "For a list of size $n$, the best case of an insertion sort would be the algorithm loops through the entire list without having to swap any elements. This best case scenario works with an already sorted list.\n",
    "\n",
    "Therefore, the best-case time complexity of insertion sort is $\\theta(n)$."
   ]
  },
  {
   "cell_type": "markdown",
   "metadata": {},
   "source": [
    "(b) Compute the worst-case time complexity"
   ]
  },
  {
   "cell_type": "markdown",
   "metadata": {},
   "source": [
    "The worst case scenario for an insertion sort is if the algorithm has to swap every elements in the list. This scenario is possible if the provided list is sorted in the reverse order, i.e. the list is in decreasing order.\n",
    "\n",
    "For a list of size $n$, this would mean $n$ swaps on top of the main loop.\n",
    "\n",
    "Therefore, the worst-case time complexity of insertion sort is $\\theta(n^2)$."
   ]
  },
  {
   "cell_type": "markdown",
   "metadata": {},
   "source": [
    "(c) Compute the space complexity"
   ]
  },
  {
   "cell_type": "markdown",
   "metadata": {},
   "source": [
    "Insertion sort loops through the entire length of a list and swaps 2 elements whenever they are out of order. This in-place algorithm does not require the algorithm to allocate additional memory.\n",
    "\n",
    "Therefore, insertion sort has a space complexity of $O(1)$."
   ]
  },
  {
   "cell_type": "markdown",
   "metadata": {},
   "source": [
    "### Question 5\n",
    "\n",
    "\\[40 pts, algorithm analysis\\]\n",
    "\n",
    "The __loop invariance__ concept is explained on page 19 of the textbook. During our programming of the insertion sort algorithm in class, we implicitly used this concept while we design/program the algorithm loops in a Python script.\n",
    "Read the relevant pages on the textbook and use loop invariance to solve problem 2-2 (page 40)."
   ]
  },
  {
   "cell_type": "markdown",
   "metadata": {},
   "source": [
    "Given problem 2-2:\n",
    "\n",
    "__Correctness of bubblesort__\n",
    "\n",
    "Bubblesort is a popular, but inefficient, sorting algorithm. It works by repeatedly swapping adjacent elements that are out of order.\n",
    "```\n",
    "BUBBLESORT(A)\n",
    "    for i = 1 to A.length - 1\n",
    "        for j = A.length downto i + 1\n",
    "            if A[j] < A[j - 1]\n",
    "                exchange A[j] with A[j - 1]\n",
    "```\n",
    "\n",
    "(a) Let A' denote the output of BUBBLESORT(A). To prove that BUBBLESORT is\n",
    "correct, we need to prove that it terminates and that\n",
    "\n",
    "$A'[1] \\le A'[2] \\le ... \\le A'[n]$ (2.3)\n",
    "\n",
    "where $n = A.length$. In order to show that BUBBLESORT actually sorts, what\n",
    "else do we need to prove?\n",
    "\n",
    "The next two parts will prove inequality (2.3).\n",
    "\n",
    "(b) State precisely a loop invariant for the for loop in lines 2–4, and prove that this\n",
    "loop invariant holds. Your proof should use the structure of the loop invariant\n",
    "proof presented in this chapter.\n",
    "\n",
    "(c) Using the termination condition of the loop invariant proved in part (b), state\n",
    "a loop invariant for the for loop in lines 1–4 that will allow you to prove in-\n",
    "equality (2.3). Your proof should use the structure of the loop invariant proof\n",
    "presented in this chapter.\n",
    "\n",
    "(d) What is the worst-case running time of bubblesort? How does it compare to the\n",
    "running time of insertion sort?"
   ]
  },
  {
   "cell_type": "markdown",
   "metadata": {},
   "source": []
  },
  {
   "cell_type": "markdown",
   "metadata": {},
   "source": []
  },
  {
   "cell_type": "markdown",
   "metadata": {},
   "source": []
  },
  {
   "cell_type": "markdown",
   "metadata": {},
   "source": []
  },
  {
   "cell_type": "code",
   "execution_count": null,
   "metadata": {},
   "outputs": [],
   "source": []
  }
 ],
 "metadata": {
  "kernelspec": {
   "display_name": "Python 3",
   "language": "python",
   "name": "python3"
  },
  "language_info": {
   "codemirror_mode": {
    "name": "ipython",
    "version": 3
   },
   "file_extension": ".py",
   "mimetype": "text/x-python",
   "name": "python",
   "nbconvert_exporter": "python",
   "pygments_lexer": "ipython3",
   "version": "3.8.5"
  }
 },
 "nbformat": 4,
 "nbformat_minor": 4
}
