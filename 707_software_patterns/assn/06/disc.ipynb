{
 "cells": [
  {
   "cell_type": "markdown",
   "metadata": {},
   "source": [
    "# Idioms\n",
    "\n",
    "1. The Coplien idioms are expressly defined for C++. Are there any that apply to other languages?  More generally, these patterns apply to a class of languages that includes C++. What are the characteristics shared by these languages?\n",
    "2. What common C++ problems are solved by these patterns?  What other kinds of types benefit from these patterns?\n",
    "3. How is Virtual Constructor the basis for Abstract Factory?  How does the solution to Concrete Data Type differ from other patterns we’ve seen?\n",
    "4. It’s obviously not necessary to use Counted Body in Java to manage memory allocation. It’s one potential way of implementing a garbage collection scheme, though probably not the way that Java does it. But what in Java is it useful for?  Envelope/Letter is applicable the same in Java as C++, for time varying types. Are there any examples of this in Java, whether in the API or in the language implementation itself?\n",
    "5. Is Envelope/Letter a better or just different way to handle the CircleAndEllipseProblem that ImmutableValue solves?  What are Value Objects that they should be immutable? Examples?"
   ]
  },
  {
   "cell_type": "markdown",
   "metadata": {},
   "source": [
    "1. I think any language that supports an object-oriented paradigm can make use of these idioms. For example, although not explicitly listed as an idiom of Python, Counted Body can be used to overload assignment behaviors to manage constructed objects or Algebraic Hierarchy can be used as well."
   ]
  },
  {
   "cell_type": "markdown",
   "metadata": {},
   "source": [
    "# Pattern Languages\n",
    "1. What distinguishes a pattern language from a collection of patterns like GoF that is not a pattern language, even though the latter contains references linking one pattern to another?\n",
    "2. A pattern language may have gaps in it which point out the need for additional patterns which have not been independently discovered. Are there any such gaps in Experiences in addition to the ones called out by the authors?\n",
    "3. How complete are these pattern languages? I.e. do they include at least references to all of the patterns that are necessary, even if those patterns are not unique to the language?\n",
    "4. Experiences leads you through the construction of user interfaces. What does the C++ idioms pattern language help you to create?\n",
    "5. Find another pattern language online.  Provide the reference and briefly describe how it answers the previous days' questions."
   ]
  },
  {
   "cell_type": "markdown",
   "metadata": {},
   "source": [
    "1. A pattern language is essentially a collection of patterns but with a more focused intent in using all the patterns for solutions in specific domains of an application."
   ]
  },
  {
   "cell_type": "code",
   "execution_count": null,
   "metadata": {},
   "outputs": [],
   "source": []
  }
 ],
 "metadata": {
  "kernelspec": {
   "display_name": "Python 3",
   "language": "python",
   "name": "python3"
  },
  "language_info": {
   "codemirror_mode": {
    "name": "ipython",
    "version": 3
   },
   "file_extension": ".py",
   "mimetype": "text/x-python",
   "name": "python",
   "nbconvert_exporter": "python",
   "pygments_lexer": "ipython3",
   "version": "3.8.10"
  }
 },
 "nbformat": 4,
 "nbformat_minor": 4
}
