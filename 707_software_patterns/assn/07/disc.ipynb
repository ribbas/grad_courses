{
 "cells": [
  {
   "cell_type": "markdown",
   "metadata": {},
   "source": [
    "# Adapter\n",
    "\n",
    "1. Must any of the three main participants in the pattern, Target, Adapter, Adaptee, be a single class?  I.e., must there be a one to one to one mapping among those classes?  Is the Java API an adapter?\n",
    "2. Can Adapter be used to present a non-OO collection of methods as an OO interface?\n",
    "3. Decorator adds behavior, Proxy controls access, Adaptor modifies the contract, and so what is the contract? What is the interface?\n",
    "4. The use of Adapter to make a non-Remote Java object available through RMI uses all of the same method signatures, i.e. the same interface, but adds RemoteException to each method’s throws clause and inheritance of the Remote interface. Is this still the “same” interface?\n",
    "5. Which Adapter variant did you use for the assignment?  Why?"
   ]
  },
  {
   "cell_type": "markdown",
   "metadata": {},
   "source": [
    "1. I think an adapter can have many adaptees. A single adapter can wrap multiple adaptees if they have a similar API. If there are differences in the API among the adaptees, multiple adapters can be used to create abstractions among the hierarchy and allow the client code to reference a single adapter for all the adaptees. The adapter can also work with any subclasses of an adaptee, given they have access to the methods."
   ]
  },
  {
   "cell_type": "markdown",
   "metadata": {},
   "source": [
    "# Bridge\n",
    "1. Both sides of Bridge look like basic inheritance structures.  How do the structures and behaviors differ between the Abstraction and Implementation hierarchies in Bridge?\n",
    "2. What are the differences between Bridge and Strategy?\n",
    "3. What is accomplished by the Abstraction hierarchy?\n",
    "4. What is a non-GUI use of Bridge?"
   ]
  },
  {
   "cell_type": "markdown",
   "metadata": {},
   "source": [
    "1. The Abstraction side (or the Interface) of the Bridge encompasses all the methods that are expected and does not actually do any of the implementations. All the work is delegated to the Implementation side (or platform)."
   ]
  }
 ],
 "metadata": {
  "kernelspec": {
   "display_name": "Python 3",
   "language": "python",
   "name": "python3"
  },
  "language_info": {
   "codemirror_mode": {
    "name": "ipython",
    "version": 3
   },
   "file_extension": ".py",
   "mimetype": "text/x-python",
   "name": "python",
   "nbconvert_exporter": "python",
   "pygments_lexer": "ipython3",
   "version": "3.8.10"
  }
 },
 "nbformat": 4,
 "nbformat_minor": 4
}
