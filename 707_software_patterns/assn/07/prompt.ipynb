{
 "cells": [
  {
   "cell_type": "markdown",
   "metadata": {},
   "source": [
    "1. Create an Adapter or Bridge to use the real org.w3c.dom structure as a wrapper around the Node and Document members of the edu.jhu.apl.patterns_class.dom DOM structure. For users of the C++ implementation, use the  supplied subset of the xerces-c++ DOM implementation . In both languages, don’t worry about trying to create methods for parts of the org.w3c.dom which do not have implementations in the patterns_class.dom.  While I am only looking for complete implementations of Node and Document, there will still be some need to touch the other DOM classes in order to fully realize those two.\n",
    "2. Describe the reason for choosing the pattern you selected and for not choosing the other. Include the answer in a Readme.txt file along with the implementation of part 1.\n",
    "\n",
    "## Consider these questions when thinking about how to implement the assignment.\n",
    "\n",
    "1. Adapter/Bridge\n",
    "    1. What interface/abstracton does the client expect to use?\n",
    "    2. Does this interface have any RefinedAbstractions?"
   ]
  }
 ],
 "metadata": {
  "kernelspec": {
   "display_name": "Python 3",
   "language": "python",
   "name": "python3"
  },
  "language_info": {
   "codemirror_mode": {
    "name": "ipython",
    "version": 3
   },
   "file_extension": ".py",
   "mimetype": "text/x-python",
   "name": "python",
   "nbconvert_exporter": "python",
   "pygments_lexer": "ipython3",
   "version": "3.8.10"
  }
 },
 "nbformat": 4,
 "nbformat_minor": 4
}
