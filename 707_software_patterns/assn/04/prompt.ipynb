{
 "cells": [
  {
   "cell_type": "markdown",
   "metadata": {},
   "source": [
    "1. Reimplement the serialization algorithm or some part of it, either the original or your Strategy, using Template Method, by identifying the variant and invariant parts of the algorithm. Apply Fowler’s refactoring [“Form Template Method.”](http://refactoring.com/catalog/formTemplateMethod.html)\n",
    "\n",
    "2. Implement a Builder using XMLTokenizer to construct a DOM tree. Use Abstract Factory to create the Builder’s object creation component. (I won’t grade on the bugginess of your parser. I’m interested in the Builder.) Follow Kerievsky’s refactoring [“Encapsulate Composite with Builder.”](http://industriallogic.com/xp/refactoring/compositeWithBulder.html)\n",
    "\n",
    "Consider these questions when thinking about how to implement the assignment.\n",
    "\n",
    "1. Template Method\n",
    "  1. What parts of serialization are the same regardless of which Node type is being serialized?\n",
    "  2. Are all of the PrimitiveMethods implemented in every concrete TemplateMethod class?\n",
    "2. Abstract Factory\n",
    "  1. What is the family collected by this Abstract Factory?\n",
    "  2. Are the create methods in this Abstract Factory Factory Methods or Prototypes?\n",
    "3. Builder\n",
    "  1. What are the steps needed to construct each XML part from the syntax primitives?\n",
    "  2. What is the input document?\n",
    "  3. Which functions are performed by the Director vs. the Builder?"
   ]
  }
 ],
 "metadata": {
  "kernelspec": {
   "display_name": "Python 3",
   "language": "python",
   "name": "python3"
  },
  "language_info": {
   "codemirror_mode": {
    "name": "ipython",
    "version": 3
   },
   "file_extension": ".py",
   "mimetype": "text/x-python",
   "name": "python",
   "nbconvert_exporter": "python",
   "pygments_lexer": "ipython3",
   "version": "3.8.10"
  }
 },
 "nbformat": 4,
 "nbformat_minor": 4
}
