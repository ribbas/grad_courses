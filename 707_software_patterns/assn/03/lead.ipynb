{
 "cells": [
  {
   "cell_type": "markdown",
   "metadata": {},
   "source": [
    "# Composite"
   ]
  },
  {
   "cell_type": "markdown",
   "metadata": {},
   "source": [
    "The Composite real world example is shown in the video and consists of the recipe being followed by the presenter.  The participants in the pattern are:\n",
    "\n",
    " - Beef Burgundy\n",
    " - Rendered bacon\n",
    " - Fried vegetables\n",
    " - Braised vegetables\n",
    " - Onions\n",
    " - Bacon\n",
    " - Beef\n",
    "\n",
    "Which of these participants fill which roles in the pattern, in particular what processes in the pattern or implied by the pattern fill the roles of the various methods, e.g., Operation, AddChild, etc.?"
   ]
  },
  {
   "cell_type": "markdown",
   "metadata": {},
   "source": []
  },
  {
   "cell_type": "markdown",
   "metadata": {},
   "source": [
    "# Iterator"
   ]
  },
  {
   "cell_type": "markdown",
   "metadata": {},
   "source": [
    "I will be posting a real world example and a software example of iterators on the wiki in a few days but I thought we could get the discussion started! Three questions:\n",
    "\n",
    "  1. Why do we have to define a new class when using internal iteration for a list? (hint: see textbook example on pg 267)\n",
    "  2. Is it possible to do the iterator pattern and not use the factory method pattern?\n",
    "  3. What are some ideas for maintaining robustness of an iterator - how can you avoid breaking it when adding/taking away elements from the aggregate?"
   ]
  },
  {
   "cell_type": "markdown",
   "metadata": {},
   "source": []
  }
 ],
 "metadata": {
  "kernelspec": {
   "display_name": "Python 3",
   "language": "python",
   "name": "python3"
  },
  "language_info": {
   "codemirror_mode": {
    "name": "ipython",
    "version": 3
   },
   "file_extension": ".py",
   "mimetype": "text/x-python",
   "name": "python",
   "nbconvert_exporter": "python",
   "pygments_lexer": "ipython3",
   "version": "3.8.10"
  }
 },
 "nbformat": 4,
 "nbformat_minor": 4
}
