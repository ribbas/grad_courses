{
 "cells": [
  {
   "cell_type": "markdown",
   "metadata": {},
   "source": [
    "## Composite"
   ]
  },
  {
   "cell_type": "markdown",
   "metadata": {},
   "source": [
    "a. What is the difference between the original DOM implementation and a Composite implementation as requested by the exercise?  I.e., what needs to change in the DOM type hierarchy in the assignment framework to make it conform to the Composite pattern?"
   ]
  },
  {
   "cell_type": "markdown",
   "metadata": {},
   "source": [
    "The original DOM implementation has a Node superclass that is generalized by the Document, Element, Attr and Text classes. All the subclasses derive the methods from Node, but wrap them in their custom methods. For example, all the setter and getter methods in Text are simply wrapping methods of its parent class. This behavior is shared among the other subclasses, to an extent. The common methods can be extracted away from the subclasses and moved into a Composite class. On the other hand, the Document subclass does not share any wrapper methods with its siblings and acts as a factory to instantiate them instead.\n",
    "\n",
    "One possible implementation to conform the DOM class hierarchy to the Composite pattern would be to create a Composite subclass for Element, Attr and Text and place it on the same level as Document in the hierarchy. The shared methods that are wrapped in the subclass methods would have to be modified to share a common name to avoid duplication."
   ]
  },
  {
   "cell_type": "markdown",
   "metadata": {},
   "source": [
    "b. How does the Composite pattern help to consolidate system-wide conditional logic?"
   ]
  },
  {
   "cell_type": "markdown",
   "metadata": {},
   "source": []
  },
  {
   "cell_type": "markdown",
   "metadata": {},
   "source": [
    "c. Does Composite allow for the introduction of arbitrary limits on the children of Composite objects? E.g., a limit on the number of children or that a particular Composite may only have certain types of children as in an XML document?"
   ]
  },
  {
   "cell_type": "markdown",
   "metadata": {},
   "source": [
    "The intent of Composite classes are that they can \"compose\" other classes, even itself. For example, using the analogy from the lecture video, consider the classes: BeefBurgundy, Beef and Onions. In this scenario, the BeefBurgundy class is considered a Concrete Composite class that composes of the leaf classes Beef and Onions (and other classes not mentioned here), and they all inherit from the shared Concrete Component interface. Therefore, it is possible to add an arbitrary number of BeefBurgundy, Beef and Onion objects to a single BeefBurgundy instance. There doesn't necessarily need to be a limit. To enforce a limit, the Concrete Component will have to add some checks, such as using a static counter or container."
   ]
  },
  {
   "cell_type": "markdown",
   "metadata": {},
   "source": [
    "d. Would you use the composite pattern if you did not have a part-whole hierarchy? In other words, if only a few objects have children and almost everything else in your collection is a leaf, would you still use the composite pattern to model these objects?"
   ]
  },
  {
   "cell_type": "markdown",
   "metadata": {},
   "source": []
  },
  {
   "cell_type": "markdown",
   "metadata": {},
   "source": [
    "e. Ideally we want a common interface for all nodes in the tree. How can we address the differences between Composite and Leaf nodes?"
   ]
  },
  {
   "cell_type": "markdown",
   "metadata": {},
   "source": []
  },
  {
   "cell_type": "markdown",
   "metadata": {},
   "source": [
    "## Iterator"
   ]
  },
  {
   "cell_type": "markdown",
   "metadata": {},
   "source": [
    "a. What’s a typical way to create Iterators?"
   ]
  },
  {
   "cell_type": "markdown",
   "metadata": {},
   "source": [
    "A factory method can be used to create Iterators. The intent of the pattern is to \"access the elements of an aggregate object sequentially without exposing its underlying representation\" (from the lecture slides). A method that allows for indirection between the type of containers and the client by concealing the implementation sounds like the core philosophy of factory methods."
   ]
  },
  {
   "cell_type": "markdown",
   "metadata": {},
   "source": [
    "b. Given the structure of the DOM does the Iterator pattern provide any special advantage to managing that structure?"
   ]
  },
  {
   "cell_type": "markdown",
   "metadata": {},
   "source": []
  },
  {
   "cell_type": "markdown",
   "metadata": {},
   "source": [
    "c, Will your Iterator be internal or external?  Is this Iterator useful for the Strategy or non-Strategy serialization algorithms or yet some other form of that algorithm?"
   ]
  },
  {
   "cell_type": "markdown",
   "metadata": {},
   "source": []
  },
  {
   "cell_type": "markdown",
   "metadata": {},
   "source": [
    "d. Are Iterators “object-oriented”?"
   ]
  },
  {
   "cell_type": "markdown",
   "metadata": {},
   "source": []
  },
  {
   "cell_type": "markdown",
   "metadata": {},
   "source": [
    "1. Does ConcreteIterator have to be a friend of ConcreteAggregate (note: friendship is not heritable)?"
   ]
  },
  {
   "cell_type": "markdown",
   "metadata": {},
   "source": []
  },
  {
   "cell_type": "markdown",
   "metadata": {},
   "source": [
    "2. Does the pattern as described by GOF satisfy the requirement to not expose the Aggregate’s internal representation?"
   ]
  },
  {
   "cell_type": "markdown",
   "metadata": {},
   "source": []
  },
  {
   "cell_type": "markdown",
   "metadata": {},
   "source": [
    "3. Must we use inheritance to achieve polymorphism?"
   ]
  },
  {
   "cell_type": "markdown",
   "metadata": {},
   "source": []
  },
  {
   "cell_type": "markdown",
   "metadata": {},
   "source": [
    "e. Is it acceptable for the Aggregate and Iterator to be the same class?"
   ]
  },
  {
   "cell_type": "markdown",
   "metadata": {},
   "source": []
  },
  {
   "cell_type": "markdown",
   "metadata": {},
   "source": [
    "1. Could Node be the Iterator of the DOM?"
   ]
  },
  {
   "cell_type": "markdown",
   "metadata": {},
   "source": []
  },
  {
   "cell_type": "markdown",
   "metadata": {},
   "source": [
    "## Refactoring"
   ]
  },
  {
   "cell_type": "markdown",
   "metadata": {},
   "source": [
    "1. Here is a reference to the Bad Smells that Martin Fowler describes in his book \"Refactoring\".  Which of these would lead you to the refactorings requested in the first two assignments for Factory Method, Strategy, Decorator, Composite, and Iterator? [Code Smells (refactoring.guru)](https://refactoring.guru/refactoring/smells)"
   ]
  },
  {
   "cell_type": "markdown",
   "metadata": {},
   "source": [
    "Some bad smells that led to the recent refactorings are Bloaters and Object-Oriented Abusers, specifically long methods, alternative classes with different interfaces, and switch statements.\n",
    "\n",
    "The long method and switch statements were observed in last week's refactoring with the Strategy pattern. Both of those smells were present in the XMLSerializer class which was a single long method with many conditionals.\n",
    "\n",
    "Alternative classes with different interfaces are being observed in this week's refactorings. Many of the subclasses of Node in the DOM hierarchy share identical methods from their parent but rename them to fit the object's naming convention. Extracting the shared methods up to the Node class or a composite class should be able to resolve this smell."
   ]
  },
  {
   "cell_type": "code",
   "execution_count": null,
   "metadata": {},
   "outputs": [],
   "source": []
  }
 ],
 "metadata": {
  "kernelspec": {
   "display_name": "Python 3",
   "language": "python",
   "name": "python3"
  },
  "language_info": {
   "codemirror_mode": {
    "name": "ipython",
    "version": 3
   },
   "file_extension": ".py",
   "mimetype": "text/x-python",
   "name": "python",
   "nbconvert_exporter": "python",
   "pygments_lexer": "ipython3",
   "version": "3.8.10"
  }
 },
 "nbformat": 4,
 "nbformat_minor": 4
}
