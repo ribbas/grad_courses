{
 "cells": [
  {
   "cell_type": "markdown",
   "metadata": {},
   "source": [
    "1. Make any modifications necessary to the DOM interfaces and implementation to make the DOM tree fit the Composite pattern. Consider following Kerievsky’s refactoring “Extract Composite” to move methods out of subclasses.\n",
    "2. Extract the recursive traversal logic from the original XMLSerializer class into an Iterator.\n",
    "\n",
    "Consider these questions when thinking about how to implement the assignment.\n",
    "\n",
    "1. Composite\n",
    "  1. Which classes are Leaf nodes and which are Composite nodes in the DOM structure?\n",
    "  2. What behaviors need to be implemented differently between Leaf and Composite nodes?\n",
    "  3. Do you need abstract Leaf and/or Composite classes to implement the distinction between those two roles?\n",
    "\n",
    "2. Iterator\n",
    "  1. What kind of traversal is needed for the DOM structure?\n",
    "  2. Where does the createIterator method go?\n",
    "  3. What class actually calls the serialization method, the Iterator or the client that is using the Iterator?"
   ]
  }
 ],
 "metadata": {
  "kernelspec": {
   "display_name": "Python 3",
   "language": "python",
   "name": "python3"
  },
  "language_info": {
   "codemirror_mode": {
    "name": "ipython",
    "version": 3
   },
   "file_extension": ".py",
   "mimetype": "text/x-python",
   "name": "python",
   "nbconvert_exporter": "python",
   "pygments_lexer": "ipython3",
   "version": "3.8.10"
  }
 },
 "nbformat": 4,
 "nbformat_minor": 4
}
