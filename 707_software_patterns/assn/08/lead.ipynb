{
 "cells": [
  {
   "cell_type": "markdown",
   "metadata": {},
   "source": [
    "# Template Method"
   ]
  },
  {
   "cell_type": "markdown",
   "metadata": {},
   "source": [
    "1. Is there a case where primitive operations of the AbstractClass should be available to client code?\n",
    "2. How can template methods be used to prevent programming errors? What types of accidents could developers make with the real-world game example if all the pickup types were implemented as MonoBehaviors (see leadership wiki for details)?\n",
    "\n",
    "Alternatively for number 2 - what errors can be introduced by the template method pattern that developers need to be careful of?"
   ]
  },
  {
   "cell_type": "markdown",
   "metadata": {},
   "source": [
    "# Abstract"
   ]
  },
  {
   "cell_type": "markdown",
   "metadata": {},
   "source": [
    "1. How can the Abstract Factory Pattern ensure that dependent products are created together?\n",
    "2. Could the Abstract Factory Pattern be considered an expansion of the Factory Method Pattern?\n",
    "3. Why is the AbstractFactory often implemented as a Singleton? (Singleton pattern ensures there is only ever a single instantiation of a class)"
   ]
  },
  {
   "cell_type": "markdown",
   "metadata": {},
   "source": [
    "# Builder"
   ]
  },
  {
   "cell_type": "markdown",
   "metadata": {},
   "source": [
    "1. What are the pros and cons of the builder pattern compared to a highly parameterized constructor?\n",
    "2. How does the use of the director decrease coupling?\n",
    "3. What are the workers and raw materials at the manufacturing plant?  Do they fit anywhere in the pattern?"
   ]
  }
 ],
 "metadata": {
  "kernelspec": {
   "display_name": "Python 3",
   "language": "python",
   "name": "python3"
  },
  "language_info": {
   "codemirror_mode": {
    "name": "ipython",
    "version": 3
   },
   "file_extension": ".py",
   "mimetype": "text/x-python",
   "name": "python",
   "nbconvert_exporter": "python",
   "pygments_lexer": "ipython3",
   "version": "3.8.10"
  }
 },
 "nbformat": 4,
 "nbformat_minor": 4
}
