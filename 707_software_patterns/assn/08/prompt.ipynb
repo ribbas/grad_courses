{
 "cells": [
  {
   "cell_type": "markdown",
   "metadata": {},
   "source": [
    "1. Apply Observer to observe the actions performed by the Builder as it constructs a DOM structure as if you were going to provide parsing status in a GUI.  It is sufficient to log the Observers updates to stdout. \n",
    "\n",
    "2. Apply Mediator to your Observer implementation in the manner suggested by the GoF for those two patterns to work together.\n",
    "\n",
    "## Consider these questions when thinking about how to implement the assignment.\n",
    "\n",
    "1. Observer\n",
    "    1. What kind of progress might a user be interested in seeing about the parsing process?\n",
    "    2. What parts of the parsing process should send notifications to signal that progress?"
   ]
  },
  {
   "cell_type": "markdown",
   "metadata": {},
   "source": []
  }
 ],
 "metadata": {
  "kernelspec": {
   "display_name": "Python 3",
   "language": "python",
   "name": "python3"
  },
  "language_info": {
   "codemirror_mode": {
    "name": "ipython",
    "version": 3
   },
   "file_extension": ".py",
   "mimetype": "text/x-python",
   "name": "python",
   "nbconvert_exporter": "python",
   "pygments_lexer": "ipython3",
   "version": "3.8.10"
  }
 },
 "nbformat": 4,
 "nbformat_minor": 4
}
