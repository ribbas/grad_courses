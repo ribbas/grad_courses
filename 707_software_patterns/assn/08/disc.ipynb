{
 "cells": [
  {
   "cell_type": "markdown",
   "metadata": {},
   "source": [
    "# Mediator\n",
    "\n",
    "1. Since a Mediator becomes a repository for logic, can the code that implements this logic begin to get overly complex, possibly resembling spaghetti code? How could this potential problem be solved?\n",
    "2. How could you change the logic of a Mediator at runtime without rebuilding the entire communication arrangement, i.e., without disconnecting and reconnecting all of the Colleagues?\n",
    "3. What would be the purpose of having different Concrete Mediators in an application? In a framework?\n",
    "4. Which class is the Mediator in your implementation? Is it a new class or one of the existing classes from a previous exercise.\n",
    "5. When does a Mediator between exactly two classes or objects cease to be a Mediator and become an Adapter?\n",
    "6. Why does ConcreteMediator refer to ConcreteColleagues and not to the Colleague interface?"
   ]
  },
  {
   "cell_type": "markdown",
   "metadata": {},
   "source": [
    "1. I think it is possible for a Mediator to become spaghetti code with long methods of conditionals. When researching this, I came across the term \"God object\" which is defined as an anti-pattern object that \"knows or does too much\". I think that is certainly a possible issue from adding more logic as the hierarchy of objects increases. However, the purpose of the pattern in the first place is to prevent potential spaghetti code in the communication code between objects. Applying the strategy pattern to the mediator class can be a relatively convenient solution to avoid bloating the class.\n",
    "2. The Strategy pattern! (I think at this point whenever I notice instances of \"selecting a strategy at runtime\" I jump to the Strategy pattern, similarly for \"extending capabilities\" where I jump to the Decorator pattern!)\n",
    "3. \n",
    "4. For my implementation, I didn't need to create a new class since I used my XMLBuilder class as the Concrete Mediator. It was a little confusing at first since I was not sure if it was appropriate for the class to be both an Observer and Mediator (and, at its current state, a Colleague as well!). I'm hoping I'm heading down the right direction since the implementation seems feasible at its current state.\n",
    "5. In terms of exactly two classes, I think a key distinction between the patterns is that an Adapter is applicable when communication with the Adaptee can be established by wrapping its known methods, while a Mediator forces those methods to be redirected through it. If all the Mediator does is simply reroute the communication of its single Colleague to the rest of the objects in the code base, then its behavior can be summed up to a relatively useless Adapter that converted the already supported API of the Adaptee to an API supported by the Target."
   ]
  },
  {
   "cell_type": "markdown",
   "metadata": {},
   "source": [
    "# Observer\n",
    "1. What are the properties of a system that uses the Observer pattern extensively? How would you approach the task of debugging code in such a system?\n",
    "2. How would you handle concurrency problems with this pattern in a multi-threaded environment? Consider an Unregister() message being sent to a subject, just before the subject sends a Notify() message to the ChangeManager (or Controller).\n",
    "3. In a system with a large number of Observers where not every Observer wants to know about every update does it make more sense to use a ChangeManager object or to register Observers with multiple Subjects representing different events or some other approach?\n",
    "4. Which class in your implementation implements Attach, Detach and Notify? Subject or ConcreteSubject?"
   ]
  },
  {
   "cell_type": "markdown",
   "metadata": {},
   "source": [
    "1. One clear indication of a system using the pattern extensively is if there are many instances of the program writing to stdout, a file, or some other logging methods. A brute force way to debug such code would be to find all these instances to debug individually. These `update()` methods can also be useful to debug other issues in the program, where they can be used to log execution breakpoints, variable values, etc.\n",
    "2. A simple mutex or lock can be used to avoid such race conditions. The Observer can maintain a global lock as a counter that keeps track of the number of Subjects spawned and does not allow new messages to the ChangeManager until they are all accounted for.\n",
    "3. \n",
    "4. (Again, at my current state, which may change in a few versions), my Subject class is implementing the Attach, Detach, and Notify methods. My ConcreteSubject class doesn't do much in terms of extending those methods."
   ]
  }
 ],
 "metadata": {
  "kernelspec": {
   "display_name": "Python 3",
   "language": "python",
   "name": "python3"
  },
  "language_info": {
   "codemirror_mode": {
    "name": "ipython",
    "version": 3
   },
   "file_extension": ".py",
   "mimetype": "text/x-python",
   "name": "python",
   "nbconvert_exporter": "python",
   "pygments_lexer": "ipython3",
   "version": "3.8.10"
  }
 },
 "nbformat": 4,
 "nbformat_minor": 4
}
