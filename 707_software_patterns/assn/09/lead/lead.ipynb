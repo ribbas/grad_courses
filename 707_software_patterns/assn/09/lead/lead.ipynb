{
 "cells": [
  {
   "cell_type": "markdown",
   "metadata": {},
   "source": [
    "# Discussion"
   ]
  },
  {
   "cell_type": "markdown",
   "metadata": {},
   "source": [
    "1. One of last week's patterns, Observer, also handled requests between objects. Is it possible, with reasonably minimal modifications, to chain multiple Observers to simulate a CoR?\n",
    "2. Is it possible to implement a CoR on a concurrent program, and if so, how?\n",
    "    1. What happens if multiple EventHandlers are able to simultaneously process a request? Does concurrent handling violate the core philosophy of the pattern?"
   ]
  },
  {
   "cell_type": "markdown",
   "metadata": {},
   "source": [
    "# Real world example"
   ]
  },
  {
   "cell_type": "markdown",
   "metadata": {},
   "source": [
    "A real-world example of a Chain of Responsibility can be found within the flow of requests in a corporate hierarchy. Consider the following scenario: an employee has to submit an expense report to their firm so that they can get reimbursed for their company-related transactions.\n",
    "\n",
    "If the expense report is fully compliant with the firm's policies and contains preapproved transactions, the report system automatically approves the employee. However, if the report contains transactions with custom formats or the total amount is outside the preapproved expense limit, then the system passes it onto the immediate supervisor.\n",
    "\n",
    "The immediate supervisor now has the ability to evaluate the expense report. If the custom transactions are compliant with the firm's policies and the amount of the expenses is within a certain limit, the manager can approve the report. However, if they are unsure about some transactions in the report not being aligned with the firm's policies, they will pass it up to their managers to validate.\n",
    "\n",
    "The same logic can be applied to a variable number of managers until the report gets sent to the financial department, which consists of experts in the firm's policies on expense reports. Once the department gets a chance to review the report, they will determine if it is valid and expense the employee on their request. However, if they find any flaws in the report, or if they require more information, the report gets rejected and sent back to the employee.\n",
    "\n",
    "In this scenario, the following shows the mapping of the components to the participants:\n",
    "- Handler -> Approver  \n",
    "- ConcreteHandlers -> SystemApprover, ManagerApprover and FinanceDeptApprover  \n",
    "- Request -> ExpenseReport"
   ]
  },
  {
   "cell_type": "markdown",
   "metadata": {},
   "source": [
    "# Software example"
   ]
  },
  {
   "cell_type": "markdown",
   "metadata": {},
   "source": [
    "A software example of the Chain of Responsibility can be demonstrated using a simple calculator that evaluates 2 operands and an operation. The calculator only supports addition, subtraction, multiplication, and division. If an expression contains an operator that is not supported, the calculator returns an error message. \n",
    "\n",
    "The operations in the calculator have uneven frequencies of their usage. For example, addition is used a lot more frequently than subtraction, which has a higher frequency than multiplication, and so on. In an effort to improve performance, the calculator attempts to perform operations in the following order: addition, subtraction, multiplication, and division.\n",
    "\n",
    "The following snippets provide an example of the implementation in Python:\n",
    "\n",
    "Caption 1: Simple Opands object representing the Request  \n",
    "Caption 2: The Handler interface  \n",
    "Caption 3: An example of a ConcreteHandler with a method to set its successor and evaluate the expression. The evaluate() method handles the request by checking if the operation is supported and evaluates it. If not, it passes it to its successor.  \n",
    "Caption 4: The last ConcreteHandler in the Chain. If the expression still cannot be handled, an error message is returned.  \n",
    "Caption 5: Main function chaining the Handlers  \n",
    "Caption 6: Example usages of the script\n",
    "\n",
    "In this scenario, the following shows the mapping of the components to the participants:\n",
    "- Handler -> Chain\n",
    "- ConcreteHandler -> AddOpands, SubOpands, MulOpands, DivOpands\n",
    "- Request -> Opands"
   ]
  },
  {
   "cell_type": "markdown",
   "metadata": {},
   "source": [
    "# Summary"
   ]
  },
  {
   "cell_type": "markdown",
   "metadata": {},
   "source": [
    "The Chain of Responsibility (CoR) is a behavioral pattern that handles requests by passing them through a \"chain\" of handlers. The method attempts to reduce coupling between the Client and the ConcreteHandlers by exposing the AbstractHandler interface, which typically contains public methods to initiate handling of the request. Knowing which ConcreteHandler ultimately handles the request is not usually needed, although can be obtained if necessary for logging or caching purposes. Prior knowledge of which ConcreteHandler will handle the incoming request trivializes the benefits of the pattern since the request can instead be handled immediately rather than through a series of conditionals implemented by the pattern.\n",
    "\n",
    "Structurally, the pattern is similar to the Decorator pattern but with an important distinction. The Decorator pattern wraps the requests unconditionally, while the CoR passes on processing a request if a ConcreteHandler is unable to handle it. The ConcreteHandlers are linked to each other with references to their successor, similarly to a singly-linked list. The order of the ConcreteHandlers depends on the implementation, which may be determined by their priority, logical ordering, or other arbitrary ordering systems. The order of the handlers can also be changed during runtime if necessary.\n",
    "\n",
    "The chaining of ConcreteHandlers need not be linear in structure, as several Handlers can refer to the same successor and simulate a tree structure. The pattern is also applicable in concurrent environments, where multiple ConcreteHandlers may be spawned to simultaneously handle requests and avoid race conditions by using locks."
   ]
  }
 ],
 "metadata": {
  "kernelspec": {
   "display_name": "Python 3",
   "language": "python",
   "name": "python3"
  },
  "language_info": {
   "codemirror_mode": {
    "name": "ipython",
    "version": 3
   },
   "file_extension": ".py",
   "mimetype": "text/x-python",
   "name": "python",
   "nbconvert_exporter": "python",
   "pygments_lexer": "ipython3",
   "version": "3.8.10"
  }
 },
 "nbformat": 4,
 "nbformat_minor": 4
}
