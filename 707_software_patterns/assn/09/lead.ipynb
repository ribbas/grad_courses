{
 "cells": [
  {
   "cell_type": "markdown",
   "metadata": {},
   "source": [
    "# Real world example"
   ]
  },
  {
   "cell_type": "markdown",
   "metadata": {},
   "source": [
    "A real-world example of a Chain of Responsibility can be found within the flow of requests in a corporate hierarchy. Speaking from personal experiences, whenever I have to submit an expense report, it would have to go through several approvers before being fully accepted.\n",
    "\n",
    "The expense report system would initiate the request and conduct several default checks, i.e. if the report has invalid or missing information, if the expenses requested are over or under some limits, etc. After the system approves the report, it is sent to my manager.\n",
    "\n",
    "My manager has the option to reject the report and send it back to me to make any changes or approve it and send it to their manager. There may be a variable number of managers required to approve the report. There is also an option to append comments to the report as they get approved or rejected and sent to the next manager.\n",
    "\n",
    "After all the managers have approved the report, it gets sent to the finances department. The department provides further checks on the report and finally labels the report as accepted.\n",
    "\n",
    "At any point in the approval flow, the report can be rejected and sent back to me with all the comments made by the approvers.\n",
    "\n",
    "In this scenario, the following shows the mapping of the components to the participants:\n",
    "- Handler -> Approver  \n",
    "- ConcreteHandlers -> SystemApprover, ManagerApprover and FinanceDeptApprover  \n",
    "- Request -> ExpenseReport"
   ]
  },
  {
   "cell_type": "markdown",
   "metadata": {},
   "source": [
    "# Software example"
   ]
  },
  {
   "cell_type": "markdown",
   "metadata": {},
   "source": [
    "A software example of the Chain of Responsibility can be found in the Servlet Filters in Java, https://www.oracle.com/java/technologies/filters.html. The package provides filters that can be chained and executed on HTTP requests before they arrive at their destination.\n",
    "\n",
    "The following snippet is extracted from https://www.baeldung.com/chain-of-responsibility-pattern. The snippet implements a custom filter that simply passes the request to the filter chain.\n",
    "\n",
    "\n",
    "\n",
    "In this scenario, the following shows the mapping of the components to the participants:\n",
    "- Handler -> Filter\n",
    "- ConcreteHandler -> CustomHandler\n",
    "- Request -> ServletRequest request"
   ]
  },
  {
   "cell_type": "markdown",
   "metadata": {},
   "source": [
    "# Discussion"
   ]
  },
  {
   "cell_type": "markdown",
   "metadata": {},
   "source": [
    "1. One of last week's patterns, Observer, also handled requests between objects. Is it possible, with reasonably minimal modifications, to chain multiple Observers to simulate a CoR?\n",
    "2. Is it possible to implement a CoR on a concurrent program, and if so, how?\n",
    "    1. What happens if multiple EventHandlers are able to simultaneously process a request? Does concurrent handling violate the core philosophy of the pattern?"
   ]
  },
  {
   "cell_type": "markdown",
   "metadata": {},
   "source": [
    "# Wiki"
   ]
  },
  {
   "cell_type": "markdown",
   "metadata": {},
   "source": []
  }
 ],
 "metadata": {
  "kernelspec": {
   "display_name": "Python 3",
   "language": "python",
   "name": "python3"
  },
  "language_info": {
   "codemirror_mode": {
    "name": "ipython",
    "version": 3
   },
   "file_extension": ".py",
   "mimetype": "text/x-python",
   "name": "python",
   "nbconvert_exporter": "python",
   "pygments_lexer": "ipython3",
   "version": "3.8.10"
  }
 },
 "nbformat": 4,
 "nbformat_minor": 4
}
