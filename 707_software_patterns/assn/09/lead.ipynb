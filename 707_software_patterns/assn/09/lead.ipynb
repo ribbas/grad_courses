{
 "cells": [
  {
   "cell_type": "markdown",
   "metadata": {},
   "source": [
    "# Lead"
   ]
  },
  {
   "cell_type": "markdown",
   "metadata": {},
   "source": []
  },
  {
   "cell_type": "markdown",
   "metadata": {},
   "source": [
    "# Discussion"
   ]
  },
  {
   "cell_type": "markdown",
   "metadata": {},
   "source": [
    "1. Last week's patterns, Observer and Mediator, also handled requests between objects; i.e. Subjects can subscribe for requests and Mediators forcefully redirects requests between objects. Can any of those patterns be converted to fit the behavior expected by Chain of Responsibility? And if so, how?\n",
    "2. Can a chain of handlers be \"forked\" where a link has multiple successors? i.e. in a concurrent system where it is possible for multiple Handlers to address the request simultaneously.\n",
    "3. Suppose there is a list of handlers to be converted into CoR, but none of the handlers require any requests to propagate to their corresponding successors, i.e. each Handler can individually handle the request and doesn't require any pre- or post-processing.\n",
    "    1. Is getSuccessor() still a required method in Handler?\n",
    "    2. Can Handler and the ConcreteHandler classes collectively still be considered a CoR?\n",
    "    3. In the real-world example of the transport chain, what are the implications of eliminating the getSuccessor() method?"
   ]
  },
  {
   "cell_type": "markdown",
   "metadata": {},
   "source": [
    "1. Last week's patterns, Observer and Mediator, also handled requests between objects; i.e. Subjects can subscribe for requests and Mediators forcefully redirects requests between objects. Can any of those patterns be converted to fit the behavior expected by Chain of Responsibility?\n",
    "2. How would a Chain of Responsibility pattern be implemented in a concurrent system? For example, if a link has many  successors that can handle the request, is there a way to avoid race conditions?\n",
    "2. Can a chain of handlers be \"forked\" where a link has multiple successors? For example, in a concurrent system where it is possible for multiple Handlers to address the request simultaneously.\n",
    "3. Suppose there is a list of handlers to be converted into CoR, but none of the handlers require any requests to propogate to their corresponding successors, i.e. each handler can return a single variable that doesn't require any pre- or post-processing.\n",
    "    1. Is getSuccessor still a required method in Handler?\n",
    "    2. Can Handler and the ConcreteHandlers collectively still be considered a CoR?\n",
    "3. The main intent of CoR is to handle requests by passing it through several conditionals. Besides ending up with a single bloated method, what are some disadvantages of handling the requests in a method over using a CoR patern over \n",
    "3. Similarly to last week, at what point does a Chain of Responsibility between exactly two classes morph into "
   ]
  },
  {
   "cell_type": "markdown",
   "metadata": {},
   "source": [
    "# Wiki"
   ]
  },
  {
   "cell_type": "markdown",
   "metadata": {},
   "source": []
  }
 ],
 "metadata": {
  "kernelspec": {
   "display_name": "Python 3",
   "language": "python",
   "name": "python3"
  },
  "language_info": {
   "codemirror_mode": {
    "name": "ipython",
    "version": 3
   },
   "file_extension": ".py",
   "mimetype": "text/x-python",
   "name": "python",
   "nbconvert_exporter": "python",
   "pygments_lexer": "ipython3",
   "version": "3.8.10"
  }
 },
 "nbformat": 4,
 "nbformat_minor": 4
}
