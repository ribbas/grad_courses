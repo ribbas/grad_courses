{
 "cells": [
  {
   "cell_type": "markdown",
   "metadata": {},
   "source": [
    "1. Using the supplied XML file as a configuration example (or make up your own), apply Chain of Responsibility to the DOM tree as an event handler. Allow events to be received by any element and then handled by the appropriate element in the tree.  Note that this pattern's requirements can be implemented with no more than a couple of dozen lines of code.\n",
    "\n",
    "```xml\n",
    "<xml version=\"1.0\" encoding=\"UTF-8\"?>\n",
    "<handlers>\n",
    "      <handler message=\"type1\">\n",
    "                     <handler message=\"type2\"/>\n",
    "                     <handler message=\"type2\"/>\n",
    "      </handler>\n",
    "</handlers>\n",
    "```\n",
    "\n",
    "2. Create a Memento implementation that preserves the configuration of the XMLValidator class. \n",
    "\n",
    "## Consider these questions when thinking about how to implement the assignment.\n",
    "\n",
    "1. Chain of Responsibility\n",
    "    1. Which Nodes count as leaf nodes in the context of the Chain of Responsibility pattern, the same ones as in the context of the Composite pattern?\n",
    "    2. Does an event entering the Chain of Responsibility have to pass through every Node in the DOM tree?\n",
    "\n",
    "2. Memento\n",
    "    1. Which class is the Originator?\n",
    "    2. To submit this assignment click on the \"Module 9 Assignment\" link above and submit your response. For additional assignment instructions on weekly assignments please review this  document"
   ]
  }
 ],
 "metadata": {
  "kernelspec": {
   "display_name": "Python 3",
   "language": "python",
   "name": "python3"
  },
  "language_info": {
   "codemirror_mode": {
    "name": "ipython",
    "version": 3
   },
   "file_extension": ".py",
   "mimetype": "text/x-python",
   "name": "python",
   "nbconvert_exporter": "python",
   "pygments_lexer": "ipython3",
   "version": "3.8.10"
  }
 },
 "nbformat": 4,
 "nbformat_minor": 4
}
