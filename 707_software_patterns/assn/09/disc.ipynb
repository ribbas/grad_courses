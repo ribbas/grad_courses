{
 "cells": [
  {
   "cell_type": "markdown",
   "metadata": {},
   "source": [
    "# Chain of Responsibility\n",
    "\n",
    "1. Which way do the requests flow if CoR is implemented on an existing Composite structure?\n",
    "    1. In the DOM structure, which class is the Handler?\n",
    "    2. Are the leaves of the CoR the same as the leaves of the Composite?\n",
    "    3. Do we need to define a successor link for this implementation?\n",
    "    4. If the Leaf nodes of Composite are the entry point, how do we connect them up to the request/event/command sources?\n",
    "2. How does the Chain of Responsibility pattern differ from the Decorator pattern or from a linked list?\n",
    "3. Is it helpful to look at patterns from a structural perspective? In other words, if you see how a set of patterns are the same in terms of how they are programmed, does that help you to understand when to apply them to a design? Contrast CoR with Decorator or with Composite implemented with parent references.\n",
    "4. Can a Chain of Responsibility be implemented in other ways than as a linked list of Handlers?\n",
    "5. Is this pattern still applicable if the caller needs to know which object will actually handle a request? If it needs to know which object did handle a request?"
   ]
  },
  {
   "cell_type": "markdown",
   "metadata": {},
   "source": [
    "1. "
   ]
  },
  {
   "cell_type": "markdown",
   "metadata": {},
   "source": [
    "\n",
    "# Memento\n",
    "\n",
    "1. The authors write that the “Caretaker” participant never operates on or examines the contents of a memento. Can you come up with a case where a Caretaker would in fact need to know the identity of a memento and thus need the ability to examine or query the contents of the Memento? Would this break something in the pattern?\n",
    "2. Does this pattern solve the common problems of object persistence and serialization?\n",
    "3. The pattern is structured to have the Originator push its state into the newly created Memento. What are the consequences of having the Memento instead pull its state from the Originator?\n",
    "4. What does it mean for Memento to have two interfaces?  What are those interfaces and which other classes use them?\n",
    "5. How does the metadata idea from the first question fit in with the multiple interfaces?"
   ]
  },
  {
   "cell_type": "markdown",
   "metadata": {},
   "source": [
    "1. I think breaking encapsulation of the Memento class by any objects other than the Originator is a violation of the pattern's intent. An instance I can think of where the Caretaker needs to evaluate a Memento's attribute can be for some authentication reason. For example, if the Memento class was storing states of a database that stored its credentials as member attributes, the Caretaker may need to inspect those contents to validate and restore to a previous state. Even though there is certainly a way to implement the authentication process outside the Memento class."
   ]
  }
 ],
 "metadata": {
  "kernelspec": {
   "display_name": "Python 3",
   "language": "python",
   "name": "python3"
  },
  "language_info": {
   "codemirror_mode": {
    "name": "ipython",
    "version": 3
   },
   "file_extension": ".py",
   "mimetype": "text/x-python",
   "name": "python",
   "nbconvert_exporter": "python",
   "pygments_lexer": "ipython3",
   "version": "3.8.10"
  }
 },
 "nbformat": 4,
 "nbformat_minor": 4
}
