{
 "cells": [
  {
   "cell_type": "markdown",
   "metadata": {},
   "source": [
    "# Student Projects\n",
    "1. Do the patterns listed seem like appropriate solutions?\n",
    "2. Are the implementations correct or do they represent reasonable adaptations of the pattern solution?"
   ]
  },
  {
   "cell_type": "markdown",
   "metadata": {},
   "source": [
    "My final paper was on a project called [Structural Simulation Toolkit](https://github.com/sstsimulator/sst-core) (SST). It is a simulation framework written in C++ that prioritizes high-performance computing models. SST provides the user with a fully modular design in a parallel simulation environment based on MPI. It is a relatively large project, so familiarizing myself with the codebase took a while.\n",
    "\n",
    "After some analysis, I had found 3 patterns that were implemented in the source code. The first pattern I identified was the Abstract Factory pattern, which was made obvious by classes named `Factory`. It implements methods to create several high-level simulation ConcreteProducts for the Client.\n",
    "\n",
    "The second pattern was the Singleton pattern, implemented in two distinct classes, including `Factory`. The Singleton behavior is implemented using the typical steps in `Factory`, where a simple check is conducted to verify if an instance already exists. However, SST is built for multi-threaded applications, and this class assumes that it is accessed using the main thread before other processes are forked. A safer version of the Singleton pattern is implemented in a different class, `Simulation_Impl`, which is responsible for several events in an SST simulation. This class utilizes mutexes to account for potential threading issues. `Simulation_Impl` does implement a variation of the Singleton pattern, where it allows a single instance of itself to exist on each thread running on the system.\n",
    "\n",
    "The third pattern present was the Prototype pattern, found in several classes within the repository. These classes provide the Client with their corresponding `clone()` methods to follow the appropriate steps when performing a copy operation.\n",
    "\n",
    "Besides the 3 patterns identified in the project, I have proposed 2 additional that may be beneficial to integrate. The first propose pattern is the Facade pattern. SST consists of a vast number of systems, all of which may be required to run a simple \"Hello World\" model in its simulation. The software also provides its own Python interpreter and other command-line tools to invoke the simulation to run alongside MPI. I suggested that including a Facade class to abstract away the subsystems would help the Client to make less error-prone models, and also make testing more convenient.\n",
    "\n",
    "The other pattern I suggested was the Interpreter design pattern. As mentioned before, SST provides its own Python interpreter to run its simulation. In order to configure the simulation, i.e. simulation time, tick durations, numbers of models, etc. a Python script must be supplied utilizing the interpreter. I recommended replacing the overhead of maintaining external frameworks and programming languages with a native Interpreter class that parses in the configurations via XML files. An XML file, if formatted properly, can hold just as much, if not more, information than a Python script.  "
   ]
  }
 ],
 "metadata": {
  "kernelspec": {
   "display_name": "Python 3",
   "language": "python",
   "name": "python3"
  },
  "language_info": {
   "codemirror_mode": {
    "name": "ipython",
    "version": 3
   },
   "file_extension": ".py",
   "mimetype": "text/x-python",
   "name": "python",
   "nbconvert_exporter": "python",
   "pygments_lexer": "ipython3",
   "version": "3.8.10"
  }
 },
 "nbformat": 4,
 "nbformat_minor": 4
}
