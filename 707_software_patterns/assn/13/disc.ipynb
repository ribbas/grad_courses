{
 "cells": [
  {
   "cell_type": "markdown",
   "metadata": {},
   "source": [
    "# Flyweight\n",
    "1. What are the intrinsic and extrinsic states of DOM objects implemented as Flyweights?\n",
    "2. What is another non-GUI example of a flyweight?\n",
    "3. What is the minimum configuration for using Flyweight? Do you need to be working with thousands of objects, hundreds, tens?  The text states that \"It's often best to implement State and Strategy objects as flyweights\". Why?\n",
    "4. The elements in a list of the 50 states are not flyweights, but the sequence of 26 letters that form a document are. Why?\n",
    "5. If the only structure of Flyweight objects exists inside of the Factory, i.e., if the client only ever holds one reference to any Flyweight object at a time rather than to a collection of them, is this still a Flyweight pattern, or is it just an object-pool implementation of a Factory Method?  Why is it important to use a Factory with Flyweight?"
   ]
  },
  {
   "cell_type": "markdown",
   "metadata": {},
   "source": []
  },
  {
   "cell_type": "markdown",
   "metadata": {},
   "source": [
    "\n",
    "# Interpreter\n",
    "1. As the note says in Known Uses, Interpreter is most often used “in compilers implemented in object-oriented languages…” What are other uses of Interpreter and how do they differ from simply reading in a stream of data and creating some structure to represent that data?\n",
    "2. Where do the cutoff points lie between a language too simple for interpreter, one that is just right and one that merits using tools like lex and yacc?\n",
    "3. Can Interpreter accommodate grammars that must be interpreted in a particular order, i.e., that are not commutative?\n",
    "4. This pattern almost wasn’t included in GoF because it’s not different enough from Composite and its intent is too specialized. Is this analogous at all to the difference between State and Strategy?\n",
    "5. What general principles do we use to use to determine the appropriateness of pattern?"
   ]
  },
  {
   "cell_type": "markdown",
   "metadata": {},
   "source": []
  },
  {
   "cell_type": "markdown",
   "metadata": {},
   "source": [
    "# Façade\n",
    "1. How complex must a subsystem be in order to justify using a facade?\n",
    "2. What are the additional uses of a facade with respect to an organization of designers and developers with varying abilities? What are the political ramifications?"
   ]
  },
  {
   "cell_type": "markdown",
   "metadata": {},
   "source": []
  }
 ],
 "metadata": {
  "kernelspec": {
   "display_name": "Python 3",
   "language": "python",
   "name": "python3"
  },
  "language_info": {
   "codemirror_mode": {
    "name": "ipython",
    "version": 3
   },
   "file_extension": ".py",
   "mimetype": "text/x-python",
   "name": "python",
   "nbconvert_exporter": "python",
   "pygments_lexer": "ipython3",
   "version": "3.8.10"
  }
 },
 "nbformat": 4,
 "nbformat_minor": 4
}
