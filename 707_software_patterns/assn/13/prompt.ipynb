{
 "cells": [
  {
   "cell_type": "markdown",
   "metadata": {},
   "source": [
    "1. Modify the internal representation of the DOM objects to store them as Flyweights. Clearly identify what state is extrinsic and intrinsic in each Node type.\n",
    "2. Make any changes necessary to the output of the parser to implement the Interpreter pattern. Similar to Chain of Responsibility, this patterns requirements can be implemented with a small amount of code.  Assume a document structure similar to this, which is interpreted to \"-5\":\n",
    "\n",
    "```xml\n",
    "<xml version=\"1.0\" encoding=\"UTF-8\"?>\n",
    "<operation type=\"-\">\n",
    "    <operation type=\"+\">\n",
    "        <value>2</value>\n",
    "        <value>3</value>\n",
    "    </operation>\n",
    "</operation>\n",
    "```\n",
    "\n",
    "3. Wrap the entire application in a Façade encapsulating all of the functionality behind a single interface.\n",
    "\n",
    "## Consider these questions when thinking about how to implement the assignment.\n",
    "\n",
    "1. Flyweight\n",
    "    1. What Node state can be shared between instances of that Node type?\n",
    "    2. What state can be computed from the Node's position in the document?\n",
    "    3. What Nodes must be unshared?\n",
    "2. Interpreter\n",
    "    1. What method needs to be added to the Node in order to evaluate the expression?\n",
    "    2. How is the expression described in the tree structure?\n",
    "3. Façade\n",
    "    1. Can the encapsulation of functionality from the Command assignment be used as a head start for the Façade?"
   ]
  },
  {
   "cell_type": "markdown",
   "metadata": {},
   "source": []
  }
 ],
 "metadata": {
  "kernelspec": {
   "display_name": "Python 3",
   "language": "python",
   "name": "python3"
  },
  "language_info": {
   "codemirror_mode": {
    "name": "ipython",
    "version": 3
   },
   "file_extension": ".py",
   "mimetype": "text/x-python",
   "name": "python",
   "nbconvert_exporter": "python",
   "pygments_lexer": "ipython3",
   "version": "3.8.10"
  }
 },
 "nbformat": 4,
 "nbformat_minor": 4
}
