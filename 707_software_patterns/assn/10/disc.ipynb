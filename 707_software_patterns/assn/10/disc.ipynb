{
 "cells": [
  {
   "cell_type": "markdown",
   "metadata": {},
   "source": [
    "# Analysis Patterns\n",
    "1. Which of the Referring to Objects solutions, if any, is the best fit for an Analysis Model of an XML document representation system like the homework assignments?  What objects take on the roles described in the solution?\n",
    "2. The analysis patterns and design patterns both deal with objects, but they have different output. What distinguishes them?\n",
    "3. What kind of transformation must be performed in order to convert the domain model resulting from the application of Analysis Patterns to the detailed design of the application?\n",
    "    1. Do you just implement the classes described in the domain model?\n",
    "    2. Do you change their names?\n",
    "    3. Do the objects map one-to-one to objects or classes in the detailed design?\n",
    "4. Once you’ve “finished” an application, would you ever go back to the Analysis Patterns or the domain model to make changes?\n",
    "5. Do you keep the domain model consistent with the design of the application? For that matter, do you keep the detailed design consistent with the implementation?"
   ]
  },
  {
   "cell_type": "markdown",
   "metadata": {},
   "source": [
    "1. I think the model that referred to objects based on their unique identifiers is best fit for the homework assignment (the Object[0,1] -> id:String[0,1] solution). Each Node objects in the DOM tree are unique and are referenced using pointers by their children or their parent. Multiple Nodes can share the same name, number of children, and even names of children. However, their pointers being unique prevents unwanted interferences."
   ]
  },
  {
   "cell_type": "markdown",
   "metadata": {},
   "source": [
    "# Architectural Patterns\n",
    "1. How do these patterns differ from the design patterns that we've looked at so far?\n",
    "2. Some people think that the Layers pattern is not a good pattern because it is too big. It has too many forces, too many implementation steps, etc.  Do you agree?  Should it be implemented as a pattern language instead?"
   ]
  },
  {
   "cell_type": "markdown",
   "metadata": {},
   "source": [
    "1. One obvious distinction of architectural patterns from design patterns is the scope they cover. These patterns are a lot broader and dictate how various components of software architecture are structured. The design patterns we have covered so far also mostly focused on object-oriented solutions, while architectural patterns can be applied to systems that do not follow such paradigms. Architectural patterns also need to be decided before a concrete system is implemented. The system may go through several iterations where different design patterns are applied over time﻿. Modifying an architectural pattern is a lot more difficult once the analysis is finalized and development has begun."
   ]
  },
  {
   "cell_type": "markdown",
   "metadata": {},
   "source": [
    "# Antipatterns\n",
    "1. Which design pattern often falls prey to the God Class antipattern?\n",
    "2. Which design pattern solves the problem of the Call Super antipattern?\n",
    "3. Do you agree that Big Ball of Mud is an Antipattern?  See discussion at http://wiki.c2.com/?BigBallOfMud"
   ]
  },
  {
   "cell_type": "markdown",
   "metadata": {},
   "source": [
    "1. The Mediator pattern was pointed out to be a pattern that is at risk of becoming a God Class. The primary intent of the pattern was to reduce coupling between objects by encapsulating their communication logic. If a single Mediator class is given too much control, however, it is very easy to accidentally convert it into a God class."
   ]
  }
 ],
 "metadata": {
  "kernelspec": {
   "display_name": "Python 3",
   "language": "python",
   "name": "python3"
  },
  "language_info": {
   "codemirror_mode": {
    "name": "ipython",
    "version": 3
   },
   "file_extension": ".py",
   "mimetype": "text/x-python",
   "name": "python",
   "nbconvert_exporter": "python",
   "pygments_lexer": "ipython3",
   "version": "3.8.10"
  }
 },
 "nbformat": 4,
 "nbformat_minor": 4
}
