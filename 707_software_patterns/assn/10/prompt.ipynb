{
 "cells": [
  {
   "cell_type": "markdown",
   "metadata": {},
   "source": [
    "1. Research architectural patterns and choose an appropriate one for the design of an XML file display and editing application. Develop a high-level design of that application based on the chosen pattern and document it with one or more diagrams and a brief description of how the pattern was applied in the design.  A high-level design identifies the top-level components, their relationships, and the constraints on the content of the components and relationships.\n",
    "\n",
    "2. Survey the catalog of AntiPatterns at [c2.com](http://www.c2.com/cgi/wiki?AntiPatternsCatalog) and select an antipattern that appears in your assignments’ implementation. Document the conditions of the antipattern and the changes that should be made to ameliorate the problem."
   ]
  }
 ],
 "metadata": {
  "kernelspec": {
   "display_name": "Python 3",
   "language": "python",
   "name": "python3"
  },
  "language_info": {
   "codemirror_mode": {
    "name": "ipython",
    "version": 3
   },
   "file_extension": ".py",
   "mimetype": "text/x-python",
   "name": "python",
   "nbconvert_exporter": "python",
   "pygments_lexer": "ipython3",
   "version": "3.8.10"
  }
 },
 "nbformat": 4,
 "nbformat_minor": 4
}
