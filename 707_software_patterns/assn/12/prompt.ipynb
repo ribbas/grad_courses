{
 "cells": [
  {
   "cell_type": "markdown",
   "metadata": {},
   "source": [
    "1. Apply State to your Builder pattern to implement the various states of the parser, e.g., InsideElementTag, InsideAttribute as you call them.\n",
    "2. Modify your XMLSerializer to use Visitor instead of direct calls to Node.serialize from the Strategy pattern implementation.\n",
    "\n",
    "## Consider these questions when thinking about how to implement the assignment.\n",
    "\n",
    "1. State\n",
    "    1. What states does the Builder transition through when building a DOM tree, for example, inside of an element vs. outside of an element?\n",
    "    2. What different behaviors are performed in each of those states?\n",
    "    3. What is a common interface that covers all of those behaviors?\n",
    "    4. How does the Context object transition from one State to the next?\n",
    "2. Visitor\n",
    "    1. Can you reuse the encapsulation of serialization logic from the Strategy assignment as a head start to this assignment?\n",
    "    2. Which Node types require a visit method?"
   ]
  }
 ],
 "metadata": {
  "kernelspec": {
   "display_name": "Python 3",
   "language": "python",
   "name": "python3"
  },
  "language_info": {
   "codemirror_mode": {
    "name": "ipython",
    "version": 3
   },
   "file_extension": ".py",
   "mimetype": "text/x-python",
   "name": "python",
   "nbconvert_exporter": "python",
   "pygments_lexer": "ipython3",
   "version": "3.8.10"
  }
 },
 "nbformat": 4,
 "nbformat_minor": 4
}
