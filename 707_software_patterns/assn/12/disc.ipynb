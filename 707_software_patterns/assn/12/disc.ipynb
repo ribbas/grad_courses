{
 "cells": [
  {
   "cell_type": "markdown",
   "metadata": {},
   "source": [
    "# State\n",
    "1. If something has only two to three states, is it overkill to use the State pattern?\n",
    "2. Which existing Builder class or classes are part of the State pattern?\n",
    "3. How does this pattern differ from straightforward polymorphism?\n",
    "4. What distinguishes State from Strategy?\n",
    "5. Does State describe everything that needs to be done to implement a complete state machine? Is this a flaw in the pattern?"
   ]
  },
  {
   "cell_type": "markdown",
   "metadata": {},
   "source": []
  },
  {
   "cell_type": "markdown",
   "metadata": {},
   "source": [
    "# Visitor\n",
    "1. One issue with the Visitor pattern involves cyclicality. When you add a new Element, you must make changes to existing code. How would you work around this problem?\n",
    "2. What are the tradeoffs of using Visitor vs. the implementation from the Strategy assignment for implementing the serialization algorithm? Vs. the original implementation?\n",
    "3. Is it necessary for the ConcreteElements to be of the same type, i.e. related by inheritance?  Is there a way to add the ability to accept Visitors to Elements that do not have an Accept method without modifying the Elements?\n",
    "4. You can call `visitor->VisitConcreteElement(concreteElementA)`. Why wouldn’t you want to do this?\n",
    "    1. What is the advantage of declaring the methods of Visitor:  \n",
    "      `void visitElementA(ElementA *);`  \n",
    "      `void visitElementB(ElementB *);`  \n",
    "      ... instead of...  \n",
    "      `void visit(ElementA *);`  \n",
    "      `void visit(ElementB *);`\n",
    "5. Which of the following types of cohesion are increased through use of the Visitor pattern?\n",
    "    * Functional: Operations are related; the class performs a single function.\n",
    "    * Layer: Classes within a package are related and access each other or the next layer down.\n",
    "    * Communicational: Operations in a class access primarily data within that class\n",
    "    * Sequential: Output from one operation is input to the next.\n",
    "    * Procedural: Operations are performed in a particular order.\n",
    "    * Temporal: Operations are performed close together in time, but not necessarily in the same order.\n",
    "    * Utility: Operations are part of a collection - infrastructure"
   ]
  },
  {
   "cell_type": "code",
   "execution_count": null,
   "metadata": {},
   "outputs": [],
   "source": []
  }
 ],
 "metadata": {
  "kernelspec": {
   "display_name": "Python 3",
   "language": "python",
   "name": "python3"
  },
  "language_info": {
   "codemirror_mode": {
    "name": "ipython",
    "version": 3
   },
   "file_extension": ".py",
   "mimetype": "text/x-python",
   "name": "python",
   "nbconvert_exporter": "python",
   "pygments_lexer": "ipython3",
   "version": "3.8.10"
  }
 },
 "nbformat": 4,
 "nbformat_minor": 4
}
