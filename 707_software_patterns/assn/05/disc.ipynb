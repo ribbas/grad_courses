{
 "cells": [
  {
   "cell_type": "markdown",
   "metadata": {},
   "source": [
    "# Singleton/monostate"
   ]
  },
  {
   "cell_type": "markdown",
   "metadata": {},
   "source": [
    "a. What patterns that we’ve already discussed, such as Abstract Factory, could make use of Singleton?  What other creational or non-creational patterns would you use with the Singleton pattern?"
   ]
  },
  {
   "cell_type": "markdown",
   "metadata": {},
   "source": [
    "The Builder pattern can make use of a singleton, where the Director can be made a singleton and used to construct the Builder class. The factory method pattern can also benefit from its usage, where the Creator can be made a singleton to generate concrete products."
   ]
  },
  {
   "cell_type": "markdown",
   "metadata": {},
   "source": [
    "b. How or when do you destroy a Singleton?"
   ]
  },
  {
   "cell_type": "markdown",
   "metadata": {},
   "source": [
    "Once it has been determined that usage of the singleInstance is no longer needed, a Singleton can be destroyed. However, this begs the question on the visibility of the Singleton. Since it manages the creation and maintainence of the singleInstance, it is expected that the Singleton manages the deletion of it as well. Naturally, the destructor should be private to the class away from the client as well, but it becomes difficult to trace all the clients' references to it and increases the possibility of dangling references. Implicit destruction sounds like a safe approach."
   ]
  },
  {
   "cell_type": "markdown",
   "metadata": {},
   "source": [
    "c. Singleton comes in several variants where there are more than one instance of the “singleton” object, a pool of instances, one per thread, etc.  What are some use cases of these variants?"
   ]
  },
  {
   "cell_type": "markdown",
   "metadata": {},
   "source": []
  },
  {
   "cell_type": "markdown",
   "metadata": {},
   "source": [
    "d. How do you subclass a Singleton vs. a Monostate?  Does Monostate have the same late binding advantage that Singleton does?"
   ]
  },
  {
   "cell_type": "markdown",
   "metadata": {},
   "source": []
  },
  {
   "cell_type": "markdown",
   "metadata": {},
   "source": [
    "e. Why use Singleton instead of global variables?  Should the criterion for Singleton-ness be that “only one object is needed” or “only one object can be allowed to exist”?"
   ]
  },
  {
   "cell_type": "markdown",
   "metadata": {},
   "source": []
  },
  {
   "cell_type": "markdown",
   "metadata": {},
   "source": [
    "# Proxy"
   ]
  },
  {
   "cell_type": "markdown",
   "metadata": {},
   "source": [
    "a. What other framework classes need to be modified in order to use the assignment’s Proxy?"
   ]
  },
  {
   "cell_type": "markdown",
   "metadata": {},
   "source": []
  },
  {
   "cell_type": "markdown",
   "metadata": {},
   "source": [
    "b. If a Proxy is used to instantiate an object only when it is absolutely needed, assuming that functionality is needed, does the Proxy simplify code?"
   ]
  },
  {
   "cell_type": "markdown",
   "metadata": {},
   "source": []
  },
  {
   "cell_type": "markdown",
   "metadata": {},
   "source": [
    "c. Can Proxy behaviors be chained?  Then what distinguishes Proxy from Decorator? Structure? Behavior? Intent?"
   ]
  },
  {
   "cell_type": "markdown",
   "metadata": {},
   "source": []
  },
  {
   "cell_type": "markdown",
   "metadata": {},
   "source": [
    "d. Remote Proxy, Virtual Proxy, Protection Proxy, Smart Reference (auto_ptr). What other purposes can be served by a Proxy?"
   ]
  },
  {
   "cell_type": "markdown",
   "metadata": {},
   "source": []
  },
  {
   "cell_type": "markdown",
   "metadata": {},
   "source": [
    "e. How can a proxy be implemented without resorting to inheritance?  (Hint:  This occurs commonly in C++.)"
   ]
  },
  {
   "cell_type": "markdown",
   "metadata": {},
   "source": []
  }
 ],
 "metadata": {
  "kernelspec": {
   "display_name": "Python 3",
   "language": "python",
   "name": "python3"
  },
  "language_info": {
   "codemirror_mode": {
    "name": "ipython",
    "version": 3
   },
   "file_extension": ".py",
   "mimetype": "text/x-python",
   "name": "python",
   "nbconvert_exporter": "python",
   "pygments_lexer": "ipython3",
   "version": "3.8.10"
  }
 },
 "nbformat": 4,
 "nbformat_minor": 4
}
