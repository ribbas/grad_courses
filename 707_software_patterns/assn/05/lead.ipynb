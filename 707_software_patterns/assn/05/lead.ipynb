{
 "cells": [
  {
   "cell_type": "markdown",
   "metadata": {},
   "source": [
    "# Singleton/monostate"
   ]
  },
  {
   "cell_type": "markdown",
   "metadata": {},
   "source": [
    "1. What are cost/benefits of using Singleton vs. Monostate?\n",
    "2. What are disadvantages of using global variables instead of Singleton?\n",
    "3. What to consider when choosing appropriate Singleton implementation for multithreaded applications?\n",
    "4. Why singleton pattern is considered an anti-pattern?"
   ]
  },
  {
   "cell_type": "markdown",
   "metadata": {},
   "source": [
    "# Proxy"
   ]
  },
  {
   "cell_type": "markdown",
   "metadata": {},
   "source": [
    "1. What are some cases where a member function of a Proxy class does not use if-else?\n",
    "2. How could a long delay regarding the response from the service be improved?\n",
    "3. Another real world example is employer-provided internet, which restricts access to certain websites. This is called a transparent proxy. How does this differ from a VPN? Is a VPN a kind of proxy?"
   ]
  }
 ],
 "metadata": {
  "kernelspec": {
   "display_name": "Python 3",
   "language": "python",
   "name": "python3"
  },
  "language_info": {
   "codemirror_mode": {
    "name": "ipython",
    "version": 3
   },
   "file_extension": ".py",
   "mimetype": "text/x-python",
   "name": "python",
   "nbconvert_exporter": "python",
   "pygments_lexer": "ipython3",
   "version": "3.8.10"
  }
 },
 "nbformat": 4,
 "nbformat_minor": 4
}
