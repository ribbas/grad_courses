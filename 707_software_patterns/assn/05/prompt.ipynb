{
 "cells": [
  {
   "cell_type": "markdown",
   "metadata": {},
   "source": [
    "1. Redesign the Abstract Factory or Builder classes from the Module 4 assignment as a Singleton or Monostate.\n",
    "\n",
    "2. The SAX API for representing XML delays parsing of parts of the XML file until the application actually requires them. Achieve part of that behavior by implementing a virtual Proxy for Element that allows deferring parsing of the Element’s children until they are needed.\n",
    "\n",
    "  - The Proxy will need to keep some kind of reference into the file for where it needs to resume parsing when the real Element is required.\n",
    "\n",
    "Consider these questions when thinking about how to implement the assignment.\n",
    "\n",
    "1. Singleton/Monostate\n",
    "    1. Does either the Abstract Factory or Builder retain state, information about past operations?\n",
    "    2. What is the duration of that state?  The lifetime of the construction process, of the document that is created or of the application?\n",
    "    3. Which pattern, Singleton or Monostate, provides a simpler interface for use by its client?\n",
    "\n",
    "2. Proxy\n",
    "    1. What parts of the Element should be created immediately with the Proxy vs. being created with the real Element?\n",
    "    2. How does the application create a ProxyElement instead of an Element?\n",
    "    3. What information needs to be stored in the Element in order to \"pause\" the parsing process?\n",
    "    4. What objects or patterns must the Proxy coordinate with in order to participate in the parsing process?"
   ]
  }
 ],
 "metadata": {
  "kernelspec": {
   "display_name": "Python 3",
   "language": "python",
   "name": "python3"
  },
  "language_info": {
   "codemirror_mode": {
    "name": "ipython",
    "version": 3
   },
   "file_extension": ".py",
   "mimetype": "text/x-python",
   "name": "python",
   "nbconvert_exporter": "python",
   "pygments_lexer": "ipython3",
   "version": "3.8.10"
  }
 },
 "nbformat": 4,
 "nbformat_minor": 4
}
