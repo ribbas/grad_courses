{
 "cells": [
  {
   "cell_type": "markdown",
   "metadata": {},
   "source": [
    "# Command\n",
    "1. Why must Invoker be a separate object from the client?  How many Invokers are there in an application?\n",
    "2. Where does a ConcreteCommand get the information about the current state of the application in order to complete its action?\n",
    "3. Could a template- or generic-based Command be constructed that allowed undo and arguments?\n",
    "4. Come up with an example of the error accumulation that can accumulate in an undoable/redoable command structure when Mementos aren’t used.\n",
    "5. Give an example of a place in one of the previous assignments where you did or could have used a second pattern to develop a complete solution."
   ]
  },
  {
   "cell_type": "markdown",
   "metadata": {},
   "source": [
    "1. The Invoker is used by the Client to manage a queue of commands and invoke them based on their positions or schedules. This promotes loose coupling between the ConcreteCommand and its Receivers from the Client. I think each AbstractCommands can have a single Invoker to handle Commands of the same type.\n",
    "2. "
   ]
  },
  {
   "cell_type": "markdown",
   "metadata": {},
   "source": [
    "# Prototype\n",
    "1. Is Prototype just a special case of Factory Method?  How?  When should this creational pattern be used over the other creational patterns?  What advantage does it have in the exercise?\n",
    "2. There are three ways to initialize the state of a cloned object.  What are the three ways to clone an object and why use one versus the other?  I.e., what does it mean to clone an object?\n",
    "3. How would you use this pattern with Composite or Decorated objects?\n",
    "4. Prototype and Command are listed as related patterns for each other. How do they work together?\n",
    "5. Why is CORBA’s create_POA function, [see docs](https://books.google.com/books?id=CO0lDBSWkV8C&pg=PT327&lpg=PT327&dq=corba+create_poa&source=bl&ots=zeJ6Heb3qT&sig=ACfU3U0WS28Ax_Yz-Rst4lzYhcYufS-GPQ&hl=en&sa=X&ved=2ahUKEwj87-LZ1efjAhUs2FkKHY1EDFMQ6AEwCHoECAgQAQ#v=onepage&q=corba%20create_poa&f=false), a Factory Method and not a Prototype?"
   ]
  },
  {
   "cell_type": "markdown",
   "metadata": {},
   "source": [
    "1. Both of the creational patterns return new instances of specific classes, which is why the Prototype pattern can be considered a special form of Factory Method. However, copying all of the attributes of an object might require the `clone` method in Prototype to be more complex than a simple call of `new` in Factory Method. I think this pattern should be used in systems that frequently perform deep-copy of objects and needs to decouple the class from the Client. This motivation is similar to Factory Methods, except Prototypes deal with the single class it is related to without the need for separate classes. For this exercise, copying Node objects along with all its children becomes much more convenient and elegant by dedicating the copying of the subtree to a single method.\n",
    "2. \n",
    "3. \n",
    "4. For our assignment, I don't think I see how they can work together on the same task. However, if the ConcreteCommands we were implementing also took the roles of ConcretePrototypes, then we could clone copies of them in the Invoker instead of creating new instances. These copies can be stored in the history stack."
   ]
  },
  {
   "cell_type": "markdown",
   "metadata": {},
   "source": []
  }
 ],
 "metadata": {
  "kernelspec": {
   "display_name": "Python 3",
   "language": "python",
   "name": "python3"
  },
  "language_info": {
   "codemirror_mode": {
    "name": "ipython",
    "version": 3
   },
   "file_extension": ".py",
   "mimetype": "text/x-python",
   "name": "python",
   "nbconvert_exporter": "python",
   "pygments_lexer": "ipython3",
   "version": "3.8.10"
  }
 },
 "nbformat": 4,
 "nbformat_minor": 4
}
