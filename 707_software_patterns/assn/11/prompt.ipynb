{
 "cells": [
  {
   "cell_type": "markdown",
   "metadata": {},
   "source": [
    "1. Add a simple command interpreter to your parser application allowing the program to be controlled dynamically instead of solely from the command line. Use Command to implement the operations. Examples of commands might be parse a file, serialize a tree or subtree by one or another method, change or add an attribute, etc.\n",
    "2. Use Prototype to duplicate a DOM [sub]tree.\n",
    "\n",
    "## Consider these questions when thinking about how to implement the assignment.\n",
    "\n",
    "1. Command\n",
    "    1. What are the previously implemented behaviors of the application that can be encapsulated in ConcreteCommands?\n",
    "    2. What object will contain those commands until it determines when the invoke them?\n",
    "    3. How does that object associate user input with the ConcreteCommands?\n",
    "2. Prototype\n",
    "    1. Is there an existing interface in the DOM structure that can accomodate the clone behavior?\n",
    "    2. What does it mean to copy a Node?"
   ]
  }
 ],
 "metadata": {
  "kernelspec": {
   "display_name": "Python 3",
   "language": "python",
   "name": "python3"
  },
  "language_info": {
   "codemirror_mode": {
    "name": "ipython",
    "version": 3
   },
   "file_extension": ".py",
   "mimetype": "text/x-python",
   "name": "python",
   "nbconvert_exporter": "python",
   "pygments_lexer": "ipython3",
   "version": "3.8.10"
  }
 },
 "nbformat": 4,
 "nbformat_minor": 4
}
