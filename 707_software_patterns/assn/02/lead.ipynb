{
 "cells": [
  {
   "cell_type": "markdown",
   "id": "d564e8b6",
   "metadata": {},
   "source": [
    "# Factory"
   ]
  },
  {
   "cell_type": "markdown",
   "id": "9822647e",
   "metadata": {},
   "source": [
    "The real world example for Factory Method is illustrated in the video and consists of the following participants:\n",
    "\n",
    "- The factory, that is, the building containing the molding machine\n",
    "- The injection molding machine\n",
    "- The injection mold\n",
    "- The feed material, i.e., plastic\n",
    "- The finished part\n",
    "- The heating and injection process\n",
    "- The setup process for configuring the machine with a mold and feed material\n",
    "\n",
    "How do these participants map to the roles in the pattern?"
   ]
  },
  {
   "cell_type": "markdown",
   "id": "f0467dba",
   "metadata": {},
   "source": [
    "- The factory building -> abstract creator, a \"super factory\" which allows other creators to derive from it without having to explicitly specify what they do, i.e. the injection molding machine is a part of the factory building, but is different from other machines that occupy a different space \n",
    "- The injection molding machine -> concrete creator, equiped with the specific knowledge required to create specific concrete objects\n",
    "- The injection mold -> parameters for the concrete creator supplied by the client\n",
    "- The feed material, i.e., plastic -> parameters for the concrete creator supplied by the client\n",
    "- The finished part -> product, which the client can now have access to\n",
    "- The heating and injection process -> a method defined in the concrete creator to be realized by all the concrete product it generates\n",
    "- The setup process for configuring the machine with a mold and feed material -> this can be either parameters provided by the client or a method defined in the concrete creator to be realized by all the concrete product it generates"
   ]
  },
  {
   "cell_type": "markdown",
   "id": "4fccff22",
   "metadata": {},
   "source": [
    "# Strategy"
   ]
  },
  {
   "cell_type": "markdown",
   "id": "68816e96",
   "metadata": {},
   "source": [
    "The real world example of the Strategy pattern is illustrated in the video for the pattern.  Its participants are:\n",
    "\n",
    "- Traveller\n",
    "- Travel Planner\n",
    "- Travel Plan\n",
    "- Airport Transfer\n",
    "- Train\n",
    "- Limo\n",
    "- Taxi\n",
    "- Rental Car\n",
    "\n",
    "Which of these participants fill the roles of the pattern?"
   ]
  },
  {
   "cell_type": "markdown",
   "id": "1e89ac46",
   "metadata": {},
   "source": [
    "- Traveller -> the client itself, choosing which method of transportation is the best \"strategy\"\n",
    "- Travel Planner -> the context, determines the best method of transporation based on the client's needs and/or parameters\n",
    "- Travel Plan -> strategy\n",
    "- Airport Transfer -> an algorithm interface in the strategy that is to be shared by all concrete strategies\n",
    "- Train, limo, taxi, rental car -> concrete strategies that all share certain algorithm attributes with their strategy, i.e. the departure and destination locations, but implement their own algorithms when it comes to the actual transportation"
   ]
  },
  {
   "cell_type": "markdown",
   "id": "64ed783d",
   "metadata": {},
   "source": [
    "# Decorator"
   ]
  },
  {
   "cell_type": "markdown",
   "id": "164aeb6a",
   "metadata": {},
   "source": [
    "The real world example is illustrated in the video for Decorator.  It's participants are:\n",
    "\n",
    "- Picture\n",
    "- Matte\n",
    "- Frame\n",
    "\n",
    "How do these participants map to the roles of the pattern?"
   ]
  },
  {
   "cell_type": "markdown",
   "id": "4e84ee2a",
   "metadata": {},
   "source": [
    "- Picture -> component, the class that the client can have access to and be able to decorate even further\n",
    "- Matte, frame -> concrete decorators, as these extend the behaviors of the picture component by choosing which type of Matte to imprint the picture on along with a different combination of possible Frames"
   ]
  },
  {
   "cell_type": "code",
   "execution_count": null,
   "id": "90e4aafb",
   "metadata": {},
   "outputs": [],
   "source": []
  }
 ],
 "metadata": {
  "kernelspec": {
   "display_name": "Python 3 (ipykernel)",
   "language": "python",
   "name": "python3"
  },
  "language_info": {
   "codemirror_mode": {
    "name": "ipython",
    "version": 3
   },
   "file_extension": ".py",
   "mimetype": "text/x-python",
   "name": "python",
   "nbconvert_exporter": "python",
   "pygments_lexer": "ipython3",
   "version": "3.8.10"
  }
 },
 "nbformat": 4,
 "nbformat_minor": 5
}
