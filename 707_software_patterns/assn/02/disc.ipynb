{
 "cells": [
  {
   "cell_type": "markdown",
   "metadata": {},
   "source": [
    "# Module 2 Discussion"
   ]
  },
  {
   "cell_type": "markdown",
   "metadata": {},
   "source": [
    "## Factory Method"
   ]
  },
  {
   "cell_type": "markdown",
   "metadata": {},
   "source": [
    "### 1. What are the differences between a method that is a factory and the Factory Method pattern?"
   ]
  },
  {
   "cell_type": "markdown",
   "metadata": {},
   "source": [
    "A method that is a factory is more \"fixed\" than the Factory Method pattern. A factory usually consists of a single implementation without any subclasses, i.e. all the \"concrete classes\" it would have produced, have already been implemented in the method. The Factory Method pattern suggests defining the superclass as an interface and letting the subclasses decide on the implementation."
   ]
  },
  {
   "cell_type": "markdown",
   "metadata": {},
   "source": [
    "### 2. Are the create functions in the Document interface Factory Methods? Why?"
   ]
  },
  {
   "cell_type": "markdown",
   "metadata": {},
   "source": [
    "The create methods in the Document class (createElement, createTextNode, createAttribute) are not Factory Methods, but instead methods that act as factories. For these functions to follow the Factory Method pattern, the corresponding concrete products (Element, Text, Attribute) would have control of the which class to instantiate."
   ]
  },
  {
   "cell_type": "markdown",
   "metadata": {},
   "source": [
    "### 3. How does Factory Method promote loosely coupled code? In other words, why use a Factory Method instead of a statement like “new MazeRoom;”?\n",
    "             "
   ]
  },
  {
   "cell_type": "markdown",
   "metadata": {},
   "source": [
    "A client code having to execute a statement like \"new MazeRoom;\" itself suggests tight coupling. The client code has to be exposed to and compose the MazeRoom class. This would not be an issue, until the client code has to generate different sibling classes of MazeRoom. Having a factory method in the parent class of MazeRoom will decouple the subclasses from the client, which now only has to be exposed to the Concrete Creator."
   ]
  },
  {
   "cell_type": "markdown",
   "metadata": {},
   "source": [
    "#### \"Any problem in computer science can be solved with another layer of indirection.\"—David Wheeler (chief programmer for the EDSAC project in the early 1950s)\n",
    "\n",
    "##### 1. How does Factory Method introduce indirection?\n"
   ]
  },
  {
   "cell_type": "markdown",
   "metadata": {},
   "source": [
    "A Factory Method adds another layer of interface between the client code and the Concrete Products, abstracting away any implementation details."
   ]
  },
  {
   "cell_type": "markdown",
   "metadata": {},
   "source": [
    "##### 2. What problem does the indirection solve?"
   ]
  },
  {
   "cell_type": "markdown",
   "metadata": {},
   "source": [
    "Loosely coupled classes and proper encapsulation."
   ]
  },
  {
   "cell_type": "markdown",
   "metadata": {},
   "source": [
    "### 4. Does having a parameterized Factory Method eliminate the advantage of hiding the ConcreteCreator?"
   ]
  },
  {
   "cell_type": "markdown",
   "metadata": {},
   "source": [
    "If the Factory Method is parameterized with the ConcreteCreator class, then there is no benefit to the client as it still has to instantiate the ConcreteCreator class. If the Factory Method is instead parameterized with flags that do not require exposure to the ConcreteCreator classes, then it benefits the client code."
   ]
  },
  {
   "cell_type": "markdown",
   "metadata": {},
   "source": [
    "### 5. Who creates the appropriate Factory Method concrete class? How does Factory Method not just push the problem that it is solving back one step?"
   ]
  },
  {
   "cell_type": "markdown",
   "metadata": {},
   "source": []
  },
  {
   "cell_type": "markdown",
   "metadata": {},
   "source": [
    "### 6. Factory Methods appear commonly in frameworks because both the framework and its clients need to use each others classes. What are two ways that the Factory Method is used in this context? Where might Factory Methods be used outside of a framework?"
   ]
  },
  {
   "cell_type": "markdown",
   "metadata": {},
   "source": []
  },
  {
   "cell_type": "markdown",
   "metadata": {},
   "source": [
    "## Strategy"
   ]
  },
  {
   "cell_type": "markdown",
   "metadata": {},
   "source": [
    "### 1. Is XMLTokenizer.XMLToken a Strategy class?"
   ]
  },
  {
   "cell_type": "markdown",
   "metadata": {},
   "source": [
    "XMLTokenizer.XMLToken does not appear to be a Strategy class. The class is a nested class that does not seem to inherit any strategy interface. For XMLTokenizer.XMLToken to be a Strategy class, XMLTokenizer would be a base class with virtual methods that were to be implemented by XMLToken."
   ]
  },
  {
   "cell_type": "markdown",
   "metadata": {},
   "source": [
    "### 2. When the book discusses the applicability of Strategy it says that one use is to remove many conditional statements by putting each block in a concrete Strategy.\n",
    "\n",
    "#### 1. What conditional statements are removed in the assignment? What kind of conditions are usually considered for this pattern?"
   ]
  },
  {
   "cell_type": "markdown",
   "metadata": {},
   "source": [
    "Replacing conditionals with concrete strategies is the core philosophy of the Strategy Pattern. In my implementation, I was able to replace the conditionals that checked on the type of node in the XMLSerialization algorithms. The two serialization algorithms themselves (pretty and minimal serialization) were strateg-ized, and the different types of nodes were also strategized. This resulted in a total of 4 concrete strategies that determined the different serialization algorithms for each node type."
   ]
  },
  {
   "cell_type": "markdown",
   "metadata": {},
   "source": [
    "#### 2. How does their removal reduce coupling?"
   ]
  },
  {
   "cell_type": "markdown",
   "metadata": {},
   "source": [
    "Removing the conditionals in the XMLSerialization methods removed the need for the class to check what kind of node to serialize, ultimately reducing coupling."
   ]
  },
  {
   "cell_type": "markdown",
   "metadata": {},
   "source": [
    "### 3. How do you configure the context with the correct Concrete Strategy?"
   ]
  },
  {
   "cell_type": "markdown",
   "metadata": {},
   "source": [
    "There are many ways to determine the correct Concrete Strategy used in a context, but all of them are concealed away from the client. The correct Strategy may be determined by some flag or some attributes of data structures during runtime. But the client does not need access to the Concrete Strategy classes."
   ]
  },
  {
   "cell_type": "markdown",
   "metadata": {},
   "source": [
    "### 4. Can a concrete Strategy be shared between different Context objects?"
   ]
  },
  {
   "cell_type": "markdown",
   "metadata": {},
   "source": [
    "I think it's certainly possible. If the Concrete Strategy derives multiple Context objects to simulate a combination of different algorithms. I think my implementation of the assignment partially implements this situation - XMLSerializerContext has 2 strategies, pretty and minimal, but each of them can be applied to each of the DOM classes with their unique serialization algorithms. In this case, the 2 XMLSerializer Strategies can be combined with the strategies of another DOMSerializerContext.\n",
    "\n",
    "In my implementation of the assignment, however, I didn't have multiple inheritance but instead a 2 separate context objects being tightly coupled."
   ]
  },
  {
   "cell_type": "markdown",
   "metadata": {},
   "source": [
    "## 3. Decorator"
   ]
  },
  {
   "cell_type": "markdown",
   "metadata": {},
   "source": [
    "### 1. There are multiple interfaces in the Node type hierarchy, each with an implementation. Is Node the best interface in the hierarchy to Decorate, or would a subordinate interface one work better?"
   ]
  },
  {
   "cell_type": "markdown",
   "metadata": {},
   "source": [
    "I think Node is the best interface to Decorate in the hierarchy. The class is inherited frequently throughout the hierarchy, especially in Attr, Element, and Text. If Node were to be a base decorator, the concrete decorators would be able to add their corresponding attributes and methods easier."
   ]
  },
  {
   "cell_type": "markdown",
   "metadata": {},
   "source": [
    "### 2. A decorator object’s interface must conform to the object that it decorates. Now consider an object A that is decorated with an object B. Since object B “decorates” object A, object B shares an interface with object A. If some client is then passed an instance of this decorated object, and that method attempts to call a method on B that is not part of A’s interface, does this mean that the object is no longer a Decorator in the strict sense of the pattern? Furthermore why is it important that a decorator object’s interface conforms to the interface of the component that it decorates?"
   ]
  },
  {
   "cell_type": "markdown",
   "metadata": {},
   "source": [
    "I don't think calling a method on B that is not part of its Decorator A strips the object from being a Decorator itself. Object B would still be a Decorator object, with additional behavior. It is possible to pass an object through multiple decorators to support various behaviors."
   ]
  },
  {
   "cell_type": "markdown",
   "metadata": {},
   "source": [
    "### 3. What further requirement is there on Decorators (and Proxies and Strategies) than just conforming to the interface in order to make them work in place of the original object? Remember that there are more things that should be specified about a method on an interface than just its signature."
   ]
  },
  {
   "cell_type": "markdown",
   "metadata": {},
   "source": [
    "The Decorator must not modify the behavior of the original object. The purpose of Decorators is to extend additional attributes, methods, and behaviors to an object and should not modify it."
   ]
  },
  {
   "cell_type": "markdown",
   "metadata": {},
   "source": [
    "### 4. Who decorates objects? The main or test function in my implementation of XMLValidator needs to explicitly construct decorated objects. What other pattern-based refinement can we add to the implementation to minimize this and make the Decorator version of validation look almost like the XMLSerializer test?"
   ]
  },
  {
   "cell_type": "markdown",
   "metadata": {},
   "source": []
  },
  {
   "cell_type": "markdown",
   "metadata": {},
   "source": [
    "### 5. How is the exercise implementation of Schema/DTD validation different from a traditional implementation? (The implementation provided with the framework is traditional.) Is this good or bad?"
   ]
  },
  {
   "cell_type": "markdown",
   "metadata": {},
   "source": []
  }
 ],
 "metadata": {
  "kernelspec": {
   "display_name": "Python 3",
   "language": "python",
   "name": "python3"
  },
  "language_info": {
   "codemirror_mode": {
    "name": "ipython",
    "version": 3
   },
   "file_extension": ".py",
   "mimetype": "text/x-python",
   "name": "python",
   "nbconvert_exporter": "python",
   "pygments_lexer": "ipython3",
   "version": "3.8.10"
  }
 },
 "nbformat": 4,
 "nbformat_minor": 4
}
