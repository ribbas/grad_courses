{
 "cells": [
  {
   "cell_type": "markdown",
   "metadata": {},
   "source": [
    "# Module 2 Discussion"
   ]
  },
  {
   "cell_type": "markdown",
   "metadata": {},
   "source": [
    "## Factory Method"
   ]
  },
  {
   "cell_type": "markdown",
   "metadata": {},
   "source": [
    "### 1. What are the differences between a method that is a factory and the Factory Method pattern?"
   ]
  },
  {
   "cell_type": "markdown",
   "metadata": {},
   "source": [
    "A method that is a factory is more \"fixed\" than the Factory Method pattern. A factory usually consists of a single implementation without any subclasses, i.e. all the \"concrete classes\" it would have produced, have already been implemented in the method. The Factory Method pattern suggests defining the superclass as an interface and letting the subclasses decide on the implementation."
   ]
  },
  {
   "cell_type": "markdown",
   "metadata": {},
   "source": [
    "### 2. Are the create functions in the Document interface Factory Methods? Why?"
   ]
  },
  {
   "cell_type": "markdown",
   "metadata": {},
   "source": [
    "The create methods in the Document class (createElement, createTextNode, createAttribute) are not Factory Methods, but instead methods that act as factories. For these functions to follow the Factory Method pattern, the corresponding concrete products (Element, Text, Attribute) would have control of the which class to instantiate."
   ]
  },
  {
   "cell_type": "markdown",
   "metadata": {},
   "source": [
    "### 3. How does Factory Method promote loosely coupled code? In other words, why use a Factory Method instead of a statement like “new MazeRoom;”?\n",
    "             "
   ]
  },
  {
   "cell_type": "markdown",
   "metadata": {},
   "source": []
  },
  {
   "cell_type": "markdown",
   "metadata": {},
   "source": [
    "#### \"Any problem in computer science can be solved with another layer of indirection.\"—David Wheeler (chief programmer for the EDSAC project in the early 1950s)\n",
    "\n",
    "##### 1. How does Factory Method introduce indirection?\n"
   ]
  },
  {
   "cell_type": "markdown",
   "metadata": {},
   "source": []
  },
  {
   "cell_type": "markdown",
   "metadata": {},
   "source": [
    "##### 2. What problem does the indirection solve?"
   ]
  },
  {
   "cell_type": "markdown",
   "metadata": {},
   "source": []
  },
  {
   "cell_type": "markdown",
   "metadata": {},
   "source": [
    "### 4. Does having a parameterized Factory Method eliminate the advantage of hiding the ConcreteCreator?"
   ]
  },
  {
   "cell_type": "markdown",
   "metadata": {},
   "source": []
  },
  {
   "cell_type": "markdown",
   "metadata": {},
   "source": [
    "### 5. Who creates the appropriate Factory Method concrete class? How does Factory Method not just push the problem that it is solving back one step?"
   ]
  },
  {
   "cell_type": "markdown",
   "metadata": {},
   "source": []
  },
  {
   "cell_type": "markdown",
   "metadata": {},
   "source": [
    "### 6. Factory Methods appear commonly in frameworks because both the framework and its clients need to use each others classes. What are two ways that the Factory Method is used in this context? Where might Factory Methods be used outside of a framework?"
   ]
  },
  {
   "cell_type": "markdown",
   "metadata": {},
   "source": []
  },
  {
   "cell_type": "markdown",
   "metadata": {},
   "source": [
    "## Strategy"
   ]
  },
  {
   "cell_type": "markdown",
   "metadata": {},
   "source": [
    "### 1. Is XMLTokenizer.XMLToken a Strategy class?"
   ]
  },
  {
   "cell_type": "markdown",
   "metadata": {},
   "source": [
    "XMLTokenizer.XMLToken does not appear to be a Strategy class. The class is a nested class that does not seem to inherit any strategy interface. For XMLTokenizer.XMLToken to be a Strategy class, XMLTokenizer would be a base class with virtual methods that were to be implemented by XMLToken."
   ]
  },
  {
   "cell_type": "markdown",
   "metadata": {},
   "source": [
    "### 2. When the book discusses the applicability of Strategy it says that one use is to remove many conditional statements by putting each block in a concrete Strategy.\n",
    "\n",
    "#### 1. What conditional statements are removed in the assignment? What kind of conditions are usually considered for this pattern?"
   ]
  },
  {
   "cell_type": "markdown",
   "metadata": {},
   "source": []
  },
  {
   "cell_type": "markdown",
   "metadata": {},
   "source": [
    "#### 2. How does their removal reduce coupling?"
   ]
  },
  {
   "cell_type": "markdown",
   "metadata": {},
   "source": []
  },
  {
   "cell_type": "markdown",
   "metadata": {},
   "source": [
    "### 3. How do you configure the context with the correct Concrete Strategy?"
   ]
  },
  {
   "cell_type": "markdown",
   "metadata": {},
   "source": []
  },
  {
   "cell_type": "markdown",
   "metadata": {},
   "source": [
    "### 4. Can a concrete Strategy be shared between different Context objects?"
   ]
  },
  {
   "cell_type": "markdown",
   "metadata": {},
   "source": []
  },
  {
   "cell_type": "markdown",
   "metadata": {},
   "source": [
    "## 3. Decorator"
   ]
  },
  {
   "cell_type": "markdown",
   "metadata": {},
   "source": [
    "### 1. There are multiple interfaces in the Node type hierarchy, each with an implementation. Is Node the best interface in the hierarchy to Decorate, or would a subordinate interface one work better?"
   ]
  },
  {
   "cell_type": "markdown",
   "metadata": {},
   "source": [
    "I think Node is the best interface to Decorate in the hierarchy. The class is inherited frequently throughout the hierarchy, especially in Attr, Element, and Text. If Node were to be a base decorator, the concrete decorators would be able to add their corresponding attributes and methods easier."
   ]
  },
  {
   "cell_type": "markdown",
   "metadata": {},
   "source": [
    "### 2. A decorator object’s interface must conform to the object that it decorates. Now consider an object A that is decorated with an object B. Since object B “decorates” object A, object B shares an interface with object A. If some client is then passed an instance of this decorated object, and that method attempts to call a method on B that is not part of A’s interface, does this mean that the object is no longer a Decorator in the strict sense of the pattern? Furthermore why is it important that a decorator object’s interface conforms to the interface of the component that it decorates?"
   ]
  },
  {
   "cell_type": "markdown",
   "metadata": {},
   "source": []
  },
  {
   "cell_type": "markdown",
   "metadata": {},
   "source": [
    "### 3. What further requirement is there on Decorators (and Proxies and Strategies) than just conforming to the interface in order to make them work in place of the original object? Remember that there are more things that should be specified about a method on an interface than just its signature."
   ]
  },
  {
   "cell_type": "markdown",
   "metadata": {},
   "source": []
  },
  {
   "cell_type": "markdown",
   "metadata": {},
   "source": [
    "### 4. Who decorates objects? The main or test function in my implementation of XMLValidator needs to explicitly construct decorated objects. What other pattern-based refinement can we add to the implementation to minimize this and make the Decorator version of validation look almost like the XMLSerializer test?"
   ]
  },
  {
   "cell_type": "markdown",
   "metadata": {},
   "source": []
  },
  {
   "cell_type": "markdown",
   "metadata": {},
   "source": [
    "### 5. How is the exercise implementation of Schema/DTD validation different from a traditional implementation? (The implementation provided with the framework is traditional.) Is this good or bad?"
   ]
  },
  {
   "cell_type": "markdown",
   "metadata": {},
   "source": []
  }
 ],
 "metadata": {
  "kernelspec": {
   "display_name": "Python 3",
   "language": "python",
   "name": "python3"
  },
  "language_info": {
   "codemirror_mode": {
    "name": "ipython",
    "version": 3
   },
   "file_extension": ".py",
   "mimetype": "text/x-python",
   "name": "python",
   "nbconvert_exporter": "python",
   "pygments_lexer": "ipython3",
   "version": "3.8.10"
  }
 },
 "nbformat": 4,
 "nbformat_minor": 4
}
